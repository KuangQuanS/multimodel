{
 "cells": [
  {
   "cell_type": "code",
   "execution_count": 11,
   "id": "a675f539",
   "metadata": {},
   "outputs": [
    {
     "name": "stdout",
     "output_type": "stream",
     "text": [
      "使用设备: cuda\n",
      "标签分布: Counter({0: 809, 1: 564})\n",
      "\n",
      "==================== 开始 10 折交叉验证 ====================\n",
      "\n",
      "==================== Fold 1/10 ====================\n"
     ]
    },
    {
     "name": "stderr",
     "output_type": "stream",
     "text": [
      "Fold 1 | Epoch 1 | Loss: 0.0841 | Acc: 0.6014 | F1: 0.6009:   1%|          | 1/100 [00:02<04:06,  2.49s/epoch]"
     ]
    },
    {
     "name": "stdout",
     "output_type": "stream",
     "text": [
      "  🎉 New best F1: 0.6009, saved to ./cv_checkpoints/fold_1_best.pth\n"
     ]
    },
    {
     "name": "stderr",
     "output_type": "stream",
     "text": [
      "Fold 1 | Epoch 2 | Loss: 0.0694 | Acc: 0.7319 | F1: 0.7312:   2%|▏         | 2/100 [00:05<04:10,  2.55s/epoch]"
     ]
    },
    {
     "name": "stdout",
     "output_type": "stream",
     "text": [
      "  🎉 New best F1: 0.7312, saved to ./cv_checkpoints/fold_1_best.pth\n"
     ]
    },
    {
     "name": "stderr",
     "output_type": "stream",
     "text": [
      "Fold 1 | Epoch 3 | Loss: 0.0642 | Acc: 0.7391 | F1: 0.7391:   3%|▎         | 3/100 [00:07<04:10,  2.59s/epoch]"
     ]
    },
    {
     "name": "stdout",
     "output_type": "stream",
     "text": [
      "  🎉 New best F1: 0.7391, saved to ./cv_checkpoints/fold_1_best.pth\n"
     ]
    },
    {
     "name": "stderr",
     "output_type": "stream",
     "text": [
      "Fold 1 | Epoch 4 | Loss: 0.0586 | Acc: 0.8043 | F1: 0.7988:   4%|▍         | 4/100 [00:10<04:03,  2.53s/epoch]"
     ]
    },
    {
     "name": "stdout",
     "output_type": "stream",
     "text": [
      "  🎉 New best F1: 0.7988, saved to ./cv_checkpoints/fold_1_best.pth\n"
     ]
    },
    {
     "name": "stderr",
     "output_type": "stream",
     "text": [
      "Fold 1 | Epoch 7 | Loss: 0.0497 | Acc: 0.8116 | F1: 0.8076:   7%|▋         | 7/100 [00:18<04:11,  2.70s/epoch]"
     ]
    },
    {
     "name": "stdout",
     "output_type": "stream",
     "text": [
      "  🎉 New best F1: 0.8076, saved to ./cv_checkpoints/fold_1_best.pth\n"
     ]
    },
    {
     "name": "stderr",
     "output_type": "stream",
     "text": [
      "Fold 1 | Epoch 8 | Loss: 0.0495 | Acc: 0.8333 | F1: 0.8323:   8%|▊         | 8/100 [00:21<04:07,  2.69s/epoch]"
     ]
    },
    {
     "name": "stdout",
     "output_type": "stream",
     "text": [
      "  🎉 New best F1: 0.8323, saved to ./cv_checkpoints/fold_1_best.pth\n"
     ]
    },
    {
     "name": "stderr",
     "output_type": "stream",
     "text": [
      "Fold 1 | Epoch 13 | Loss: 0.0460 | Acc: 0.8478 | F1: 0.8449:  13%|█▎        | 13/100 [00:34<03:41,  2.55s/epoch]"
     ]
    },
    {
     "name": "stdout",
     "output_type": "stream",
     "text": [
      "  🎉 New best F1: 0.8449, saved to ./cv_checkpoints/fold_1_best.pth\n"
     ]
    },
    {
     "name": "stderr",
     "output_type": "stream",
     "text": [
      "Fold 1 | Epoch 18 | Loss: 0.0373 | Acc: 0.8696 | F1: 0.8668:  18%|█▊        | 18/100 [00:46<03:29,  2.55s/epoch]"
     ]
    },
    {
     "name": "stdout",
     "output_type": "stream",
     "text": [
      "  🎉 New best F1: 0.8668, saved to ./cv_checkpoints/fold_1_best.pth\n"
     ]
    },
    {
     "name": "stderr",
     "output_type": "stream",
     "text": [
      "Fold 1 | Epoch 25 | Loss: 0.0300 | Acc: 0.8768 | F1: 0.8733:  25%|██▌       | 25/100 [01:04<03:14,  2.59s/epoch]"
     ]
    },
    {
     "name": "stdout",
     "output_type": "stream",
     "text": [
      "  🎉 New best F1: 0.8733, saved to ./cv_checkpoints/fold_1_best.pth\n"
     ]
    },
    {
     "name": "stderr",
     "output_type": "stream",
     "text": [
      "Fold 1 | Epoch 28 | Loss: 0.0337 | Acc: 0.8768 | F1: 0.8744:  28%|██▊       | 28/100 [01:12<03:07,  2.61s/epoch]"
     ]
    },
    {
     "name": "stdout",
     "output_type": "stream",
     "text": [
      "  🎉 New best F1: 0.8744, saved to ./cv_checkpoints/fold_1_best.pth\n"
     ]
    },
    {
     "name": "stderr",
     "output_type": "stream",
     "text": [
      "Fold 1 | Epoch 38 | Loss: 0.0264 | Acc: 0.8913 | F1: 0.8892:  38%|███▊      | 38/100 [01:38<02:42,  2.61s/epoch]"
     ]
    },
    {
     "name": "stdout",
     "output_type": "stream",
     "text": [
      "  🎉 New best F1: 0.8892, saved to ./cv_checkpoints/fold_1_best.pth\n"
     ]
    },
    {
     "name": "stderr",
     "output_type": "stream",
     "text": [
      "Fold 1 | Epoch 100 | Loss: 0.0094 | Acc: 0.8551 | F1: 0.8526: 100%|██████████| 100/100 [04:15<00:00,  2.55s/epoch]\n",
      "/home/maweicheng/multimodel/resgsca.py:363: FutureWarning: You are using `torch.load` with `weights_only=False` (the current default value), which uses the default pickle module implicitly. It is possible to construct malicious pickle data which will execute arbitrary code during unpickling (See https://github.com/pytorch/pytorch/blob/main/SECURITY.md#untrusted-models for more details). In a future release, the default value for `weights_only` will be flipped to `True`. This limits the functions that could be executed during unpickling. Arbitrary objects will no longer be allowed to be loaded via this mode unless they are explicitly allowlisted by the user via `torch.serialization.add_safe_globals`. We recommend you start setting `weights_only=True` for any use case where you don't have full control of the loaded file. Please open an issue on GitHub for any issues related to this experimental feature.\n",
      "  model.load_state_dict(torch.load(fold_save_path))\n"
     ]
    },
    {
     "name": "stdout",
     "output_type": "stream",
     "text": [
      "Fold 1 Final Results: Acc=0.8768, Prec=0.8718, Rec=0.8795, F1=0.8744\n",
      "\n",
      "==================== Fold 2/10 ====================\n"
     ]
    },
    {
     "name": "stderr",
     "output_type": "stream",
     "text": [
      "Fold 2 | Epoch 1 | Loss: 0.0898 | Acc: 0.5072 | F1: 0.5072:   1%|          | 1/100 [00:02<04:19,  2.62s/epoch]"
     ]
    },
    {
     "name": "stdout",
     "output_type": "stream",
     "text": [
      "  🎉 New best F1: 0.5072, saved to ./cv_checkpoints/fold_2_best.pth\n"
     ]
    },
    {
     "name": "stderr",
     "output_type": "stream",
     "text": [
      "Fold 2 | Epoch 2 | Loss: 0.0640 | Acc: 0.5797 | F1: 0.5783:   2%|▏         | 2/100 [00:05<04:18,  2.63s/epoch]"
     ]
    },
    {
     "name": "stdout",
     "output_type": "stream",
     "text": [
      "  🎉 New best F1: 0.5783, saved to ./cv_checkpoints/fold_2_best.pth\n"
     ]
    },
    {
     "name": "stderr",
     "output_type": "stream",
     "text": [
      "Fold 2 | Epoch 3 | Loss: 0.0595 | Acc: 0.6449 | F1: 0.6445:   3%|▎         | 3/100 [00:07<04:17,  2.65s/epoch]"
     ]
    },
    {
     "name": "stdout",
     "output_type": "stream",
     "text": [
      "  🎉 New best F1: 0.6445, saved to ./cv_checkpoints/fold_2_best.pth\n"
     ]
    },
    {
     "name": "stderr",
     "output_type": "stream",
     "text": [
      "Fold 2 | Epoch 4 | Loss: 0.0561 | Acc: 0.6957 | F1: 0.6946:   4%|▍         | 4/100 [00:10<04:16,  2.67s/epoch]"
     ]
    },
    {
     "name": "stdout",
     "output_type": "stream",
     "text": [
      "  🎉 New best F1: 0.6946, saved to ./cv_checkpoints/fold_2_best.pth\n"
     ]
    },
    {
     "name": "stderr",
     "output_type": "stream",
     "text": [
      "Fold 2 | Epoch 7 | Loss: 0.0482 | Acc: 0.7029 | F1: 0.7016:   7%|▋         | 7/100 [00:18<04:08,  2.68s/epoch]"
     ]
    },
    {
     "name": "stdout",
     "output_type": "stream",
     "text": [
      "  🎉 New best F1: 0.7016, saved to ./cv_checkpoints/fold_2_best.pth\n"
     ]
    },
    {
     "name": "stderr",
     "output_type": "stream",
     "text": [
      "Fold 2 | Epoch 12 | Loss: 0.0414 | Acc: 0.7464 | F1: 0.7378:  12%|█▏        | 12/100 [00:31<03:50,  2.62s/epoch]"
     ]
    },
    {
     "name": "stdout",
     "output_type": "stream",
     "text": [
      "  🎉 New best F1: 0.7378, saved to ./cv_checkpoints/fold_2_best.pth\n"
     ]
    },
    {
     "name": "stderr",
     "output_type": "stream",
     "text": [
      "Fold 2 | Epoch 13 | Loss: 0.0388 | Acc: 0.7971 | F1: 0.7927:  13%|█▎        | 13/100 [00:34<03:46,  2.61s/epoch]"
     ]
    },
    {
     "name": "stdout",
     "output_type": "stream",
     "text": [
      "  🎉 New best F1: 0.7927, saved to ./cv_checkpoints/fold_2_best.pth\n"
     ]
    },
    {
     "name": "stderr",
     "output_type": "stream",
     "text": [
      "Fold 2 | Epoch 19 | Loss: 0.0367 | Acc: 0.8333 | F1: 0.8245:  19%|█▉        | 19/100 [00:49<03:31,  2.61s/epoch]"
     ]
    },
    {
     "name": "stdout",
     "output_type": "stream",
     "text": [
      "  🎉 New best F1: 0.8245, saved to ./cv_checkpoints/fold_2_best.pth\n"
     ]
    },
    {
     "name": "stderr",
     "output_type": "stream",
     "text": [
      "Fold 2 | Epoch 27 | Loss: 0.0275 | Acc: 0.8406 | F1: 0.8289:  27%|██▋       | 27/100 [01:10<03:12,  2.64s/epoch]"
     ]
    },
    {
     "name": "stdout",
     "output_type": "stream",
     "text": [
      "  🎉 New best F1: 0.8289, saved to ./cv_checkpoints/fold_2_best.pth\n"
     ]
    },
    {
     "name": "stderr",
     "output_type": "stream",
     "text": [
      "Fold 2 | Epoch 35 | Loss: 0.0253 | Acc: 0.8623 | F1: 0.8529:  35%|███▌      | 35/100 [01:31<02:45,  2.55s/epoch]"
     ]
    },
    {
     "name": "stdout",
     "output_type": "stream",
     "text": [
      "  🎉 New best F1: 0.8529, saved to ./cv_checkpoints/fold_2_best.pth\n"
     ]
    },
    {
     "name": "stderr",
     "output_type": "stream",
     "text": [
      "Fold 2 | Epoch 63 | Loss: 0.0133 | Acc: 0.8623 | F1: 0.8540:  63%|██████▎   | 63/100 [02:42<01:33,  2.52s/epoch]"
     ]
    },
    {
     "name": "stdout",
     "output_type": "stream",
     "text": [
      "  🎉 New best F1: 0.8540, saved to ./cv_checkpoints/fold_2_best.pth\n"
     ]
    },
    {
     "name": "stderr",
     "output_type": "stream",
     "text": [
      "Fold 2 | Epoch 71 | Loss: 0.0110 | Acc: 0.8768 | F1: 0.8661:  71%|███████   | 71/100 [03:03<01:15,  2.59s/epoch]"
     ]
    },
    {
     "name": "stdout",
     "output_type": "stream",
     "text": [
      "  🎉 New best F1: 0.8661, saved to ./cv_checkpoints/fold_2_best.pth\n"
     ]
    },
    {
     "name": "stderr",
     "output_type": "stream",
     "text": [
      "Fold 2 | Epoch 100 | Loss: 0.0098 | Acc: 0.8333 | F1: 0.8189: 100%|██████████| 100/100 [04:17<00:00,  2.57s/epoch]\n",
      "/home/maweicheng/multimodel/resgsca.py:363: FutureWarning: You are using `torch.load` with `weights_only=False` (the current default value), which uses the default pickle module implicitly. It is possible to construct malicious pickle data which will execute arbitrary code during unpickling (See https://github.com/pytorch/pytorch/blob/main/SECURITY.md#untrusted-models for more details). In a future release, the default value for `weights_only` will be flipped to `True`. This limits the functions that could be executed during unpickling. Arbitrary objects will no longer be allowed to be loaded via this mode unless they are explicitly allowlisted by the user via `torch.serialization.add_safe_globals`. We recommend you start setting `weights_only=True` for any use case where you don't have full control of the loaded file. Please open an issue on GitHub for any issues related to this experimental feature.\n",
      "  model.load_state_dict(torch.load(fold_save_path))\n"
     ]
    },
    {
     "name": "stdout",
     "output_type": "stream",
     "text": [
      "Fold 2 Final Results: Acc=0.8768, Prec=0.8724, Rec=0.8631, F1=0.8673\n",
      "\n",
      "==================== Fold 3/10 ====================\n"
     ]
    },
    {
     "name": "stderr",
     "output_type": "stream",
     "text": [
      "Fold 3 | Epoch 1 | Loss: 0.0948 | Acc: 0.6087 | F1: 0.5834:   1%|          | 1/100 [00:02<04:19,  2.62s/epoch]"
     ]
    },
    {
     "name": "stdout",
     "output_type": "stream",
     "text": [
      "  🎉 New best F1: 0.5834, saved to ./cv_checkpoints/fold_3_best.pth\n"
     ]
    },
    {
     "name": "stderr",
     "output_type": "stream",
     "text": [
      "Fold 3 | Epoch 2 | Loss: 0.0733 | Acc: 0.6304 | F1: 0.6157:   2%|▏         | 2/100 [00:05<04:19,  2.65s/epoch]"
     ]
    },
    {
     "name": "stdout",
     "output_type": "stream",
     "text": [
      "  🎉 New best F1: 0.6157, saved to ./cv_checkpoints/fold_3_best.pth\n"
     ]
    },
    {
     "name": "stderr",
     "output_type": "stream",
     "text": [
      "Fold 3 | Epoch 3 | Loss: 0.0654 | Acc: 0.6667 | F1: 0.6544:   3%|▎         | 3/100 [00:07<04:11,  2.59s/epoch]"
     ]
    },
    {
     "name": "stdout",
     "output_type": "stream",
     "text": [
      "  🎉 New best F1: 0.6544, saved to ./cv_checkpoints/fold_3_best.pth\n"
     ]
    },
    {
     "name": "stderr",
     "output_type": "stream",
     "text": [
      "Fold 3 | Epoch 4 | Loss: 0.0605 | Acc: 0.7754 | F1: 0.7744:   4%|▍         | 4/100 [00:10<04:09,  2.60s/epoch]"
     ]
    },
    {
     "name": "stdout",
     "output_type": "stream",
     "text": [
      "  🎉 New best F1: 0.7744, saved to ./cv_checkpoints/fold_3_best.pth\n"
     ]
    },
    {
     "name": "stderr",
     "output_type": "stream",
     "text": [
      "Fold 3 | Epoch 7 | Loss: 0.0506 | Acc: 0.8188 | F1: 0.8188:   7%|▋         | 7/100 [00:18<04:04,  2.63s/epoch]"
     ]
    },
    {
     "name": "stdout",
     "output_type": "stream",
     "text": [
      "  🎉 New best F1: 0.8188, saved to ./cv_checkpoints/fold_3_best.pth\n"
     ]
    },
    {
     "name": "stderr",
     "output_type": "stream",
     "text": [
      "Fold 3 | Epoch 17 | Loss: 0.0395 | Acc: 0.8333 | F1: 0.8333:  17%|█▋        | 17/100 [00:44<03:36,  2.61s/epoch]"
     ]
    },
    {
     "name": "stdout",
     "output_type": "stream",
     "text": [
      "  🎉 New best F1: 0.8333, saved to ./cv_checkpoints/fold_3_best.pth\n"
     ]
    },
    {
     "name": "stderr",
     "output_type": "stream",
     "text": [
      "Fold 3 | Epoch 25 | Loss: 0.0321 | Acc: 0.8623 | F1: 0.8620:  25%|██▌       | 25/100 [01:04<03:10,  2.54s/epoch]"
     ]
    },
    {
     "name": "stdout",
     "output_type": "stream",
     "text": [
      "  🎉 New best F1: 0.8620, saved to ./cv_checkpoints/fold_3_best.pth\n"
     ]
    },
    {
     "name": "stderr",
     "output_type": "stream",
     "text": [
      "Fold 3 | Epoch 100 | Loss: 0.0082 | Acc: 0.7971 | F1: 0.7971: 100%|██████████| 100/100 [04:14<00:00,  2.54s/epoch]\n",
      "/home/maweicheng/multimodel/resgsca.py:363: FutureWarning: You are using `torch.load` with `weights_only=False` (the current default value), which uses the default pickle module implicitly. It is possible to construct malicious pickle data which will execute arbitrary code during unpickling (See https://github.com/pytorch/pytorch/blob/main/SECURITY.md#untrusted-models for more details). In a future release, the default value for `weights_only` will be flipped to `True`. This limits the functions that could be executed during unpickling. Arbitrary objects will no longer be allowed to be loaded via this mode unless they are explicitly allowlisted by the user via `torch.serialization.add_safe_globals`. We recommend you start setting `weights_only=True` for any use case where you don't have full control of the loaded file. Please open an issue on GitHub for any issues related to this experimental feature.\n",
      "  model.load_state_dict(torch.load(fold_save_path))\n"
     ]
    },
    {
     "name": "stdout",
     "output_type": "stream",
     "text": [
      "Fold 3 Final Results: Acc=0.8696, Prec=0.8674, Rec=0.8712, F1=0.8686\n",
      "\n",
      "==================== Fold 4/10 ====================\n"
     ]
    },
    {
     "name": "stderr",
     "output_type": "stream",
     "text": [
      "Fold 4 | Epoch 1 | Loss: 0.0922 | Acc: 0.6496 | F1: 0.6187:   1%|          | 1/100 [00:02<04:12,  2.55s/epoch]"
     ]
    },
    {
     "name": "stdout",
     "output_type": "stream",
     "text": [
      "  🎉 New best F1: 0.6187, saved to ./cv_checkpoints/fold_4_best.pth\n"
     ]
    },
    {
     "name": "stderr",
     "output_type": "stream",
     "text": [
      "Fold 4 | Epoch 3 | Loss: 0.0597 | Acc: 0.6277 | F1: 0.6277:   3%|▎         | 3/100 [00:07<04:08,  2.56s/epoch]"
     ]
    },
    {
     "name": "stdout",
     "output_type": "stream",
     "text": [
      "  🎉 New best F1: 0.6277, saved to ./cv_checkpoints/fold_4_best.pth\n"
     ]
    },
    {
     "name": "stderr",
     "output_type": "stream",
     "text": [
      "Fold 4 | Epoch 4 | Loss: 0.0601 | Acc: 0.6496 | F1: 0.6495:   4%|▍         | 4/100 [00:10<04:05,  2.55s/epoch]"
     ]
    },
    {
     "name": "stdout",
     "output_type": "stream",
     "text": [
      "  🎉 New best F1: 0.6495, saved to ./cv_checkpoints/fold_4_best.pth\n"
     ]
    },
    {
     "name": "stderr",
     "output_type": "stream",
     "text": [
      "Fold 4 | Epoch 5 | Loss: 0.0552 | Acc: 0.6861 | F1: 0.6818:   5%|▌         | 5/100 [00:12<03:59,  2.52s/epoch]"
     ]
    },
    {
     "name": "stdout",
     "output_type": "stream",
     "text": [
      "  🎉 New best F1: 0.6818, saved to ./cv_checkpoints/fold_4_best.pth\n"
     ]
    },
    {
     "name": "stderr",
     "output_type": "stream",
     "text": [
      "Fold 4 | Epoch 7 | Loss: 0.0518 | Acc: 0.7226 | F1: 0.7208:   7%|▋         | 7/100 [00:17<03:57,  2.56s/epoch]"
     ]
    },
    {
     "name": "stdout",
     "output_type": "stream",
     "text": [
      "  🎉 New best F1: 0.7208, saved to ./cv_checkpoints/fold_4_best.pth\n"
     ]
    },
    {
     "name": "stderr",
     "output_type": "stream",
     "text": [
      "Fold 4 | Epoch 13 | Loss: 0.0440 | Acc: 0.7591 | F1: 0.7549:  13%|█▎        | 13/100 [00:33<03:45,  2.60s/epoch]"
     ]
    },
    {
     "name": "stdout",
     "output_type": "stream",
     "text": [
      "  🎉 New best F1: 0.7549, saved to ./cv_checkpoints/fold_4_best.pth\n"
     ]
    },
    {
     "name": "stderr",
     "output_type": "stream",
     "text": [
      "Fold 4 | Epoch 16 | Loss: 0.0420 | Acc: 0.8029 | F1: 0.7930:  16%|█▌        | 16/100 [00:41<03:34,  2.55s/epoch]"
     ]
    },
    {
     "name": "stdout",
     "output_type": "stream",
     "text": [
      "  🎉 New best F1: 0.7930, saved to ./cv_checkpoints/fold_4_best.pth\n"
     ]
    },
    {
     "name": "stderr",
     "output_type": "stream",
     "text": [
      "Fold 4 | Epoch 29 | Loss: 0.0276 | Acc: 0.8029 | F1: 0.7956:  29%|██▉       | 29/100 [01:14<03:03,  2.59s/epoch]"
     ]
    },
    {
     "name": "stdout",
     "output_type": "stream",
     "text": [
      "  🎉 New best F1: 0.7956, saved to ./cv_checkpoints/fold_4_best.pth\n"
     ]
    },
    {
     "name": "stderr",
     "output_type": "stream",
     "text": [
      "Fold 4 | Epoch 47 | Loss: 0.0222 | Acc: 0.8029 | F1: 0.7977:  47%|████▋     | 47/100 [02:00<02:15,  2.57s/epoch]"
     ]
    },
    {
     "name": "stdout",
     "output_type": "stream",
     "text": [
      "  🎉 New best F1: 0.7977, saved to ./cv_checkpoints/fold_4_best.pth\n"
     ]
    },
    {
     "name": "stderr",
     "output_type": "stream",
     "text": [
      "Fold 4 | Epoch 49 | Loss: 0.0183 | Acc: 0.8102 | F1: 0.8037:  49%|████▉     | 49/100 [02:05<02:09,  2.53s/epoch]"
     ]
    },
    {
     "name": "stdout",
     "output_type": "stream",
     "text": [
      "  🎉 New best F1: 0.8037, saved to ./cv_checkpoints/fold_4_best.pth\n"
     ]
    },
    {
     "name": "stderr",
     "output_type": "stream",
     "text": [
      "Fold 4 | Epoch 56 | Loss: 0.0149 | Acc: 0.8394 | F1: 0.8329:  56%|█████▌    | 56/100 [02:23<01:52,  2.56s/epoch]"
     ]
    },
    {
     "name": "stdout",
     "output_type": "stream",
     "text": [
      "  🎉 New best F1: 0.8329, saved to ./cv_checkpoints/fold_4_best.pth\n"
     ]
    },
    {
     "name": "stderr",
     "output_type": "stream",
     "text": [
      "Fold 4 | Epoch 100 | Loss: 0.0093 | Acc: 0.8175 | F1: 0.8107: 100%|██████████| 100/100 [04:14<00:00,  2.54s/epoch]\n",
      "/home/maweicheng/multimodel/resgsca.py:363: FutureWarning: You are using `torch.load` with `weights_only=False` (the current default value), which uses the default pickle module implicitly. It is possible to construct malicious pickle data which will execute arbitrary code during unpickling (See https://github.com/pytorch/pytorch/blob/main/SECURITY.md#untrusted-models for more details). In a future release, the default value for `weights_only` will be flipped to `True`. This limits the functions that could be executed during unpickling. Arbitrary objects will no longer be allowed to be loaded via this mode unless they are explicitly allowlisted by the user via `torch.serialization.add_safe_globals`. We recommend you start setting `weights_only=True` for any use case where you don't have full control of the loaded file. Please open an issue on GitHub for any issues related to this experimental feature.\n",
      "  model.load_state_dict(torch.load(fold_save_path))\n"
     ]
    },
    {
     "name": "stdout",
     "output_type": "stream",
     "text": [
      "Fold 4 Final Results: Acc=0.8248, Prec=0.8133, Rec=0.8215, F1=0.8166\n",
      "\n",
      "==================== Fold 5/10 ====================\n"
     ]
    },
    {
     "name": "stderr",
     "output_type": "stream",
     "text": [
      "Fold 5 | Epoch 1 | Loss: 0.0886 | Acc: 0.7664 | F1: 0.7628:   1%|          | 1/100 [00:02<04:07,  2.50s/epoch]"
     ]
    },
    {
     "name": "stdout",
     "output_type": "stream",
     "text": [
      "  🎉 New best F1: 0.7628, saved to ./cv_checkpoints/fold_5_best.pth\n"
     ]
    },
    {
     "name": "stderr",
     "output_type": "stream",
     "text": [
      "Fold 5 | Epoch 3 | Loss: 0.0624 | Acc: 0.7737 | F1: 0.7720:   3%|▎         | 3/100 [00:07<04:02,  2.50s/epoch]"
     ]
    },
    {
     "name": "stdout",
     "output_type": "stream",
     "text": [
      "  🎉 New best F1: 0.7720, saved to ./cv_checkpoints/fold_5_best.pth\n"
     ]
    },
    {
     "name": "stderr",
     "output_type": "stream",
     "text": [
      "Fold 5 | Epoch 4 | Loss: 0.0611 | Acc: 0.7883 | F1: 0.7876:   4%|▍         | 4/100 [00:10<04:01,  2.52s/epoch]"
     ]
    },
    {
     "name": "stdout",
     "output_type": "stream",
     "text": [
      "  🎉 New best F1: 0.7876, saved to ./cv_checkpoints/fold_5_best.pth\n"
     ]
    },
    {
     "name": "stderr",
     "output_type": "stream",
     "text": [
      "Fold 5 | Epoch 5 | Loss: 0.0572 | Acc: 0.8029 | F1: 0.8029:   5%|▌         | 5/100 [00:12<03:58,  2.51s/epoch]"
     ]
    },
    {
     "name": "stdout",
     "output_type": "stream",
     "text": [
      "  🎉 New best F1: 0.8029, saved to ./cv_checkpoints/fold_5_best.pth\n"
     ]
    },
    {
     "name": "stderr",
     "output_type": "stream",
     "text": [
      "Fold 5 | Epoch 8 | Loss: 0.0512 | Acc: 0.8321 | F1: 0.8315:   8%|▊         | 8/100 [00:20<03:51,  2.51s/epoch]"
     ]
    },
    {
     "name": "stdout",
     "output_type": "stream",
     "text": [
      "  🎉 New best F1: 0.8315, saved to ./cv_checkpoints/fold_5_best.pth\n"
     ]
    },
    {
     "name": "stderr",
     "output_type": "stream",
     "text": [
      "Fold 5 | Epoch 9 | Loss: 0.0502 | Acc: 0.8321 | F1: 0.8320:   9%|▉         | 9/100 [00:22<03:52,  2.56s/epoch]"
     ]
    },
    {
     "name": "stdout",
     "output_type": "stream",
     "text": [
      "  🎉 New best F1: 0.8320, saved to ./cv_checkpoints/fold_5_best.pth\n"
     ]
    },
    {
     "name": "stderr",
     "output_type": "stream",
     "text": [
      "Fold 5 | Epoch 11 | Loss: 0.0431 | Acc: 0.8540 | F1: 0.8539:  11%|█         | 11/100 [00:27<03:48,  2.57s/epoch]"
     ]
    },
    {
     "name": "stdout",
     "output_type": "stream",
     "text": [
      "  🎉 New best F1: 0.8539, saved to ./cv_checkpoints/fold_5_best.pth\n"
     ]
    },
    {
     "name": "stderr",
     "output_type": "stream",
     "text": [
      "Fold 5 | Epoch 14 | Loss: 0.0401 | Acc: 0.8613 | F1: 0.8612:  14%|█▍        | 14/100 [00:35<03:39,  2.56s/epoch]"
     ]
    },
    {
     "name": "stdout",
     "output_type": "stream",
     "text": [
      "  🎉 New best F1: 0.8612, saved to ./cv_checkpoints/fold_5_best.pth\n"
     ]
    },
    {
     "name": "stderr",
     "output_type": "stream",
     "text": [
      "Fold 5 | Epoch 17 | Loss: 0.0393 | Acc: 0.8686 | F1: 0.8686:  17%|█▋        | 17/100 [00:43<03:30,  2.54s/epoch]"
     ]
    },
    {
     "name": "stdout",
     "output_type": "stream",
     "text": [
      "  🎉 New best F1: 0.8686, saved to ./cv_checkpoints/fold_5_best.pth\n"
     ]
    },
    {
     "name": "stderr",
     "output_type": "stream",
     "text": [
      "Fold 5 | Epoch 20 | Loss: 0.0363 | Acc: 0.8978 | F1: 0.8971:  20%|██        | 20/100 [00:50<03:25,  2.57s/epoch]"
     ]
    },
    {
     "name": "stdout",
     "output_type": "stream",
     "text": [
      "  🎉 New best F1: 0.8971, saved to ./cv_checkpoints/fold_5_best.pth\n"
     ]
    },
    {
     "name": "stderr",
     "output_type": "stream",
     "text": [
      "Fold 5 | Epoch 44 | Loss: 0.0232 | Acc: 0.9197 | F1: 0.9196:  44%|████▍     | 44/100 [01:52<02:22,  2.55s/epoch]"
     ]
    },
    {
     "name": "stdout",
     "output_type": "stream",
     "text": [
      "  🎉 New best F1: 0.9196, saved to ./cv_checkpoints/fold_5_best.pth\n"
     ]
    },
    {
     "name": "stderr",
     "output_type": "stream",
     "text": [
      "Fold 5 | Epoch 100 | Loss: 0.0141 | Acc: 0.8832 | F1: 0.8831: 100%|██████████| 100/100 [04:15<00:00,  2.55s/epoch]\n",
      "/home/maweicheng/multimodel/resgsca.py:363: FutureWarning: You are using `torch.load` with `weights_only=False` (the current default value), which uses the default pickle module implicitly. It is possible to construct malicious pickle data which will execute arbitrary code during unpickling (See https://github.com/pytorch/pytorch/blob/main/SECURITY.md#untrusted-models for more details). In a future release, the default value for `weights_only` will be flipped to `True`. This limits the functions that could be executed during unpickling. Arbitrary objects will no longer be allowed to be loaded via this mode unless they are explicitly allowlisted by the user via `torch.serialization.add_safe_globals`. We recommend you start setting `weights_only=True` for any use case where you don't have full control of the loaded file. Please open an issue on GitHub for any issues related to this experimental feature.\n",
      "  model.load_state_dict(torch.load(fold_save_path))\n"
     ]
    },
    {
     "name": "stdout",
     "output_type": "stream",
     "text": [
      "Fold 5 Final Results: Acc=0.8613, Prec=0.8677, Rec=0.8660, F1=0.8613\n",
      "\n",
      "==================== Fold 6/10 ====================\n"
     ]
    },
    {
     "name": "stderr",
     "output_type": "stream",
     "text": [
      "Fold 6 | Epoch 1 | Loss: 0.0798 | Acc: 0.6788 | F1: 0.6788:   1%|          | 1/100 [00:02<04:23,  2.66s/epoch]"
     ]
    },
    {
     "name": "stdout",
     "output_type": "stream",
     "text": [
      "  🎉 New best F1: 0.6788, saved to ./cv_checkpoints/fold_6_best.pth\n"
     ]
    },
    {
     "name": "stderr",
     "output_type": "stream",
     "text": [
      "Fold 6 | Epoch 4 | Loss: 0.0552 | Acc: 0.6934 | F1: 0.6914:   4%|▍         | 4/100 [00:10<04:03,  2.54s/epoch]"
     ]
    },
    {
     "name": "stdout",
     "output_type": "stream",
     "text": [
      "  🎉 New best F1: 0.6914, saved to ./cv_checkpoints/fold_6_best.pth\n"
     ]
    },
    {
     "name": "stderr",
     "output_type": "stream",
     "text": [
      "Fold 6 | Epoch 5 | Loss: 0.0528 | Acc: 0.7153 | F1: 0.7131:   5%|▌         | 5/100 [00:12<03:58,  2.51s/epoch]"
     ]
    },
    {
     "name": "stdout",
     "output_type": "stream",
     "text": [
      "  🎉 New best F1: 0.7131, saved to ./cv_checkpoints/fold_6_best.pth\n"
     ]
    },
    {
     "name": "stderr",
     "output_type": "stream",
     "text": [
      "Fold 6 | Epoch 6 | Loss: 0.0503 | Acc: 0.7518 | F1: 0.7502:   6%|▌         | 6/100 [00:15<04:01,  2.57s/epoch]"
     ]
    },
    {
     "name": "stdout",
     "output_type": "stream",
     "text": [
      "  🎉 New best F1: 0.7502, saved to ./cv_checkpoints/fold_6_best.pth\n"
     ]
    },
    {
     "name": "stderr",
     "output_type": "stream",
     "text": [
      "Fold 6 | Epoch 7 | Loss: 0.0491 | Acc: 0.7664 | F1: 0.7658:   7%|▋         | 7/100 [00:17<03:56,  2.55s/epoch]"
     ]
    },
    {
     "name": "stdout",
     "output_type": "stream",
     "text": [
      "  🎉 New best F1: 0.7658, saved to ./cv_checkpoints/fold_6_best.pth\n"
     ]
    },
    {
     "name": "stderr",
     "output_type": "stream",
     "text": [
      "Fold 6 | Epoch 12 | Loss: 0.0406 | Acc: 0.7883 | F1: 0.7879:  12%|█▏        | 12/100 [00:30<03:40,  2.50s/epoch]"
     ]
    },
    {
     "name": "stdout",
     "output_type": "stream",
     "text": [
      "  🎉 New best F1: 0.7879, saved to ./cv_checkpoints/fold_6_best.pth\n"
     ]
    },
    {
     "name": "stderr",
     "output_type": "stream",
     "text": [
      "Fold 6 | Epoch 15 | Loss: 0.0399 | Acc: 0.8102 | F1: 0.8102:  15%|█▌        | 15/100 [00:37<03:35,  2.53s/epoch]"
     ]
    },
    {
     "name": "stdout",
     "output_type": "stream",
     "text": [
      "  🎉 New best F1: 0.8102, saved to ./cv_checkpoints/fold_6_best.pth\n"
     ]
    },
    {
     "name": "stderr",
     "output_type": "stream",
     "text": [
      "Fold 6 | Epoch 19 | Loss: 0.0336 | Acc: 0.8175 | F1: 0.8175:  19%|█▉        | 19/100 [00:48<03:24,  2.53s/epoch]"
     ]
    },
    {
     "name": "stdout",
     "output_type": "stream",
     "text": [
      "  🎉 New best F1: 0.8175, saved to ./cv_checkpoints/fold_6_best.pth\n"
     ]
    },
    {
     "name": "stderr",
     "output_type": "stream",
     "text": [
      "Fold 6 | Epoch 21 | Loss: 0.0339 | Acc: 0.8248 | F1: 0.8247:  21%|██        | 21/100 [00:52<03:17,  2.50s/epoch]"
     ]
    },
    {
     "name": "stdout",
     "output_type": "stream",
     "text": [
      "  🎉 New best F1: 0.8247, saved to ./cv_checkpoints/fold_6_best.pth\n"
     ]
    },
    {
     "name": "stderr",
     "output_type": "stream",
     "text": [
      "Fold 6 | Epoch 85 | Loss: 0.0113 | Acc: 0.8394 | F1: 0.8392:  85%|████████▌ | 85/100 [03:35<00:38,  2.59s/epoch]"
     ]
    },
    {
     "name": "stdout",
     "output_type": "stream",
     "text": [
      "  🎉 New best F1: 0.8392, saved to ./cv_checkpoints/fold_6_best.pth\n"
     ]
    },
    {
     "name": "stderr",
     "output_type": "stream",
     "text": [
      "Fold 6 | Epoch 100 | Loss: 0.0108 | Acc: 0.8102 | F1: 0.8101: 100%|██████████| 100/100 [04:13<00:00,  2.54s/epoch]\n",
      "/home/maweicheng/multimodel/resgsca.py:363: FutureWarning: You are using `torch.load` with `weights_only=False` (the current default value), which uses the default pickle module implicitly. It is possible to construct malicious pickle data which will execute arbitrary code during unpickling (See https://github.com/pytorch/pytorch/blob/main/SECURITY.md#untrusted-models for more details). In a future release, the default value for `weights_only` will be flipped to `True`. This limits the functions that could be executed during unpickling. Arbitrary objects will no longer be allowed to be loaded via this mode unless they are explicitly allowlisted by the user via `torch.serialization.add_safe_globals`. We recommend you start setting `weights_only=True` for any use case where you don't have full control of the loaded file. Please open an issue on GitHub for any issues related to this experimental feature.\n",
      "  model.load_state_dict(torch.load(fold_save_path))\n"
     ]
    },
    {
     "name": "stdout",
     "output_type": "stream",
     "text": [
      "Fold 6 Final Results: Acc=0.8175, Prec=0.8174, Rec=0.8170, F1=0.8172\n",
      "\n",
      "==================== Fold 7/10 ====================\n"
     ]
    },
    {
     "name": "stderr",
     "output_type": "stream",
     "text": [
      "Fold 7 | Epoch 1 | Loss: 0.0901 | Acc: 0.7080 | F1: 0.7061:   1%|          | 1/100 [00:02<04:25,  2.68s/epoch]"
     ]
    },
    {
     "name": "stdout",
     "output_type": "stream",
     "text": [
      "  🎉 New best F1: 0.7061, saved to ./cv_checkpoints/fold_7_best.pth\n"
     ]
    },
    {
     "name": "stderr",
     "output_type": "stream",
     "text": [
      "Fold 7 | Epoch 6 | Loss: 0.0519 | Acc: 0.7591 | F1: 0.7591:   6%|▌         | 6/100 [00:15<04:03,  2.59s/epoch]"
     ]
    },
    {
     "name": "stdout",
     "output_type": "stream",
     "text": [
      "  🎉 New best F1: 0.7591, saved to ./cv_checkpoints/fold_7_best.pth\n"
     ]
    },
    {
     "name": "stderr",
     "output_type": "stream",
     "text": [
      "Fold 7 | Epoch 13 | Loss: 0.0411 | Acc: 0.8029 | F1: 0.8025:  13%|█▎        | 13/100 [00:33<03:43,  2.56s/epoch]"
     ]
    },
    {
     "name": "stdout",
     "output_type": "stream",
     "text": [
      "  🎉 New best F1: 0.8025, saved to ./cv_checkpoints/fold_7_best.pth\n"
     ]
    },
    {
     "name": "stderr",
     "output_type": "stream",
     "text": [
      "Fold 7 | Epoch 35 | Loss: 0.0269 | Acc: 0.8102 | F1: 0.8094:  35%|███▌      | 35/100 [01:29<02:47,  2.57s/epoch]"
     ]
    },
    {
     "name": "stdout",
     "output_type": "stream",
     "text": [
      "  🎉 New best F1: 0.8094, saved to ./cv_checkpoints/fold_7_best.pth\n"
     ]
    },
    {
     "name": "stderr",
     "output_type": "stream",
     "text": [
      "Fold 7 | Epoch 41 | Loss: 0.0232 | Acc: 0.8321 | F1: 0.8303:  41%|████      | 41/100 [01:45<02:30,  2.55s/epoch]"
     ]
    },
    {
     "name": "stdout",
     "output_type": "stream",
     "text": [
      "  🎉 New best F1: 0.8303, saved to ./cv_checkpoints/fold_7_best.pth\n"
     ]
    },
    {
     "name": "stderr",
     "output_type": "stream",
     "text": [
      "Fold 7 | Epoch 100 | Loss: 0.0118 | Acc: 0.8102 | F1: 0.8085: 100%|██████████| 100/100 [04:14<00:00,  2.54s/epoch]\n",
      "/home/maweicheng/multimodel/resgsca.py:363: FutureWarning: You are using `torch.load` with `weights_only=False` (the current default value), which uses the default pickle module implicitly. It is possible to construct malicious pickle data which will execute arbitrary code during unpickling (See https://github.com/pytorch/pytorch/blob/main/SECURITY.md#untrusted-models for more details). In a future release, the default value for `weights_only` will be flipped to `True`. This limits the functions that could be executed during unpickling. Arbitrary objects will no longer be allowed to be loaded via this mode unless they are explicitly allowlisted by the user via `torch.serialization.add_safe_globals`. We recommend you start setting `weights_only=True` for any use case where you don't have full control of the loaded file. Please open an issue on GitHub for any issues related to this experimental feature.\n",
      "  model.load_state_dict(torch.load(fold_save_path))\n"
     ]
    },
    {
     "name": "stdout",
     "output_type": "stream",
     "text": [
      "Fold 7 Final Results: Acc=0.8029, Prec=0.8011, Rec=0.8113, F1=0.8008\n",
      "\n",
      "==================== Fold 8/10 ====================\n"
     ]
    },
    {
     "name": "stderr",
     "output_type": "stream",
     "text": [
      "Fold 8 | Epoch 1 | Loss: 0.0887 | Acc: 0.6423 | F1: 0.6411:   1%|          | 1/100 [00:02<04:17,  2.61s/epoch]"
     ]
    },
    {
     "name": "stdout",
     "output_type": "stream",
     "text": [
      "  🎉 New best F1: 0.6411, saved to ./cv_checkpoints/fold_8_best.pth\n"
     ]
    },
    {
     "name": "stderr",
     "output_type": "stream",
     "text": [
      "Fold 8 | Epoch 3 | Loss: 0.0602 | Acc: 0.7080 | F1: 0.7076:   3%|▎         | 3/100 [00:07<04:09,  2.58s/epoch]"
     ]
    },
    {
     "name": "stdout",
     "output_type": "stream",
     "text": [
      "  🎉 New best F1: 0.7076, saved to ./cv_checkpoints/fold_8_best.pth\n"
     ]
    },
    {
     "name": "stderr",
     "output_type": "stream",
     "text": [
      "Fold 8 | Epoch 4 | Loss: 0.0554 | Acc: 0.7372 | F1: 0.7369:   4%|▍         | 4/100 [00:10<04:03,  2.54s/epoch]"
     ]
    },
    {
     "name": "stdout",
     "output_type": "stream",
     "text": [
      "  🎉 New best F1: 0.7369, saved to ./cv_checkpoints/fold_8_best.pth\n"
     ]
    },
    {
     "name": "stderr",
     "output_type": "stream",
     "text": [
      "Fold 8 | Epoch 7 | Loss: 0.0521 | Acc: 0.7810 | F1: 0.7796:   7%|▋         | 7/100 [00:17<03:52,  2.49s/epoch]"
     ]
    },
    {
     "name": "stdout",
     "output_type": "stream",
     "text": [
      "  🎉 New best F1: 0.7796, saved to ./cv_checkpoints/fold_8_best.pth\n"
     ]
    },
    {
     "name": "stderr",
     "output_type": "stream",
     "text": [
      "Fold 8 | Epoch 8 | Loss: 0.0474 | Acc: 0.7883 | F1: 0.7861:   8%|▊         | 8/100 [00:20<03:52,  2.53s/epoch]"
     ]
    },
    {
     "name": "stdout",
     "output_type": "stream",
     "text": [
      "  🎉 New best F1: 0.7861, saved to ./cv_checkpoints/fold_8_best.pth\n"
     ]
    },
    {
     "name": "stderr",
     "output_type": "stream",
     "text": [
      "Fold 8 | Epoch 9 | Loss: 0.0472 | Acc: 0.7956 | F1: 0.7943:   9%|▉         | 9/100 [00:22<03:49,  2.52s/epoch]"
     ]
    },
    {
     "name": "stdout",
     "output_type": "stream",
     "text": [
      "  🎉 New best F1: 0.7943, saved to ./cv_checkpoints/fold_8_best.pth\n"
     ]
    },
    {
     "name": "stderr",
     "output_type": "stream",
     "text": [
      "Fold 8 | Epoch 11 | Loss: 0.0447 | Acc: 0.8175 | F1: 0.8156:  11%|█         | 11/100 [00:27<03:41,  2.49s/epoch]"
     ]
    },
    {
     "name": "stdout",
     "output_type": "stream",
     "text": [
      "  🎉 New best F1: 0.8156, saved to ./cv_checkpoints/fold_8_best.pth\n"
     ]
    },
    {
     "name": "stderr",
     "output_type": "stream",
     "text": [
      "Fold 8 | Epoch 14 | Loss: 0.0426 | Acc: 0.8321 | F1: 0.8292:  14%|█▍        | 14/100 [00:35<03:36,  2.52s/epoch]"
     ]
    },
    {
     "name": "stdout",
     "output_type": "stream",
     "text": [
      "  🎉 New best F1: 0.8292, saved to ./cv_checkpoints/fold_8_best.pth\n"
     ]
    },
    {
     "name": "stderr",
     "output_type": "stream",
     "text": [
      "Fold 8 | Epoch 17 | Loss: 0.0387 | Acc: 0.8467 | F1: 0.8440:  17%|█▋        | 17/100 [00:42<03:27,  2.50s/epoch]"
     ]
    },
    {
     "name": "stdout",
     "output_type": "stream",
     "text": [
      "  🎉 New best F1: 0.8440, saved to ./cv_checkpoints/fold_8_best.pth\n"
     ]
    },
    {
     "name": "stderr",
     "output_type": "stream",
     "text": [
      "Fold 8 | Epoch 23 | Loss: 0.0356 | Acc: 0.8759 | F1: 0.8720:  23%|██▎       | 23/100 [00:58<03:19,  2.59s/epoch]"
     ]
    },
    {
     "name": "stdout",
     "output_type": "stream",
     "text": [
      "  🎉 New best F1: 0.8720, saved to ./cv_checkpoints/fold_8_best.pth\n"
     ]
    },
    {
     "name": "stderr",
     "output_type": "stream",
     "text": [
      "Fold 8 | Epoch 41 | Loss: 0.0233 | Acc: 0.8832 | F1: 0.8785:  41%|████      | 41/100 [01:43<02:30,  2.54s/epoch]"
     ]
    },
    {
     "name": "stdout",
     "output_type": "stream",
     "text": [
      "  🎉 New best F1: 0.8785, saved to ./cv_checkpoints/fold_8_best.pth\n"
     ]
    },
    {
     "name": "stderr",
     "output_type": "stream",
     "text": [
      "Fold 8 | Epoch 46 | Loss: 0.0228 | Acc: 0.8905 | F1: 0.8864:  46%|████▌     | 46/100 [01:56<02:15,  2.52s/epoch]"
     ]
    },
    {
     "name": "stdout",
     "output_type": "stream",
     "text": [
      "  🎉 New best F1: 0.8864, saved to ./cv_checkpoints/fold_8_best.pth\n"
     ]
    },
    {
     "name": "stderr",
     "output_type": "stream",
     "text": [
      "Fold 8 | Epoch 51 | Loss: 0.0198 | Acc: 0.8978 | F1: 0.8937:  51%|█████     | 51/100 [02:08<02:03,  2.51s/epoch]"
     ]
    },
    {
     "name": "stdout",
     "output_type": "stream",
     "text": [
      "  🎉 New best F1: 0.8937, saved to ./cv_checkpoints/fold_8_best.pth\n"
     ]
    },
    {
     "name": "stderr",
     "output_type": "stream",
     "text": [
      "Fold 8 | Epoch 56 | Loss: 0.0180 | Acc: 0.8978 | F1: 0.8943:  56%|█████▌    | 56/100 [02:21<01:54,  2.60s/epoch]"
     ]
    },
    {
     "name": "stdout",
     "output_type": "stream",
     "text": [
      "  🎉 New best F1: 0.8943, saved to ./cv_checkpoints/fold_8_best.pth\n"
     ]
    },
    {
     "name": "stderr",
     "output_type": "stream",
     "text": [
      "Fold 8 | Epoch 64 | Loss: 0.0159 | Acc: 0.9051 | F1: 0.9021:  64%|██████▍   | 64/100 [02:42<01:32,  2.58s/epoch]"
     ]
    },
    {
     "name": "stdout",
     "output_type": "stream",
     "text": [
      "  🎉 New best F1: 0.9021, saved to ./cv_checkpoints/fold_8_best.pth\n"
     ]
    },
    {
     "name": "stderr",
     "output_type": "stream",
     "text": [
      "Fold 8 | Epoch 100 | Loss: 0.0107 | Acc: 0.8832 | F1: 0.8777: 100%|██████████| 100/100 [04:13<00:00,  2.54s/epoch]\n",
      "/home/maweicheng/multimodel/resgsca.py:363: FutureWarning: You are using `torch.load` with `weights_only=False` (the current default value), which uses the default pickle module implicitly. It is possible to construct malicious pickle data which will execute arbitrary code during unpickling (See https://github.com/pytorch/pytorch/blob/main/SECURITY.md#untrusted-models for more details). In a future release, the default value for `weights_only` will be flipped to `True`. This limits the functions that could be executed during unpickling. Arbitrary objects will no longer be allowed to be loaded via this mode unless they are explicitly allowlisted by the user via `torch.serialization.add_safe_globals`. We recommend you start setting `weights_only=True` for any use case where you don't have full control of the loaded file. Please open an issue on GitHub for any issues related to this experimental feature.\n",
      "  model.load_state_dict(torch.load(fold_save_path))\n"
     ]
    },
    {
     "name": "stdout",
     "output_type": "stream",
     "text": [
      "Fold 8 Final Results: Acc=0.8905, Prec=0.8819, Rec=0.9006, F1=0.8870\n",
      "\n",
      "==================== Fold 9/10 ====================\n"
     ]
    },
    {
     "name": "stderr",
     "output_type": "stream",
     "text": [
      "Fold 9 | Epoch 1 | Loss: 0.0853 | Acc: 0.6788 | F1: 0.6678:   1%|          | 1/100 [00:02<04:05,  2.48s/epoch]"
     ]
    },
    {
     "name": "stdout",
     "output_type": "stream",
     "text": [
      "  🎉 New best F1: 0.6678, saved to ./cv_checkpoints/fold_9_best.pth\n"
     ]
    },
    {
     "name": "stderr",
     "output_type": "stream",
     "text": [
      "Fold 9 | Epoch 4 | Loss: 0.0541 | Acc: 0.7591 | F1: 0.7501:   4%|▍         | 4/100 [00:10<04:07,  2.57s/epoch]"
     ]
    },
    {
     "name": "stdout",
     "output_type": "stream",
     "text": [
      "  🎉 New best F1: 0.7501, saved to ./cv_checkpoints/fold_9_best.pth\n"
     ]
    },
    {
     "name": "stderr",
     "output_type": "stream",
     "text": [
      "Fold 9 | Epoch 6 | Loss: 0.0479 | Acc: 0.7810 | F1: 0.7747:   6%|▌         | 6/100 [00:15<04:06,  2.62s/epoch]"
     ]
    },
    {
     "name": "stdout",
     "output_type": "stream",
     "text": [
      "  🎉 New best F1: 0.7747, saved to ./cv_checkpoints/fold_9_best.pth\n"
     ]
    },
    {
     "name": "stderr",
     "output_type": "stream",
     "text": [
      "Fold 9 | Epoch 11 | Loss: 0.0428 | Acc: 0.8102 | F1: 0.7985:  11%|█         | 11/100 [00:28<03:49,  2.58s/epoch]"
     ]
    },
    {
     "name": "stdout",
     "output_type": "stream",
     "text": [
      "  🎉 New best F1: 0.7985, saved to ./cv_checkpoints/fold_9_best.pth\n"
     ]
    },
    {
     "name": "stderr",
     "output_type": "stream",
     "text": [
      "Fold 9 | Epoch 18 | Loss: 0.0380 | Acc: 0.8102 | F1: 0.8025:  18%|█▊        | 18/100 [00:46<03:29,  2.55s/epoch]"
     ]
    },
    {
     "name": "stdout",
     "output_type": "stream",
     "text": [
      "  🎉 New best F1: 0.8025, saved to ./cv_checkpoints/fold_9_best.pth\n"
     ]
    },
    {
     "name": "stderr",
     "output_type": "stream",
     "text": [
      "Fold 9 | Epoch 24 | Loss: 0.0317 | Acc: 0.8321 | F1: 0.8285:  24%|██▍       | 24/100 [01:01<03:15,  2.57s/epoch]"
     ]
    },
    {
     "name": "stdout",
     "output_type": "stream",
     "text": [
      "  🎉 New best F1: 0.8285, saved to ./cv_checkpoints/fold_9_best.pth\n"
     ]
    },
    {
     "name": "stderr",
     "output_type": "stream",
     "text": [
      "Fold 9 | Epoch 83 | Loss: 0.0099 | Acc: 0.8467 | F1: 0.8379:  83%|████████▎ | 83/100 [03:30<00:43,  2.53s/epoch]"
     ]
    },
    {
     "name": "stdout",
     "output_type": "stream",
     "text": [
      "  🎉 New best F1: 0.8379, saved to ./cv_checkpoints/fold_9_best.pth\n"
     ]
    },
    {
     "name": "stderr",
     "output_type": "stream",
     "text": [
      "Fold 9 | Epoch 100 | Loss: 0.0094 | Acc: 0.8321 | F1: 0.8211: 100%|██████████| 100/100 [04:13<00:00,  2.54s/epoch]\n",
      "/home/maweicheng/multimodel/resgsca.py:363: FutureWarning: You are using `torch.load` with `weights_only=False` (the current default value), which uses the default pickle module implicitly. It is possible to construct malicious pickle data which will execute arbitrary code during unpickling (See https://github.com/pytorch/pytorch/blob/main/SECURITY.md#untrusted-models for more details). In a future release, the default value for `weights_only` will be flipped to `True`. This limits the functions that could be executed during unpickling. Arbitrary objects will no longer be allowed to be loaded via this mode unless they are explicitly allowlisted by the user via `torch.serialization.add_safe_globals`. We recommend you start setting `weights_only=True` for any use case where you don't have full control of the loaded file. Please open an issue on GitHub for any issues related to this experimental feature.\n",
      "  model.load_state_dict(torch.load(fold_save_path))\n"
     ]
    },
    {
     "name": "stdout",
     "output_type": "stream",
     "text": [
      "Fold 9 Final Results: Acc=0.8248, Prec=0.8103, Rec=0.8153, F1=0.8126\n",
      "\n",
      "==================== Fold 10/10 ====================\n"
     ]
    },
    {
     "name": "stderr",
     "output_type": "stream",
     "text": [
      "Fold 10 | Epoch 1 | Loss: 0.0780 | Acc: 0.6204 | F1: 0.6145:   1%|          | 1/100 [00:02<04:12,  2.55s/epoch]"
     ]
    },
    {
     "name": "stdout",
     "output_type": "stream",
     "text": [
      "  🎉 New best F1: 0.6145, saved to ./cv_checkpoints/fold_10_best.pth\n"
     ]
    },
    {
     "name": "stderr",
     "output_type": "stream",
     "text": [
      "Fold 10 | Epoch 2 | Loss: 0.0663 | Acc: 0.7226 | F1: 0.7219:   2%|▏         | 2/100 [00:05<04:12,  2.57s/epoch]"
     ]
    },
    {
     "name": "stdout",
     "output_type": "stream",
     "text": [
      "  🎉 New best F1: 0.7219, saved to ./cv_checkpoints/fold_10_best.pth\n"
     ]
    },
    {
     "name": "stderr",
     "output_type": "stream",
     "text": [
      "Fold 10 | Epoch 3 | Loss: 0.0598 | Acc: 0.7372 | F1: 0.7365:   3%|▎         | 3/100 [00:07<04:13,  2.61s/epoch]"
     ]
    },
    {
     "name": "stdout",
     "output_type": "stream",
     "text": [
      "  🎉 New best F1: 0.7365, saved to ./cv_checkpoints/fold_10_best.pth\n"
     ]
    },
    {
     "name": "stderr",
     "output_type": "stream",
     "text": [
      "Fold 10 | Epoch 4 | Loss: 0.0575 | Acc: 0.7518 | F1: 0.7502:   4%|▍         | 4/100 [00:10<04:10,  2.61s/epoch]"
     ]
    },
    {
     "name": "stdout",
     "output_type": "stream",
     "text": [
      "  🎉 New best F1: 0.7502, saved to ./cv_checkpoints/fold_10_best.pth\n"
     ]
    },
    {
     "name": "stderr",
     "output_type": "stream",
     "text": [
      "Fold 10 | Epoch 5 | Loss: 0.0532 | Acc: 0.7883 | F1: 0.7846:   5%|▌         | 5/100 [00:13<04:09,  2.63s/epoch]"
     ]
    },
    {
     "name": "stdout",
     "output_type": "stream",
     "text": [
      "  🎉 New best F1: 0.7846, saved to ./cv_checkpoints/fold_10_best.pth\n"
     ]
    },
    {
     "name": "stderr",
     "output_type": "stream",
     "text": [
      "Fold 10 | Epoch 6 | Loss: 0.0515 | Acc: 0.7956 | F1: 0.7931:   6%|▌         | 6/100 [00:15<04:07,  2.63s/epoch]"
     ]
    },
    {
     "name": "stdout",
     "output_type": "stream",
     "text": [
      "  🎉 New best F1: 0.7931, saved to ./cv_checkpoints/fold_10_best.pth\n"
     ]
    },
    {
     "name": "stderr",
     "output_type": "stream",
     "text": [
      "Fold 10 | Epoch 11 | Loss: 0.0434 | Acc: 0.8029 | F1: 0.8008:  11%|█         | 11/100 [00:28<03:49,  2.58s/epoch]"
     ]
    },
    {
     "name": "stdout",
     "output_type": "stream",
     "text": [
      "  🎉 New best F1: 0.8008, saved to ./cv_checkpoints/fold_10_best.pth\n"
     ]
    },
    {
     "name": "stderr",
     "output_type": "stream",
     "text": [
      "Fold 10 | Epoch 12 | Loss: 0.0426 | Acc: 0.8248 | F1: 0.8197:  12%|█▏        | 12/100 [00:31<03:45,  2.56s/epoch]"
     ]
    },
    {
     "name": "stdout",
     "output_type": "stream",
     "text": [
      "  🎉 New best F1: 0.8197, saved to ./cv_checkpoints/fold_10_best.pth\n"
     ]
    },
    {
     "name": "stderr",
     "output_type": "stream",
     "text": [
      "Fold 10 | Epoch 13 | Loss: 0.0402 | Acc: 0.8686 | F1: 0.8641:  13%|█▎        | 13/100 [00:33<03:46,  2.60s/epoch]"
     ]
    },
    {
     "name": "stdout",
     "output_type": "stream",
     "text": [
      "  🎉 New best F1: 0.8641, saved to ./cv_checkpoints/fold_10_best.pth\n"
     ]
    },
    {
     "name": "stderr",
     "output_type": "stream",
     "text": [
      "Fold 10 | Epoch 23 | Loss: 0.0328 | Acc: 0.8759 | F1: 0.8713:  23%|██▎       | 23/100 [00:59<03:18,  2.57s/epoch]"
     ]
    },
    {
     "name": "stdout",
     "output_type": "stream",
     "text": [
      "  🎉 New best F1: 0.8713, saved to ./cv_checkpoints/fold_10_best.pth\n"
     ]
    },
    {
     "name": "stderr",
     "output_type": "stream",
     "text": [
      "Fold 10 | Epoch 39 | Loss: 0.0236 | Acc: 0.8832 | F1: 0.8792:  39%|███▉      | 39/100 [01:39<02:32,  2.49s/epoch]"
     ]
    },
    {
     "name": "stdout",
     "output_type": "stream",
     "text": [
      "  🎉 New best F1: 0.8792, saved to ./cv_checkpoints/fold_10_best.pth\n"
     ]
    },
    {
     "name": "stderr",
     "output_type": "stream",
     "text": [
      "Fold 10 | Epoch 49 | Loss: 0.0197 | Acc: 0.8905 | F1: 0.8850:  49%|████▉     | 49/100 [02:04<02:06,  2.49s/epoch]"
     ]
    },
    {
     "name": "stdout",
     "output_type": "stream",
     "text": [
      "  🎉 New best F1: 0.8850, saved to ./cv_checkpoints/fold_10_best.pth\n"
     ]
    },
    {
     "name": "stderr",
     "output_type": "stream",
     "text": [
      "Fold 10 | Epoch 100 | Loss: 0.0089 | Acc: 0.8686 | F1: 0.8605: 100%|██████████| 100/100 [04:12<00:00,  2.53s/epoch]\n",
      "/home/maweicheng/multimodel/resgsca.py:363: FutureWarning: You are using `torch.load` with `weights_only=False` (the current default value), which uses the default pickle module implicitly. It is possible to construct malicious pickle data which will execute arbitrary code during unpickling (See https://github.com/pytorch/pytorch/blob/main/SECURITY.md#untrusted-models for more details). In a future release, the default value for `weights_only` will be flipped to `True`. This limits the functions that could be executed during unpickling. Arbitrary objects will no longer be allowed to be loaded via this mode unless they are explicitly allowlisted by the user via `torch.serialization.add_safe_globals`. We recommend you start setting `weights_only=True` for any use case where you don't have full control of the loaded file. Please open an issue on GitHub for any issues related to this experimental feature.\n",
      "  model.load_state_dict(torch.load(fold_save_path))\n"
     ]
    },
    {
     "name": "stdout",
     "output_type": "stream",
     "text": [
      "Fold 10 Final Results: Acc=0.8540, Prec=0.8462, Rec=0.8504, F1=0.8481\n",
      "\n",
      "==================================================\n",
      "Cross-Validation Complete - 10 Folds\n",
      "Average Metrics: Acc=0.8499, Prec=0.8450, Rec=0.8496, F1=0.8454\n",
      "Best Model from Fold 8 with F1=0.8870\n",
      "Best Model saved to ./cv_checkpoints/overall_best.pth\n",
      "==================================================\n",
      "交叉验证结果已保存到: ./cv_checkpoints/cv_results.csv\n",
      "\n",
      "交叉验证总时间: 0小时 42分钟 28.06秒\n"
     ]
    }
   ],
   "source": [
    "%run resgsca.py --data_dir ../database/3_slice_64/ --batch_size 32 --epochs 100 --cv"
   ]
  },
  {
   "cell_type": "code",
   "execution_count": 21,
   "id": "a0dd3108",
   "metadata": {},
   "outputs": [
    {
     "name": "stdout",
     "output_type": "stream",
     "text": [
      "使用设备: cuda\n",
      "标签分布: Counter({0: 809, 1: 564})\n",
      "\n",
      "使用常规训练模式（80%训练/20%验证）\n",
      "\n",
      "==================== 开始常规训练 ====================\n"
     ]
    },
    {
     "name": "stderr",
     "output_type": "stream",
     "text": [
      "Epoch 1/100 | Loss: 0.1110 | Acc: 0.3869 | F1: 0.3090:   1%|          | 1/100 [00:02<04:16,  2.59s/epoch]"
     ]
    },
    {
     "name": "stdout",
     "output_type": "stream",
     "text": [
      "  🎉 新的最佳F1: 0.3090, 已保存到 ./resgsca_checkpoint/32/res2gcsa_best.pth\n"
     ]
    },
    {
     "name": "stderr",
     "output_type": "stream",
     "text": [
      "Epoch 2/100 | Loss: 0.0796 | Acc: 0.5766 | F1: 0.5739:   2%|▏         | 2/100 [00:05<04:13,  2.59s/epoch]"
     ]
    },
    {
     "name": "stdout",
     "output_type": "stream",
     "text": [
      "  🎉 新的最佳F1: 0.5739, 已保存到 ./resgsca_checkpoint/32/res2gcsa_best.pth\n"
     ]
    },
    {
     "name": "stderr",
     "output_type": "stream",
     "text": [
      "Epoch 3/100 | Loss: 0.0754 | Acc: 0.6387 | F1: 0.5961:   3%|▎         | 3/100 [00:08<04:25,  2.73s/epoch]"
     ]
    },
    {
     "name": "stdout",
     "output_type": "stream",
     "text": [
      "  🎉 新的最佳F1: 0.5961, 已保存到 ./resgsca_checkpoint/32/res2gcsa_best.pth\n"
     ]
    },
    {
     "name": "stderr",
     "output_type": "stream",
     "text": [
      "Epoch 4/100 | Loss: 0.0709 | Acc: 0.6971 | F1: 0.6753:   4%|▍         | 4/100 [00:10<04:21,  2.72s/epoch]"
     ]
    },
    {
     "name": "stdout",
     "output_type": "stream",
     "text": [
      "  🎉 新的最佳F1: 0.6753, 已保存到 ./resgsca_checkpoint/32/res2gcsa_best.pth\n"
     ]
    },
    {
     "name": "stderr",
     "output_type": "stream",
     "text": [
      "Epoch 5/100 | Loss: 0.0704 | Acc: 0.6898 | F1: 0.6812:   5%|▌         | 5/100 [00:13<04:25,  2.80s/epoch]"
     ]
    },
    {
     "name": "stdout",
     "output_type": "stream",
     "text": [
      "  🎉 新的最佳F1: 0.6812, 已保存到 ./resgsca_checkpoint/32/res2gcsa_best.pth\n"
     ]
    },
    {
     "name": "stderr",
     "output_type": "stream",
     "text": [
      "Epoch 9/100 | Loss: 0.0671 | Acc: 0.7153 | F1: 0.6929:   9%|▉         | 9/100 [00:24<04:01,  2.65s/epoch]"
     ]
    },
    {
     "name": "stdout",
     "output_type": "stream",
     "text": [
      "  🎉 新的最佳F1: 0.6929, 已保存到 ./resgsca_checkpoint/32/res2gcsa_best.pth\n"
     ]
    },
    {
     "name": "stderr",
     "output_type": "stream",
     "text": [
      "Epoch 11/100 | Loss: 0.0637 | Acc: 0.7445 | F1: 0.7166:  11%|█         | 11/100 [00:29<03:53,  2.62s/epoch]"
     ]
    },
    {
     "name": "stdout",
     "output_type": "stream",
     "text": [
      "  🎉 新的最佳F1: 0.7166, 已保存到 ./resgsca_checkpoint/32/res2gcsa_best.pth\n"
     ]
    },
    {
     "name": "stderr",
     "output_type": "stream",
     "text": [
      "Epoch 12/100 | Loss: 0.0619 | Acc: 0.7409 | F1: 0.7233:  12%|█▏        | 12/100 [00:31<03:50,  2.62s/epoch]"
     ]
    },
    {
     "name": "stdout",
     "output_type": "stream",
     "text": [
      "  🎉 新的最佳F1: 0.7233, 已保存到 ./resgsca_checkpoint/32/res2gcsa_best.pth\n"
     ]
    },
    {
     "name": "stderr",
     "output_type": "stream",
     "text": [
      "Epoch 13/100 | Loss: 0.0618 | Acc: 0.7482 | F1: 0.7300:  13%|█▎        | 13/100 [00:34<03:46,  2.61s/epoch]"
     ]
    },
    {
     "name": "stdout",
     "output_type": "stream",
     "text": [
      "  🎉 新的最佳F1: 0.7300, 已保存到 ./resgsca_checkpoint/32/res2gcsa_best.pth\n"
     ]
    },
    {
     "name": "stderr",
     "output_type": "stream",
     "text": [
      "Epoch 16/100 | Loss: 0.0534 | Acc: 0.7737 | F1: 0.7589:  16%|█▌        | 16/100 [00:42<03:39,  2.61s/epoch]"
     ]
    },
    {
     "name": "stdout",
     "output_type": "stream",
     "text": [
      "  🎉 新的最佳F1: 0.7589, 已保存到 ./resgsca_checkpoint/32/res2gcsa_best.pth\n"
     ]
    },
    {
     "name": "stderr",
     "output_type": "stream",
     "text": [
      "Epoch 20/100 | Loss: 0.0519 | Acc: 0.7664 | F1: 0.7613:  20%|██        | 20/100 [00:52<03:28,  2.61s/epoch]"
     ]
    },
    {
     "name": "stdout",
     "output_type": "stream",
     "text": [
      "  🎉 新的最佳F1: 0.7613, 已保存到 ./resgsca_checkpoint/32/res2gcsa_best.pth\n"
     ]
    },
    {
     "name": "stderr",
     "output_type": "stream",
     "text": [
      "Epoch 27/100 | Loss: 0.0476 | Acc: 0.8175 | F1: 0.8063:  27%|██▋       | 27/100 [01:11<03:11,  2.63s/epoch]"
     ]
    },
    {
     "name": "stdout",
     "output_type": "stream",
     "text": [
      "  🎉 新的最佳F1: 0.8063, 已保存到 ./resgsca_checkpoint/32/res2gcsa_best.pth\n"
     ]
    },
    {
     "name": "stderr",
     "output_type": "stream",
     "text": [
      "Epoch 47/100 | Loss: 0.0348 | Acc: 0.8175 | F1: 0.8117:  47%|████▋     | 47/100 [02:03<02:18,  2.61s/epoch]"
     ]
    },
    {
     "name": "stdout",
     "output_type": "stream",
     "text": [
      "  🎉 新的最佳F1: 0.8117, 已保存到 ./resgsca_checkpoint/32/res2gcsa_best.pth\n"
     ]
    },
    {
     "name": "stderr",
     "output_type": "stream",
     "text": [
      "Epoch 55/100 | Loss: 0.0325 | Acc: 0.8212 | F1: 0.8153:  55%|█████▌    | 55/100 [02:24<01:58,  2.63s/epoch]"
     ]
    },
    {
     "name": "stdout",
     "output_type": "stream",
     "text": [
      "  🎉 新的最佳F1: 0.8153, 已保存到 ./resgsca_checkpoint/32/res2gcsa_best.pth\n"
     ]
    },
    {
     "name": "stderr",
     "output_type": "stream",
     "text": [
      "Epoch 58/100 | Loss: 0.0303 | Acc: 0.8467 | F1: 0.8427:  58%|█████▊    | 58/100 [02:32<01:49,  2.62s/epoch]"
     ]
    },
    {
     "name": "stdout",
     "output_type": "stream",
     "text": [
      "  🎉 新的最佳F1: 0.8427, 已保存到 ./resgsca_checkpoint/32/res2gcsa_best.pth\n"
     ]
    },
    {
     "name": "stderr",
     "output_type": "stream",
     "text": [
      "Epoch 100/100 | Loss: 0.0226 | Acc: 0.8212 | F1: 0.8118: 100%|██████████| 100/100 [04:22<00:00,  2.62s/epoch]"
     ]
    },
    {
     "name": "stdout",
     "output_type": "stream",
     "text": [
      "最终模型已保存到: ./resgsca_checkpoint/32/res2gcsa_final.pth\n",
      "\n",
      "训练总时间: 0小时 4分钟 22.46秒\n"
     ]
    },
    {
     "name": "stderr",
     "output_type": "stream",
     "text": [
      "\n"
     ]
    }
   ],
   "source": [
    "%run resgsca.py --data_dir ../database/3_slice_64/ --batch_size 32 --epochs 100"
   ]
  }
 ],
 "metadata": {
  "kernelspec": {
   "display_name": "dl",
   "language": "python",
   "name": "python3"
  },
  "language_info": {
   "codemirror_mode": {
    "name": "ipython",
    "version": 3
   },
   "file_extension": ".py",
   "mimetype": "text/x-python",
   "name": "python",
   "nbconvert_exporter": "python",
   "pygments_lexer": "ipython3",
   "version": "3.10.16"
  }
 },
 "nbformat": 4,
 "nbformat_minor": 5
}
