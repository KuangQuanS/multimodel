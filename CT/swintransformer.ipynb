{
 "cells": [
  {
   "cell_type": "code",
   "execution_count": 10,
   "id": "b7d356d7",
   "metadata": {},
   "outputs": [
    {
     "name": "stdout",
     "output_type": "stream",
     "text": [
      "使用设备: cuda\n"
     ]
    },
    {
     "name": "stdout",
     "output_type": "stream",
     "text": [
      "标签分布: Counter({0: 809, 1: 564})\n",
      "\n",
      "使用常规训练模式（80%训练/20%验证）\n",
      "\n",
      "==================== 开始常规训练 ====================\n"
     ]
    },
    {
     "name": "stderr",
     "output_type": "stream",
     "text": [
      "Epoch 1/150 | Loss: 0.1661 | Acc: 0.5474 | F1: 0.3876:   1%|          | 1/150 [00:01<02:54,  1.17s/epoch]"
     ]
    },
    {
     "name": "stdout",
     "output_type": "stream",
     "text": [
      "  🎉 新的最佳F1: 0.3876, 已保存到 ./swin_checkpoint/swin_best.pth\n"
     ]
    },
    {
     "name": "stderr",
     "output_type": "stream",
     "text": [
      "Epoch 30/150 | Loss: 0.0694 | Acc: 0.4672 | F1: 0.4364:  20%|██        | 30/150 [00:32<02:09,  1.08s/epoch]"
     ]
    },
    {
     "name": "stdout",
     "output_type": "stream",
     "text": [
      "  🎉 新的最佳F1: 0.4364, 已保存到 ./swin_checkpoint/swin_best.pth\n"
     ]
    },
    {
     "name": "stderr",
     "output_type": "stream",
     "text": [
      "Epoch 31/150 | Loss: 0.0690 | Acc: 0.4818 | F1: 0.4556:  21%|██        | 31/150 [00:33<02:10,  1.09s/epoch]"
     ]
    },
    {
     "name": "stdout",
     "output_type": "stream",
     "text": [
      "  🎉 新的最佳F1: 0.4556, 已保存到 ./swin_checkpoint/swin_best.pth\n"
     ]
    },
    {
     "name": "stderr",
     "output_type": "stream",
     "text": [
      "Epoch 32/150 | Loss: 0.0685 | Acc: 0.5073 | F1: 0.4936:  21%|██▏       | 32/150 [00:34<02:12,  1.12s/epoch]"
     ]
    },
    {
     "name": "stdout",
     "output_type": "stream",
     "text": [
      "  🎉 新的最佳F1: 0.4936, 已保存到 ./swin_checkpoint/swin_best.pth\n"
     ]
    },
    {
     "name": "stderr",
     "output_type": "stream",
     "text": [
      "Epoch 35/150 | Loss: 0.0674 | Acc: 0.5438 | F1: 0.5406:  23%|██▎       | 35/150 [00:37<02:08,  1.11s/epoch]"
     ]
    },
    {
     "name": "stdout",
     "output_type": "stream",
     "text": [
      "  🎉 新的最佳F1: 0.5406, 已保存到 ./swin_checkpoint/swin_best.pth\n"
     ]
    },
    {
     "name": "stderr",
     "output_type": "stream",
     "text": [
      "Epoch 36/150 | Loss: 0.0670 | Acc: 0.5657 | F1: 0.5608:  24%|██▍       | 36/150 [00:38<02:07,  1.11s/epoch]"
     ]
    },
    {
     "name": "stdout",
     "output_type": "stream",
     "text": [
      "  🎉 新的最佳F1: 0.5608, 已保存到 ./swin_checkpoint/swin_best.pth\n"
     ]
    },
    {
     "name": "stderr",
     "output_type": "stream",
     "text": [
      "Epoch 42/150 | Loss: 0.0631 | Acc: 0.5730 | F1: 0.5682:  28%|██▊       | 42/150 [00:45<01:59,  1.10s/epoch]"
     ]
    },
    {
     "name": "stdout",
     "output_type": "stream",
     "text": [
      "  🎉 新的最佳F1: 0.5682, 已保存到 ./swin_checkpoint/swin_best.pth\n"
     ]
    },
    {
     "name": "stderr",
     "output_type": "stream",
     "text": [
      "Epoch 44/150 | Loss: 0.0636 | Acc: 0.6168 | F1: 0.6153:  29%|██▉       | 44/150 [00:47<02:00,  1.14s/epoch]"
     ]
    },
    {
     "name": "stdout",
     "output_type": "stream",
     "text": [
      "  🎉 新的最佳F1: 0.6153, 已保存到 ./swin_checkpoint/swin_best.pth\n"
     ]
    },
    {
     "name": "stderr",
     "output_type": "stream",
     "text": [
      "Epoch 48/150 | Loss: 0.0622 | Acc: 0.7445 | F1: 0.7334:  32%|███▏      | 48/150 [00:52<01:54,  1.13s/epoch]"
     ]
    },
    {
     "name": "stdout",
     "output_type": "stream",
     "text": [
      "  🎉 新的最佳F1: 0.7334, 已保存到 ./swin_checkpoint/swin_best.pth\n"
     ]
    },
    {
     "name": "stderr",
     "output_type": "stream",
     "text": [
      "Epoch 57/150 | Loss: 0.0604 | Acc: 0.7518 | F1: 0.7426:  38%|███▊      | 57/150 [01:01<01:42,  1.10s/epoch]"
     ]
    },
    {
     "name": "stdout",
     "output_type": "stream",
     "text": [
      "  🎉 新的最佳F1: 0.7426, 已保存到 ./swin_checkpoint/swin_best.pth\n"
     ]
    },
    {
     "name": "stderr",
     "output_type": "stream",
     "text": [
      "Epoch 68/150 | Loss: 0.0560 | Acc: 0.7591 | F1: 0.7494:  45%|████▌     | 68/150 [01:13<01:30,  1.11s/epoch]"
     ]
    },
    {
     "name": "stdout",
     "output_type": "stream",
     "text": [
      "  🎉 新的最佳F1: 0.7494, 已保存到 ./swin_checkpoint/swin_best.pth\n"
     ]
    },
    {
     "name": "stderr",
     "output_type": "stream",
     "text": [
      "Epoch 77/150 | Loss: 0.0578 | Acc: 0.7810 | F1: 0.7692:  51%|█████▏    | 77/150 [01:23<01:22,  1.13s/epoch]"
     ]
    },
    {
     "name": "stdout",
     "output_type": "stream",
     "text": [
      "  🎉 新的最佳F1: 0.7692, 已保存到 ./swin_checkpoint/swin_best.pth\n"
     ]
    },
    {
     "name": "stderr",
     "output_type": "stream",
     "text": [
      "Epoch 150/150 | Loss: 0.0546 | Acc: 0.7153 | F1: 0.7123: 100%|██████████| 150/150 [02:42<00:00,  1.09s/epoch]"
     ]
    },
    {
     "name": "stdout",
     "output_type": "stream",
     "text": [
      "最终模型已保存到: ./swin_checkpoint/swin_final.pth\n",
      "\n",
      "训练总时间: 0小时 2分钟 42.91秒\n"
     ]
    },
    {
     "name": "stderr",
     "output_type": "stream",
     "text": [
      "\n"
     ]
    }
   ],
   "source": [
    "%run swintransformer.py --data_dir ../database/3_slice_64/ --batch_size 128 --epochs 150 --lr 1e-4 --save_dir ./swin_checkpoint"
   ]
  }
 ],
 "metadata": {
  "kernelspec": {
   "display_name": "dl",
   "language": "python",
   "name": "python3"
  },
  "language_info": {
   "codemirror_mode": {
    "name": "ipython",
    "version": 3
   },
   "file_extension": ".py",
   "mimetype": "text/x-python",
   "name": "python",
   "nbconvert_exporter": "python",
   "pygments_lexer": "ipython3",
   "version": "3.10.16"
  }
 },
 "nbformat": 4,
 "nbformat_minor": 5
}
