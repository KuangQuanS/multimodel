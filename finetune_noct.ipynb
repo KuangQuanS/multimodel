{
 "cells": [
  {
   "cell_type": "code",
   "execution_count": null,
   "id": "59d1258a",
   "metadata": {},
   "outputs": [
    {
     "name": "stderr",
     "output_type": "stream",
     "text": [
      "/home/maweicheng/multimodel/finetune_noct.py:18: FutureWarning: You are using `torch.load` with `weights_only=False` (the current default value), which uses the default pickle module implicitly. It is possible to construct malicious pickle data which will execute arbitrary code during unpickling (See https://github.com/pytorch/pytorch/blob/main/SECURITY.md#untrusted-models for more details). In a future release, the default value for `weights_only` will be flipped to `True`. This limits the functions that could be executed during unpickling. Arbitrary objects will no longer be allowed to be loaded via this mode unless they are explicitly allowlisted by the user via `torch.serialization.add_safe_globals`. We recommend you start setting `weights_only=True` for any use case where you don't have full control of the loaded file. Please open an issue on GitHub for any issues related to this experimental feature.\n",
      "  ckpt = torch.load(os.path.join(args.checkpoint_dir, f\"{mod}_best.pth\"),\n"
     ]
    },
    {
     "name": "stdout",
     "output_type": "stream",
     "text": [
      "多模态模式: ['Frag', 'CNV', 'PFE', 'NDR', 'NDR2K']\n",
      "\n",
      "===== 开始第 1/10 折 =====\n",
      "训练集样本比例: [306  99]\n",
      "验证集样本比例: [34 11]\n"
     ]
    },
    {
     "name": "stdout",
     "output_type": "stream",
     "text": [
      "Fold 1, Epoch 20: TrAcc=96.30% VaAcc=95.56% F1=0.9398 AUC=0.9412\n",
      "Fold 1, Epoch 40: TrAcc=97.78% VaAcc=95.56% F1=0.9398 AUC=0.9519\n",
      "Fold 1, Epoch 60: TrAcc=96.54% VaAcc=91.11% F1=0.8864 AUC=0.9545\n",
      "Fold 1, Epoch 80: TrAcc=99.26% VaAcc=97.78% F1=0.9689 AUC=0.9733\n",
      "Fold 1, Epoch 100: TrAcc=99.51% VaAcc=97.78% F1=0.9689 AUC=0.9840\n",
      "第 1 折最佳结果: F1=0.9689, AUC=0.9305, Epoch=14\n",
      "\n",
      "===== 开始第 2/10 折 =====\n",
      "训练集样本比例: [306  99]\n",
      "验证集样本比例: [34 11]\n",
      "Fold 2, Epoch 20: TrAcc=98.77% VaAcc=100.00% F1=1.0000 AUC=1.0000\n",
      "Fold 2, Epoch 40: TrAcc=99.26% VaAcc=100.00% F1=1.0000 AUC=1.0000\n",
      "Fold 2, Epoch 60: TrAcc=99.01% VaAcc=100.00% F1=1.0000 AUC=1.0000\n",
      "Fold 2, Epoch 80: TrAcc=100.00% VaAcc=97.78% F1=0.9708 AUC=1.0000\n",
      "Fold 2, Epoch 100: TrAcc=100.00% VaAcc=100.00% F1=1.0000 AUC=1.0000\n",
      "第 2 折最佳结果: F1=1.0000, AUC=1.0000, Epoch=9\n",
      "\n",
      "===== 开始第 3/10 折 =====\n",
      "训练集样本比例: [306  99]\n",
      "验证集样本比例: [34 11]\n",
      "Fold 3, Epoch 20: TrAcc=99.75% VaAcc=100.00% F1=1.0000 AUC=1.0000\n",
      "Fold 3, Epoch 40: TrAcc=99.51% VaAcc=100.00% F1=1.0000 AUC=1.0000\n",
      "Fold 3, Epoch 60: TrAcc=97.78% VaAcc=95.56% F1=0.9357 AUC=0.9973\n",
      "Fold 3, Epoch 80: TrAcc=99.75% VaAcc=100.00% F1=1.0000 AUC=1.0000\n",
      "Fold 3, Epoch 100: TrAcc=100.00% VaAcc=97.78% F1=0.9689 AUC=1.0000\n",
      "第 3 折最佳结果: F1=1.0000, AUC=1.0000, Epoch=9\n",
      "\n",
      "===== 开始第 4/10 折 =====\n",
      "训练集样本比例: [306  99]\n",
      "验证集样本比例: [34 11]\n",
      "Fold 4, Epoch 20: TrAcc=99.75% VaAcc=100.00% F1=1.0000 AUC=1.0000\n",
      "Fold 4, Epoch 40: TrAcc=100.00% VaAcc=100.00% F1=1.0000 AUC=1.0000\n",
      "Fold 4, Epoch 60: TrAcc=100.00% VaAcc=100.00% F1=1.0000 AUC=1.0000\n",
      "Fold 4, Epoch 80: TrAcc=100.00% VaAcc=97.78% F1=0.9689 AUC=1.0000\n",
      "Fold 4, Epoch 100: TrAcc=100.00% VaAcc=100.00% F1=1.0000 AUC=1.0000\n",
      "第 4 折最佳结果: F1=1.0000, AUC=1.0000, Epoch=2\n",
      "\n",
      "===== 开始第 5/10 折 =====\n",
      "训练集样本比例: [306  99]\n",
      "验证集样本比例: [34 11]\n",
      "Fold 5, Epoch 20: TrAcc=100.00% VaAcc=100.00% F1=1.0000 AUC=1.0000\n",
      "Fold 5, Epoch 40: TrAcc=100.00% VaAcc=100.00% F1=1.0000 AUC=1.0000\n",
      "Fold 5, Epoch 60: TrAcc=99.75% VaAcc=100.00% F1=1.0000 AUC=1.0000\n",
      "Fold 5, Epoch 80: TrAcc=99.75% VaAcc=100.00% F1=1.0000 AUC=1.0000\n",
      "Fold 5, Epoch 100: TrAcc=100.00% VaAcc=97.78% F1=0.9689 AUC=1.0000\n",
      "第 5 折最佳结果: F1=1.0000, AUC=1.0000, Epoch=4\n",
      "\n",
      "===== 开始第 6/10 折 =====\n",
      "训练集样本比例: [306  99]\n",
      "验证集样本比例: [34 11]\n",
      "Fold 6, Epoch 20: TrAcc=100.00% VaAcc=100.00% F1=1.0000 AUC=1.0000\n",
      "Fold 6, Epoch 40: TrAcc=100.00% VaAcc=100.00% F1=1.0000 AUC=1.0000\n",
      "Fold 6, Epoch 60: TrAcc=98.02% VaAcc=100.00% F1=1.0000 AUC=1.0000\n",
      "Fold 6, Epoch 80: TrAcc=100.00% VaAcc=100.00% F1=1.0000 AUC=1.0000\n",
      "Fold 6, Epoch 100: TrAcc=100.00% VaAcc=100.00% F1=1.0000 AUC=1.0000\n",
      "第 6 折最佳结果: F1=1.0000, AUC=1.0000, Epoch=4\n",
      "\n",
      "===== 开始第 7/10 折 =====\n",
      "训练集样本比例: [306  99]\n",
      "验证集样本比例: [34 11]\n",
      "Fold 7, Epoch 20: TrAcc=100.00% VaAcc=97.78% F1=0.9689 AUC=1.0000\n",
      "Fold 7, Epoch 40: TrAcc=100.00% VaAcc=97.78% F1=0.9689 AUC=1.0000\n",
      "Fold 7, Epoch 60: TrAcc=99.75% VaAcc=100.00% F1=1.0000 AUC=1.0000\n",
      "Fold 7, Epoch 80: TrAcc=99.51% VaAcc=100.00% F1=1.0000 AUC=1.0000\n",
      "Fold 7, Epoch 100: TrAcc=100.00% VaAcc=100.00% F1=1.0000 AUC=1.0000\n",
      "第 7 折最佳结果: F1=1.0000, AUC=1.0000, Epoch=2\n",
      "\n",
      "===== 开始第 8/10 折 =====\n",
      "训练集样本比例: [306  99]\n",
      "验证集样本比例: [34 11]\n",
      "Fold 8, Epoch 20: TrAcc=100.00% VaAcc=100.00% F1=1.0000 AUC=1.0000\n",
      "Fold 8, Epoch 40: TrAcc=100.00% VaAcc=100.00% F1=1.0000 AUC=1.0000\n",
      "Fold 8, Epoch 60: TrAcc=100.00% VaAcc=100.00% F1=1.0000 AUC=1.0000\n",
      "Fold 8, Epoch 80: TrAcc=100.00% VaAcc=100.00% F1=1.0000 AUC=1.0000\n",
      "Fold 8, Epoch 100: TrAcc=100.00% VaAcc=100.00% F1=1.0000 AUC=1.0000\n",
      "第 8 折最佳结果: F1=1.0000, AUC=1.0000, Epoch=1\n",
      "\n",
      "===== 开始第 9/10 折 =====\n",
      "训练集样本比例: [306  99]\n",
      "验证集样本比例: [34 11]\n",
      "Fold 9, Epoch 20: TrAcc=100.00% VaAcc=100.00% F1=1.0000 AUC=1.0000\n"
     ]
    }
   ],
   "source": [
    "%run finetune_noct.py --modalities Frag CNV PFE NDR NDR2K --data_file ../database/cfDNA/multimodal_data.npz --epochs 100 --finetune"
   ]
  },
  {
   "cell_type": "code",
   "execution_count": null,
   "id": "5973df29",
   "metadata": {},
   "outputs": [
    {
     "name": "stderr",
     "output_type": "stream",
     "text": [
      "/home/maweicheng/multimodel/finetune_noct.py:66: FutureWarning: You are using `torch.load` with `weights_only=False` (the current default value), which uses the default pickle module implicitly. It is possible to construct malicious pickle data which will execute arbitrary code during unpickling (See https://github.com/pytorch/pytorch/blob/main/SECURITY.md#untrusted-models for more details). In a future release, the default value for `weights_only` will be flipped to `True`. This limits the functions that could be executed during unpickling. Arbitrary objects will no longer be allowed to be loaded via this mode unless they are explicitly allowlisted by the user via `torch.serialization.add_safe_globals`. We recommend you start setting `weights_only=True` for any use case where you don't have full control of the loaded file. Please open an issue on GitHub for any issues related to this experimental feature.\n",
      "  ckpt = torch.load(os.path.join(args.checkpoint_dir, f\"{args.single_mod}_best.pth\"),\n"
     ]
    },
    {
     "name": "stdout",
     "output_type": "stream",
     "text": [
      "[Frag] Epo 20: TrAcc=75.24% VaAcc=75.56% F1=0.4304\n",
      "[Frag] Epo 40: TrAcc=75.56% VaAcc=75.56% F1=0.4304\n",
      "✅ 单模态 `Frag` 最佳 F1: 0.4304\n"
     ]
    }
   ],
   "source": [
    "%run finetune_noct.py --data_file ../database/cfDNA/multimodal_data.npz --epochs 100 --finetune --single_mod Frag"
   ]
  },
  {
   "cell_type": "code",
   "execution_count": 39,
   "id": "e744a3c8",
   "metadata": {},
   "outputs": [
    {
     "name": "stderr",
     "output_type": "stream",
     "text": [
      "/home/maweicheng/multimodel/finetune_noct.py:207: FutureWarning: You are using `torch.load` with `weights_only=False` (the current default value), which uses the default pickle module implicitly. It is possible to construct malicious pickle data which will execute arbitrary code during unpickling (See https://github.com/pytorch/pytorch/blob/main/SECURITY.md#untrusted-models for more details). In a future release, the default value for `weights_only` will be flipped to `True`. This limits the functions that could be executed during unpickling. Arbitrary objects will no longer be allowed to be loaded via this mode unless they are explicitly allowlisted by the user via `torch.serialization.add_safe_globals`. We recommend you start setting `weights_only=True` for any use case where you don't have full control of the loaded file. Please open an issue on GitHub for any issues related to this experimental feature.\n",
      "  ckpt = torch.load(os.path.join(args.checkpoint_dir, f\"{args.single_mod}_best.pth\"),\n"
     ]
    },
    {
     "name": "stdout",
     "output_type": "stream",
     "text": [
      "[CNV] Epo 20: TrAcc=96.19% VaAcc=96.30% F1=0.9471\n",
      "[CNV] Epo 40: TrAcc=96.83% VaAcc=95.56% F1=0.9386\n",
      "[CNV] Epo 60: TrAcc=97.14% VaAcc=94.07% F1=0.9198\n",
      "[CNV] Epo 80: TrAcc=97.14% VaAcc=95.56% F1=0.9372\n",
      "[CNV] Epo 100: TrAcc=96.83% VaAcc=97.04% F1=0.9581\n",
      "✅ 单模态 `CNV` 最佳 F1: 0.9689\n"
     ]
    }
   ],
   "source": [
    "%run finetune_noct.py --data_file ../database/cfDNA/multimodal_data.npz --epochs 100 --finetune --single_mod CNV"
   ]
  },
  {
   "cell_type": "code",
   "execution_count": null,
   "id": "77e8fa4c",
   "metadata": {},
   "outputs": [
    {
     "name": "stderr",
     "output_type": "stream",
     "text": [
      "/home/maweicheng/multimodel/finetune_noct.py:66: FutureWarning: You are using `torch.load` with `weights_only=False` (the current default value), which uses the default pickle module implicitly. It is possible to construct malicious pickle data which will execute arbitrary code during unpickling (See https://github.com/pytorch/pytorch/blob/main/SECURITY.md#untrusted-models for more details). In a future release, the default value for `weights_only` will be flipped to `True`. This limits the functions that could be executed during unpickling. Arbitrary objects will no longer be allowed to be loaded via this mode unless they are explicitly allowlisted by the user via `torch.serialization.add_safe_globals`. We recommend you start setting `weights_only=True` for any use case where you don't have full control of the loaded file. Please open an issue on GitHub for any issues related to this experimental feature.\n",
      "  ckpt = torch.load(os.path.join(args.checkpoint_dir, f\"{args.single_mod}_best.pth\"),\n"
     ]
    },
    {
     "name": "stdout",
     "output_type": "stream",
     "text": [
      "[PFE] Epo 20: TrAcc=75.56% VaAcc=75.56% F1=0.4304\n",
      "[PFE] Epo 40: TrAcc=75.56% VaAcc=75.56% F1=0.4304\n",
      "✅ 单模态 `PFE` 最佳 F1: 0.4304\n"
     ]
    }
   ],
   "source": [
    "%run finetune_noct.py --data_file ../database/cfDNA/multimodal_data.npz --epochs 100 --finetune --single_mod PFE"
   ]
  },
  {
   "cell_type": "code",
   "execution_count": null,
   "id": "3ccb2ded",
   "metadata": {},
   "outputs": [
    {
     "name": "stderr",
     "output_type": "stream",
     "text": [
      "/home/maweicheng/multimodel/finetune_noct.py:66: FutureWarning: You are using `torch.load` with `weights_only=False` (the current default value), which uses the default pickle module implicitly. It is possible to construct malicious pickle data which will execute arbitrary code during unpickling (See https://github.com/pytorch/pytorch/blob/main/SECURITY.md#untrusted-models for more details). In a future release, the default value for `weights_only` will be flipped to `True`. This limits the functions that could be executed during unpickling. Arbitrary objects will no longer be allowed to be loaded via this mode unless they are explicitly allowlisted by the user via `torch.serialization.add_safe_globals`. We recommend you start setting `weights_only=True` for any use case where you don't have full control of the loaded file. Please open an issue on GitHub for any issues related to this experimental feature.\n",
      "  ckpt = torch.load(os.path.join(args.checkpoint_dir, f\"{args.single_mod}_best.pth\"),\n"
     ]
    },
    {
     "name": "stdout",
     "output_type": "stream",
     "text": [
      "[NDR] Epo 20: TrAcc=78.10% VaAcc=80.00% F1=0.6118\n",
      "[NDR] Epo 40: TrAcc=80.63% VaAcc=78.52% F1=0.5989\n",
      "✅ 单模态 `NDR` 最佳 F1: 0.7300\n"
     ]
    }
   ],
   "source": [
    "%run finetune_noct.py --data_file ../database/cfDNA/multimodal_data.npz --epochs 100 --finetune --single_mod NDR"
   ]
  },
  {
   "cell_type": "code",
   "execution_count": null,
   "id": "a6594a7d",
   "metadata": {},
   "outputs": [
    {
     "name": "stderr",
     "output_type": "stream",
     "text": [
      "/home/maweicheng/multimodel/finetune_noct.py:66: FutureWarning: You are using `torch.load` with `weights_only=False` (the current default value), which uses the default pickle module implicitly. It is possible to construct malicious pickle data which will execute arbitrary code during unpickling (See https://github.com/pytorch/pytorch/blob/main/SECURITY.md#untrusted-models for more details). In a future release, the default value for `weights_only` will be flipped to `True`. This limits the functions that could be executed during unpickling. Arbitrary objects will no longer be allowed to be loaded via this mode unless they are explicitly allowlisted by the user via `torch.serialization.add_safe_globals`. We recommend you start setting `weights_only=True` for any use case where you don't have full control of the loaded file. Please open an issue on GitHub for any issues related to this experimental feature.\n",
      "  ckpt = torch.load(os.path.join(args.checkpoint_dir, f\"{args.single_mod}_best.pth\"),\n"
     ]
    },
    {
     "name": "stdout",
     "output_type": "stream",
     "text": [
      "[NDR2K] Epo 20: TrAcc=74.60% VaAcc=78.52% F1=0.5459\n",
      "[NDR2K] Epo 40: TrAcc=79.37% VaAcc=78.52% F1=0.5654\n",
      "✅ 单模态 `NDR2K` 最佳 F1: 0.6667\n"
     ]
    }
   ],
   "source": [
    "%run finetune_noct.py --data_file ../database/cfDNA/multimodal_data.npz --epochs 100 --finetune --single_mod NDR2K"
   ]
  }
 ],
 "metadata": {
  "kernelspec": {
   "display_name": "dl",
   "language": "python",
   "name": "python3"
  },
  "language_info": {
   "codemirror_mode": {
    "name": "ipython",
    "version": 3
   },
   "file_extension": ".py",
   "mimetype": "text/x-python",
   "name": "python",
   "nbconvert_exporter": "python",
   "pygments_lexer": "ipython3",
   "version": "3.10.16"
  }
 },
 "nbformat": 4,
 "nbformat_minor": 5
}
