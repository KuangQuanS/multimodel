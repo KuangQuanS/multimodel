{
 "cells": [
  {
   "cell_type": "code",
   "execution_count": 34,
   "id": "59d1258a",
   "metadata": {},
   "outputs": [
    {
     "name": "stdout",
     "output_type": "stream",
     "text": [
      "多模态模式: ['Frag', 'CNV', 'PFE', 'NDR', 'NDR2K']\n",
      "\n",
      "===== 开始第 1/10 折 =====\n",
      "训练集样本比例: [275  89]\n",
      "验证集样本比例: [31 10]\n",
      "Fold 1, Epoch 50: TrAcc=86.26% VaAcc=92.68% F1=0.8972 AUC=0.8839\n",
      "Fold 1, Epoch 100: TrAcc=91.76% VaAcc=95.12% F1=0.9288 AUC=0.8774\n",
      "第 1 折最佳结果: F1=0.9288, AUC=0.8742, Epoch=85\n",
      "\n",
      "===== 开始第 2/10 折 =====\n",
      "训练集样本比例: [275  89]\n",
      "验证集样本比例: [31 10]\n",
      "Fold 2, Epoch 50: TrAcc=86.54% VaAcc=95.12% F1=0.9339 AUC=0.9806\n",
      "Fold 2, Epoch 100: TrAcc=89.84% VaAcc=95.12% F1=0.9339 AUC=0.9774\n",
      "第 2 折最佳结果: F1=0.9379, AUC=0.9806, Epoch=2\n",
      "\n",
      "===== 开始第 3/10 折 =====\n",
      "训练集样本比例: [275  89]\n",
      "验证集样本比例: [31 10]\n",
      "Fold 3, Epoch 50: TrAcc=86.26% VaAcc=90.24% F1=0.8822 AUC=0.9806\n",
      "Fold 3, Epoch 100: TrAcc=89.29% VaAcc=92.68% F1=0.9094 AUC=0.9935\n",
      "第 3 折最佳结果: F1=0.9094, AUC=0.9806, Epoch=55\n",
      "\n",
      "===== 开始第 4/10 折 =====\n",
      "训练集样本比例: [275  89]\n",
      "验证集样本比例: [31 10]\n",
      "Fold 4, Epoch 50: TrAcc=87.64% VaAcc=90.24% F1=0.8822 AUC=0.9548\n",
      "Fold 4, Epoch 100: TrAcc=87.64% VaAcc=92.68% F1=0.9094 AUC=0.9806\n",
      "第 4 折最佳结果: F1=0.9094, AUC=0.9613, Epoch=69\n",
      "\n",
      "===== 开始第 5/10 折 =====\n",
      "训练集样本比例: [275  89]\n",
      "验证集样本比例: [31 10]\n",
      "Fold 5, Epoch 50: TrAcc=90.38% VaAcc=82.93% F1=0.7885 AUC=0.9032\n",
      "Fold 5, Epoch 100: TrAcc=91.48% VaAcc=82.93% F1=0.7760 AUC=0.9323\n",
      "第 5 折最佳结果: F1=0.8233, AUC=0.9161, Epoch=65\n",
      "\n",
      "===== 开始第 6/10 折 =====\n",
      "训练集样本比例: [275  90]\n",
      "验证集样本比例: [31  9]\n",
      "Fold 6, Epoch 50: TrAcc=88.77% VaAcc=90.00% F1=0.8667 AUC=0.9498\n",
      "Fold 6, Epoch 100: TrAcc=91.23% VaAcc=92.50% F1=0.8965 AUC=0.9606\n",
      "第 6 折最佳结果: F1=0.9031, AUC=0.9534, Epoch=4\n",
      "\n",
      "===== 开始第 7/10 折 =====\n",
      "训练集样本比例: [276  89]\n",
      "验证集样本比例: [30 10]\n",
      "Fold 7, Epoch 50: TrAcc=87.12% VaAcc=90.00% F1=0.8667 AUC=0.9600\n",
      "Fold 7, Epoch 100: TrAcc=90.41% VaAcc=90.00% F1=0.8667 AUC=0.9700\n",
      "第 7 折最佳结果: F1=0.8667, AUC=0.9533, Epoch=4\n",
      "\n",
      "===== 开始第 8/10 折 =====\n",
      "训练集样本比例: [276  89]\n",
      "验证集样本比例: [30 10]\n",
      "Fold 8, Epoch 50: TrAcc=85.75% VaAcc=85.00% F1=0.8119 AUC=0.9333\n",
      "Fold 8, Epoch 100: TrAcc=89.59% VaAcc=87.50% F1=0.8386 AUC=0.9433\n",
      "第 8 折最佳结果: F1=0.8810, AUC=0.9300, Epoch=2\n",
      "\n",
      "===== 开始第 9/10 折 =====\n",
      "训练集样本比例: [276  89]\n",
      "验证集样本比例: [30 10]\n",
      "Fold 9, Epoch 50: TrAcc=87.12% VaAcc=90.00% F1=0.8746 AUC=0.9700\n",
      "Fold 9, Epoch 100: TrAcc=87.67% VaAcc=92.50% F1=0.9031 AUC=0.9833\n",
      "第 9 折最佳结果: F1=0.9031, AUC=0.9833, Epoch=86\n",
      "\n",
      "===== 开始第 10/10 折 =====\n",
      "训练集样本比例: [276  89]\n",
      "验证集样本比例: [30 10]\n",
      "Fold 10, Epoch 50: TrAcc=86.58% VaAcc=90.00% F1=0.8566 AUC=0.9200\n",
      "Fold 10, Epoch 100: TrAcc=90.68% VaAcc=90.00% F1=0.8566 AUC=0.9200\n",
      "第 10 折最佳结果: F1=0.9333, AUC=0.9400, Epoch=3\n",
      "\n",
      "===== 多模态十折交叉验证结果 =====\n",
      "平均 F1: 0.8996 ± 0.0331\n",
      "平均 AUC: 0.9473 ± 0.0323\n",
      "\n",
      "✅ 详细结果已保存至: ./fusion_out/multi_cv_results.txt\n",
      "\n",
      "===== 在测试集上评估最佳模型 =====\n",
      "测试集结果 - Acc: 97.78%, F1: 0.9708, AUC: 0.9947\n"
     ]
    }
   ],
   "source": [
    "%run finetune_noct.py \\\n",
    "    --modalities Frag CNV PFE NDR NDR2K \\\n",
    "    --data_file ../database/cfDNA/train/multimodal_data.npz \\\n",
    "    --test_file ../database/cfDNA/test/multimodal_data.npz \\\n",
    "    --epochs 100 \\\n",
    "    --latent_dim 256 \\\n",
    "    --fusion_layers 3 \\\n",
    "    --encoder_layers 3\n",
    "\n",
    "# 256 3 70 98的 95"
   ]
  },
  {
   "cell_type": "code",
   "execution_count": 35,
   "id": "e744a3c8",
   "metadata": {},
   "outputs": [
    {
     "name": "stdout",
     "output_type": "stream",
     "text": [
      "单模态模式: CNV\n",
      "\n",
      "===== 开始第 1/10 折 =====\n",
      "训练集样本比例: [275  89]\n",
      "验证集样本比例: [31 10]\n",
      "[CNV] Fold 1, Epoch 50: TrAcc=89.56% VaAcc=95.12% F1=0.9288 AUC=0.9677\n",
      "第 1 折最佳结果: F1=0.9288, AUC=0.9645, Epoch=41\n",
      "\n",
      "===== 开始第 2/10 折 =====\n",
      "训练集样本比例: [275  89]\n",
      "验证集样本比例: [31 10]\n",
      "[CNV] Fold 2, Epoch 50: TrAcc=86.54% VaAcc=95.12% F1=0.9339 AUC=0.9774\n",
      "第 2 折最佳结果: F1=0.9680, AUC=0.9806, Epoch=5\n",
      "\n",
      "===== 开始第 3/10 折 =====\n",
      "训练集样本比例: [275  89]\n",
      "验证集样本比例: [31 10]\n",
      "[CNV] Fold 3, Epoch 50: TrAcc=87.91% VaAcc=92.68% F1=0.9094 AUC=0.9839\n",
      "第 3 折最佳结果: F1=0.9094, AUC=0.9806, Epoch=22\n",
      "\n",
      "===== 开始第 4/10 折 =====\n",
      "训练集样本比例: [275  89]\n",
      "验证集样本比例: [31 10]\n",
      "[CNV] Fold 4, Epoch 50: TrAcc=87.36% VaAcc=87.80% F1=0.8561 AUC=0.9742\n",
      "第 4 折最佳结果: F1=0.8822, AUC=0.9581, Epoch=5\n",
      "\n",
      "===== 开始第 5/10 折 =====\n",
      "训练集样本比例: [275  89]\n",
      "验证集样本比例: [31 10]\n",
      "[CNV] Fold 5, Epoch 50: TrAcc=90.38% VaAcc=82.93% F1=0.7885 AUC=0.9129\n",
      "第 5 折最佳结果: F1=0.7885, AUC=0.8968, Epoch=9\n",
      "\n",
      "===== 开始第 6/10 折 =====\n",
      "训练集样本比例: [275  90]\n",
      "验证集样本比例: [31  9]\n",
      "[CNV] Fold 6, Epoch 50: TrAcc=88.77% VaAcc=90.00% F1=0.8746 AUC=0.9606\n",
      "第 6 折最佳结果: F1=0.9031, AUC=0.9498, Epoch=4\n",
      "\n",
      "===== 开始第 7/10 折 =====\n",
      "训练集样本比例: [276  89]\n",
      "验证集样本比例: [30 10]\n",
      "[CNV] Fold 7, Epoch 50: TrAcc=88.22% VaAcc=90.00% F1=0.8667 AUC=0.9567\n",
      "第 7 折最佳结果: F1=0.8667, AUC=0.9567, Epoch=3\n",
      "\n",
      "===== 开始第 8/10 折 =====\n",
      "训练集样本比例: [276  89]\n",
      "验证集样本比例: [30 10]\n",
      "[CNV] Fold 8, Epoch 50: TrAcc=88.22% VaAcc=85.00% F1=0.8000 AUC=0.9400\n",
      "第 8 折最佳结果: F1=0.8474, AUC=0.9200, Epoch=1\n",
      "\n",
      "===== 开始第 9/10 折 =====\n",
      "训练集样本比例: [276  89]\n",
      "验证集样本比例: [30 10]\n",
      "[CNV] Fold 9, Epoch 50: TrAcc=87.40% VaAcc=92.50% F1=0.9031 AUC=0.9200\n",
      "第 9 折最佳结果: F1=0.9333, AUC=0.9500, Epoch=49\n",
      "\n",
      "===== 开始第 10/10 折 =====\n",
      "训练集样本比例: [276  89]\n",
      "验证集样本比例: [30 10]\n",
      "[CNV] Fold 10, Epoch 50: TrAcc=89.59% VaAcc=90.00% F1=0.8566 AUC=0.9033\n",
      "第 10 折最佳结果: F1=0.9333, AUC=0.9000, Epoch=3\n",
      "\n",
      "===== 单模态 `CNV`十折交叉验证结果 =====\n",
      "平均 F1: 0.8961 ± 0.0492\n",
      "平均 AUC: 0.9457 ± 0.0287\n",
      "\n",
      "✅ 详细结果已保存至: ./fusion_out/single_CNV_cv_results.txt\n",
      "\n",
      "===== 在测试集上评估最佳模型 =====\n",
      "测试集结果 - Acc: 97.78%, F1: 0.9708, AUC: 0.9947\n"
     ]
    }
   ],
   "source": [
    "%run finetune_noct.py \\\n",
    "    --data_file ../database/cfDNA/train/multimodal_data.npz \\\n",
    "    --test_file ../database/cfDNA/test/multimodal_data.npz \\\n",
    "    --epochs 50 \\\n",
    "    --single_mod CNV \\\n",
    "    --latent_dim 256 \\\n",
    "    --latent_dim 256 \\\n",
    "    --fusion_layers 3 \\\n",
    "    --encoder_layers 3"
   ]
  },
  {
   "cell_type": "code",
   "execution_count": 4,
   "id": "5973df29",
   "metadata": {},
   "outputs": [
    {
     "name": "stdout",
     "output_type": "stream",
     "text": [
      "单模态模式: Frag\n",
      "\n",
      "===== 开始第 1/10 折 =====\n",
      "训练集样本比例: [275  89]\n",
      "验证集样本比例: [31 10]\n",
      "[Frag] Fold 1, Epoch 50: TrAcc=75.55% VaAcc=75.61% F1=0.4306 AUC=0.5258\n",
      "[Frag] Fold 1, Epoch 100: TrAcc=76.10% VaAcc=75.61% F1=0.4306 AUC=0.5161\n",
      "第 1 折最佳结果: F1=0.5275, AUC=0.5226, Epoch=60\n",
      "\n",
      "===== 开始第 2/10 折 =====\n",
      "训练集样本比例: [275  89]\n",
      "验证集样本比例: [31 10]\n",
      "[Frag] Fold 2, Epoch 50: TrAcc=75.55% VaAcc=75.61% F1=0.4306 AUC=0.5419\n",
      "[Frag] Fold 2, Epoch 100: TrAcc=74.45% VaAcc=73.17% F1=0.4225 AUC=0.5355\n",
      "第 2 折最佳结果: F1=0.5119, AUC=0.6194, Epoch=68\n",
      "\n",
      "===== 开始第 3/10 折 =====\n",
      "训练集样本比例: [275  89]\n",
      "验证集样本比例: [31 10]\n",
      "[Frag] Fold 3, Epoch 50: TrAcc=75.55% VaAcc=75.61% F1=0.4306 AUC=0.6194\n",
      "[Frag] Fold 3, Epoch 100: TrAcc=75.00% VaAcc=75.61% F1=0.4306 AUC=0.7355\n",
      "第 3 折最佳结果: F1=0.4306, AUC=0.3355, Epoch=1\n",
      "\n",
      "===== 开始第 4/10 折 =====\n",
      "训练集样本比例: [275  89]\n",
      "验证集样本比例: [31 10]\n",
      "[Frag] Fold 4, Epoch 50: TrAcc=75.55% VaAcc=75.61% F1=0.4306 AUC=0.4839\n",
      "[Frag] Fold 4, Epoch 100: TrAcc=75.27% VaAcc=75.61% F1=0.4306 AUC=0.5323\n",
      "第 4 折最佳结果: F1=0.5275, AUC=0.5452, Epoch=94\n",
      "\n",
      "===== 开始第 5/10 折 =====\n",
      "训练集样本比例: [275  89]\n",
      "验证集样本比例: [31 10]\n",
      "[Frag] Fold 5, Epoch 50: TrAcc=75.55% VaAcc=75.61% F1=0.4306 AUC=0.7387\n",
      "[Frag] Fold 5, Epoch 100: TrAcc=75.00% VaAcc=75.61% F1=0.4306 AUC=0.8129\n",
      "第 5 折最佳结果: F1=0.4306, AUC=0.7419, Epoch=1\n",
      "\n",
      "===== 开始第 6/10 折 =====\n",
      "训练集样本比例: [275  90]\n",
      "验证集样本比例: [31  9]\n",
      "[Frag] Fold 6, Epoch 50: TrAcc=75.34% VaAcc=77.50% F1=0.4366 AUC=0.5663\n",
      "[Frag] Fold 6, Epoch 100: TrAcc=75.34% VaAcc=77.50% F1=0.4366 AUC=0.6057\n",
      "第 6 折最佳结果: F1=0.4366, AUC=0.5269, Epoch=1\n",
      "\n",
      "===== 开始第 7/10 折 =====\n",
      "训练集样本比例: [276  89]\n",
      "验证集样本比例: [30 10]\n",
      "[Frag] Fold 7, Epoch 50: TrAcc=75.62% VaAcc=75.00% F1=0.4286 AUC=0.6000\n",
      "[Frag] Fold 7, Epoch 100: TrAcc=75.62% VaAcc=75.00% F1=0.4286 AUC=0.6867\n",
      "第 7 折最佳结果: F1=0.4286, AUC=0.5200, Epoch=1\n",
      "\n",
      "===== 开始第 8/10 折 =====\n",
      "训练集样本比例: [276  89]\n",
      "验证集样本比例: [30 10]\n",
      "[Frag] Fold 8, Epoch 50: TrAcc=75.62% VaAcc=75.00% F1=0.4286 AUC=0.6467\n",
      "[Frag] Fold 8, Epoch 100: TrAcc=75.34% VaAcc=75.00% F1=0.4286 AUC=0.6967\n",
      "第 8 折最佳结果: F1=0.5098, AUC=0.6867, Epoch=75\n",
      "\n",
      "===== 开始第 9/10 折 =====\n",
      "训练集样本比例: [276  89]\n",
      "验证集样本比例: [30 10]\n",
      "[Frag] Fold 9, Epoch 50: TrAcc=75.62% VaAcc=75.00% F1=0.4286 AUC=0.5600\n",
      "[Frag] Fold 9, Epoch 100: TrAcc=75.07% VaAcc=75.00% F1=0.4286 AUC=0.6200\n",
      "第 9 折最佳结果: F1=0.6094, AUC=0.6267, Epoch=79\n",
      "\n",
      "===== 开始第 10/10 折 =====\n",
      "训练集样本比例: [276  89]\n",
      "验证集样本比例: [30 10]\n",
      "[Frag] Fold 10, Epoch 50: TrAcc=75.62% VaAcc=75.00% F1=0.4286 AUC=0.6933\n",
      "[Frag] Fold 10, Epoch 100: TrAcc=75.62% VaAcc=75.00% F1=0.4286 AUC=0.7633\n",
      "第 10 折最佳结果: F1=0.4286, AUC=0.6933, Epoch=1\n",
      "\n",
      "===== 单模态 `Frag`十折交叉验证结果 =====\n",
      "平均 F1: 0.4841 ± 0.0592\n",
      "平均 AUC: 0.5818 ± 0.1117\n",
      "\n",
      "✅ 详细结果已保存至: ./fusion_out/single_Frag_cv_results.txt\n",
      "\n",
      "===== 在测试集上评估最佳模型 =====\n",
      "测试集结果 - Acc: 75.56%, F1: 0.4304, AUC: 0.1551\n"
     ]
    }
   ],
   "source": [
    "%run finetune_noct.py \\\n",
    "    --data_file ../database/cfDNA/train/multimodal_data.npz \\\n",
    "    --test_file ../database/cfDNA/test/multimodal_data.npz \\\n",
    "    --epochs 100 \\\n",
    "    --single_mod Frag"
   ]
  },
  {
   "cell_type": "code",
   "execution_count": null,
   "id": "77e8fa4c",
   "metadata": {},
   "outputs": [
    {
     "name": "stderr",
     "output_type": "stream",
     "text": [
      "/home/maweicheng/multimodel/finetune_noct.py:66: FutureWarning: You are using `torch.load` with `weights_only=False` (the current default value), which uses the default pickle module implicitly. It is possible to construct malicious pickle data which will execute arbitrary code during unpickling (See https://github.com/pytorch/pytorch/blob/main/SECURITY.md#untrusted-models for more details). In a future release, the default value for `weights_only` will be flipped to `True`. This limits the functions that could be executed during unpickling. Arbitrary objects will no longer be allowed to be loaded via this mode unless they are explicitly allowlisted by the user via `torch.serialization.add_safe_globals`. We recommend you start setting `weights_only=True` for any use case where you don't have full control of the loaded file. Please open an issue on GitHub for any issues related to this experimental feature.\n",
      "  ckpt = torch.load(os.path.join(args.checkpoint_dir, f\"{args.single_mod}_best.pth\"),\n"
     ]
    },
    {
     "name": "stdout",
     "output_type": "stream",
     "text": [
      "[PFE] Epo 20: TrAcc=75.56% VaAcc=75.56% F1=0.4304\n",
      "[PFE] Epo 40: TrAcc=75.56% VaAcc=75.56% F1=0.4304\n",
      "✅ 单模态 `PFE` 最佳 F1: 0.4304\n"
     ]
    }
   ],
   "source": [
    "%run finetune_noct.py \\\n",
    "    --data_file ../database/cfDNA/train/multimodal_data.npz \\\n",
    "    --test_file ../database/cfDNA/test/multimodal_data.npz \\\n",
    "    --epochs 100 \\\n",
    "    --single_mod PFE"
   ]
  },
  {
   "cell_type": "code",
   "execution_count": null,
   "id": "3ccb2ded",
   "metadata": {},
   "outputs": [
    {
     "name": "stderr",
     "output_type": "stream",
     "text": [
      "/home/maweicheng/multimodel/finetune_noct.py:66: FutureWarning: You are using `torch.load` with `weights_only=False` (the current default value), which uses the default pickle module implicitly. It is possible to construct malicious pickle data which will execute arbitrary code during unpickling (See https://github.com/pytorch/pytorch/blob/main/SECURITY.md#untrusted-models for more details). In a future release, the default value for `weights_only` will be flipped to `True`. This limits the functions that could be executed during unpickling. Arbitrary objects will no longer be allowed to be loaded via this mode unless they are explicitly allowlisted by the user via `torch.serialization.add_safe_globals`. We recommend you start setting `weights_only=True` for any use case where you don't have full control of the loaded file. Please open an issue on GitHub for any issues related to this experimental feature.\n",
      "  ckpt = torch.load(os.path.join(args.checkpoint_dir, f\"{args.single_mod}_best.pth\"),\n"
     ]
    },
    {
     "name": "stdout",
     "output_type": "stream",
     "text": [
      "[NDR] Epo 20: TrAcc=78.10% VaAcc=80.00% F1=0.6118\n",
      "[NDR] Epo 40: TrAcc=80.63% VaAcc=78.52% F1=0.5989\n",
      "✅ 单模态 `NDR` 最佳 F1: 0.7300\n"
     ]
    }
   ],
   "source": [
    "%run finetune_noct.py \\\n",
    "    --data_file ../database/cfDNA/train/multimodal_data.npz \\\n",
    "    --test_file ../database/cfDNA/test/multimodal_data.npz \\\n",
    "    --epochs 100 \\\n",
    "    --single_mod NDR"
   ]
  },
  {
   "cell_type": "code",
   "execution_count": null,
   "id": "a6594a7d",
   "metadata": {},
   "outputs": [
    {
     "name": "stderr",
     "output_type": "stream",
     "text": [
      "/home/maweicheng/multimodel/finetune_noct.py:66: FutureWarning: You are using `torch.load` with `weights_only=False` (the current default value), which uses the default pickle module implicitly. It is possible to construct malicious pickle data which will execute arbitrary code during unpickling (See https://github.com/pytorch/pytorch/blob/main/SECURITY.md#untrusted-models for more details). In a future release, the default value for `weights_only` will be flipped to `True`. This limits the functions that could be executed during unpickling. Arbitrary objects will no longer be allowed to be loaded via this mode unless they are explicitly allowlisted by the user via `torch.serialization.add_safe_globals`. We recommend you start setting `weights_only=True` for any use case where you don't have full control of the loaded file. Please open an issue on GitHub for any issues related to this experimental feature.\n",
      "  ckpt = torch.load(os.path.join(args.checkpoint_dir, f\"{args.single_mod}_best.pth\"),\n"
     ]
    },
    {
     "name": "stdout",
     "output_type": "stream",
     "text": [
      "[NDR2K] Epo 20: TrAcc=74.60% VaAcc=78.52% F1=0.5459\n",
      "[NDR2K] Epo 40: TrAcc=79.37% VaAcc=78.52% F1=0.5654\n",
      "✅ 单模态 `NDR2K` 最佳 F1: 0.6667\n"
     ]
    }
   ],
   "source": [
    "%run finetune_noct.py \\\n",
    "    --data_file ../database/cfDNA/train/multimodal_data.npz \\\n",
    "    --test_file ../database/cfDNA/test/multimodal_data.npz \\\n",
    "    --epochs 100 \\\n",
    "    --single_mod NDR2K"
   ]
  }
 ],
 "metadata": {
  "kernelspec": {
   "display_name": "dl",
   "language": "python",
   "name": "python3"
  },
  "language_info": {
   "codemirror_mode": {
    "name": "ipython",
    "version": 3
   },
   "file_extension": ".py",
   "mimetype": "text/x-python",
   "name": "python",
   "nbconvert_exporter": "python",
   "pygments_lexer": "ipython3",
   "version": "3.10.16"
  }
 },
 "nbformat": 4,
 "nbformat_minor": 5
}
