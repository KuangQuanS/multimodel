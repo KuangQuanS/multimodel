{
 "cells": [
  {
   "cell_type": "code",
   "execution_count": 19,
   "id": "be8dc6e3",
   "metadata": {},
   "outputs": [
    {
     "name": "stdout",
     "output_type": "stream",
     "text": [
      "保存完毕： (450, 19434) (450,)\n"
     ]
    }
   ],
   "source": [
    "import pandas as pd\n",
    "import numpy as np\n",
    "modality = \"NDR2K\" # Frag CNV PFE NDR NDR2K \n",
    "\n",
    "# 1. 读取 CSV\n",
    "# 如果你的 CSV 第一列是样本名，就加上 index_col=0；否则去掉这行\n",
    "df_normal = pd.read_csv(f\"../database/cfDNA/normal/healthy_{modality}.csv\", index_col=0)   # shape = (n_normal, d)\n",
    "df_cancer = pd.read_csv(f\"../database/cfDNA/cancer/cancer_{modality}.csv\", index_col=0)   # shape = (n_cancer, d)\n",
    "\n",
    "# 2. 转为 numpy 数组\n",
    "X_normal = df_normal.values    # dtype=float32 或 float64\n",
    "X_cancer = df_cancer.values\n",
    "\n",
    "# 3. 构造标签\n",
    "y_normal = np.zeros(X_normal.shape[0], dtype=np.int64)   # 正常用 0\n",
    "y_cancer = np.ones (X_cancer.shape[0], dtype=np.int64)   # 癌症用 1\n",
    "\n",
    "# 4. 合并\n",
    "X = np.vstack([X_normal, X_cancer])      # shape = (n_total, d)\n",
    "y = np.concatenate([y_normal, y_cancer]) # shape = (n_total,)\n",
    "\n",
    "# 5. 保存为 npz\n",
    "# 会在当前目录生成 data.npz，里面包含两个数组：X, y\n",
    "np.savez_compressed(f\"../database/cfDNA/{modality}.npz\", X=X, y=y)\n",
    "print(\"保存完毕：\", X.shape, y.shape)"
   ]
  }
 ],
 "metadata": {
  "kernelspec": {
   "display_name": "dl",
   "language": "python",
   "name": "python3"
  },
  "language_info": {
   "codemirror_mode": {
    "name": "ipython",
    "version": 3
   },
   "file_extension": ".py",
   "mimetype": "text/x-python",
   "name": "python",
   "nbconvert_exporter": "python",
   "pygments_lexer": "ipython3",
   "version": "3.10.16"
  }
 },
 "nbformat": 4,
 "nbformat_minor": 5
}
