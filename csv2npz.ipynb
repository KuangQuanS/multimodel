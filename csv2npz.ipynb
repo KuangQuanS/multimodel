{
 "cells": [
  {
   "cell_type": "code",
   "execution_count": 20,
   "id": "be8dc6e3",
   "metadata": {},
   "outputs": [
    {
     "name": "stdout",
     "output_type": "stream",
     "text": [
      "[Frag] Completed: X.shape=(450, 888), y.shape=(450,)\n",
      "[CNV] Completed: X.shape=(450, 5760), y.shape=(450,)\n",
      "[PFE] Completed: X.shape=(450, 19415), y.shape=(450,)\n",
      "[NDR] Completed: X.shape=(450, 19434), y.shape=(450,)\n",
      "[NDR2K] Completed: X.shape=(450, 19434), y.shape=(450,)\n"
     ]
    }
   ],
   "source": [
    "import os\n",
    "import pandas as pd\n",
    "import numpy as np\n",
    "\n",
    "modalities = [\"Frag\", \"CNV\", \"PFE\", \"NDR\", \"NDR2K\"]\n",
    "base_dir = \"../database/cfDNA\"\n",
    "out_dir = base_dir\n",
    "os.makedirs(out_dir, exist_ok=True)\n",
    "\n",
    "for mod in modalities:\n",
    "    df_norm = pd.read_csv(os.path.join(base_dir, \"normal\", f\"healthy_{mod}.csv\"), index_col=0)\n",
    "    df_can  = pd.read_csv(os.path.join(base_dir, \"cancer\",  f\"cancer_{mod}.csv\"), index_col=0)\n",
    "\n",
    "    # —— 在这里做缺失值填充 —— \n",
    "    df_norm = df_norm.fillna(df_norm.mean())   # 用各列均值填充\n",
    "    df_can  = df_can.fillna(df_can.mean())\n",
    "\n",
    "    X_norm = df_norm.values.astype(np.float32)\n",
    "    X_can  = df_can.values.astype(np.float32)\n",
    "    y_norm = np.zeros(X_norm.shape[0], dtype=np.int64)\n",
    "    y_can  = np.ones (X_can.shape[0], dtype=np.int64)\n",
    "\n",
    "    X = np.vstack([X_norm, X_can])\n",
    "    y = np.concatenate([y_norm, y_can])\n",
    "    np.savez_compressed(os.path.join(out_dir, f\"{mod}.npz\"), X=X, y=y)\n",
    "    print(f\"[{mod}] Completed: X.shape={X.shape}, y.shape={y.shape}\")\n"
   ]
  }
 ],
 "metadata": {
  "kernelspec": {
   "display_name": "dl",
   "language": "python",
   "name": "python3"
  },
  "language_info": {
   "codemirror_mode": {
    "name": "ipython",
    "version": 3
   },
   "file_extension": ".py",
   "mimetype": "text/x-python",
   "name": "python",
   "nbconvert_exporter": "python",
   "pygments_lexer": "ipython3",
   "version": "3.10.16"
  }
 },
 "nbformat": 4,
 "nbformat_minor": 5
}
