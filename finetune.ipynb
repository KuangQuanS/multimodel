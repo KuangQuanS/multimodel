{
 "cells": [
  {
   "cell_type": "markdown",
   "id": "2a9e4c70",
   "metadata": {},
   "source": [
    "### 多模态分类训练（重构版）\n",
    "使用模块化代码结构，无预训练cfDNA编码器"
   ]
  },
  {
   "cell_type": "markdown",
   "id": "d4342b98",
   "metadata": {},
   "source": [
    "#### 亚型分类"
   ]
  },
  {
   "cell_type": "code",
   "execution_count": null,
   "id": "c608b657",
   "metadata": {},
   "outputs": [],
   "source": [
    "%run finetune_v2.py \\\n",
    "    --modalities Frag CNV PFE NDR NDR2K \\\n",
    "    --data_file /home/maweicheng/database/cfDNA/subtype/train.npz \\\n",
    "    --test_file /home/maweicheng/database/cfDNA/subtype/test.npz \\\n",
    "    --epochs 50 \\\n",
    "    --batch_size 8 \\\n",
    "    --cross_val \\\n",
    "    --output_dir ./results/subtype_results_v2"
   ]
  },
  {
   "cell_type": "markdown",
   "id": "3ba1a6e4",
   "metadata": {},
   "source": [
    "#### 良性vs恶性分类"
   ]
  },
  {
   "cell_type": "code",
   "execution_count": null,
   "id": "03d70a19",
   "metadata": {},
   "outputs": [],
   "source": [
    "%run finetune_v2.py \\\n",
    "    --modalities Frag CNV PFE NDR NDR2K \\\n",
    "    --data_file /home/maweicheng/database/cfDNA/cancer_and_benign/train.npz \\\n",
    "    --test_file /home/maweicheng/database/cfDNA/cancer_and_benign/test.npz \\\n",
    "    --epochs 10 \\\n",
    "    --batch_size 4 \\\n",
    "    --cross_val \\\n",
    "    --output_dir ./results/cancer_benign_results_v2"
   ]
  },
  {
   "cell_type": "markdown",
   "id": "d2a61662",
   "metadata": {},
   "source": [
    "#### 癌症vs正常分类"
   ]
  },
  {
   "cell_type": "code",
   "execution_count": null,
   "id": "7653286a",
   "metadata": {},
   "outputs": [],
   "source": [
    "%run finetune_v2.py \\\n",
    "    --modalities Frag PFE NDR NDR2K \\\n",
    "    --data_file /home/maweicheng/database/cancer_normal/train.npz \\\n",
    "    --test_file /home/maweicheng/database/cancer_normal/test.npz \\\n",
    "    --epochs 10 \\\n",
    "    --batch_size 64 \\\n",
    "    --lr 3e-4 \\\n",
    "    --cross_val \\\n",
    "    --output_dir ./results/cancer_normal_results_v2/"
   ]
  }
 ],
 "metadata": {
  "kernelspec": {
   "display_name": "dl",
   "language": "python",
   "name": "python3"
  },
  "language_info": {
   "codemirror_mode": {
    "name": "ipython",
    "version": 3
   },
   "file_extension": ".py",
   "mimetype": "text/x-python",
   "name": "python",
   "nbconvert_exporter": "python",
   "pygments_lexer": "ipython3",
   "version": "3.10.16"
  }
 },
 "nbformat": 4,
 "nbformat_minor": 5
}
