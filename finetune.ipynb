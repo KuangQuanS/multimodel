{
 "cells": [
  {
   "cell_type": "markdown",
   "id": "d4342b98",
   "metadata": {},
   "source": [
    "# 多模态分类实验\n",
    "\n",
    "## 亚型分类"
   ]
  },
  {
   "cell_type": "markdown",
   "id": "ef317233",
   "metadata": {},
   "source": [
    "#### 基础配置（无特征选择）"
   ]
  },
  {
   "cell_type": "code",
   "execution_count": null,
   "id": "c608b657",
   "metadata": {},
   "outputs": [
    {
     "name": "stderr",
     "output_type": "stream",
     "text": [
      "11:10:50 - INFO - 随机种子设置为: 42\n",
      "11:10:50 - INFO - 使用设备: cuda\n",
      "11:10:50 - INFO - 使用模态: ['Frag', 'PFE', 'NDR', 'NDR2K']\n",
      "11:10:50 - INFO - 使用设备: cuda\n",
      "11:10:50 - INFO - 使用模态: ['Frag', 'PFE', 'NDR', 'NDR2K']\n"
     ]
    },
    {
     "name": "stderr",
     "output_type": "stream",
     "text": [
      "11:10:51 - INFO - 加载训练数据: /home/maweicheng/database/cancer_subtype/train.npz, 样本数: 161\n",
      "11:10:51 - INFO - 标签分布: (array([0, 1]), array([ 21, 140]))\n",
      "11:10:51 - INFO - 运行交叉验证\n",
      "11:10:51 - INFO - 开始10折交叉验证\n",
      "11:10:51 - INFO - 结果保存到: ./results/cancer_subtype/cv_results_20251014_111051\n",
      "11:10:51 - INFO - Frag特征维度: 888\n",
      "11:10:51 - INFO - PFE特征维度: 19415\n",
      "11:10:51 - INFO - NDR特征维度: 19434\n",
      "11:10:51 - INFO - 标签分布: (array([0, 1]), array([ 21, 140]))\n",
      "11:10:51 - INFO - 运行交叉验证\n",
      "11:10:51 - INFO - 开始10折交叉验证\n",
      "11:10:51 - INFO - 结果保存到: ./results/cancer_subtype/cv_results_20251014_111051\n",
      "11:10:51 - INFO - Frag特征维度: 888\n",
      "11:10:51 - INFO - PFE特征维度: 19415\n",
      "11:10:51 - INFO - NDR特征维度: 19434\n",
      "11:10:51 - INFO - NDR2K特征维度: 19434\n",
      "11:10:51 - INFO - \n",
      "=============== Fold 1/10 ===============\n",
      "11:10:51 - INFO - NDR2K特征维度: 19434\n",
      "11:10:51 - INFO - \n",
      "=============== Fold 1/10 ===============\n",
      "/home/maweicheng/multimodel/training_utils.py:545: FutureWarning: You are using `torch.load` with `weights_only=False` (the current default value), which uses the default pickle module implicitly. It is possible to construct malicious pickle data which will execute arbitrary code during unpickling (See https://github.com/pytorch/pytorch/blob/main/SECURITY.md#untrusted-models for more details). In a future release, the default value for `weights_only` will be flipped to `True`. This limits the functions that could be executed during unpickling. Arbitrary objects will no longer be allowed to be loaded via this mode unless they are explicitly allowlisted by the user via `torch.serialization.add_safe_globals`. We recommend you start setting `weights_only=True` for any use case where you don't have full control of the loaded file. Please open an issue on GitHub for any issues related to this experimental feature.\n",
      "  checkpoint = torch.load(ct_model_path, map_location=device)\n",
      "/home/maweicheng/multimodel/training_utils.py:545: FutureWarning: You are using `torch.load` with `weights_only=False` (the current default value), which uses the default pickle module implicitly. It is possible to construct malicious pickle data which will execute arbitrary code during unpickling (See https://github.com/pytorch/pytorch/blob/main/SECURITY.md#untrusted-models for more details). In a future release, the default value for `weights_only` will be flipped to `True`. This limits the functions that could be executed during unpickling. Arbitrary objects will no longer be allowed to be loaded via this mode unless they are explicitly allowlisted by the user via `torch.serialization.add_safe_globals`. We recommend you start setting `weights_only=True` for any use case where you don't have full control of the loaded file. Please open an issue on GitHub for any issues related to this experimental feature.\n",
      "  checkpoint = torch.load(ct_model_path, map_location=device)\n"
     ]
    },
    {
     "name": "stdout",
     "output_type": "stream",
     "text": [
      "Class distribution: {1: 126, 0: 18}\n",
      "Auto-calculated class weights: ['4.000', '0.571']\n",
      "Using weighted CrossEntropyLoss with weights: ['4.000', '0.571']\n"
     ]
    },
    {
     "name": "stderr",
     "output_type": "stream",
     "text": [
      "11:11:59 - INFO - Fold 1 完成 - Acc: 0.8235, AUC: 0.7857, F1: 0.8966, Train_Loss: 0.0443, Val_Loss: 0.6047                       \n",
      "11:11:59 - INFO - Fold 1 完成 - Acc: 0.8235, AUC: 0.7857, F1: 0.8966, Train_Loss: 0.0443, Val_Loss: 0.6047                       \n"
     ]
    },
    {
     "name": "stdout",
     "output_type": "stream",
     "text": [
      "📊 ROC曲线已保存: ./results/cancer_subtype/cv_results_20251014_111051/roc_curve_fold_1.png\n"
     ]
    },
    {
     "name": "stderr",
     "output_type": "stream",
     "text": [
      "11:12:00 - INFO - \n",
      "=============== Fold 2/10 ===============\n"
     ]
    },
    {
     "name": "stdout",
     "output_type": "stream",
     "text": [
      "📊 训练曲线已保存: ./results/cancer_subtype/cv_results_20251014_111051/results/training_curves_fold_1.png\n"
     ]
    },
    {
     "name": "stderr",
     "output_type": "stream",
     "text": [
      "/home/maweicheng/multimodel/training_utils.py:545: FutureWarning: You are using `torch.load` with `weights_only=False` (the current default value), which uses the default pickle module implicitly. It is possible to construct malicious pickle data which will execute arbitrary code during unpickling (See https://github.com/pytorch/pytorch/blob/main/SECURITY.md#untrusted-models for more details). In a future release, the default value for `weights_only` will be flipped to `True`. This limits the functions that could be executed during unpickling. Arbitrary objects will no longer be allowed to be loaded via this mode unless they are explicitly allowlisted by the user via `torch.serialization.add_safe_globals`. We recommend you start setting `weights_only=True` for any use case where you don't have full control of the loaded file. Please open an issue on GitHub for any issues related to this experimental feature.\n",
      "  checkpoint = torch.load(ct_model_path, map_location=device)\n"
     ]
    },
    {
     "name": "stdout",
     "output_type": "stream",
     "text": [
      "Class distribution: {0: 19, 1: 126}\n",
      "Auto-calculated class weights: ['3.816', '0.575']\n",
      "Using weighted CrossEntropyLoss with weights: ['3.816', '0.575']\n"
     ]
    },
    {
     "name": "stderr",
     "output_type": "stream",
     "text": [
      "11:13:11 - INFO - Fold 2 完成 - Acc: 0.9375, AUC: 1.0000, F1: 0.9655, Train_Loss: 0.0657, Val_Loss: 0.3568                       \n",
      "11:13:11 - INFO - Fold 2 完成 - Acc: 0.9375, AUC: 1.0000, F1: 0.9655, Train_Loss: 0.0657, Val_Loss: 0.3568                       \n"
     ]
    },
    {
     "name": "stdout",
     "output_type": "stream",
     "text": [
      "📊 ROC曲线已保存: ./results/cancer_subtype/cv_results_20251014_111051/roc_curve_fold_2.png\n"
     ]
    },
    {
     "name": "stderr",
     "output_type": "stream",
     "text": [
      "11:13:12 - INFO - \n",
      "=============== Fold 3/10 ===============\n"
     ]
    },
    {
     "name": "stdout",
     "output_type": "stream",
     "text": [
      "📊 训练曲线已保存: ./results/cancer_subtype/cv_results_20251014_111051/results/training_curves_fold_2.png\n"
     ]
    },
    {
     "name": "stderr",
     "output_type": "stream",
     "text": [
      "/home/maweicheng/multimodel/training_utils.py:545: FutureWarning: You are using `torch.load` with `weights_only=False` (the current default value), which uses the default pickle module implicitly. It is possible to construct malicious pickle data which will execute arbitrary code during unpickling (See https://github.com/pytorch/pytorch/blob/main/SECURITY.md#untrusted-models for more details). In a future release, the default value for `weights_only` will be flipped to `True`. This limits the functions that could be executed during unpickling. Arbitrary objects will no longer be allowed to be loaded via this mode unless they are explicitly allowlisted by the user via `torch.serialization.add_safe_globals`. We recommend you start setting `weights_only=True` for any use case where you don't have full control of the loaded file. Please open an issue on GitHub for any issues related to this experimental feature.\n",
      "  checkpoint = torch.load(ct_model_path, map_location=device)\n"
     ]
    },
    {
     "name": "stdout",
     "output_type": "stream",
     "text": [
      "Class distribution: {1: 126, 0: 19}\n",
      "Auto-calculated class weights: ['3.816', '0.575']\n",
      "Using weighted CrossEntropyLoss with weights: ['3.816', '0.575']\n"
     ]
    },
    {
     "name": "stderr",
     "output_type": "stream",
     "text": [
      "11:14:22 - INFO - Fold 3 完成 - Acc: 0.8125, AUC: 0.9286, F1: 0.8889, Train_Loss: 0.0994, Val_Loss: 0.5334                       \n",
      "11:14:22 - INFO - Fold 3 完成 - Acc: 0.8125, AUC: 0.9286, F1: 0.8889, Train_Loss: 0.0994, Val_Loss: 0.5334                       \n"
     ]
    },
    {
     "name": "stdout",
     "output_type": "stream",
     "text": [
      "📊 ROC曲线已保存: ./results/cancer_subtype/cv_results_20251014_111051/roc_curve_fold_3.png\n"
     ]
    },
    {
     "name": "stderr",
     "output_type": "stream",
     "text": [
      "11:14:23 - INFO - \n",
      "=============== Fold 4/10 ===============\n"
     ]
    },
    {
     "name": "stdout",
     "output_type": "stream",
     "text": [
      "📊 训练曲线已保存: ./results/cancer_subtype/cv_results_20251014_111051/results/training_curves_fold_3.png\n"
     ]
    },
    {
     "name": "stderr",
     "output_type": "stream",
     "text": [
      "/home/maweicheng/multimodel/training_utils.py:545: FutureWarning: You are using `torch.load` with `weights_only=False` (the current default value), which uses the default pickle module implicitly. It is possible to construct malicious pickle data which will execute arbitrary code during unpickling (See https://github.com/pytorch/pytorch/blob/main/SECURITY.md#untrusted-models for more details). In a future release, the default value for `weights_only` will be flipped to `True`. This limits the functions that could be executed during unpickling. Arbitrary objects will no longer be allowed to be loaded via this mode unless they are explicitly allowlisted by the user via `torch.serialization.add_safe_globals`. We recommend you start setting `weights_only=True` for any use case where you don't have full control of the loaded file. Please open an issue on GitHub for any issues related to this experimental feature.\n",
      "  checkpoint = torch.load(ct_model_path, map_location=device)\n"
     ]
    },
    {
     "name": "stdout",
     "output_type": "stream",
     "text": [
      "Class distribution: {1: 126, 0: 19}\n",
      "Auto-calculated class weights: ['3.816', '0.575']\n",
      "Using weighted CrossEntropyLoss with weights: ['3.816', '0.575']\n"
     ]
    },
    {
     "name": "stderr",
     "output_type": "stream",
     "text": [
      "11:15:32 - INFO - Fold 4 完成 - Acc: 0.8750, AUC: 0.7857, F1: 0.9286, Train_Loss: 0.1275, Val_Loss: 0.5005                       \n",
      "11:15:32 - INFO - Fold 4 完成 - Acc: 0.8750, AUC: 0.7857, F1: 0.9286, Train_Loss: 0.1275, Val_Loss: 0.5005                       \n"
     ]
    },
    {
     "name": "stdout",
     "output_type": "stream",
     "text": [
      "📊 ROC曲线已保存: ./results/cancer_subtype/cv_results_20251014_111051/roc_curve_fold_4.png\n"
     ]
    },
    {
     "name": "stderr",
     "output_type": "stream",
     "text": [
      "11:15:33 - INFO - \n",
      "=============== Fold 5/10 ===============\n"
     ]
    },
    {
     "name": "stdout",
     "output_type": "stream",
     "text": [
      "📊 训练曲线已保存: ./results/cancer_subtype/cv_results_20251014_111051/results/training_curves_fold_4.png\n"
     ]
    },
    {
     "name": "stderr",
     "output_type": "stream",
     "text": [
      "/home/maweicheng/multimodel/training_utils.py:545: FutureWarning: You are using `torch.load` with `weights_only=False` (the current default value), which uses the default pickle module implicitly. It is possible to construct malicious pickle data which will execute arbitrary code during unpickling (See https://github.com/pytorch/pytorch/blob/main/SECURITY.md#untrusted-models for more details). In a future release, the default value for `weights_only` will be flipped to `True`. This limits the functions that could be executed during unpickling. Arbitrary objects will no longer be allowed to be loaded via this mode unless they are explicitly allowlisted by the user via `torch.serialization.add_safe_globals`. We recommend you start setting `weights_only=True` for any use case where you don't have full control of the loaded file. Please open an issue on GitHub for any issues related to this experimental feature.\n",
      "  checkpoint = torch.load(ct_model_path, map_location=device)\n"
     ]
    },
    {
     "name": "stdout",
     "output_type": "stream",
     "text": [
      "Class distribution: {1: 126, 0: 19}\n",
      "Auto-calculated class weights: ['3.816', '0.575']\n",
      "Using weighted CrossEntropyLoss with weights: ['3.816', '0.575']\n"
     ]
    },
    {
     "name": "stderr",
     "output_type": "stream",
     "text": [
      "11:16:42 - INFO - Fold 5 完成 - Acc: 0.8750, AUC: 0.9286, F1: 0.9286, Train_Loss: 0.0752, Val_Loss: 0.3437                       \n",
      "11:16:42 - INFO - Fold 5 完成 - Acc: 0.8750, AUC: 0.9286, F1: 0.9286, Train_Loss: 0.0752, Val_Loss: 0.3437                       \n"
     ]
    },
    {
     "name": "stdout",
     "output_type": "stream",
     "text": [
      "📊 ROC曲线已保存: ./results/cancer_subtype/cv_results_20251014_111051/roc_curve_fold_5.png\n"
     ]
    },
    {
     "name": "stderr",
     "output_type": "stream",
     "text": [
      "11:16:43 - INFO - \n",
      "=============== Fold 6/10 ===============\n"
     ]
    },
    {
     "name": "stdout",
     "output_type": "stream",
     "text": [
      "📊 训练曲线已保存: ./results/cancer_subtype/cv_results_20251014_111051/results/training_curves_fold_5.png\n"
     ]
    },
    {
     "name": "stderr",
     "output_type": "stream",
     "text": [
      "/home/maweicheng/multimodel/training_utils.py:545: FutureWarning: You are using `torch.load` with `weights_only=False` (the current default value), which uses the default pickle module implicitly. It is possible to construct malicious pickle data which will execute arbitrary code during unpickling (See https://github.com/pytorch/pytorch/blob/main/SECURITY.md#untrusted-models for more details). In a future release, the default value for `weights_only` will be flipped to `True`. This limits the functions that could be executed during unpickling. Arbitrary objects will no longer be allowed to be loaded via this mode unless they are explicitly allowlisted by the user via `torch.serialization.add_safe_globals`. We recommend you start setting `weights_only=True` for any use case where you don't have full control of the loaded file. Please open an issue on GitHub for any issues related to this experimental feature.\n",
      "  checkpoint = torch.load(ct_model_path, map_location=device)\n"
     ]
    },
    {
     "name": "stdout",
     "output_type": "stream",
     "text": [
      "Class distribution: {1: 126, 0: 19}\n",
      "Auto-calculated class weights: ['3.816', '0.575']\n",
      "Using weighted CrossEntropyLoss with weights: ['3.816', '0.575']\n"
     ]
    },
    {
     "name": "stderr",
     "output_type": "stream",
     "text": [
      "11:17:52 - INFO - Fold 6 完成 - Acc: 0.7500, AUC: 0.6786, F1: 0.8571, Train_Loss: 0.1405, Val_Loss: 0.6891                       \n",
      "11:17:52 - INFO - Fold 6 完成 - Acc: 0.7500, AUC: 0.6786, F1: 0.8571, Train_Loss: 0.1405, Val_Loss: 0.6891                       \n"
     ]
    },
    {
     "name": "stdout",
     "output_type": "stream",
     "text": [
      "📊 ROC曲线已保存: ./results/cancer_subtype/cv_results_20251014_111051/roc_curve_fold_6.png\n"
     ]
    },
    {
     "name": "stderr",
     "output_type": "stream",
     "text": [
      "11:17:54 - INFO - \n",
      "=============== Fold 7/10 ===============\n"
     ]
    },
    {
     "name": "stdout",
     "output_type": "stream",
     "text": [
      "📊 训练曲线已保存: ./results/cancer_subtype/cv_results_20251014_111051/results/training_curves_fold_6.png\n"
     ]
    },
    {
     "name": "stderr",
     "output_type": "stream",
     "text": [
      "/home/maweicheng/multimodel/training_utils.py:545: FutureWarning: You are using `torch.load` with `weights_only=False` (the current default value), which uses the default pickle module implicitly. It is possible to construct malicious pickle data which will execute arbitrary code during unpickling (See https://github.com/pytorch/pytorch/blob/main/SECURITY.md#untrusted-models for more details). In a future release, the default value for `weights_only` will be flipped to `True`. This limits the functions that could be executed during unpickling. Arbitrary objects will no longer be allowed to be loaded via this mode unless they are explicitly allowlisted by the user via `torch.serialization.add_safe_globals`. We recommend you start setting `weights_only=True` for any use case where you don't have full control of the loaded file. Please open an issue on GitHub for any issues related to this experimental feature.\n",
      "  checkpoint = torch.load(ct_model_path, map_location=device)\n"
     ]
    },
    {
     "name": "stdout",
     "output_type": "stream",
     "text": [
      "Class distribution: {1: 126, 0: 19}\n",
      "Auto-calculated class weights: ['3.816', '0.575']\n",
      "Using weighted CrossEntropyLoss with weights: ['3.816', '0.575']\n"
     ]
    },
    {
     "name": "stderr",
     "output_type": "stream",
     "text": [
      "11:19:03 - INFO - Fold 7 完成 - Acc: 0.8750, AUC: 0.7500, F1: 0.9286, Train_Loss: 0.0596, Val_Loss: 0.5337                       \n",
      "11:19:03 - INFO - Fold 7 完成 - Acc: 0.8750, AUC: 0.7500, F1: 0.9286, Train_Loss: 0.0596, Val_Loss: 0.5337                       \n"
     ]
    },
    {
     "name": "stdout",
     "output_type": "stream",
     "text": [
      "📊 ROC曲线已保存: ./results/cancer_subtype/cv_results_20251014_111051/roc_curve_fold_7.png\n"
     ]
    },
    {
     "name": "stderr",
     "output_type": "stream",
     "text": [
      "11:19:04 - INFO - \n",
      "=============== Fold 8/10 ===============\n"
     ]
    },
    {
     "name": "stdout",
     "output_type": "stream",
     "text": [
      "📊 训练曲线已保存: ./results/cancer_subtype/cv_results_20251014_111051/results/training_curves_fold_7.png\n"
     ]
    },
    {
     "name": "stderr",
     "output_type": "stream",
     "text": [
      "/home/maweicheng/multimodel/training_utils.py:545: FutureWarning: You are using `torch.load` with `weights_only=False` (the current default value), which uses the default pickle module implicitly. It is possible to construct malicious pickle data which will execute arbitrary code during unpickling (See https://github.com/pytorch/pytorch/blob/main/SECURITY.md#untrusted-models for more details). In a future release, the default value for `weights_only` will be flipped to `True`. This limits the functions that could be executed during unpickling. Arbitrary objects will no longer be allowed to be loaded via this mode unless they are explicitly allowlisted by the user via `torch.serialization.add_safe_globals`. We recommend you start setting `weights_only=True` for any use case where you don't have full control of the loaded file. Please open an issue on GitHub for any issues related to this experimental feature.\n",
      "  checkpoint = torch.load(ct_model_path, map_location=device)\n"
     ]
    },
    {
     "name": "stdout",
     "output_type": "stream",
     "text": [
      "Class distribution: {1: 126, 0: 19}\n",
      "Auto-calculated class weights: ['3.816', '0.575']\n",
      "Using weighted CrossEntropyLoss with weights: ['3.816', '0.575']\n"
     ]
    },
    {
     "name": "stderr",
     "output_type": "stream",
     "text": [
      "11:20:13 - INFO - Fold 8 完成 - Acc: 1.0000, AUC: 1.0000, F1: 1.0000, Train_Loss: 0.0550, Val_Loss: 0.3290                       \n",
      "11:20:13 - INFO - Fold 8 完成 - Acc: 1.0000, AUC: 1.0000, F1: 1.0000, Train_Loss: 0.0550, Val_Loss: 0.3290                       \n"
     ]
    },
    {
     "name": "stdout",
     "output_type": "stream",
     "text": [
      "📊 ROC曲线已保存: ./results/cancer_subtype/cv_results_20251014_111051/roc_curve_fold_8.png\n"
     ]
    },
    {
     "name": "stderr",
     "output_type": "stream",
     "text": [
      "11:20:14 - INFO - \n",
      "=============== Fold 9/10 ===============\n"
     ]
    },
    {
     "name": "stdout",
     "output_type": "stream",
     "text": [
      "📊 训练曲线已保存: ./results/cancer_subtype/cv_results_20251014_111051/results/training_curves_fold_8.png\n"
     ]
    },
    {
     "name": "stderr",
     "output_type": "stream",
     "text": [
      "/home/maweicheng/multimodel/training_utils.py:545: FutureWarning: You are using `torch.load` with `weights_only=False` (the current default value), which uses the default pickle module implicitly. It is possible to construct malicious pickle data which will execute arbitrary code during unpickling (See https://github.com/pytorch/pytorch/blob/main/SECURITY.md#untrusted-models for more details). In a future release, the default value for `weights_only` will be flipped to `True`. This limits the functions that could be executed during unpickling. Arbitrary objects will no longer be allowed to be loaded via this mode unless they are explicitly allowlisted by the user via `torch.serialization.add_safe_globals`. We recommend you start setting `weights_only=True` for any use case where you don't have full control of the loaded file. Please open an issue on GitHub for any issues related to this experimental feature.\n",
      "  checkpoint = torch.load(ct_model_path, map_location=device)\n"
     ]
    },
    {
     "name": "stdout",
     "output_type": "stream",
     "text": [
      "Class distribution: {1: 126, 0: 19}\n",
      "Auto-calculated class weights: ['3.816', '0.575']\n",
      "Using weighted CrossEntropyLoss with weights: ['3.816', '0.575']\n"
     ]
    },
    {
     "name": "stderr",
     "output_type": "stream",
     "text": [
      "11:21:23 - INFO - Fold 9 完成 - Acc: 0.5625, AUC: 0.6429, F1: 0.7200, Train_Loss: 0.0604, Val_Loss: 0.6465                       \n",
      "11:21:23 - INFO - Fold 9 完成 - Acc: 0.5625, AUC: 0.6429, F1: 0.7200, Train_Loss: 0.0604, Val_Loss: 0.6465                       \n"
     ]
    },
    {
     "name": "stdout",
     "output_type": "stream",
     "text": [
      "📊 ROC曲线已保存: ./results/cancer_subtype/cv_results_20251014_111051/roc_curve_fold_9.png\n"
     ]
    },
    {
     "name": "stderr",
     "output_type": "stream",
     "text": [
      "11:21:23 - INFO - \n",
      "=============== Fold 10/10 ===============\n"
     ]
    },
    {
     "name": "stdout",
     "output_type": "stream",
     "text": [
      "📊 训练曲线已保存: ./results/cancer_subtype/cv_results_20251014_111051/results/training_curves_fold_9.png\n"
     ]
    },
    {
     "name": "stderr",
     "output_type": "stream",
     "text": [
      "/home/maweicheng/multimodel/training_utils.py:545: FutureWarning: You are using `torch.load` with `weights_only=False` (the current default value), which uses the default pickle module implicitly. It is possible to construct malicious pickle data which will execute arbitrary code during unpickling (See https://github.com/pytorch/pytorch/blob/main/SECURITY.md#untrusted-models for more details). In a future release, the default value for `weights_only` will be flipped to `True`. This limits the functions that could be executed during unpickling. Arbitrary objects will no longer be allowed to be loaded via this mode unless they are explicitly allowlisted by the user via `torch.serialization.add_safe_globals`. We recommend you start setting `weights_only=True` for any use case where you don't have full control of the loaded file. Please open an issue on GitHub for any issues related to this experimental feature.\n",
      "  checkpoint = torch.load(ct_model_path, map_location=device)\n"
     ]
    },
    {
     "name": "stdout",
     "output_type": "stream",
     "text": [
      "Class distribution: {1: 126, 0: 19}\n",
      "Auto-calculated class weights: ['3.816', '0.575']\n",
      "Using weighted CrossEntropyLoss with weights: ['3.816', '0.575']\n"
     ]
    },
    {
     "name": "stderr",
     "output_type": "stream",
     "text": [
      "11:22:32 - INFO - Fold 10 完成 - Acc: 0.6250, AUC: 1.0000, F1: 0.7273, Train_Loss: 0.1182, Val_Loss: 0.4492                       \n",
      "11:22:32 - INFO - Fold 10 完成 - Acc: 0.6250, AUC: 1.0000, F1: 0.7273, Train_Loss: 0.1182, Val_Loss: 0.4492                       \n"
     ]
    },
    {
     "name": "stdout",
     "output_type": "stream",
     "text": [
      "📊 ROC曲线已保存: ./results/cancer_subtype/cv_results_20251014_111051/roc_curve_fold_10.png\n"
     ]
    },
    {
     "name": "stderr",
     "output_type": "stream",
     "text": [
      "11:22:33 - INFO - \n",
      "交叉验证结果:\n",
      "11:22:33 - INFO - 交叉验证完成！结果已保存到: ./results/cancer_subtype/cv_results_20251014_111051\n",
      "11:22:33 - INFO - 交叉验证完成！结果已保存到: ./results/cancer_subtype/cv_results_20251014_111051\n"
     ]
    },
    {
     "name": "stdout",
     "output_type": "stream",
     "text": [
      "📊 训练曲线已保存: ./results/cancer_subtype/cv_results_20251014_111051/results/training_curves_fold_10.png\n",
      "+--------+-----------------+-----------------+-----------------+--------------+\n",
      "| Fold   | Accuracy        | F1 Score        | AUC Score       | Best Epoch   |\n",
      "+========+=================+=================+=================+==============+\n",
      "| 1      | 0.8235          | 0.8966          | 0.7857          | 29           |\n",
      "+--------+-----------------+-----------------+-----------------+--------------+\n",
      "| 2      | 0.9375          | 0.9655          | 1.0000          | 8            |\n",
      "+--------+-----------------+-----------------+-----------------+--------------+\n",
      "| 3      | 0.8125          | 0.8889          | 0.9286          | 28           |\n",
      "+--------+-----------------+-----------------+-----------------+--------------+\n",
      "| 4      | 0.8750          | 0.9286          | 0.7857          | 1            |\n",
      "+--------+-----------------+-----------------+-----------------+--------------+\n",
      "| 5      | 0.8750          | 0.9286          | 0.9286          | 1            |\n",
      "+--------+-----------------+-----------------+-----------------+--------------+\n",
      "| 6      | 0.7500          | 0.8571          | 0.6786          | 2            |\n",
      "+--------+-----------------+-----------------+-----------------+--------------+\n",
      "| 7      | 0.8750          | 0.9286          | 0.7500          | 2            |\n",
      "+--------+-----------------+-----------------+-----------------+--------------+\n",
      "| 8      | 1.0000          | 1.0000          | 1.0000          | 1            |\n",
      "+--------+-----------------+-----------------+-----------------+--------------+\n",
      "| 9      | 0.5625          | 0.7200          | 0.6429          | 1            |\n",
      "+--------+-----------------+-----------------+-----------------+--------------+\n",
      "| 10     | 0.6250          | 0.7273          | 1.0000          | 1            |\n",
      "+--------+-----------------+-----------------+-----------------+--------------+\n",
      "| 平均值 | 0.8136 ± 0.1281 | 0.8841 ± 0.0886 | 0.8500 ± 0.1305 | -            |\n",
      "+--------+-----------------+-----------------+-----------------+--------------+\n"
     ]
    },
    {
     "name": "stderr",
     "output_type": "stream",
     "text": [
      "11:22:34 - INFO - 开始独立测试集评估...\n",
      "11:22:34 - INFO - 开始独立测试集评估: /home/maweicheng/database/cancer_subtype/test.npz\n",
      "11:22:34 - INFO - 开始独立测试集评估: /home/maweicheng/database/cancer_subtype/test.npz\n",
      "11:22:34 - INFO - 测试集加载成功，样本数: 19\n",
      "11:22:34 - INFO - 在独立测试集上评估所有fold模型...\n",
      "11:22:34 - INFO -   评估 Fold 1...\n",
      "11:22:34 - INFO - 测试集加载成功，样本数: 19\n",
      "11:22:34 - INFO - 在独立测试集上评估所有fold模型...\n",
      "11:22:34 - INFO -   评估 Fold 1...\n"
     ]
    },
    {
     "name": "stdout",
     "output_type": "stream",
     "text": [
      "📊 交叉验证曲线已保存: ./results/cancer_subtype/cv_results_20251014_111051/results/cross_validation_curves.png\n"
     ]
    },
    {
     "name": "stderr",
     "output_type": "stream",
     "text": [
      "/home/maweicheng/multimodel/training_utils.py:545: FutureWarning: You are using `torch.load` with `weights_only=False` (the current default value), which uses the default pickle module implicitly. It is possible to construct malicious pickle data which will execute arbitrary code during unpickling (See https://github.com/pytorch/pytorch/blob/main/SECURITY.md#untrusted-models for more details). In a future release, the default value for `weights_only` will be flipped to `True`. This limits the functions that could be executed during unpickling. Arbitrary objects will no longer be allowed to be loaded via this mode unless they are explicitly allowlisted by the user via `torch.serialization.add_safe_globals`. We recommend you start setting `weights_only=True` for any use case where you don't have full control of the loaded file. Please open an issue on GitHub for any issues related to this experimental feature.\n",
      "  checkpoint = torch.load(ct_model_path, map_location=device)\n",
      "/home/maweicheng/multimodel/evaluation.py:65: FutureWarning: You are using `torch.load` with `weights_only=False` (the current default value), which uses the default pickle module implicitly. It is possible to construct malicious pickle data which will execute arbitrary code during unpickling (See https://github.com/pytorch/pytorch/blob/main/SECURITY.md#untrusted-models for more details). In a future release, the default value for `weights_only` will be flipped to `True`. This limits the functions that could be executed during unpickling. Arbitrary objects will no longer be allowed to be loaded via this mode unless they are explicitly allowlisted by the user via `torch.serialization.add_safe_globals`. We recommend you start setting `weights_only=True` for any use case where you don't have full control of the loaded file. Please open an issue on GitHub for any issues related to this experimental feature.\n",
      "  model.load_state_dict(torch.load(model_path, map_location=self.args.device))\n",
      "11:22:35 - INFO - 单模型 Fold 1 测试集结果详情:\n",
      "11:22:35 - INFO -   样本数: 19\n",
      "11:22:35 - INFO -   预测分布: {np.int64(0): np.int64(3), np.int64(1): np.int64(16)}\n",
      "11:22:35 - INFO -   标签分布: {np.int64(0): np.int64(3), np.int64(1): np.int64(16)}\n",
      "11:22:35 - INFO -   概率范围: [0.0453, 0.9872]\n",
      "11:22:35 - INFO -   概率均值: 0.7745 ± 0.3099\n",
      "11:22:35 - INFO -   评估 Fold 2...\n",
      "/home/maweicheng/multimodel/evaluation.py:65: FutureWarning: You are using `torch.load` with `weights_only=False` (the current default value), which uses the default pickle module implicitly. It is possible to construct malicious pickle data which will execute arbitrary code during unpickling (See https://github.com/pytorch/pytorch/blob/main/SECURITY.md#untrusted-models for more details). In a future release, the default value for `weights_only` will be flipped to `True`. This limits the functions that could be executed during unpickling. Arbitrary objects will no longer be allowed to be loaded via this mode unless they are explicitly allowlisted by the user via `torch.serialization.add_safe_globals`. We recommend you start setting `weights_only=True` for any use case where you don't have full control of the loaded file. Please open an issue on GitHub for any issues related to this experimental feature.\n",
      "  model.load_state_dict(torch.load(model_path, map_location=self.args.device))\n",
      "11:22:35 - INFO - 单模型 Fold 1 测试集结果详情:\n",
      "11:22:35 - INFO -   样本数: 19\n",
      "11:22:35 - INFO -   预测分布: {np.int64(0): np.int64(3), np.int64(1): np.int64(16)}\n",
      "11:22:35 - INFO -   标签分布: {np.int64(0): np.int64(3), np.int64(1): np.int64(16)}\n",
      "11:22:35 - INFO -   概率范围: [0.0453, 0.9872]\n",
      "11:22:35 - INFO -   概率均值: 0.7745 ± 0.3099\n",
      "11:22:35 - INFO -   评估 Fold 2...\n",
      "/home/maweicheng/multimodel/training_utils.py:545: FutureWarning: You are using `torch.load` with `weights_only=False` (the current default value), which uses the default pickle module implicitly. It is possible to construct malicious pickle data which will execute arbitrary code during unpickling (See https://github.com/pytorch/pytorch/blob/main/SECURITY.md#untrusted-models for more details). In a future release, the default value for `weights_only` will be flipped to `True`. This limits the functions that could be executed during unpickling. Arbitrary objects will no longer be allowed to be loaded via this mode unless they are explicitly allowlisted by the user via `torch.serialization.add_safe_globals`. We recommend you start setting `weights_only=True` for any use case where you don't have full control of the loaded file. Please open an issue on GitHub for any issues related to this experimental feature.\n",
      "  checkpoint = torch.load(ct_model_path, map_location=device)\n",
      "/home/maweicheng/multimodel/training_utils.py:545: FutureWarning: You are using `torch.load` with `weights_only=False` (the current default value), which uses the default pickle module implicitly. It is possible to construct malicious pickle data which will execute arbitrary code during unpickling (See https://github.com/pytorch/pytorch/blob/main/SECURITY.md#untrusted-models for more details). In a future release, the default value for `weights_only` will be flipped to `True`. This limits the functions that could be executed during unpickling. Arbitrary objects will no longer be allowed to be loaded via this mode unless they are explicitly allowlisted by the user via `torch.serialization.add_safe_globals`. We recommend you start setting `weights_only=True` for any use case where you don't have full control of the loaded file. Please open an issue on GitHub for any issues related to this experimental feature.\n",
      "  checkpoint = torch.load(ct_model_path, map_location=device)\n",
      "/home/maweicheng/multimodel/evaluation.py:65: FutureWarning: You are using `torch.load` with `weights_only=False` (the current default value), which uses the default pickle module implicitly. It is possible to construct malicious pickle data which will execute arbitrary code during unpickling (See https://github.com/pytorch/pytorch/blob/main/SECURITY.md#untrusted-models for more details). In a future release, the default value for `weights_only` will be flipped to `True`. This limits the functions that could be executed during unpickling. Arbitrary objects will no longer be allowed to be loaded via this mode unless they are explicitly allowlisted by the user via `torch.serialization.add_safe_globals`. We recommend you start setting `weights_only=True` for any use case where you don't have full control of the loaded file. Please open an issue on GitHub for any issues related to this experimental feature.\n",
      "  model.load_state_dict(torch.load(model_path, map_location=self.args.device))\n",
      "11:22:35 - INFO - 单模型 Fold 2 测试集结果详情:\n",
      "11:22:35 - INFO -   样本数: 19\n",
      "11:22:35 - INFO -   预测分布: {np.int64(0): np.int64(4), np.int64(1): np.int64(15)}\n",
      "11:22:35 - INFO -   标签分布: {np.int64(0): np.int64(3), np.int64(1): np.int64(16)}\n",
      "11:22:35 - INFO -   概率范围: [0.1222, 0.9690]\n",
      "11:22:35 - INFO -   概率均值: 0.7108 ± 0.2872\n",
      "11:22:35 - INFO -   评估 Fold 3...\n",
      "/home/maweicheng/multimodel/evaluation.py:65: FutureWarning: You are using `torch.load` with `weights_only=False` (the current default value), which uses the default pickle module implicitly. It is possible to construct malicious pickle data which will execute arbitrary code during unpickling (See https://github.com/pytorch/pytorch/blob/main/SECURITY.md#untrusted-models for more details). In a future release, the default value for `weights_only` will be flipped to `True`. This limits the functions that could be executed during unpickling. Arbitrary objects will no longer be allowed to be loaded via this mode unless they are explicitly allowlisted by the user via `torch.serialization.add_safe_globals`. We recommend you start setting `weights_only=True` for any use case where you don't have full control of the loaded file. Please open an issue on GitHub for any issues related to this experimental feature.\n",
      "  model.load_state_dict(torch.load(model_path, map_location=self.args.device))\n",
      "11:22:35 - INFO - 单模型 Fold 2 测试集结果详情:\n",
      "11:22:35 - INFO -   样本数: 19\n",
      "11:22:35 - INFO -   预测分布: {np.int64(0): np.int64(4), np.int64(1): np.int64(15)}\n",
      "11:22:35 - INFO -   标签分布: {np.int64(0): np.int64(3), np.int64(1): np.int64(16)}\n",
      "11:22:35 - INFO -   概率范围: [0.1222, 0.9690]\n",
      "11:22:35 - INFO -   概率均值: 0.7108 ± 0.2872\n",
      "11:22:35 - INFO -   评估 Fold 3...\n",
      "/home/maweicheng/multimodel/training_utils.py:545: FutureWarning: You are using `torch.load` with `weights_only=False` (the current default value), which uses the default pickle module implicitly. It is possible to construct malicious pickle data which will execute arbitrary code during unpickling (See https://github.com/pytorch/pytorch/blob/main/SECURITY.md#untrusted-models for more details). In a future release, the default value for `weights_only` will be flipped to `True`. This limits the functions that could be executed during unpickling. Arbitrary objects will no longer be allowed to be loaded via this mode unless they are explicitly allowlisted by the user via `torch.serialization.add_safe_globals`. We recommend you start setting `weights_only=True` for any use case where you don't have full control of the loaded file. Please open an issue on GitHub for any issues related to this experimental feature.\n",
      "  checkpoint = torch.load(ct_model_path, map_location=device)\n",
      "/home/maweicheng/multimodel/training_utils.py:545: FutureWarning: You are using `torch.load` with `weights_only=False` (the current default value), which uses the default pickle module implicitly. It is possible to construct malicious pickle data which will execute arbitrary code during unpickling (See https://github.com/pytorch/pytorch/blob/main/SECURITY.md#untrusted-models for more details). In a future release, the default value for `weights_only` will be flipped to `True`. This limits the functions that could be executed during unpickling. Arbitrary objects will no longer be allowed to be loaded via this mode unless they are explicitly allowlisted by the user via `torch.serialization.add_safe_globals`. We recommend you start setting `weights_only=True` for any use case where you don't have full control of the loaded file. Please open an issue on GitHub for any issues related to this experimental feature.\n",
      "  checkpoint = torch.load(ct_model_path, map_location=device)\n",
      "/home/maweicheng/multimodel/evaluation.py:65: FutureWarning: You are using `torch.load` with `weights_only=False` (the current default value), which uses the default pickle module implicitly. It is possible to construct malicious pickle data which will execute arbitrary code during unpickling (See https://github.com/pytorch/pytorch/blob/main/SECURITY.md#untrusted-models for more details). In a future release, the default value for `weights_only` will be flipped to `True`. This limits the functions that could be executed during unpickling. Arbitrary objects will no longer be allowed to be loaded via this mode unless they are explicitly allowlisted by the user via `torch.serialization.add_safe_globals`. We recommend you start setting `weights_only=True` for any use case where you don't have full control of the loaded file. Please open an issue on GitHub for any issues related to this experimental feature.\n",
      "  model.load_state_dict(torch.load(model_path, map_location=self.args.device))\n",
      "11:22:36 - INFO - 单模型 Fold 3 测试集结果详情:\n",
      "11:22:36 - INFO -   样本数: 19\n",
      "11:22:36 - INFO -   预测分布: {np.int64(0): np.int64(4), np.int64(1): np.int64(15)}\n",
      "11:22:36 - INFO -   标签分布: {np.int64(0): np.int64(3), np.int64(1): np.int64(16)}\n",
      "11:22:36 - INFO -   概率范围: [0.0430, 0.9862]\n",
      "11:22:36 - INFO -   概率均值: 0.7297 ± 0.3237\n",
      "11:22:36 - INFO -   评估 Fold 4...\n",
      "/home/maweicheng/multimodel/evaluation.py:65: FutureWarning: You are using `torch.load` with `weights_only=False` (the current default value), which uses the default pickle module implicitly. It is possible to construct malicious pickle data which will execute arbitrary code during unpickling (See https://github.com/pytorch/pytorch/blob/main/SECURITY.md#untrusted-models for more details). In a future release, the default value for `weights_only` will be flipped to `True`. This limits the functions that could be executed during unpickling. Arbitrary objects will no longer be allowed to be loaded via this mode unless they are explicitly allowlisted by the user via `torch.serialization.add_safe_globals`. We recommend you start setting `weights_only=True` for any use case where you don't have full control of the loaded file. Please open an issue on GitHub for any issues related to this experimental feature.\n",
      "  model.load_state_dict(torch.load(model_path, map_location=self.args.device))\n",
      "11:22:36 - INFO - 单模型 Fold 3 测试集结果详情:\n",
      "11:22:36 - INFO -   样本数: 19\n",
      "11:22:36 - INFO -   预测分布: {np.int64(0): np.int64(4), np.int64(1): np.int64(15)}\n",
      "11:22:36 - INFO -   标签分布: {np.int64(0): np.int64(3), np.int64(1): np.int64(16)}\n",
      "11:22:36 - INFO -   概率范围: [0.0430, 0.9862]\n",
      "11:22:36 - INFO -   概率均值: 0.7297 ± 0.3237\n",
      "11:22:36 - INFO -   评估 Fold 4...\n",
      "/home/maweicheng/multimodel/training_utils.py:545: FutureWarning: You are using `torch.load` with `weights_only=False` (the current default value), which uses the default pickle module implicitly. It is possible to construct malicious pickle data which will execute arbitrary code during unpickling (See https://github.com/pytorch/pytorch/blob/main/SECURITY.md#untrusted-models for more details). In a future release, the default value for `weights_only` will be flipped to `True`. This limits the functions that could be executed during unpickling. Arbitrary objects will no longer be allowed to be loaded via this mode unless they are explicitly allowlisted by the user via `torch.serialization.add_safe_globals`. We recommend you start setting `weights_only=True` for any use case where you don't have full control of the loaded file. Please open an issue on GitHub for any issues related to this experimental feature.\n",
      "  checkpoint = torch.load(ct_model_path, map_location=device)\n",
      "/home/maweicheng/multimodel/training_utils.py:545: FutureWarning: You are using `torch.load` with `weights_only=False` (the current default value), which uses the default pickle module implicitly. It is possible to construct malicious pickle data which will execute arbitrary code during unpickling (See https://github.com/pytorch/pytorch/blob/main/SECURITY.md#untrusted-models for more details). In a future release, the default value for `weights_only` will be flipped to `True`. This limits the functions that could be executed during unpickling. Arbitrary objects will no longer be allowed to be loaded via this mode unless they are explicitly allowlisted by the user via `torch.serialization.add_safe_globals`. We recommend you start setting `weights_only=True` for any use case where you don't have full control of the loaded file. Please open an issue on GitHub for any issues related to this experimental feature.\n",
      "  checkpoint = torch.load(ct_model_path, map_location=device)\n",
      "/home/maweicheng/multimodel/evaluation.py:65: FutureWarning: You are using `torch.load` with `weights_only=False` (the current default value), which uses the default pickle module implicitly. It is possible to construct malicious pickle data which will execute arbitrary code during unpickling (See https://github.com/pytorch/pytorch/blob/main/SECURITY.md#untrusted-models for more details). In a future release, the default value for `weights_only` will be flipped to `True`. This limits the functions that could be executed during unpickling. Arbitrary objects will no longer be allowed to be loaded via this mode unless they are explicitly allowlisted by the user via `torch.serialization.add_safe_globals`. We recommend you start setting `weights_only=True` for any use case where you don't have full control of the loaded file. Please open an issue on GitHub for any issues related to this experimental feature.\n",
      "  model.load_state_dict(torch.load(model_path, map_location=self.args.device))\n",
      "11:22:37 - INFO - 单模型 Fold 4 测试集结果详情:\n",
      "11:22:37 - INFO -   样本数: 19\n",
      "11:22:37 - INFO -   预测分布: {np.int64(0): np.int64(2), np.int64(1): np.int64(17)}\n",
      "11:22:37 - INFO -   标签分布: {np.int64(0): np.int64(3), np.int64(1): np.int64(16)}\n",
      "11:22:37 - INFO -   概率范围: [0.2862, 0.8642]\n",
      "11:22:37 - INFO -   概率均值: 0.6901 ± 0.1348\n",
      "11:22:37 - INFO -   评估 Fold 5...\n",
      "/home/maweicheng/multimodel/evaluation.py:65: FutureWarning: You are using `torch.load` with `weights_only=False` (the current default value), which uses the default pickle module implicitly. It is possible to construct malicious pickle data which will execute arbitrary code during unpickling (See https://github.com/pytorch/pytorch/blob/main/SECURITY.md#untrusted-models for more details). In a future release, the default value for `weights_only` will be flipped to `True`. This limits the functions that could be executed during unpickling. Arbitrary objects will no longer be allowed to be loaded via this mode unless they are explicitly allowlisted by the user via `torch.serialization.add_safe_globals`. We recommend you start setting `weights_only=True` for any use case where you don't have full control of the loaded file. Please open an issue on GitHub for any issues related to this experimental feature.\n",
      "  model.load_state_dict(torch.load(model_path, map_location=self.args.device))\n",
      "11:22:37 - INFO - 单模型 Fold 4 测试集结果详情:\n",
      "11:22:37 - INFO -   样本数: 19\n",
      "11:22:37 - INFO -   预测分布: {np.int64(0): np.int64(2), np.int64(1): np.int64(17)}\n",
      "11:22:37 - INFO -   标签分布: {np.int64(0): np.int64(3), np.int64(1): np.int64(16)}\n",
      "11:22:37 - INFO -   概率范围: [0.2862, 0.8642]\n",
      "11:22:37 - INFO -   概率均值: 0.6901 ± 0.1348\n",
      "11:22:37 - INFO -   评估 Fold 5...\n",
      "/home/maweicheng/multimodel/training_utils.py:545: FutureWarning: You are using `torch.load` with `weights_only=False` (the current default value), which uses the default pickle module implicitly. It is possible to construct malicious pickle data which will execute arbitrary code during unpickling (See https://github.com/pytorch/pytorch/blob/main/SECURITY.md#untrusted-models for more details). In a future release, the default value for `weights_only` will be flipped to `True`. This limits the functions that could be executed during unpickling. Arbitrary objects will no longer be allowed to be loaded via this mode unless they are explicitly allowlisted by the user via `torch.serialization.add_safe_globals`. We recommend you start setting `weights_only=True` for any use case where you don't have full control of the loaded file. Please open an issue on GitHub for any issues related to this experimental feature.\n",
      "  checkpoint = torch.load(ct_model_path, map_location=device)\n",
      "/home/maweicheng/multimodel/training_utils.py:545: FutureWarning: You are using `torch.load` with `weights_only=False` (the current default value), which uses the default pickle module implicitly. It is possible to construct malicious pickle data which will execute arbitrary code during unpickling (See https://github.com/pytorch/pytorch/blob/main/SECURITY.md#untrusted-models for more details). In a future release, the default value for `weights_only` will be flipped to `True`. This limits the functions that could be executed during unpickling. Arbitrary objects will no longer be allowed to be loaded via this mode unless they are explicitly allowlisted by the user via `torch.serialization.add_safe_globals`. We recommend you start setting `weights_only=True` for any use case where you don't have full control of the loaded file. Please open an issue on GitHub for any issues related to this experimental feature.\n",
      "  checkpoint = torch.load(ct_model_path, map_location=device)\n",
      "/home/maweicheng/multimodel/evaluation.py:65: FutureWarning: You are using `torch.load` with `weights_only=False` (the current default value), which uses the default pickle module implicitly. It is possible to construct malicious pickle data which will execute arbitrary code during unpickling (See https://github.com/pytorch/pytorch/blob/main/SECURITY.md#untrusted-models for more details). In a future release, the default value for `weights_only` will be flipped to `True`. This limits the functions that could be executed during unpickling. Arbitrary objects will no longer be allowed to be loaded via this mode unless they are explicitly allowlisted by the user via `torch.serialization.add_safe_globals`. We recommend you start setting `weights_only=True` for any use case where you don't have full control of the loaded file. Please open an issue on GitHub for any issues related to this experimental feature.\n",
      "  model.load_state_dict(torch.load(model_path, map_location=self.args.device))\n",
      "11:22:37 - INFO - 单模型 Fold 5 测试集结果详情:\n",
      "11:22:37 - INFO -   样本数: 19\n",
      "11:22:37 - INFO -   预测分布: {np.int64(0): np.int64(4), np.int64(1): np.int64(15)}\n",
      "11:22:37 - INFO -   标签分布: {np.int64(0): np.int64(3), np.int64(1): np.int64(16)}\n",
      "11:22:37 - INFO -   概率范围: [0.1247, 0.8965]\n",
      "11:22:37 - INFO -   概率均值: 0.6983 ± 0.2263\n",
      "11:22:37 - INFO -   评估 Fold 6...\n",
      "/home/maweicheng/multimodel/evaluation.py:65: FutureWarning: You are using `torch.load` with `weights_only=False` (the current default value), which uses the default pickle module implicitly. It is possible to construct malicious pickle data which will execute arbitrary code during unpickling (See https://github.com/pytorch/pytorch/blob/main/SECURITY.md#untrusted-models for more details). In a future release, the default value for `weights_only` will be flipped to `True`. This limits the functions that could be executed during unpickling. Arbitrary objects will no longer be allowed to be loaded via this mode unless they are explicitly allowlisted by the user via `torch.serialization.add_safe_globals`. We recommend you start setting `weights_only=True` for any use case where you don't have full control of the loaded file. Please open an issue on GitHub for any issues related to this experimental feature.\n",
      "  model.load_state_dict(torch.load(model_path, map_location=self.args.device))\n",
      "11:22:37 - INFO - 单模型 Fold 5 测试集结果详情:\n",
      "11:22:37 - INFO -   样本数: 19\n",
      "11:22:37 - INFO -   预测分布: {np.int64(0): np.int64(4), np.int64(1): np.int64(15)}\n",
      "11:22:37 - INFO -   标签分布: {np.int64(0): np.int64(3), np.int64(1): np.int64(16)}\n",
      "11:22:37 - INFO -   概率范围: [0.1247, 0.8965]\n",
      "11:22:37 - INFO -   概率均值: 0.6983 ± 0.2263\n",
      "11:22:37 - INFO -   评估 Fold 6...\n",
      "/home/maweicheng/multimodel/training_utils.py:545: FutureWarning: You are using `torch.load` with `weights_only=False` (the current default value), which uses the default pickle module implicitly. It is possible to construct malicious pickle data which will execute arbitrary code during unpickling (See https://github.com/pytorch/pytorch/blob/main/SECURITY.md#untrusted-models for more details). In a future release, the default value for `weights_only` will be flipped to `True`. This limits the functions that could be executed during unpickling. Arbitrary objects will no longer be allowed to be loaded via this mode unless they are explicitly allowlisted by the user via `torch.serialization.add_safe_globals`. We recommend you start setting `weights_only=True` for any use case where you don't have full control of the loaded file. Please open an issue on GitHub for any issues related to this experimental feature.\n",
      "  checkpoint = torch.load(ct_model_path, map_location=device)\n",
      "/home/maweicheng/multimodel/training_utils.py:545: FutureWarning: You are using `torch.load` with `weights_only=False` (the current default value), which uses the default pickle module implicitly. It is possible to construct malicious pickle data which will execute arbitrary code during unpickling (See https://github.com/pytorch/pytorch/blob/main/SECURITY.md#untrusted-models for more details). In a future release, the default value for `weights_only` will be flipped to `True`. This limits the functions that could be executed during unpickling. Arbitrary objects will no longer be allowed to be loaded via this mode unless they are explicitly allowlisted by the user via `torch.serialization.add_safe_globals`. We recommend you start setting `weights_only=True` for any use case where you don't have full control of the loaded file. Please open an issue on GitHub for any issues related to this experimental feature.\n",
      "  checkpoint = torch.load(ct_model_path, map_location=device)\n",
      "/home/maweicheng/multimodel/evaluation.py:65: FutureWarning: You are using `torch.load` with `weights_only=False` (the current default value), which uses the default pickle module implicitly. It is possible to construct malicious pickle data which will execute arbitrary code during unpickling (See https://github.com/pytorch/pytorch/blob/main/SECURITY.md#untrusted-models for more details). In a future release, the default value for `weights_only` will be flipped to `True`. This limits the functions that could be executed during unpickling. Arbitrary objects will no longer be allowed to be loaded via this mode unless they are explicitly allowlisted by the user via `torch.serialization.add_safe_globals`. We recommend you start setting `weights_only=True` for any use case where you don't have full control of the loaded file. Please open an issue on GitHub for any issues related to this experimental feature.\n",
      "  model.load_state_dict(torch.load(model_path, map_location=self.args.device))\n",
      "11:22:38 - INFO - 单模型 Fold 6 测试集结果详情:\n",
      "11:22:38 - INFO -   样本数: 19\n",
      "11:22:38 - INFO -   预测分布: {np.int64(0): np.int64(5), np.int64(1): np.int64(14)}\n",
      "11:22:38 - INFO -   标签分布: {np.int64(0): np.int64(3), np.int64(1): np.int64(16)}\n",
      "11:22:38 - INFO -   概率范围: [0.1243, 0.8896]\n",
      "11:22:38 - INFO -   概率均值: 0.6696 ± 0.2187\n",
      "11:22:38 - INFO -   评估 Fold 7...\n",
      "/home/maweicheng/multimodel/evaluation.py:65: FutureWarning: You are using `torch.load` with `weights_only=False` (the current default value), which uses the default pickle module implicitly. It is possible to construct malicious pickle data which will execute arbitrary code during unpickling (See https://github.com/pytorch/pytorch/blob/main/SECURITY.md#untrusted-models for more details). In a future release, the default value for `weights_only` will be flipped to `True`. This limits the functions that could be executed during unpickling. Arbitrary objects will no longer be allowed to be loaded via this mode unless they are explicitly allowlisted by the user via `torch.serialization.add_safe_globals`. We recommend you start setting `weights_only=True` for any use case where you don't have full control of the loaded file. Please open an issue on GitHub for any issues related to this experimental feature.\n",
      "  model.load_state_dict(torch.load(model_path, map_location=self.args.device))\n",
      "11:22:38 - INFO - 单模型 Fold 6 测试集结果详情:\n",
      "11:22:38 - INFO -   样本数: 19\n",
      "11:22:38 - INFO -   预测分布: {np.int64(0): np.int64(5), np.int64(1): np.int64(14)}\n",
      "11:22:38 - INFO -   标签分布: {np.int64(0): np.int64(3), np.int64(1): np.int64(16)}\n",
      "11:22:38 - INFO -   概率范围: [0.1243, 0.8896]\n",
      "11:22:38 - INFO -   概率均值: 0.6696 ± 0.2187\n",
      "11:22:38 - INFO -   评估 Fold 7...\n",
      "/home/maweicheng/multimodel/training_utils.py:545: FutureWarning: You are using `torch.load` with `weights_only=False` (the current default value), which uses the default pickle module implicitly. It is possible to construct malicious pickle data which will execute arbitrary code during unpickling (See https://github.com/pytorch/pytorch/blob/main/SECURITY.md#untrusted-models for more details). In a future release, the default value for `weights_only` will be flipped to `True`. This limits the functions that could be executed during unpickling. Arbitrary objects will no longer be allowed to be loaded via this mode unless they are explicitly allowlisted by the user via `torch.serialization.add_safe_globals`. We recommend you start setting `weights_only=True` for any use case where you don't have full control of the loaded file. Please open an issue on GitHub for any issues related to this experimental feature.\n",
      "  checkpoint = torch.load(ct_model_path, map_location=device)\n",
      "/home/maweicheng/multimodel/training_utils.py:545: FutureWarning: You are using `torch.load` with `weights_only=False` (the current default value), which uses the default pickle module implicitly. It is possible to construct malicious pickle data which will execute arbitrary code during unpickling (See https://github.com/pytorch/pytorch/blob/main/SECURITY.md#untrusted-models for more details). In a future release, the default value for `weights_only` will be flipped to `True`. This limits the functions that could be executed during unpickling. Arbitrary objects will no longer be allowed to be loaded via this mode unless they are explicitly allowlisted by the user via `torch.serialization.add_safe_globals`. We recommend you start setting `weights_only=True` for any use case where you don't have full control of the loaded file. Please open an issue on GitHub for any issues related to this experimental feature.\n",
      "  checkpoint = torch.load(ct_model_path, map_location=device)\n",
      "/home/maweicheng/multimodel/evaluation.py:65: FutureWarning: You are using `torch.load` with `weights_only=False` (the current default value), which uses the default pickle module implicitly. It is possible to construct malicious pickle data which will execute arbitrary code during unpickling (See https://github.com/pytorch/pytorch/blob/main/SECURITY.md#untrusted-models for more details). In a future release, the default value for `weights_only` will be flipped to `True`. This limits the functions that could be executed during unpickling. Arbitrary objects will no longer be allowed to be loaded via this mode unless they are explicitly allowlisted by the user via `torch.serialization.add_safe_globals`. We recommend you start setting `weights_only=True` for any use case where you don't have full control of the loaded file. Please open an issue on GitHub for any issues related to this experimental feature.\n",
      "  model.load_state_dict(torch.load(model_path, map_location=self.args.device))\n",
      "11:22:39 - INFO - 单模型 Fold 7 测试集结果详情:\n",
      "11:22:39 - INFO -   样本数: 19\n",
      "11:22:39 - INFO -   预测分布: {np.int64(0): np.int64(3), np.int64(1): np.int64(16)}\n",
      "11:22:39 - INFO -   标签分布: {np.int64(0): np.int64(3), np.int64(1): np.int64(16)}\n",
      "11:22:39 - INFO -   概率范围: [0.2216, 0.9166]\n",
      "11:22:39 - INFO -   概率均值: 0.7260 ± 0.2087\n",
      "11:22:39 - INFO -   评估 Fold 8...\n",
      "/home/maweicheng/multimodel/evaluation.py:65: FutureWarning: You are using `torch.load` with `weights_only=False` (the current default value), which uses the default pickle module implicitly. It is possible to construct malicious pickle data which will execute arbitrary code during unpickling (See https://github.com/pytorch/pytorch/blob/main/SECURITY.md#untrusted-models for more details). In a future release, the default value for `weights_only` will be flipped to `True`. This limits the functions that could be executed during unpickling. Arbitrary objects will no longer be allowed to be loaded via this mode unless they are explicitly allowlisted by the user via `torch.serialization.add_safe_globals`. We recommend you start setting `weights_only=True` for any use case where you don't have full control of the loaded file. Please open an issue on GitHub for any issues related to this experimental feature.\n",
      "  model.load_state_dict(torch.load(model_path, map_location=self.args.device))\n",
      "11:22:39 - INFO - 单模型 Fold 7 测试集结果详情:\n",
      "11:22:39 - INFO -   样本数: 19\n",
      "11:22:39 - INFO -   预测分布: {np.int64(0): np.int64(3), np.int64(1): np.int64(16)}\n",
      "11:22:39 - INFO -   标签分布: {np.int64(0): np.int64(3), np.int64(1): np.int64(16)}\n",
      "11:22:39 - INFO -   概率范围: [0.2216, 0.9166]\n",
      "11:22:39 - INFO -   概率均值: 0.7260 ± 0.2087\n",
      "11:22:39 - INFO -   评估 Fold 8...\n",
      "/home/maweicheng/multimodel/training_utils.py:545: FutureWarning: You are using `torch.load` with `weights_only=False` (the current default value), which uses the default pickle module implicitly. It is possible to construct malicious pickle data which will execute arbitrary code during unpickling (See https://github.com/pytorch/pytorch/blob/main/SECURITY.md#untrusted-models for more details). In a future release, the default value for `weights_only` will be flipped to `True`. This limits the functions that could be executed during unpickling. Arbitrary objects will no longer be allowed to be loaded via this mode unless they are explicitly allowlisted by the user via `torch.serialization.add_safe_globals`. We recommend you start setting `weights_only=True` for any use case where you don't have full control of the loaded file. Please open an issue on GitHub for any issues related to this experimental feature.\n",
      "  checkpoint = torch.load(ct_model_path, map_location=device)\n",
      "/home/maweicheng/multimodel/training_utils.py:545: FutureWarning: You are using `torch.load` with `weights_only=False` (the current default value), which uses the default pickle module implicitly. It is possible to construct malicious pickle data which will execute arbitrary code during unpickling (See https://github.com/pytorch/pytorch/blob/main/SECURITY.md#untrusted-models for more details). In a future release, the default value for `weights_only` will be flipped to `True`. This limits the functions that could be executed during unpickling. Arbitrary objects will no longer be allowed to be loaded via this mode unless they are explicitly allowlisted by the user via `torch.serialization.add_safe_globals`. We recommend you start setting `weights_only=True` for any use case where you don't have full control of the loaded file. Please open an issue on GitHub for any issues related to this experimental feature.\n",
      "  checkpoint = torch.load(ct_model_path, map_location=device)\n",
      "/home/maweicheng/multimodel/evaluation.py:65: FutureWarning: You are using `torch.load` with `weights_only=False` (the current default value), which uses the default pickle module implicitly. It is possible to construct malicious pickle data which will execute arbitrary code during unpickling (See https://github.com/pytorch/pytorch/blob/main/SECURITY.md#untrusted-models for more details). In a future release, the default value for `weights_only` will be flipped to `True`. This limits the functions that could be executed during unpickling. Arbitrary objects will no longer be allowed to be loaded via this mode unless they are explicitly allowlisted by the user via `torch.serialization.add_safe_globals`. We recommend you start setting `weights_only=True` for any use case where you don't have full control of the loaded file. Please open an issue on GitHub for any issues related to this experimental feature.\n",
      "  model.load_state_dict(torch.load(model_path, map_location=self.args.device))\n",
      "11:22:39 - INFO - 单模型 Fold 8 测试集结果详情:\n",
      "11:22:39 - INFO -   样本数: 19\n",
      "11:22:39 - INFO -   预测分布: {np.int64(0): np.int64(4), np.int64(1): np.int64(15)}\n",
      "11:22:39 - INFO -   标签分布: {np.int64(0): np.int64(3), np.int64(1): np.int64(16)}\n",
      "11:22:39 - INFO -   概率范围: [0.2653, 0.9008]\n",
      "11:22:39 - INFO -   概率均值: 0.6701 ± 0.1860\n",
      "11:22:39 - INFO -   评估 Fold 9...\n",
      "/home/maweicheng/multimodel/evaluation.py:65: FutureWarning: You are using `torch.load` with `weights_only=False` (the current default value), which uses the default pickle module implicitly. It is possible to construct malicious pickle data which will execute arbitrary code during unpickling (See https://github.com/pytorch/pytorch/blob/main/SECURITY.md#untrusted-models for more details). In a future release, the default value for `weights_only` will be flipped to `True`. This limits the functions that could be executed during unpickling. Arbitrary objects will no longer be allowed to be loaded via this mode unless they are explicitly allowlisted by the user via `torch.serialization.add_safe_globals`. We recommend you start setting `weights_only=True` for any use case where you don't have full control of the loaded file. Please open an issue on GitHub for any issues related to this experimental feature.\n",
      "  model.load_state_dict(torch.load(model_path, map_location=self.args.device))\n",
      "11:22:39 - INFO - 单模型 Fold 8 测试集结果详情:\n",
      "11:22:39 - INFO -   样本数: 19\n",
      "11:22:39 - INFO -   预测分布: {np.int64(0): np.int64(4), np.int64(1): np.int64(15)}\n",
      "11:22:39 - INFO -   标签分布: {np.int64(0): np.int64(3), np.int64(1): np.int64(16)}\n",
      "11:22:39 - INFO -   概率范围: [0.2653, 0.9008]\n",
      "11:22:39 - INFO -   概率均值: 0.6701 ± 0.1860\n",
      "11:22:39 - INFO -   评估 Fold 9...\n",
      "/home/maweicheng/multimodel/training_utils.py:545: FutureWarning: You are using `torch.load` with `weights_only=False` (the current default value), which uses the default pickle module implicitly. It is possible to construct malicious pickle data which will execute arbitrary code during unpickling (See https://github.com/pytorch/pytorch/blob/main/SECURITY.md#untrusted-models for more details). In a future release, the default value for `weights_only` will be flipped to `True`. This limits the functions that could be executed during unpickling. Arbitrary objects will no longer be allowed to be loaded via this mode unless they are explicitly allowlisted by the user via `torch.serialization.add_safe_globals`. We recommend you start setting `weights_only=True` for any use case where you don't have full control of the loaded file. Please open an issue on GitHub for any issues related to this experimental feature.\n",
      "  checkpoint = torch.load(ct_model_path, map_location=device)\n",
      "/home/maweicheng/multimodel/training_utils.py:545: FutureWarning: You are using `torch.load` with `weights_only=False` (the current default value), which uses the default pickle module implicitly. It is possible to construct malicious pickle data which will execute arbitrary code during unpickling (See https://github.com/pytorch/pytorch/blob/main/SECURITY.md#untrusted-models for more details). In a future release, the default value for `weights_only` will be flipped to `True`. This limits the functions that could be executed during unpickling. Arbitrary objects will no longer be allowed to be loaded via this mode unless they are explicitly allowlisted by the user via `torch.serialization.add_safe_globals`. We recommend you start setting `weights_only=True` for any use case where you don't have full control of the loaded file. Please open an issue on GitHub for any issues related to this experimental feature.\n",
      "  checkpoint = torch.load(ct_model_path, map_location=device)\n",
      "/home/maweicheng/multimodel/evaluation.py:65: FutureWarning: You are using `torch.load` with `weights_only=False` (the current default value), which uses the default pickle module implicitly. It is possible to construct malicious pickle data which will execute arbitrary code during unpickling (See https://github.com/pytorch/pytorch/blob/main/SECURITY.md#untrusted-models for more details). In a future release, the default value for `weights_only` will be flipped to `True`. This limits the functions that could be executed during unpickling. Arbitrary objects will no longer be allowed to be loaded via this mode unless they are explicitly allowlisted by the user via `torch.serialization.add_safe_globals`. We recommend you start setting `weights_only=True` for any use case where you don't have full control of the loaded file. Please open an issue on GitHub for any issues related to this experimental feature.\n",
      "  model.load_state_dict(torch.load(model_path, map_location=self.args.device))\n",
      "11:22:40 - INFO - 单模型 Fold 9 测试集结果详情:\n",
      "11:22:40 - INFO -   样本数: 19\n",
      "11:22:40 - INFO -   预测分布: {np.int64(0): np.int64(5), np.int64(1): np.int64(14)}\n",
      "11:22:40 - INFO -   标签分布: {np.int64(0): np.int64(3), np.int64(1): np.int64(16)}\n",
      "11:22:40 - INFO -   概率范围: [0.2134, 0.9617]\n",
      "11:22:40 - INFO -   概率均值: 0.7072 ± 0.2404\n",
      "11:22:40 - INFO -   评估 Fold 10...\n",
      "/home/maweicheng/multimodel/evaluation.py:65: FutureWarning: You are using `torch.load` with `weights_only=False` (the current default value), which uses the default pickle module implicitly. It is possible to construct malicious pickle data which will execute arbitrary code during unpickling (See https://github.com/pytorch/pytorch/blob/main/SECURITY.md#untrusted-models for more details). In a future release, the default value for `weights_only` will be flipped to `True`. This limits the functions that could be executed during unpickling. Arbitrary objects will no longer be allowed to be loaded via this mode unless they are explicitly allowlisted by the user via `torch.serialization.add_safe_globals`. We recommend you start setting `weights_only=True` for any use case where you don't have full control of the loaded file. Please open an issue on GitHub for any issues related to this experimental feature.\n",
      "  model.load_state_dict(torch.load(model_path, map_location=self.args.device))\n",
      "11:22:40 - INFO - 单模型 Fold 9 测试集结果详情:\n",
      "11:22:40 - INFO -   样本数: 19\n",
      "11:22:40 - INFO -   预测分布: {np.int64(0): np.int64(5), np.int64(1): np.int64(14)}\n",
      "11:22:40 - INFO -   标签分布: {np.int64(0): np.int64(3), np.int64(1): np.int64(16)}\n",
      "11:22:40 - INFO -   概率范围: [0.2134, 0.9617]\n",
      "11:22:40 - INFO -   概率均值: 0.7072 ± 0.2404\n",
      "11:22:40 - INFO -   评估 Fold 10...\n",
      "/home/maweicheng/multimodel/training_utils.py:545: FutureWarning: You are using `torch.load` with `weights_only=False` (the current default value), which uses the default pickle module implicitly. It is possible to construct malicious pickle data which will execute arbitrary code during unpickling (See https://github.com/pytorch/pytorch/blob/main/SECURITY.md#untrusted-models for more details). In a future release, the default value for `weights_only` will be flipped to `True`. This limits the functions that could be executed during unpickling. Arbitrary objects will no longer be allowed to be loaded via this mode unless they are explicitly allowlisted by the user via `torch.serialization.add_safe_globals`. We recommend you start setting `weights_only=True` for any use case where you don't have full control of the loaded file. Please open an issue on GitHub for any issues related to this experimental feature.\n",
      "  checkpoint = torch.load(ct_model_path, map_location=device)\n",
      "/home/maweicheng/multimodel/training_utils.py:545: FutureWarning: You are using `torch.load` with `weights_only=False` (the current default value), which uses the default pickle module implicitly. It is possible to construct malicious pickle data which will execute arbitrary code during unpickling (See https://github.com/pytorch/pytorch/blob/main/SECURITY.md#untrusted-models for more details). In a future release, the default value for `weights_only` will be flipped to `True`. This limits the functions that could be executed during unpickling. Arbitrary objects will no longer be allowed to be loaded via this mode unless they are explicitly allowlisted by the user via `torch.serialization.add_safe_globals`. We recommend you start setting `weights_only=True` for any use case where you don't have full control of the loaded file. Please open an issue on GitHub for any issues related to this experimental feature.\n",
      "  checkpoint = torch.load(ct_model_path, map_location=device)\n",
      "/home/maweicheng/multimodel/evaluation.py:65: FutureWarning: You are using `torch.load` with `weights_only=False` (the current default value), which uses the default pickle module implicitly. It is possible to construct malicious pickle data which will execute arbitrary code during unpickling (See https://github.com/pytorch/pytorch/blob/main/SECURITY.md#untrusted-models for more details). In a future release, the default value for `weights_only` will be flipped to `True`. This limits the functions that could be executed during unpickling. Arbitrary objects will no longer be allowed to be loaded via this mode unless they are explicitly allowlisted by the user via `torch.serialization.add_safe_globals`. We recommend you start setting `weights_only=True` for any use case where you don't have full control of the loaded file. Please open an issue on GitHub for any issues related to this experimental feature.\n",
      "  model.load_state_dict(torch.load(model_path, map_location=self.args.device))\n",
      "11:22:41 - INFO - 单模型 Fold 10 测试集结果详情:\n",
      "11:22:41 - INFO -   样本数: 19\n",
      "11:22:41 - INFO -   预测分布: {np.int64(0): np.int64(3), np.int64(1): np.int64(16)}\n",
      "11:22:41 - INFO -   标签分布: {np.int64(0): np.int64(3), np.int64(1): np.int64(16)}\n",
      "11:22:41 - INFO -   概率范围: [0.2328, 0.9403]\n",
      "11:22:41 - INFO -   概率均值: 0.7229 ± 0.2026\n",
      "11:22:41 - INFO - ================================================================================\n",
      "11:22:41 - INFO - 独立测试集性能评估 - 跨fold平均结果:\n",
      "11:22:41 - INFO - 准确率: 0.7211 ± 0.0579\n",
      "11:22:41 - INFO - F1分数:  0.8304 ± 0.0357\n",
      "11:22:41 - INFO - AUC:    0.5563 ± 0.1284\n",
      "11:22:41 - INFO - \n",
      "/home/maweicheng/multimodel/evaluation.py:65: FutureWarning: You are using `torch.load` with `weights_only=False` (the current default value), which uses the default pickle module implicitly. It is possible to construct malicious pickle data which will execute arbitrary code during unpickling (See https://github.com/pytorch/pytorch/blob/main/SECURITY.md#untrusted-models for more details). In a future release, the default value for `weights_only` will be flipped to `True`. This limits the functions that could be executed during unpickling. Arbitrary objects will no longer be allowed to be loaded via this mode unless they are explicitly allowlisted by the user via `torch.serialization.add_safe_globals`. We recommend you start setting `weights_only=True` for any use case where you don't have full control of the loaded file. Please open an issue on GitHub for any issues related to this experimental feature.\n",
      "  model.load_state_dict(torch.load(model_path, map_location=self.args.device))\n",
      "11:22:41 - INFO - 单模型 Fold 10 测试集结果详情:\n",
      "11:22:41 - INFO -   样本数: 19\n",
      "11:22:41 - INFO -   预测分布: {np.int64(0): np.int64(3), np.int64(1): np.int64(16)}\n",
      "11:22:41 - INFO -   标签分布: {np.int64(0): np.int64(3), np.int64(1): np.int64(16)}\n",
      "11:22:41 - INFO -   概率范围: [0.2328, 0.9403]\n",
      "11:22:41 - INFO -   概率均值: 0.7229 ± 0.2026\n",
      "11:22:41 - INFO - ================================================================================\n",
      "11:22:41 - INFO - 独立测试集性能评估 - 跨fold平均结果:\n",
      "11:22:41 - INFO - 准确率: 0.7211 ± 0.0579\n",
      "11:22:41 - INFO - F1分数:  0.8304 ± 0.0357\n",
      "11:22:41 - INFO - AUC:    0.5563 ± 0.1284\n",
      "11:22:41 - INFO - \n",
      "11:22:41 - INFO - 各fold详细结果:\n",
      "11:22:41 - INFO -   Fold 1: Acc=0.6842, F1=0.8125, AUC=0.5625\n",
      "11:22:41 - INFO -   Fold 2: Acc=0.6316, F1=0.7742, AUC=0.5833\n",
      "11:22:41 - INFO -   Fold 3: Acc=0.7368, F1=0.8387, AUC=0.6042\n",
      "11:22:41 - INFO -   Fold 4: Acc=0.8421, F1=0.9091, AUC=0.6875\n",
      "11:22:41 - INFO -   Fold 5: Acc=0.7368, F1=0.8387, AUC=0.5208\n",
      "11:22:41 - INFO -   Fold 6: Acc=0.6842, F1=0.8000, AUC=0.3542\n",
      "11:22:41 - INFO -   Fold 7: Acc=0.6842, F1=0.8125, AUC=0.2917\n",
      "11:22:41 - INFO -   Fold 8: Acc=0.7368, F1=0.8387, AUC=0.7083\n",
      "11:22:41 - INFO -   Fold 9: Acc=0.7895, F1=0.8667, AUC=0.6250\n",
      "11:22:41 - INFO -   Fold 10: Acc=0.6842, F1=0.8125, AUC=0.6250\n",
      "11:22:41 - INFO - ================================================================================\n",
      "11:22:41 - INFO - ============================================================\n",
      "11:22:41 - INFO - 测试集评估结果 (跨所有fold统计):\n",
      "11:22:41 - INFO - 各fold详细结果:\n",
      "11:22:41 - INFO -   Fold 1: Acc=0.6842, F1=0.8125, AUC=0.5625\n",
      "11:22:41 - INFO -   Fold 2: Acc=0.6316, F1=0.7742, AUC=0.5833\n",
      "11:22:41 - INFO -   Fold 3: Acc=0.7368, F1=0.8387, AUC=0.6042\n",
      "11:22:41 - INFO -   Fold 4: Acc=0.8421, F1=0.9091, AUC=0.6875\n",
      "11:22:41 - INFO -   Fold 5: Acc=0.7368, F1=0.8387, AUC=0.5208\n",
      "11:22:41 - INFO -   Fold 6: Acc=0.6842, F1=0.8000, AUC=0.3542\n",
      "11:22:41 - INFO -   Fold 7: Acc=0.6842, F1=0.8125, AUC=0.2917\n",
      "11:22:41 - INFO -   Fold 8: Acc=0.7368, F1=0.8387, AUC=0.7083\n",
      "11:22:41 - INFO -   Fold 9: Acc=0.7895, F1=0.8667, AUC=0.6250\n",
      "11:22:41 - INFO -   Fold 10: Acc=0.6842, F1=0.8125, AUC=0.6250\n",
      "11:22:41 - INFO - ================================================================================\n",
      "11:22:41 - INFO - ============================================================\n",
      "11:22:41 - INFO - 测试集评估结果 (跨所有fold统计):\n",
      "11:22:41 - INFO - 准确率: 0.8136 ± 0.1281\n",
      "11:22:41 - INFO - F1 Score: 0.8841 ± 0.0886\n",
      "11:22:41 - INFO - AUC: 0.8500 ± 0.1305\n",
      "11:22:41 - INFO - 使用fold数: 10\n",
      "11:22:41 - INFO - ============================================================\n",
      "11:22:41 - INFO - \n",
      "各fold详细结果:\n",
      "11:22:41 - INFO - Fold 0: 准确率=0.8235, F1=0.8966, AUC=0.7857\n",
      "11:22:41 - INFO - Fold 1: 准确率=0.9375, F1=0.9655, AUC=1.0000\n",
      "11:22:41 - INFO - Fold 2: 准确率=0.8125, F1=0.8889, AUC=0.9286\n",
      "11:22:41 - INFO - Fold 3: 准确率=0.8750, F1=0.9286, AUC=0.7857\n",
      "11:22:41 - INFO - Fold 4: 准确率=0.8750, F1=0.9286, AUC=0.9286\n",
      "11:22:41 - INFO - Fold 5: 准确率=0.7500, F1=0.8571, AUC=0.6786\n",
      "11:22:41 - INFO - Fold 6: 准确率=0.8750, F1=0.9286, AUC=0.7500\n",
      "11:22:41 - INFO - Fold 7: 准确率=1.0000, F1=1.0000, AUC=1.0000\n",
      "11:22:41 - INFO - Fold 8: 准确率=0.5625, F1=0.7200, AUC=0.6429\n",
      "11:22:41 - INFO - 准确率: 0.8136 ± 0.1281\n",
      "11:22:41 - INFO - F1 Score: 0.8841 ± 0.0886\n",
      "11:22:41 - INFO - AUC: 0.8500 ± 0.1305\n",
      "11:22:41 - INFO - 使用fold数: 10\n",
      "11:22:41 - INFO - ============================================================\n",
      "11:22:41 - INFO - \n",
      "各fold详细结果:\n",
      "11:22:41 - INFO - Fold 0: 准确率=0.8235, F1=0.8966, AUC=0.7857\n",
      "11:22:41 - INFO - Fold 1: 准确率=0.9375, F1=0.9655, AUC=1.0000\n",
      "11:22:41 - INFO - Fold 2: 准确率=0.8125, F1=0.8889, AUC=0.9286\n",
      "11:22:41 - INFO - Fold 3: 准确率=0.8750, F1=0.9286, AUC=0.7857\n",
      "11:22:41 - INFO - Fold 4: 准确率=0.8750, F1=0.9286, AUC=0.9286\n",
      "11:22:41 - INFO - Fold 5: 准确率=0.7500, F1=0.8571, AUC=0.6786\n",
      "11:22:41 - INFO - Fold 6: 准确率=0.8750, F1=0.9286, AUC=0.7500\n",
      "11:22:41 - INFO - Fold 7: 准确率=1.0000, F1=1.0000, AUC=1.0000\n",
      "11:22:41 - INFO - Fold 8: 准确率=0.5625, F1=0.7200, AUC=0.6429\n",
      "11:22:41 - INFO - Fold 9: 准确率=0.6250, F1=0.7273, AUC=1.0000\n",
      "11:22:41 - INFO - Fold 9: 准确率=0.6250, F1=0.7273, AUC=1.0000\n",
      "11:22:41 - INFO - \n",
      "最终测试集评估结果 (样本数: 19)\n",
      "11:22:41 - INFO - 平均AUC: 0.8500 ± 0.1305 (跨10个fold)\n",
      "11:22:41 - INFO - 平均F1: 0.8841 ± 0.0886\n",
      "11:22:41 - INFO - 平均准确率: 0.8136 ± 0.1281\n",
      "11:22:41 - INFO - 训练完成!\n",
      "11:22:41 - INFO - \n",
      "最终测试集评估结果 (样本数: 19)\n",
      "11:22:41 - INFO - 平均AUC: 0.8500 ± 0.1305 (跨10个fold)\n",
      "11:22:41 - INFO - 平均F1: 0.8841 ± 0.0886\n",
      "11:22:41 - INFO - 平均准确率: 0.8136 ± 0.1281\n",
      "11:22:41 - INFO - 训练完成!\n"
     ]
    }
   ],
   "source": [
    "%run main.py \\\n",
    "    --modalities Frag PFE NDR NDR2K \\\n",
    "    --data_file /home/maweicheng/database/cancer_subtype/train.npz \\\n",
    "    --test_file /home/maweicheng/database/cancer_subtype/test.npz \\\n",
    "    --ct_model_path /home/maweicheng/multimodel/CT/cv_checkpoints/res_best_0.88.pth \\\n",
    "    --epochs 50 \\\n",
    "    --batch_size 6 \\\n",
    "    --lr 5e-5 \\\n",
    "    --k_folds 10 \\\n",
    "    --use_test_set \\\n",
    "    --latent_dim 512 \\\n",
    "    --finetune_ct \\\n",
    "    --output_dir ./results/cancer_subtype/ \\\n",
    "    --strong_augment \\\n",
    "    --analyze_errors"
   ]
  },
  {
   "cell_type": "markdown",
   "id": "97da5fd8",
   "metadata": {},
   "source": [
    "#### 特征选择配置（PCA降维）"
   ]
  },
  {
   "cell_type": "code",
   "execution_count": null,
   "id": "2b346974",
   "metadata": {},
   "outputs": [
    {
     "name": "stderr",
     "output_type": "stream",
     "text": [
      "10:59:12 - INFO - 随机种子设置为: 42\n",
      "10:59:12 - INFO - 使用设备: cuda\n",
      "10:59:12 - INFO - 使用模态: ['Frag', 'PFE', 'NDR', 'NDR2K']\n",
      "10:59:12 - INFO - 创建cfDNA特征选择器...\n",
      "10:59:12 - INFO - 使用设备: cuda\n",
      "10:59:12 - INFO - 使用模态: ['Frag', 'PFE', 'NDR', 'NDR2K']\n",
      "10:59:12 - INFO - 创建cfDNA特征选择器...\n"
     ]
    },
    {
     "name": "stdout",
     "output_type": "stream",
     "text": [
      "🔧 Frag: 888特征\n",
      "🔄 Frag使用PCA降维: 888 -> 100 维\n",
      "✅ Frag: 888 -> 100\n",
      "🔧 PFE: 19415特征\n",
      "🔄 PFE使用PCA降维: 19,415 -> 100 维\n",
      "✅ PFE: 19,415 -> 100\n",
      "🔧 NDR: 19434特征\n",
      "🔄 NDR使用PCA降维: 19,434 -> 100 维\n",
      "✅ NDR: 19,434 -> 100\n",
      "✅ PFE: 19,415 -> 100\n",
      "🔧 NDR: 19434特征\n",
      "🔄 NDR使用PCA降维: 19,434 -> 100 维\n",
      "✅ NDR: 19,434 -> 100\n",
      "🔧 NDR2K: 19434特征\n",
      "🔄 NDR2K使用PCA降维: 19,434 -> 100 维\n",
      "✅ NDR2K: 19,434 -> 100\n",
      "🔧 NDR2K: 19434特征\n",
      "🔄 NDR2K使用PCA降维: 19,434 -> 100 维\n",
      "✅ NDR2K: 19,434 -> 100\n"
     ]
    },
    {
     "name": "stderr",
     "output_type": "stream",
     "text": [
      "10:59:13 - INFO - 特征选择方法: pca, 每个模态保留: 100 个特征\n"
     ]
    },
    {
     "name": "stdout",
     "output_type": "stream",
     "text": [
      "\n",
      "🎯 特征选择总结 (pca):\n",
      "  📊 总特征数: 59,171 -> 400\n",
      "  📉 压缩率: 99.3%\n",
      "  🔢 每模态平均: 100 特征\n",
      "\n"
     ]
    },
    {
     "name": "stderr",
     "output_type": "stream",
     "text": [
      "10:59:14 - INFO - 加载训练数据: /home/maweicheng/database/cancer_subtype/train.npz, 样本数: 161\n",
      "10:59:14 - INFO - 标签分布: (array([0, 1]), array([ 21, 140]))\n",
      "10:59:14 - INFO - 运行交叉验证\n",
      "10:59:14 - INFO - 开始10折交叉验证\n",
      "10:59:14 - INFO - 结果保存到: ./results/cancer_subtype/cv_results_20251014_105914\n",
      "10:59:14 - INFO - Frag特征维度: 100\n",
      "10:59:14 - INFO - PFE特征维度: 100\n",
      "10:59:14 - INFO - NDR特征维度: 100\n",
      "10:59:14 - INFO - NDR2K特征维度: 100\n",
      "10:59:14 - INFO - \n",
      "=============== Fold 1/10 ===============\n",
      "10:59:14 - INFO - 标签分布: (array([0, 1]), array([ 21, 140]))\n",
      "10:59:14 - INFO - 运行交叉验证\n",
      "10:59:14 - INFO - 开始10折交叉验证\n",
      "10:59:14 - INFO - 结果保存到: ./results/cancer_subtype/cv_results_20251014_105914\n",
      "10:59:14 - INFO - Frag特征维度: 100\n",
      "10:59:14 - INFO - PFE特征维度: 100\n",
      "10:59:14 - INFO - NDR特征维度: 100\n",
      "10:59:14 - INFO - NDR2K特征维度: 100\n",
      "10:59:14 - INFO - \n",
      "=============== Fold 1/10 ===============\n",
      "/home/maweicheng/multimodel/training_utils.py:545: FutureWarning: You are using `torch.load` with `weights_only=False` (the current default value), which uses the default pickle module implicitly. It is possible to construct malicious pickle data which will execute arbitrary code during unpickling (See https://github.com/pytorch/pytorch/blob/main/SECURITY.md#untrusted-models for more details). In a future release, the default value for `weights_only` will be flipped to `True`. This limits the functions that could be executed during unpickling. Arbitrary objects will no longer be allowed to be loaded via this mode unless they are explicitly allowlisted by the user via `torch.serialization.add_safe_globals`. We recommend you start setting `weights_only=True` for any use case where you don't have full control of the loaded file. Please open an issue on GitHub for any issues related to this experimental feature.\n",
      "  checkpoint = torch.load(ct_model_path, map_location=device)\n",
      "/home/maweicheng/multimodel/training_utils.py:545: FutureWarning: You are using `torch.load` with `weights_only=False` (the current default value), which uses the default pickle module implicitly. It is possible to construct malicious pickle data which will execute arbitrary code during unpickling (See https://github.com/pytorch/pytorch/blob/main/SECURITY.md#untrusted-models for more details). In a future release, the default value for `weights_only` will be flipped to `True`. This limits the functions that could be executed during unpickling. Arbitrary objects will no longer be allowed to be loaded via this mode unless they are explicitly allowlisted by the user via `torch.serialization.add_safe_globals`. We recommend you start setting `weights_only=True` for any use case where you don't have full control of the loaded file. Please open an issue on GitHub for any issues related to this experimental feature.\n",
      "  checkpoint = torch.load(ct_model_path, map_location=device)\n"
     ]
    },
    {
     "name": "stdout",
     "output_type": "stream",
     "text": [
      "Class distribution: {1: 126, 0: 18}\n",
      "Auto-calculated class weights: ['4.000', '0.571']\n",
      "Using weighted CrossEntropyLoss with weights: ['4.000', '0.571']\n"
     ]
    },
    {
     "name": "stderr",
     "output_type": "stream",
     "text": [
      "11:00:20 - INFO - Fold 1 完成 - Acc: 0.6471, AUC: 0.7381, F1: 0.7692, Train_Loss: 0.0592, Val_Loss: 0.7168                       \n",
      "11:00:20 - INFO - Fold 1 完成 - Acc: 0.6471, AUC: 0.7381, F1: 0.7692, Train_Loss: 0.0592, Val_Loss: 0.7168\n"
     ]
    },
    {
     "name": "stdout",
     "output_type": "stream",
     "text": [
      "📊 ROC曲线已保存: ./results/cancer_subtype/cv_results_20251014_105914/roc_curve_fold_1.png\n"
     ]
    },
    {
     "name": "stderr",
     "output_type": "stream",
     "text": [
      "11:00:21 - INFO - \n",
      "=============== Fold 2/10 ===============\n"
     ]
    },
    {
     "name": "stdout",
     "output_type": "stream",
     "text": [
      "📊 训练曲线已保存: ./results/cancer_subtype/cv_results_20251014_105914/results/training_curves_fold_1.png\n"
     ]
    },
    {
     "name": "stderr",
     "output_type": "stream",
     "text": [
      "/home/maweicheng/multimodel/training_utils.py:545: FutureWarning: You are using `torch.load` with `weights_only=False` (the current default value), which uses the default pickle module implicitly. It is possible to construct malicious pickle data which will execute arbitrary code during unpickling (See https://github.com/pytorch/pytorch/blob/main/SECURITY.md#untrusted-models for more details). In a future release, the default value for `weights_only` will be flipped to `True`. This limits the functions that could be executed during unpickling. Arbitrary objects will no longer be allowed to be loaded via this mode unless they are explicitly allowlisted by the user via `torch.serialization.add_safe_globals`. We recommend you start setting `weights_only=True` for any use case where you don't have full control of the loaded file. Please open an issue on GitHub for any issues related to this experimental feature.\n",
      "  checkpoint = torch.load(ct_model_path, map_location=device)\n"
     ]
    },
    {
     "name": "stdout",
     "output_type": "stream",
     "text": [
      "Class distribution: {1: 126, 0: 19}\n",
      "Auto-calculated class weights: ['3.816', '0.575']\n",
      "Using weighted CrossEntropyLoss with weights: ['3.816', '0.575']\n"
     ]
    },
    {
     "name": "stderr",
     "output_type": "stream",
     "text": [
      "11:01:29 - INFO - Fold 2 完成 - Acc: 0.9375, AUC: 1.0000, F1: 0.9655, Train_Loss: 0.1872, Val_Loss: 0.3482                       \n",
      "11:01:29 - INFO - Fold 2 完成 - Acc: 0.9375, AUC: 1.0000, F1: 0.9655, Train_Loss: 0.1872, Val_Loss: 0.3482\n"
     ]
    },
    {
     "name": "stdout",
     "output_type": "stream",
     "text": [
      "📊 ROC曲线已保存: ./results/cancer_subtype/cv_results_20251014_105914/roc_curve_fold_2.png\n"
     ]
    },
    {
     "name": "stderr",
     "output_type": "stream",
     "text": [
      "11:01:29 - INFO - \n",
      "=============== Fold 3/10 ===============\n"
     ]
    },
    {
     "name": "stdout",
     "output_type": "stream",
     "text": [
      "📊 训练曲线已保存: ./results/cancer_subtype/cv_results_20251014_105914/results/training_curves_fold_2.png\n"
     ]
    },
    {
     "name": "stderr",
     "output_type": "stream",
     "text": [
      "/home/maweicheng/multimodel/training_utils.py:545: FutureWarning: You are using `torch.load` with `weights_only=False` (the current default value), which uses the default pickle module implicitly. It is possible to construct malicious pickle data which will execute arbitrary code during unpickling (See https://github.com/pytorch/pytorch/blob/main/SECURITY.md#untrusted-models for more details). In a future release, the default value for `weights_only` will be flipped to `True`. This limits the functions that could be executed during unpickling. Arbitrary objects will no longer be allowed to be loaded via this mode unless they are explicitly allowlisted by the user via `torch.serialization.add_safe_globals`. We recommend you start setting `weights_only=True` for any use case where you don't have full control of the loaded file. Please open an issue on GitHub for any issues related to this experimental feature.\n",
      "  checkpoint = torch.load(ct_model_path, map_location=device)\n"
     ]
    },
    {
     "name": "stdout",
     "output_type": "stream",
     "text": [
      "Class distribution: {1: 126, 0: 19}\n",
      "Auto-calculated class weights: ['3.816', '0.575']\n",
      "Using weighted CrossEntropyLoss with weights: ['3.816', '0.575']\n"
     ]
    },
    {
     "name": "stderr",
     "output_type": "stream",
     "text": [
      "11:02:39 - INFO - Fold 3 完成 - Acc: 0.7500, AUC: 0.8571, F1: 0.8333, Train_Loss: 0.0707, Val_Loss: 0.6539                       \n",
      "11:02:39 - INFO - Fold 3 完成 - Acc: 0.7500, AUC: 0.8571, F1: 0.8333, Train_Loss: 0.0707, Val_Loss: 0.6539                       \n"
     ]
    },
    {
     "name": "stdout",
     "output_type": "stream",
     "text": [
      "📊 ROC曲线已保存: ./results/cancer_subtype/cv_results_20251014_105914/roc_curve_fold_3.png\n"
     ]
    },
    {
     "name": "stderr",
     "output_type": "stream",
     "text": [
      "11:02:40 - INFO - \n",
      "=============== Fold 4/10 ===============\n"
     ]
    },
    {
     "name": "stdout",
     "output_type": "stream",
     "text": [
      "📊 训练曲线已保存: ./results/cancer_subtype/cv_results_20251014_105914/results/training_curves_fold_3.png\n"
     ]
    },
    {
     "name": "stderr",
     "output_type": "stream",
     "text": [
      "/home/maweicheng/multimodel/training_utils.py:545: FutureWarning: You are using `torch.load` with `weights_only=False` (the current default value), which uses the default pickle module implicitly. It is possible to construct malicious pickle data which will execute arbitrary code during unpickling (See https://github.com/pytorch/pytorch/blob/main/SECURITY.md#untrusted-models for more details). In a future release, the default value for `weights_only` will be flipped to `True`. This limits the functions that could be executed during unpickling. Arbitrary objects will no longer be allowed to be loaded via this mode unless they are explicitly allowlisted by the user via `torch.serialization.add_safe_globals`. We recommend you start setting `weights_only=True` for any use case where you don't have full control of the loaded file. Please open an issue on GitHub for any issues related to this experimental feature.\n",
      "  checkpoint = torch.load(ct_model_path, map_location=device)\n"
     ]
    },
    {
     "name": "stdout",
     "output_type": "stream",
     "text": [
      "Class distribution: {0: 19, 1: 126}\n",
      "Auto-calculated class weights: ['3.816', '0.575']\n",
      "Using weighted CrossEntropyLoss with weights: ['3.816', '0.575']\n"
     ]
    },
    {
     "name": "stderr",
     "output_type": "stream",
     "text": [
      "11:03:48 - INFO - Fold 4 完成 - Acc: 0.8750, AUC: 0.7857, F1: 0.9286, Train_Loss: 0.0543, Val_Loss: 0.4921                       \n",
      "11:03:48 - INFO - Fold 4 完成 - Acc: 0.8750, AUC: 0.7857, F1: 0.9286, Train_Loss: 0.0543, Val_Loss: 0.4921\n"
     ]
    },
    {
     "name": "stdout",
     "output_type": "stream",
     "text": [
      "📊 ROC曲线已保存: ./results/cancer_subtype/cv_results_20251014_105914/roc_curve_fold_4.png\n"
     ]
    },
    {
     "name": "stderr",
     "output_type": "stream",
     "text": [
      "11:03:48 - INFO - \n",
      "=============== Fold 5/10 ===============\n"
     ]
    },
    {
     "name": "stdout",
     "output_type": "stream",
     "text": [
      "📊 训练曲线已保存: ./results/cancer_subtype/cv_results_20251014_105914/results/training_curves_fold_4.png\n"
     ]
    },
    {
     "name": "stderr",
     "output_type": "stream",
     "text": [
      "/home/maweicheng/multimodel/training_utils.py:545: FutureWarning: You are using `torch.load` with `weights_only=False` (the current default value), which uses the default pickle module implicitly. It is possible to construct malicious pickle data which will execute arbitrary code during unpickling (See https://github.com/pytorch/pytorch/blob/main/SECURITY.md#untrusted-models for more details). In a future release, the default value for `weights_only` will be flipped to `True`. This limits the functions that could be executed during unpickling. Arbitrary objects will no longer be allowed to be loaded via this mode unless they are explicitly allowlisted by the user via `torch.serialization.add_safe_globals`. We recommend you start setting `weights_only=True` for any use case where you don't have full control of the loaded file. Please open an issue on GitHub for any issues related to this experimental feature.\n",
      "  checkpoint = torch.load(ct_model_path, map_location=device)\n"
     ]
    },
    {
     "name": "stdout",
     "output_type": "stream",
     "text": [
      "Class distribution: {1: 126, 0: 19}\n",
      "Auto-calculated class weights: ['3.816', '0.575']\n",
      "Using weighted CrossEntropyLoss with weights: ['3.816', '0.575']\n"
     ]
    },
    {
     "name": "stderr",
     "output_type": "stream",
     "text": [
      "11:04:57 - INFO - Fold 5 完成 - Acc: 0.7500, AUC: 0.9286, F1: 0.8333, Train_Loss: 0.0648, Val_Loss: 0.3531                       \n",
      "11:04:57 - INFO - Fold 5 完成 - Acc: 0.7500, AUC: 0.9286, F1: 0.8333, Train_Loss: 0.0648, Val_Loss: 0.3531                       \n"
     ]
    },
    {
     "name": "stdout",
     "output_type": "stream",
     "text": [
      "📊 ROC曲线已保存: ./results/cancer_subtype/cv_results_20251014_105914/roc_curve_fold_5.png\n"
     ]
    },
    {
     "name": "stderr",
     "output_type": "stream",
     "text": [
      "11:04:58 - INFO - \n",
      "=============== Fold 6/10 ===============\n"
     ]
    },
    {
     "name": "stdout",
     "output_type": "stream",
     "text": [
      "📊 训练曲线已保存: ./results/cancer_subtype/cv_results_20251014_105914/results/training_curves_fold_5.png\n"
     ]
    },
    {
     "name": "stderr",
     "output_type": "stream",
     "text": [
      "/home/maweicheng/multimodel/training_utils.py:545: FutureWarning: You are using `torch.load` with `weights_only=False` (the current default value), which uses the default pickle module implicitly. It is possible to construct malicious pickle data which will execute arbitrary code during unpickling (See https://github.com/pytorch/pytorch/blob/main/SECURITY.md#untrusted-models for more details). In a future release, the default value for `weights_only` will be flipped to `True`. This limits the functions that could be executed during unpickling. Arbitrary objects will no longer be allowed to be loaded via this mode unless they are explicitly allowlisted by the user via `torch.serialization.add_safe_globals`. We recommend you start setting `weights_only=True` for any use case where you don't have full control of the loaded file. Please open an issue on GitHub for any issues related to this experimental feature.\n",
      "  checkpoint = torch.load(ct_model_path, map_location=device)\n"
     ]
    },
    {
     "name": "stdout",
     "output_type": "stream",
     "text": [
      "Class distribution: {1: 126, 0: 19}\n",
      "Auto-calculated class weights: ['3.816', '0.575']\n",
      "Using weighted CrossEntropyLoss with weights: ['3.816', '0.575']\n"
     ]
    },
    {
     "name": "stderr",
     "output_type": "stream",
     "text": [
      "11:06:05 - INFO - Fold 6 完成 - Acc: 0.9375, AUC: 0.9286, F1: 0.9630, Train_Loss: 0.0590, Val_Loss: 0.4566                        \n",
      "11:06:05 - INFO - Fold 6 完成 - Acc: 0.9375, AUC: 0.9286, F1: 0.9630, Train_Loss: 0.0590, Val_Loss: 0.4566                       \n"
     ]
    },
    {
     "name": "stdout",
     "output_type": "stream",
     "text": [
      "📊 ROC曲线已保存: ./results/cancer_subtype/cv_results_20251014_105914/roc_curve_fold_6.png\n"
     ]
    },
    {
     "name": "stderr",
     "output_type": "stream",
     "text": [
      "11:06:06 - INFO - \n",
      "=============== Fold 7/10 ===============\n"
     ]
    },
    {
     "name": "stdout",
     "output_type": "stream",
     "text": [
      "📊 训练曲线已保存: ./results/cancer_subtype/cv_results_20251014_105914/results/training_curves_fold_6.png\n"
     ]
    },
    {
     "name": "stderr",
     "output_type": "stream",
     "text": [
      "/home/maweicheng/multimodel/training_utils.py:545: FutureWarning: You are using `torch.load` with `weights_only=False` (the current default value), which uses the default pickle module implicitly. It is possible to construct malicious pickle data which will execute arbitrary code during unpickling (See https://github.com/pytorch/pytorch/blob/main/SECURITY.md#untrusted-models for more details). In a future release, the default value for `weights_only` will be flipped to `True`. This limits the functions that could be executed during unpickling. Arbitrary objects will no longer be allowed to be loaded via this mode unless they are explicitly allowlisted by the user via `torch.serialization.add_safe_globals`. We recommend you start setting `weights_only=True` for any use case where you don't have full control of the loaded file. Please open an issue on GitHub for any issues related to this experimental feature.\n",
      "  checkpoint = torch.load(ct_model_path, map_location=device)\n"
     ]
    },
    {
     "name": "stdout",
     "output_type": "stream",
     "text": [
      "Class distribution: {1: 126, 0: 19}\n",
      "Auto-calculated class weights: ['3.816', '0.575']\n",
      "Using weighted CrossEntropyLoss with weights: ['3.816', '0.575']\n"
     ]
    },
    {
     "name": "stderr",
     "output_type": "stream",
     "text": [
      "11:07:14 - INFO - Fold 7 完成 - Acc: 0.8125, AUC: 0.6071, F1: 0.8966, Train_Loss: 0.1114, Val_Loss: 0.6306                       \n",
      "11:07:14 - INFO - Fold 7 完成 - Acc: 0.8125, AUC: 0.6071, F1: 0.8966, Train_Loss: 0.1114, Val_Loss: 0.6306                       \n"
     ]
    },
    {
     "name": "stdout",
     "output_type": "stream",
     "text": [
      "📊 ROC曲线已保存: ./results/cancer_subtype/cv_results_20251014_105914/roc_curve_fold_7.png\n"
     ]
    },
    {
     "name": "stderr",
     "output_type": "stream",
     "text": [
      "11:07:15 - INFO - \n",
      "=============== Fold 8/10 ===============\n"
     ]
    },
    {
     "name": "stdout",
     "output_type": "stream",
     "text": [
      "📊 训练曲线已保存: ./results/cancer_subtype/cv_results_20251014_105914/results/training_curves_fold_7.png\n"
     ]
    },
    {
     "name": "stderr",
     "output_type": "stream",
     "text": [
      "/home/maweicheng/multimodel/training_utils.py:545: FutureWarning: You are using `torch.load` with `weights_only=False` (the current default value), which uses the default pickle module implicitly. It is possible to construct malicious pickle data which will execute arbitrary code during unpickling (See https://github.com/pytorch/pytorch/blob/main/SECURITY.md#untrusted-models for more details). In a future release, the default value for `weights_only` will be flipped to `True`. This limits the functions that could be executed during unpickling. Arbitrary objects will no longer be allowed to be loaded via this mode unless they are explicitly allowlisted by the user via `torch.serialization.add_safe_globals`. We recommend you start setting `weights_only=True` for any use case where you don't have full control of the loaded file. Please open an issue on GitHub for any issues related to this experimental feature.\n",
      "  checkpoint = torch.load(ct_model_path, map_location=device)\n"
     ]
    },
    {
     "name": "stdout",
     "output_type": "stream",
     "text": [
      "Class distribution: {1: 126, 0: 19}\n",
      "Auto-calculated class weights: ['3.816', '0.575']\n",
      "Using weighted CrossEntropyLoss with weights: ['3.816', '0.575']\n"
     ]
    },
    {
     "name": "stderr",
     "output_type": "stream",
     "text": [
      "11:08:23 - INFO - Fold 8 完成 - Acc: 0.8750, AUC: 1.0000, F1: 0.9231, Train_Loss: 0.1138, Val_Loss: 0.3583                       \n",
      "11:08:23 - INFO - Fold 8 完成 - Acc: 0.8750, AUC: 1.0000, F1: 0.9231, Train_Loss: 0.1138, Val_Loss: 0.3583\n"
     ]
    },
    {
     "name": "stdout",
     "output_type": "stream",
     "text": [
      "📊 ROC曲线已保存: ./results/cancer_subtype/cv_results_20251014_105914/roc_curve_fold_8.png\n"
     ]
    },
    {
     "name": "stderr",
     "output_type": "stream",
     "text": [
      "11:08:24 - INFO - \n",
      "=============== Fold 9/10 ===============\n"
     ]
    },
    {
     "name": "stdout",
     "output_type": "stream",
     "text": [
      "📊 训练曲线已保存: ./results/cancer_subtype/cv_results_20251014_105914/results/training_curves_fold_8.png\n"
     ]
    },
    {
     "name": "stderr",
     "output_type": "stream",
     "text": [
      "/home/maweicheng/multimodel/training_utils.py:545: FutureWarning: You are using `torch.load` with `weights_only=False` (the current default value), which uses the default pickle module implicitly. It is possible to construct malicious pickle data which will execute arbitrary code during unpickling (See https://github.com/pytorch/pytorch/blob/main/SECURITY.md#untrusted-models for more details). In a future release, the default value for `weights_only` will be flipped to `True`. This limits the functions that could be executed during unpickling. Arbitrary objects will no longer be allowed to be loaded via this mode unless they are explicitly allowlisted by the user via `torch.serialization.add_safe_globals`. We recommend you start setting `weights_only=True` for any use case where you don't have full control of the loaded file. Please open an issue on GitHub for any issues related to this experimental feature.\n",
      "  checkpoint = torch.load(ct_model_path, map_location=device)\n"
     ]
    },
    {
     "name": "stdout",
     "output_type": "stream",
     "text": [
      "Class distribution: {1: 126, 0: 19}\n",
      "Auto-calculated class weights: ['3.816', '0.575']\n",
      "Using weighted CrossEntropyLoss with weights: ['3.816', '0.575']\n"
     ]
    },
    {
     "name": "stderr",
     "output_type": "stream",
     "text": [
      "11:09:34 - INFO - Fold 9 完成 - Acc: 0.8125, AUC: 0.6429, F1: 0.8966, Train_Loss: 0.0976, Val_Loss: 0.9125                        \n",
      "11:09:34 - INFO - Fold 9 完成 - Acc: 0.8125, AUC: 0.6429, F1: 0.8966, Train_Loss: 0.0976, Val_Loss: 0.9125\n"
     ]
    },
    {
     "name": "stdout",
     "output_type": "stream",
     "text": [
      "📊 ROC曲线已保存: ./results/cancer_subtype/cv_results_20251014_105914/roc_curve_fold_9.png\n"
     ]
    },
    {
     "name": "stderr",
     "output_type": "stream",
     "text": [
      "11:09:35 - INFO - \n",
      "=============== Fold 10/10 ===============\n"
     ]
    },
    {
     "name": "stdout",
     "output_type": "stream",
     "text": [
      "📊 训练曲线已保存: ./results/cancer_subtype/cv_results_20251014_105914/results/training_curves_fold_9.png\n"
     ]
    },
    {
     "name": "stderr",
     "output_type": "stream",
     "text": [
      "/home/maweicheng/multimodel/training_utils.py:545: FutureWarning: You are using `torch.load` with `weights_only=False` (the current default value), which uses the default pickle module implicitly. It is possible to construct malicious pickle data which will execute arbitrary code during unpickling (See https://github.com/pytorch/pytorch/blob/main/SECURITY.md#untrusted-models for more details). In a future release, the default value for `weights_only` will be flipped to `True`. This limits the functions that could be executed during unpickling. Arbitrary objects will no longer be allowed to be loaded via this mode unless they are explicitly allowlisted by the user via `torch.serialization.add_safe_globals`. We recommend you start setting `weights_only=True` for any use case where you don't have full control of the loaded file. Please open an issue on GitHub for any issues related to this experimental feature.\n",
      "  checkpoint = torch.load(ct_model_path, map_location=device)\n"
     ]
    },
    {
     "name": "stdout",
     "output_type": "stream",
     "text": [
      "Class distribution: {1: 126, 0: 19}\n",
      "Auto-calculated class weights: ['3.816', '0.575']\n",
      "Using weighted CrossEntropyLoss with weights: ['3.816', '0.575']\n"
     ]
    },
    {
     "name": "stderr",
     "output_type": "stream",
     "text": [
      "11:10:43 - INFO - Fold 10 完成 - Acc: 0.7500, AUC: 1.0000, F1: 0.8333, Train_Loss: 0.0654, Val_Loss: 0.3934                       \n",
      "11:10:43 - INFO - Fold 10 完成 - Acc: 0.7500, AUC: 1.0000, F1: 0.8333, Train_Loss: 0.0654, Val_Loss: 0.3934                       \n"
     ]
    },
    {
     "name": "stdout",
     "output_type": "stream",
     "text": [
      "📊 ROC曲线已保存: ./results/cancer_subtype/cv_results_20251014_105914/roc_curve_fold_10.png\n"
     ]
    },
    {
     "name": "stderr",
     "output_type": "stream",
     "text": [
      "11:10:44 - INFO - \n",
      "交叉验证结果:\n",
      "11:10:44 - INFO - 交叉验证完成！结果已保存到: ./results/cancer_subtype/cv_results_20251014_105914\n",
      "11:10:44 - INFO - 交叉验证完成！结果已保存到: ./results/cancer_subtype/cv_results_20251014_105914\n"
     ]
    },
    {
     "name": "stdout",
     "output_type": "stream",
     "text": [
      "📊 训练曲线已保存: ./results/cancer_subtype/cv_results_20251014_105914/results/training_curves_fold_10.png\n",
      "+--------+-----------------+-----------------+-----------------+--------------+\n",
      "| Fold   | Accuracy        | F1 Score        | AUC Score       | Best Epoch   |\n",
      "+========+=================+=================+=================+==============+\n",
      "| 1      | 0.6471          | 0.7692          | 0.7381          | 28           |\n",
      "+--------+-----------------+-----------------+-----------------+--------------+\n",
      "| 2      | 0.9375          | 0.9655          | 1.0000          | 2            |\n",
      "+--------+-----------------+-----------------+-----------------+--------------+\n",
      "| 3      | 0.7500          | 0.8333          | 0.8571          | 42           |\n",
      "+--------+-----------------+-----------------+-----------------+--------------+\n",
      "| 4      | 0.8750          | 0.9286          | 0.7857          | 1            |\n",
      "+--------+-----------------+-----------------+-----------------+--------------+\n",
      "| 5      | 0.7500          | 0.8333          | 0.9286          | 8            |\n",
      "+--------+-----------------+-----------------+-----------------+--------------+\n",
      "| 6      | 0.9375          | 0.9630          | 0.9286          | 1            |\n",
      "+--------+-----------------+-----------------+-----------------+--------------+\n",
      "| 7      | 0.8125          | 0.8966          | 0.6071          | 3            |\n",
      "+--------+-----------------+-----------------+-----------------+--------------+\n",
      "| 8      | 0.8750          | 0.9231          | 1.0000          | 1            |\n",
      "+--------+-----------------+-----------------+-----------------+--------------+\n",
      "| 9      | 0.8125          | 0.8966          | 0.6429          | 7            |\n",
      "+--------+-----------------+-----------------+-----------------+--------------+\n",
      "| 10     | 0.7500          | 0.8333          | 1.0000          | 2            |\n",
      "+--------+-----------------+-----------------+-----------------+--------------+\n",
      "| 平均值 | 0.8147 ± 0.0884 | 0.8842 ± 0.0613 | 0.8488 ± 0.1409 | -            |\n",
      "+--------+-----------------+-----------------+-----------------+--------------+\n"
     ]
    },
    {
     "name": "stderr",
     "output_type": "stream",
     "text": [
      "11:10:46 - INFO - 开始独立测试集评估...\n",
      "11:10:46 - INFO - 开始独立测试集评估: /home/maweicheng/database/cancer_subtype/test.npz\n",
      "11:10:46 - INFO - 开始独立测试集评估: /home/maweicheng/database/cancer_subtype/test.npz\n",
      "11:10:46 - INFO - 测试集加载成功，样本数: 19\n",
      "11:10:46 - INFO - 在独立测试集上评估所有fold模型...\n",
      "11:10:46 - INFO -   评估 Fold 1...\n",
      "11:10:46 - INFO - 测试集加载成功，样本数: 19\n",
      "11:10:46 - INFO - 在独立测试集上评估所有fold模型...\n",
      "11:10:46 - INFO -   评估 Fold 1...\n"
     ]
    },
    {
     "name": "stdout",
     "output_type": "stream",
     "text": [
      "📊 交叉验证曲线已保存: ./results/cancer_subtype/cv_results_20251014_105914/results/cross_validation_curves.png\n"
     ]
    },
    {
     "name": "stderr",
     "output_type": "stream",
     "text": [
      "/home/maweicheng/multimodel/training_utils.py:545: FutureWarning: You are using `torch.load` with `weights_only=False` (the current default value), which uses the default pickle module implicitly. It is possible to construct malicious pickle data which will execute arbitrary code during unpickling (See https://github.com/pytorch/pytorch/blob/main/SECURITY.md#untrusted-models for more details). In a future release, the default value for `weights_only` will be flipped to `True`. This limits the functions that could be executed during unpickling. Arbitrary objects will no longer be allowed to be loaded via this mode unless they are explicitly allowlisted by the user via `torch.serialization.add_safe_globals`. We recommend you start setting `weights_only=True` for any use case where you don't have full control of the loaded file. Please open an issue on GitHub for any issues related to this experimental feature.\n",
      "  checkpoint = torch.load(ct_model_path, map_location=device)\n",
      "/home/maweicheng/multimodel/evaluation.py:65: FutureWarning: You are using `torch.load` with `weights_only=False` (the current default value), which uses the default pickle module implicitly. It is possible to construct malicious pickle data which will execute arbitrary code during unpickling (See https://github.com/pytorch/pytorch/blob/main/SECURITY.md#untrusted-models for more details). In a future release, the default value for `weights_only` will be flipped to `True`. This limits the functions that could be executed during unpickling. Arbitrary objects will no longer be allowed to be loaded via this mode unless they are explicitly allowlisted by the user via `torch.serialization.add_safe_globals`. We recommend you start setting `weights_only=True` for any use case where you don't have full control of the loaded file. Please open an issue on GitHub for any issues related to this experimental feature.\n",
      "  model.load_state_dict(torch.load(model_path, map_location=self.args.device))\n",
      "11:10:46 - INFO - 单模型 Fold 1 测试集结果详情:\n",
      "11:10:46 - INFO -   样本数: 19\n",
      "11:10:46 - INFO -   预测分布: {np.int64(0): np.int64(6), np.int64(1): np.int64(13)}\n",
      "11:10:46 - INFO -   标签分布: {np.int64(0): np.int64(3), np.int64(1): np.int64(16)}\n",
      "11:10:46 - INFO -   概率范围: [0.0409, 0.9855]\n",
      "11:10:46 - INFO -   概率均值: 0.6939 ± 0.3612\n",
      "11:10:46 - INFO -   评估 Fold 2...\n",
      "/home/maweicheng/multimodel/evaluation.py:65: FutureWarning: You are using `torch.load` with `weights_only=False` (the current default value), which uses the default pickle module implicitly. It is possible to construct malicious pickle data which will execute arbitrary code during unpickling (See https://github.com/pytorch/pytorch/blob/main/SECURITY.md#untrusted-models for more details). In a future release, the default value for `weights_only` will be flipped to `True`. This limits the functions that could be executed during unpickling. Arbitrary objects will no longer be allowed to be loaded via this mode unless they are explicitly allowlisted by the user via `torch.serialization.add_safe_globals`. We recommend you start setting `weights_only=True` for any use case where you don't have full control of the loaded file. Please open an issue on GitHub for any issues related to this experimental feature.\n",
      "  model.load_state_dict(torch.load(model_path, map_location=self.args.device))\n",
      "11:10:46 - INFO - 单模型 Fold 1 测试集结果详情:\n",
      "11:10:46 - INFO -   样本数: 19\n",
      "11:10:46 - INFO -   预测分布: {np.int64(0): np.int64(6), np.int64(1): np.int64(13)}\n",
      "11:10:46 - INFO -   标签分布: {np.int64(0): np.int64(3), np.int64(1): np.int64(16)}\n",
      "11:10:46 - INFO -   概率范围: [0.0409, 0.9855]\n",
      "11:10:46 - INFO -   概率均值: 0.6939 ± 0.3612\n",
      "11:10:46 - INFO -   评估 Fold 2...\n",
      "/home/maweicheng/multimodel/training_utils.py:545: FutureWarning: You are using `torch.load` with `weights_only=False` (the current default value), which uses the default pickle module implicitly. It is possible to construct malicious pickle data which will execute arbitrary code during unpickling (See https://github.com/pytorch/pytorch/blob/main/SECURITY.md#untrusted-models for more details). In a future release, the default value for `weights_only` will be flipped to `True`. This limits the functions that could be executed during unpickling. Arbitrary objects will no longer be allowed to be loaded via this mode unless they are explicitly allowlisted by the user via `torch.serialization.add_safe_globals`. We recommend you start setting `weights_only=True` for any use case where you don't have full control of the loaded file. Please open an issue on GitHub for any issues related to this experimental feature.\n",
      "  checkpoint = torch.load(ct_model_path, map_location=device)\n",
      "/home/maweicheng/multimodel/training_utils.py:545: FutureWarning: You are using `torch.load` with `weights_only=False` (the current default value), which uses the default pickle module implicitly. It is possible to construct malicious pickle data which will execute arbitrary code during unpickling (See https://github.com/pytorch/pytorch/blob/main/SECURITY.md#untrusted-models for more details). In a future release, the default value for `weights_only` will be flipped to `True`. This limits the functions that could be executed during unpickling. Arbitrary objects will no longer be allowed to be loaded via this mode unless they are explicitly allowlisted by the user via `torch.serialization.add_safe_globals`. We recommend you start setting `weights_only=True` for any use case where you don't have full control of the loaded file. Please open an issue on GitHub for any issues related to this experimental feature.\n",
      "  checkpoint = torch.load(ct_model_path, map_location=device)\n",
      "/home/maweicheng/multimodel/evaluation.py:65: FutureWarning: You are using `torch.load` with `weights_only=False` (the current default value), which uses the default pickle module implicitly. It is possible to construct malicious pickle data which will execute arbitrary code during unpickling (See https://github.com/pytorch/pytorch/blob/main/SECURITY.md#untrusted-models for more details). In a future release, the default value for `weights_only` will be flipped to `True`. This limits the functions that could be executed during unpickling. Arbitrary objects will no longer be allowed to be loaded via this mode unless they are explicitly allowlisted by the user via `torch.serialization.add_safe_globals`. We recommend you start setting `weights_only=True` for any use case where you don't have full control of the loaded file. Please open an issue on GitHub for any issues related to this experimental feature.\n",
      "  model.load_state_dict(torch.load(model_path, map_location=self.args.device))\n",
      "11:10:47 - INFO - 单模型 Fold 2 测试集结果详情:\n",
      "11:10:47 - INFO -   样本数: 19\n",
      "11:10:47 - INFO -   预测分布: {np.int64(0): np.int64(3), np.int64(1): np.int64(16)}\n",
      "11:10:47 - INFO -   标签分布: {np.int64(0): np.int64(3), np.int64(1): np.int64(16)}\n",
      "11:10:47 - INFO -   概率范围: [0.2108, 0.9303]\n",
      "11:10:47 - INFO -   概率均值: 0.7153 ± 0.2114\n",
      "11:10:47 - INFO -   评估 Fold 3...\n",
      "/home/maweicheng/multimodel/evaluation.py:65: FutureWarning: You are using `torch.load` with `weights_only=False` (the current default value), which uses the default pickle module implicitly. It is possible to construct malicious pickle data which will execute arbitrary code during unpickling (See https://github.com/pytorch/pytorch/blob/main/SECURITY.md#untrusted-models for more details). In a future release, the default value for `weights_only` will be flipped to `True`. This limits the functions that could be executed during unpickling. Arbitrary objects will no longer be allowed to be loaded via this mode unless they are explicitly allowlisted by the user via `torch.serialization.add_safe_globals`. We recommend you start setting `weights_only=True` for any use case where you don't have full control of the loaded file. Please open an issue on GitHub for any issues related to this experimental feature.\n",
      "  model.load_state_dict(torch.load(model_path, map_location=self.args.device))\n",
      "11:10:47 - INFO - 单模型 Fold 2 测试集结果详情:\n",
      "11:10:47 - INFO -   样本数: 19\n",
      "11:10:47 - INFO -   预测分布: {np.int64(0): np.int64(3), np.int64(1): np.int64(16)}\n",
      "11:10:47 - INFO -   标签分布: {np.int64(0): np.int64(3), np.int64(1): np.int64(16)}\n",
      "11:10:47 - INFO -   概率范围: [0.2108, 0.9303]\n",
      "11:10:47 - INFO -   概率均值: 0.7153 ± 0.2114\n",
      "11:10:47 - INFO -   评估 Fold 3...\n",
      "/home/maweicheng/multimodel/training_utils.py:545: FutureWarning: You are using `torch.load` with `weights_only=False` (the current default value), which uses the default pickle module implicitly. It is possible to construct malicious pickle data which will execute arbitrary code during unpickling (See https://github.com/pytorch/pytorch/blob/main/SECURITY.md#untrusted-models for more details). In a future release, the default value for `weights_only` will be flipped to `True`. This limits the functions that could be executed during unpickling. Arbitrary objects will no longer be allowed to be loaded via this mode unless they are explicitly allowlisted by the user via `torch.serialization.add_safe_globals`. We recommend you start setting `weights_only=True` for any use case where you don't have full control of the loaded file. Please open an issue on GitHub for any issues related to this experimental feature.\n",
      "  checkpoint = torch.load(ct_model_path, map_location=device)\n",
      "/home/maweicheng/multimodel/training_utils.py:545: FutureWarning: You are using `torch.load` with `weights_only=False` (the current default value), which uses the default pickle module implicitly. It is possible to construct malicious pickle data which will execute arbitrary code during unpickling (See https://github.com/pytorch/pytorch/blob/main/SECURITY.md#untrusted-models for more details). In a future release, the default value for `weights_only` will be flipped to `True`. This limits the functions that could be executed during unpickling. Arbitrary objects will no longer be allowed to be loaded via this mode unless they are explicitly allowlisted by the user via `torch.serialization.add_safe_globals`. We recommend you start setting `weights_only=True` for any use case where you don't have full control of the loaded file. Please open an issue on GitHub for any issues related to this experimental feature.\n",
      "  checkpoint = torch.load(ct_model_path, map_location=device)\n",
      "/home/maweicheng/multimodel/evaluation.py:65: FutureWarning: You are using `torch.load` with `weights_only=False` (the current default value), which uses the default pickle module implicitly. It is possible to construct malicious pickle data which will execute arbitrary code during unpickling (See https://github.com/pytorch/pytorch/blob/main/SECURITY.md#untrusted-models for more details). In a future release, the default value for `weights_only` will be flipped to `True`. This limits the functions that could be executed during unpickling. Arbitrary objects will no longer be allowed to be loaded via this mode unless they are explicitly allowlisted by the user via `torch.serialization.add_safe_globals`. We recommend you start setting `weights_only=True` for any use case where you don't have full control of the loaded file. Please open an issue on GitHub for any issues related to this experimental feature.\n",
      "  model.load_state_dict(torch.load(model_path, map_location=self.args.device))\n",
      "11:10:47 - INFO - 单模型 Fold 3 测试集结果详情:\n",
      "11:10:47 - INFO -   样本数: 19\n",
      "11:10:47 - INFO -   预测分布: {np.int64(0): np.int64(7), np.int64(1): np.int64(12)}\n",
      "11:10:47 - INFO -   标签分布: {np.int64(0): np.int64(3), np.int64(1): np.int64(16)}\n",
      "11:10:47 - INFO -   概率范围: [0.0214, 0.9910]\n",
      "11:10:47 - INFO -   概率均值: 0.6560 ± 0.3715\n",
      "11:10:47 - INFO -   评估 Fold 4...\n",
      "/home/maweicheng/multimodel/evaluation.py:65: FutureWarning: You are using `torch.load` with `weights_only=False` (the current default value), which uses the default pickle module implicitly. It is possible to construct malicious pickle data which will execute arbitrary code during unpickling (See https://github.com/pytorch/pytorch/blob/main/SECURITY.md#untrusted-models for more details). In a future release, the default value for `weights_only` will be flipped to `True`. This limits the functions that could be executed during unpickling. Arbitrary objects will no longer be allowed to be loaded via this mode unless they are explicitly allowlisted by the user via `torch.serialization.add_safe_globals`. We recommend you start setting `weights_only=True` for any use case where you don't have full control of the loaded file. Please open an issue on GitHub for any issues related to this experimental feature.\n",
      "  model.load_state_dict(torch.load(model_path, map_location=self.args.device))\n",
      "11:10:47 - INFO - 单模型 Fold 3 测试集结果详情:\n",
      "11:10:47 - INFO -   样本数: 19\n",
      "11:10:47 - INFO -   预测分布: {np.int64(0): np.int64(7), np.int64(1): np.int64(12)}\n",
      "11:10:47 - INFO -   标签分布: {np.int64(0): np.int64(3), np.int64(1): np.int64(16)}\n",
      "11:10:47 - INFO -   概率范围: [0.0214, 0.9910]\n",
      "11:10:47 - INFO -   概率均值: 0.6560 ± 0.3715\n",
      "11:10:47 - INFO -   评估 Fold 4...\n",
      "/home/maweicheng/multimodel/training_utils.py:545: FutureWarning: You are using `torch.load` with `weights_only=False` (the current default value), which uses the default pickle module implicitly. It is possible to construct malicious pickle data which will execute arbitrary code during unpickling (See https://github.com/pytorch/pytorch/blob/main/SECURITY.md#untrusted-models for more details). In a future release, the default value for `weights_only` will be flipped to `True`. This limits the functions that could be executed during unpickling. Arbitrary objects will no longer be allowed to be loaded via this mode unless they are explicitly allowlisted by the user via `torch.serialization.add_safe_globals`. We recommend you start setting `weights_only=True` for any use case where you don't have full control of the loaded file. Please open an issue on GitHub for any issues related to this experimental feature.\n",
      "  checkpoint = torch.load(ct_model_path, map_location=device)\n",
      "/home/maweicheng/multimodel/training_utils.py:545: FutureWarning: You are using `torch.load` with `weights_only=False` (the current default value), which uses the default pickle module implicitly. It is possible to construct malicious pickle data which will execute arbitrary code during unpickling (See https://github.com/pytorch/pytorch/blob/main/SECURITY.md#untrusted-models for more details). In a future release, the default value for `weights_only` will be flipped to `True`. This limits the functions that could be executed during unpickling. Arbitrary objects will no longer be allowed to be loaded via this mode unless they are explicitly allowlisted by the user via `torch.serialization.add_safe_globals`. We recommend you start setting `weights_only=True` for any use case where you don't have full control of the loaded file. Please open an issue on GitHub for any issues related to this experimental feature.\n",
      "  checkpoint = torch.load(ct_model_path, map_location=device)\n",
      "/home/maweicheng/multimodel/evaluation.py:65: FutureWarning: You are using `torch.load` with `weights_only=False` (the current default value), which uses the default pickle module implicitly. It is possible to construct malicious pickle data which will execute arbitrary code during unpickling (See https://github.com/pytorch/pytorch/blob/main/SECURITY.md#untrusted-models for more details). In a future release, the default value for `weights_only` will be flipped to `True`. This limits the functions that could be executed during unpickling. Arbitrary objects will no longer be allowed to be loaded via this mode unless they are explicitly allowlisted by the user via `torch.serialization.add_safe_globals`. We recommend you start setting `weights_only=True` for any use case where you don't have full control of the loaded file. Please open an issue on GitHub for any issues related to this experimental feature.\n",
      "  model.load_state_dict(torch.load(model_path, map_location=self.args.device))\n",
      "11:10:48 - INFO - 单模型 Fold 4 测试集结果详情:\n",
      "11:10:48 - INFO -   样本数: 19\n",
      "11:10:48 - INFO -   预测分布: {np.int64(0): np.int64(3), np.int64(1): np.int64(16)}\n",
      "11:10:48 - INFO -   标签分布: {np.int64(0): np.int64(3), np.int64(1): np.int64(16)}\n",
      "11:10:48 - INFO -   概率范围: [0.2813, 0.9155]\n",
      "11:10:48 - INFO -   概率均值: 0.6618 ± 0.1739\n",
      "11:10:48 - INFO -   评估 Fold 5...\n",
      "/home/maweicheng/multimodel/evaluation.py:65: FutureWarning: You are using `torch.load` with `weights_only=False` (the current default value), which uses the default pickle module implicitly. It is possible to construct malicious pickle data which will execute arbitrary code during unpickling (See https://github.com/pytorch/pytorch/blob/main/SECURITY.md#untrusted-models for more details). In a future release, the default value for `weights_only` will be flipped to `True`. This limits the functions that could be executed during unpickling. Arbitrary objects will no longer be allowed to be loaded via this mode unless they are explicitly allowlisted by the user via `torch.serialization.add_safe_globals`. We recommend you start setting `weights_only=True` for any use case where you don't have full control of the loaded file. Please open an issue on GitHub for any issues related to this experimental feature.\n",
      "  model.load_state_dict(torch.load(model_path, map_location=self.args.device))\n",
      "11:10:48 - INFO - 单模型 Fold 4 测试集结果详情:\n",
      "11:10:48 - INFO -   样本数: 19\n",
      "11:10:48 - INFO -   预测分布: {np.int64(0): np.int64(3), np.int64(1): np.int64(16)}\n",
      "11:10:48 - INFO -   标签分布: {np.int64(0): np.int64(3), np.int64(1): np.int64(16)}\n",
      "11:10:48 - INFO -   概率范围: [0.2813, 0.9155]\n",
      "11:10:48 - INFO -   概率均值: 0.6618 ± 0.1739\n",
      "11:10:48 - INFO -   评估 Fold 5...\n",
      "/home/maweicheng/multimodel/training_utils.py:545: FutureWarning: You are using `torch.load` with `weights_only=False` (the current default value), which uses the default pickle module implicitly. It is possible to construct malicious pickle data which will execute arbitrary code during unpickling (See https://github.com/pytorch/pytorch/blob/main/SECURITY.md#untrusted-models for more details). In a future release, the default value for `weights_only` will be flipped to `True`. This limits the functions that could be executed during unpickling. Arbitrary objects will no longer be allowed to be loaded via this mode unless they are explicitly allowlisted by the user via `torch.serialization.add_safe_globals`. We recommend you start setting `weights_only=True` for any use case where you don't have full control of the loaded file. Please open an issue on GitHub for any issues related to this experimental feature.\n",
      "  checkpoint = torch.load(ct_model_path, map_location=device)\n",
      "/home/maweicheng/multimodel/training_utils.py:545: FutureWarning: You are using `torch.load` with `weights_only=False` (the current default value), which uses the default pickle module implicitly. It is possible to construct malicious pickle data which will execute arbitrary code during unpickling (See https://github.com/pytorch/pytorch/blob/main/SECURITY.md#untrusted-models for more details). In a future release, the default value for `weights_only` will be flipped to `True`. This limits the functions that could be executed during unpickling. Arbitrary objects will no longer be allowed to be loaded via this mode unless they are explicitly allowlisted by the user via `torch.serialization.add_safe_globals`. We recommend you start setting `weights_only=True` for any use case where you don't have full control of the loaded file. Please open an issue on GitHub for any issues related to this experimental feature.\n",
      "  checkpoint = torch.load(ct_model_path, map_location=device)\n",
      "/home/maweicheng/multimodel/evaluation.py:65: FutureWarning: You are using `torch.load` with `weights_only=False` (the current default value), which uses the default pickle module implicitly. It is possible to construct malicious pickle data which will execute arbitrary code during unpickling (See https://github.com/pytorch/pytorch/blob/main/SECURITY.md#untrusted-models for more details). In a future release, the default value for `weights_only` will be flipped to `True`. This limits the functions that could be executed during unpickling. Arbitrary objects will no longer be allowed to be loaded via this mode unless they are explicitly allowlisted by the user via `torch.serialization.add_safe_globals`. We recommend you start setting `weights_only=True` for any use case where you don't have full control of the loaded file. Please open an issue on GitHub for any issues related to this experimental feature.\n",
      "  model.load_state_dict(torch.load(model_path, map_location=self.args.device))\n",
      "11:10:48 - INFO - 单模型 Fold 5 测试集结果详情:\n",
      "11:10:48 - INFO -   样本数: 19\n",
      "11:10:48 - INFO -   预测分布: {np.int64(0): np.int64(6), np.int64(1): np.int64(13)}\n",
      "11:10:48 - INFO -   标签分布: {np.int64(0): np.int64(3), np.int64(1): np.int64(16)}\n",
      "11:10:48 - INFO -   概率范围: [0.1149, 0.9768]\n",
      "11:10:48 - INFO -   概率均值: 0.6754 ± 0.3047\n",
      "11:10:48 - INFO -   评估 Fold 6...\n",
      "/home/maweicheng/multimodel/evaluation.py:65: FutureWarning: You are using `torch.load` with `weights_only=False` (the current default value), which uses the default pickle module implicitly. It is possible to construct malicious pickle data which will execute arbitrary code during unpickling (See https://github.com/pytorch/pytorch/blob/main/SECURITY.md#untrusted-models for more details). In a future release, the default value for `weights_only` will be flipped to `True`. This limits the functions that could be executed during unpickling. Arbitrary objects will no longer be allowed to be loaded via this mode unless they are explicitly allowlisted by the user via `torch.serialization.add_safe_globals`. We recommend you start setting `weights_only=True` for any use case where you don't have full control of the loaded file. Please open an issue on GitHub for any issues related to this experimental feature.\n",
      "  model.load_state_dict(torch.load(model_path, map_location=self.args.device))\n",
      "11:10:48 - INFO - 单模型 Fold 5 测试集结果详情:\n",
      "11:10:48 - INFO -   样本数: 19\n",
      "11:10:48 - INFO -   预测分布: {np.int64(0): np.int64(6), np.int64(1): np.int64(13)}\n",
      "11:10:48 - INFO -   标签分布: {np.int64(0): np.int64(3), np.int64(1): np.int64(16)}\n",
      "11:10:48 - INFO -   概率范围: [0.1149, 0.9768]\n",
      "11:10:48 - INFO -   概率均值: 0.6754 ± 0.3047\n",
      "11:10:48 - INFO -   评估 Fold 6...\n",
      "/home/maweicheng/multimodel/training_utils.py:545: FutureWarning: You are using `torch.load` with `weights_only=False` (the current default value), which uses the default pickle module implicitly. It is possible to construct malicious pickle data which will execute arbitrary code during unpickling (See https://github.com/pytorch/pytorch/blob/main/SECURITY.md#untrusted-models for more details). In a future release, the default value for `weights_only` will be flipped to `True`. This limits the functions that could be executed during unpickling. Arbitrary objects will no longer be allowed to be loaded via this mode unless they are explicitly allowlisted by the user via `torch.serialization.add_safe_globals`. We recommend you start setting `weights_only=True` for any use case where you don't have full control of the loaded file. Please open an issue on GitHub for any issues related to this experimental feature.\n",
      "  checkpoint = torch.load(ct_model_path, map_location=device)\n",
      "/home/maweicheng/multimodel/training_utils.py:545: FutureWarning: You are using `torch.load` with `weights_only=False` (the current default value), which uses the default pickle module implicitly. It is possible to construct malicious pickle data which will execute arbitrary code during unpickling (See https://github.com/pytorch/pytorch/blob/main/SECURITY.md#untrusted-models for more details). In a future release, the default value for `weights_only` will be flipped to `True`. This limits the functions that could be executed during unpickling. Arbitrary objects will no longer be allowed to be loaded via this mode unless they are explicitly allowlisted by the user via `torch.serialization.add_safe_globals`. We recommend you start setting `weights_only=True` for any use case where you don't have full control of the loaded file. Please open an issue on GitHub for any issues related to this experimental feature.\n",
      "  checkpoint = torch.load(ct_model_path, map_location=device)\n",
      "/home/maweicheng/multimodel/evaluation.py:65: FutureWarning: You are using `torch.load` with `weights_only=False` (the current default value), which uses the default pickle module implicitly. It is possible to construct malicious pickle data which will execute arbitrary code during unpickling (See https://github.com/pytorch/pytorch/blob/main/SECURITY.md#untrusted-models for more details). In a future release, the default value for `weights_only` will be flipped to `True`. This limits the functions that could be executed during unpickling. Arbitrary objects will no longer be allowed to be loaded via this mode unless they are explicitly allowlisted by the user via `torch.serialization.add_safe_globals`. We recommend you start setting `weights_only=True` for any use case where you don't have full control of the loaded file. Please open an issue on GitHub for any issues related to this experimental feature.\n",
      "  model.load_state_dict(torch.load(model_path, map_location=self.args.device))\n",
      "11:10:48 - INFO - 单模型 Fold 6 测试集结果详情:\n",
      "11:10:48 - INFO -   样本数: 19\n",
      "11:10:48 - INFO -   预测分布: {np.int64(0): np.int64(5), np.int64(1): np.int64(14)}\n",
      "11:10:48 - INFO -   标签分布: {np.int64(0): np.int64(3), np.int64(1): np.int64(16)}\n",
      "11:10:48 - INFO -   概率范围: [0.1920, 0.8987]\n",
      "11:10:48 - INFO -   概率均值: 0.6219 ± 0.1955\n",
      "11:10:48 - INFO -   评估 Fold 7...\n",
      "/home/maweicheng/multimodel/evaluation.py:65: FutureWarning: You are using `torch.load` with `weights_only=False` (the current default value), which uses the default pickle module implicitly. It is possible to construct malicious pickle data which will execute arbitrary code during unpickling (See https://github.com/pytorch/pytorch/blob/main/SECURITY.md#untrusted-models for more details). In a future release, the default value for `weights_only` will be flipped to `True`. This limits the functions that could be executed during unpickling. Arbitrary objects will no longer be allowed to be loaded via this mode unless they are explicitly allowlisted by the user via `torch.serialization.add_safe_globals`. We recommend you start setting `weights_only=True` for any use case where you don't have full control of the loaded file. Please open an issue on GitHub for any issues related to this experimental feature.\n",
      "  model.load_state_dict(torch.load(model_path, map_location=self.args.device))\n",
      "11:10:48 - INFO - 单模型 Fold 6 测试集结果详情:\n",
      "11:10:48 - INFO -   样本数: 19\n",
      "11:10:48 - INFO -   预测分布: {np.int64(0): np.int64(5), np.int64(1): np.int64(14)}\n",
      "11:10:48 - INFO -   标签分布: {np.int64(0): np.int64(3), np.int64(1): np.int64(16)}\n",
      "11:10:48 - INFO -   概率范围: [0.1920, 0.8987]\n",
      "11:10:48 - INFO -   概率均值: 0.6219 ± 0.1955\n",
      "11:10:48 - INFO -   评估 Fold 7...\n",
      "/home/maweicheng/multimodel/training_utils.py:545: FutureWarning: You are using `torch.load` with `weights_only=False` (the current default value), which uses the default pickle module implicitly. It is possible to construct malicious pickle data which will execute arbitrary code during unpickling (See https://github.com/pytorch/pytorch/blob/main/SECURITY.md#untrusted-models for more details). In a future release, the default value for `weights_only` will be flipped to `True`. This limits the functions that could be executed during unpickling. Arbitrary objects will no longer be allowed to be loaded via this mode unless they are explicitly allowlisted by the user via `torch.serialization.add_safe_globals`. We recommend you start setting `weights_only=True` for any use case where you don't have full control of the loaded file. Please open an issue on GitHub for any issues related to this experimental feature.\n",
      "  checkpoint = torch.load(ct_model_path, map_location=device)\n",
      "/home/maweicheng/multimodel/training_utils.py:545: FutureWarning: You are using `torch.load` with `weights_only=False` (the current default value), which uses the default pickle module implicitly. It is possible to construct malicious pickle data which will execute arbitrary code during unpickling (See https://github.com/pytorch/pytorch/blob/main/SECURITY.md#untrusted-models for more details). In a future release, the default value for `weights_only` will be flipped to `True`. This limits the functions that could be executed during unpickling. Arbitrary objects will no longer be allowed to be loaded via this mode unless they are explicitly allowlisted by the user via `torch.serialization.add_safe_globals`. We recommend you start setting `weights_only=True` for any use case where you don't have full control of the loaded file. Please open an issue on GitHub for any issues related to this experimental feature.\n",
      "  checkpoint = torch.load(ct_model_path, map_location=device)\n",
      "/home/maweicheng/multimodel/evaluation.py:65: FutureWarning: You are using `torch.load` with `weights_only=False` (the current default value), which uses the default pickle module implicitly. It is possible to construct malicious pickle data which will execute arbitrary code during unpickling (See https://github.com/pytorch/pytorch/blob/main/SECURITY.md#untrusted-models for more details). In a future release, the default value for `weights_only` will be flipped to `True`. This limits the functions that could be executed during unpickling. Arbitrary objects will no longer be allowed to be loaded via this mode unless they are explicitly allowlisted by the user via `torch.serialization.add_safe_globals`. We recommend you start setting `weights_only=True` for any use case where you don't have full control of the loaded file. Please open an issue on GitHub for any issues related to this experimental feature.\n",
      "  model.load_state_dict(torch.load(model_path, map_location=self.args.device))\n",
      "11:10:49 - INFO - 单模型 Fold 7 测试集结果详情:\n",
      "11:10:49 - INFO -   样本数: 19\n",
      "11:10:49 - INFO -   预测分布: {np.int64(0): np.int64(3), np.int64(1): np.int64(16)}\n",
      "11:10:49 - INFO -   标签分布: {np.int64(0): np.int64(3), np.int64(1): np.int64(16)}\n",
      "11:10:49 - INFO -   概率范围: [0.1250, 0.9192]\n",
      "11:10:49 - INFO -   概率均值: 0.6944 ± 0.2168\n",
      "11:10:49 - INFO -   评估 Fold 8...\n",
      "/home/maweicheng/multimodel/evaluation.py:65: FutureWarning: You are using `torch.load` with `weights_only=False` (the current default value), which uses the default pickle module implicitly. It is possible to construct malicious pickle data which will execute arbitrary code during unpickling (See https://github.com/pytorch/pytorch/blob/main/SECURITY.md#untrusted-models for more details). In a future release, the default value for `weights_only` will be flipped to `True`. This limits the functions that could be executed during unpickling. Arbitrary objects will no longer be allowed to be loaded via this mode unless they are explicitly allowlisted by the user via `torch.serialization.add_safe_globals`. We recommend you start setting `weights_only=True` for any use case where you don't have full control of the loaded file. Please open an issue on GitHub for any issues related to this experimental feature.\n",
      "  model.load_state_dict(torch.load(model_path, map_location=self.args.device))\n",
      "11:10:49 - INFO - 单模型 Fold 7 测试集结果详情:\n",
      "11:10:49 - INFO -   样本数: 19\n",
      "11:10:49 - INFO -   预测分布: {np.int64(0): np.int64(3), np.int64(1): np.int64(16)}\n",
      "11:10:49 - INFO -   标签分布: {np.int64(0): np.int64(3), np.int64(1): np.int64(16)}\n",
      "11:10:49 - INFO -   概率范围: [0.1250, 0.9192]\n",
      "11:10:49 - INFO -   概率均值: 0.6944 ± 0.2168\n",
      "11:10:49 - INFO -   评估 Fold 8...\n",
      "/home/maweicheng/multimodel/training_utils.py:545: FutureWarning: You are using `torch.load` with `weights_only=False` (the current default value), which uses the default pickle module implicitly. It is possible to construct malicious pickle data which will execute arbitrary code during unpickling (See https://github.com/pytorch/pytorch/blob/main/SECURITY.md#untrusted-models for more details). In a future release, the default value for `weights_only` will be flipped to `True`. This limits the functions that could be executed during unpickling. Arbitrary objects will no longer be allowed to be loaded via this mode unless they are explicitly allowlisted by the user via `torch.serialization.add_safe_globals`. We recommend you start setting `weights_only=True` for any use case where you don't have full control of the loaded file. Please open an issue on GitHub for any issues related to this experimental feature.\n",
      "  checkpoint = torch.load(ct_model_path, map_location=device)\n",
      "/home/maweicheng/multimodel/training_utils.py:545: FutureWarning: You are using `torch.load` with `weights_only=False` (the current default value), which uses the default pickle module implicitly. It is possible to construct malicious pickle data which will execute arbitrary code during unpickling (See https://github.com/pytorch/pytorch/blob/main/SECURITY.md#untrusted-models for more details). In a future release, the default value for `weights_only` will be flipped to `True`. This limits the functions that could be executed during unpickling. Arbitrary objects will no longer be allowed to be loaded via this mode unless they are explicitly allowlisted by the user via `torch.serialization.add_safe_globals`. We recommend you start setting `weights_only=True` for any use case where you don't have full control of the loaded file. Please open an issue on GitHub for any issues related to this experimental feature.\n",
      "  checkpoint = torch.load(ct_model_path, map_location=device)\n",
      "/home/maweicheng/multimodel/evaluation.py:65: FutureWarning: You are using `torch.load` with `weights_only=False` (the current default value), which uses the default pickle module implicitly. It is possible to construct malicious pickle data which will execute arbitrary code during unpickling (See https://github.com/pytorch/pytorch/blob/main/SECURITY.md#untrusted-models for more details). In a future release, the default value for `weights_only` will be flipped to `True`. This limits the functions that could be executed during unpickling. Arbitrary objects will no longer be allowed to be loaded via this mode unless they are explicitly allowlisted by the user via `torch.serialization.add_safe_globals`. We recommend you start setting `weights_only=True` for any use case where you don't have full control of the loaded file. Please open an issue on GitHub for any issues related to this experimental feature.\n",
      "  model.load_state_dict(torch.load(model_path, map_location=self.args.device))\n",
      "11:10:49 - INFO - 单模型 Fold 8 测试集结果详情:\n",
      "11:10:49 - INFO -   样本数: 19\n",
      "11:10:49 - INFO -   预测分布: {np.int64(0): np.int64(4), np.int64(1): np.int64(15)}\n",
      "11:10:49 - INFO -   标签分布: {np.int64(0): np.int64(3), np.int64(1): np.int64(16)}\n",
      "11:10:49 - INFO -   概率范围: [0.2215, 0.9058]\n",
      "11:10:49 - INFO -   概率均值: 0.6149 ± 0.1758\n",
      "11:10:49 - INFO -   评估 Fold 9...\n",
      "/home/maweicheng/multimodel/evaluation.py:65: FutureWarning: You are using `torch.load` with `weights_only=False` (the current default value), which uses the default pickle module implicitly. It is possible to construct malicious pickle data which will execute arbitrary code during unpickling (See https://github.com/pytorch/pytorch/blob/main/SECURITY.md#untrusted-models for more details). In a future release, the default value for `weights_only` will be flipped to `True`. This limits the functions that could be executed during unpickling. Arbitrary objects will no longer be allowed to be loaded via this mode unless they are explicitly allowlisted by the user via `torch.serialization.add_safe_globals`. We recommend you start setting `weights_only=True` for any use case where you don't have full control of the loaded file. Please open an issue on GitHub for any issues related to this experimental feature.\n",
      "  model.load_state_dict(torch.load(model_path, map_location=self.args.device))\n",
      "11:10:49 - INFO - 单模型 Fold 8 测试集结果详情:\n",
      "11:10:49 - INFO -   样本数: 19\n",
      "11:10:49 - INFO -   预测分布: {np.int64(0): np.int64(4), np.int64(1): np.int64(15)}\n",
      "11:10:49 - INFO -   标签分布: {np.int64(0): np.int64(3), np.int64(1): np.int64(16)}\n",
      "11:10:49 - INFO -   概率范围: [0.2215, 0.9058]\n",
      "11:10:49 - INFO -   概率均值: 0.6149 ± 0.1758\n",
      "11:10:49 - INFO -   评估 Fold 9...\n",
      "/home/maweicheng/multimodel/training_utils.py:545: FutureWarning: You are using `torch.load` with `weights_only=False` (the current default value), which uses the default pickle module implicitly. It is possible to construct malicious pickle data which will execute arbitrary code during unpickling (See https://github.com/pytorch/pytorch/blob/main/SECURITY.md#untrusted-models for more details). In a future release, the default value for `weights_only` will be flipped to `True`. This limits the functions that could be executed during unpickling. Arbitrary objects will no longer be allowed to be loaded via this mode unless they are explicitly allowlisted by the user via `torch.serialization.add_safe_globals`. We recommend you start setting `weights_only=True` for any use case where you don't have full control of the loaded file. Please open an issue on GitHub for any issues related to this experimental feature.\n",
      "  checkpoint = torch.load(ct_model_path, map_location=device)\n",
      "/home/maweicheng/multimodel/training_utils.py:545: FutureWarning: You are using `torch.load` with `weights_only=False` (the current default value), which uses the default pickle module implicitly. It is possible to construct malicious pickle data which will execute arbitrary code during unpickling (See https://github.com/pytorch/pytorch/blob/main/SECURITY.md#untrusted-models for more details). In a future release, the default value for `weights_only` will be flipped to `True`. This limits the functions that could be executed during unpickling. Arbitrary objects will no longer be allowed to be loaded via this mode unless they are explicitly allowlisted by the user via `torch.serialization.add_safe_globals`. We recommend you start setting `weights_only=True` for any use case where you don't have full control of the loaded file. Please open an issue on GitHub for any issues related to this experimental feature.\n",
      "  checkpoint = torch.load(ct_model_path, map_location=device)\n",
      "/home/maweicheng/multimodel/evaluation.py:65: FutureWarning: You are using `torch.load` with `weights_only=False` (the current default value), which uses the default pickle module implicitly. It is possible to construct malicious pickle data which will execute arbitrary code during unpickling (See https://github.com/pytorch/pytorch/blob/main/SECURITY.md#untrusted-models for more details). In a future release, the default value for `weights_only` will be flipped to `True`. This limits the functions that could be executed during unpickling. Arbitrary objects will no longer be allowed to be loaded via this mode unless they are explicitly allowlisted by the user via `torch.serialization.add_safe_globals`. We recommend you start setting `weights_only=True` for any use case where you don't have full control of the loaded file. Please open an issue on GitHub for any issues related to this experimental feature.\n",
      "  model.load_state_dict(torch.load(model_path, map_location=self.args.device))\n",
      "11:10:50 - INFO - 单模型 Fold 9 测试集结果详情:\n",
      "11:10:50 - INFO -   样本数: 19\n",
      "11:10:50 - INFO -   预测分布: {np.int64(0): np.int64(5), np.int64(1): np.int64(14)}\n",
      "11:10:50 - INFO -   标签分布: {np.int64(0): np.int64(3), np.int64(1): np.int64(16)}\n",
      "11:10:50 - INFO -   概率范围: [0.0886, 0.9653]\n",
      "11:10:50 - INFO -   概率均值: 0.6645 ± 0.2902\n",
      "11:10:50 - INFO -   评估 Fold 10...\n",
      "/home/maweicheng/multimodel/evaluation.py:65: FutureWarning: You are using `torch.load` with `weights_only=False` (the current default value), which uses the default pickle module implicitly. It is possible to construct malicious pickle data which will execute arbitrary code during unpickling (See https://github.com/pytorch/pytorch/blob/main/SECURITY.md#untrusted-models for more details). In a future release, the default value for `weights_only` will be flipped to `True`. This limits the functions that could be executed during unpickling. Arbitrary objects will no longer be allowed to be loaded via this mode unless they are explicitly allowlisted by the user via `torch.serialization.add_safe_globals`. We recommend you start setting `weights_only=True` for any use case where you don't have full control of the loaded file. Please open an issue on GitHub for any issues related to this experimental feature.\n",
      "  model.load_state_dict(torch.load(model_path, map_location=self.args.device))\n",
      "11:10:50 - INFO - 单模型 Fold 9 测试集结果详情:\n",
      "11:10:50 - INFO -   样本数: 19\n",
      "11:10:50 - INFO -   预测分布: {np.int64(0): np.int64(5), np.int64(1): np.int64(14)}\n",
      "11:10:50 - INFO -   标签分布: {np.int64(0): np.int64(3), np.int64(1): np.int64(16)}\n",
      "11:10:50 - INFO -   概率范围: [0.0886, 0.9653]\n",
      "11:10:50 - INFO -   概率均值: 0.6645 ± 0.2902\n",
      "11:10:50 - INFO -   评估 Fold 10...\n",
      "/home/maweicheng/multimodel/training_utils.py:545: FutureWarning: You are using `torch.load` with `weights_only=False` (the current default value), which uses the default pickle module implicitly. It is possible to construct malicious pickle data which will execute arbitrary code during unpickling (See https://github.com/pytorch/pytorch/blob/main/SECURITY.md#untrusted-models for more details). In a future release, the default value for `weights_only` will be flipped to `True`. This limits the functions that could be executed during unpickling. Arbitrary objects will no longer be allowed to be loaded via this mode unless they are explicitly allowlisted by the user via `torch.serialization.add_safe_globals`. We recommend you start setting `weights_only=True` for any use case where you don't have full control of the loaded file. Please open an issue on GitHub for any issues related to this experimental feature.\n",
      "  checkpoint = torch.load(ct_model_path, map_location=device)\n",
      "/home/maweicheng/multimodel/training_utils.py:545: FutureWarning: You are using `torch.load` with `weights_only=False` (the current default value), which uses the default pickle module implicitly. It is possible to construct malicious pickle data which will execute arbitrary code during unpickling (See https://github.com/pytorch/pytorch/blob/main/SECURITY.md#untrusted-models for more details). In a future release, the default value for `weights_only` will be flipped to `True`. This limits the functions that could be executed during unpickling. Arbitrary objects will no longer be allowed to be loaded via this mode unless they are explicitly allowlisted by the user via `torch.serialization.add_safe_globals`. We recommend you start setting `weights_only=True` for any use case where you don't have full control of the loaded file. Please open an issue on GitHub for any issues related to this experimental feature.\n",
      "  checkpoint = torch.load(ct_model_path, map_location=device)\n",
      "/home/maweicheng/multimodel/evaluation.py:65: FutureWarning: You are using `torch.load` with `weights_only=False` (the current default value), which uses the default pickle module implicitly. It is possible to construct malicious pickle data which will execute arbitrary code during unpickling (See https://github.com/pytorch/pytorch/blob/main/SECURITY.md#untrusted-models for more details). In a future release, the default value for `weights_only` will be flipped to `True`. This limits the functions that could be executed during unpickling. Arbitrary objects will no longer be allowed to be loaded via this mode unless they are explicitly allowlisted by the user via `torch.serialization.add_safe_globals`. We recommend you start setting `weights_only=True` for any use case where you don't have full control of the loaded file. Please open an issue on GitHub for any issues related to this experimental feature.\n",
      "  model.load_state_dict(torch.load(model_path, map_location=self.args.device))\n",
      "11:10:50 - INFO - 单模型 Fold 10 测试集结果详情:\n",
      "11:10:50 - INFO -   样本数: 19\n",
      "11:10:50 - INFO -   预测分布: {np.int64(0): np.int64(4), np.int64(1): np.int64(15)}\n",
      "11:10:50 - INFO -   标签分布: {np.int64(0): np.int64(3), np.int64(1): np.int64(16)}\n",
      "11:10:50 - INFO -   概率范围: [0.2225, 0.9183]\n",
      "11:10:50 - INFO -   概率均值: 0.7112 ± 0.2066\n",
      "11:10:50 - INFO - ================================================================================\n",
      "11:10:50 - INFO - 独立测试集性能评估 - 跨fold平均结果:\n",
      "11:10:50 - INFO - 准确率: 0.6842 ± 0.0744\n",
      "11:10:50 - INFO - F1分数:  0.8018 ± 0.0506\n",
      "11:10:50 - INFO - AUC:    0.6062 ± 0.1560\n",
      "/home/maweicheng/multimodel/evaluation.py:65: FutureWarning: You are using `torch.load` with `weights_only=False` (the current default value), which uses the default pickle module implicitly. It is possible to construct malicious pickle data which will execute arbitrary code during unpickling (See https://github.com/pytorch/pytorch/blob/main/SECURITY.md#untrusted-models for more details). In a future release, the default value for `weights_only` will be flipped to `True`. This limits the functions that could be executed during unpickling. Arbitrary objects will no longer be allowed to be loaded via this mode unless they are explicitly allowlisted by the user via `torch.serialization.add_safe_globals`. We recommend you start setting `weights_only=True` for any use case where you don't have full control of the loaded file. Please open an issue on GitHub for any issues related to this experimental feature.\n",
      "  model.load_state_dict(torch.load(model_path, map_location=self.args.device))\n",
      "11:10:50 - INFO - 单模型 Fold 10 测试集结果详情:\n",
      "11:10:50 - INFO -   样本数: 19\n",
      "11:10:50 - INFO -   预测分布: {np.int64(0): np.int64(4), np.int64(1): np.int64(15)}\n",
      "11:10:50 - INFO -   标签分布: {np.int64(0): np.int64(3), np.int64(1): np.int64(16)}\n",
      "11:10:50 - INFO -   概率范围: [0.2225, 0.9183]\n",
      "11:10:50 - INFO -   概率均值: 0.7112 ± 0.2066\n",
      "11:10:50 - INFO - ================================================================================\n",
      "11:10:50 - INFO - 独立测试集性能评估 - 跨fold平均结果:\n",
      "11:10:50 - INFO - 准确率: 0.6842 ± 0.0744\n",
      "11:10:50 - INFO - F1分数:  0.8018 ± 0.0506\n",
      "11:10:50 - INFO - AUC:    0.6062 ± 0.1560\n",
      "11:10:50 - INFO - \n",
      "11:10:50 - INFO - 各fold详细结果:\n",
      "11:10:50 - INFO -   Fold 1: Acc=0.5263, F1=0.6897, AUC=0.4583\n",
      "11:10:50 - INFO -   Fold 2: Acc=0.6842, F1=0.8125, AUC=0.5833\n",
      "11:10:50 - INFO -   Fold 3: Acc=0.6842, F1=0.7857, AUC=0.7083\n",
      "11:10:50 - INFO -   Fold 4: Acc=0.6842, F1=0.8125, AUC=0.3958\n",
      "11:10:50 - INFO -   Fold 5: Acc=0.6316, F1=0.7586, AUC=0.6250\n",
      "11:10:50 - INFO -   Fold 6: Acc=0.7895, F1=0.8667, AUC=0.7708\n",
      "11:10:50 - INFO -   Fold 7: Acc=0.6842, F1=0.8125, AUC=0.3125\n",
      "11:10:50 - INFO -   Fold 8: Acc=0.6316, F1=0.7742, AUC=0.7083\n",
      "11:10:50 - INFO -   Fold 9: Acc=0.7895, F1=0.8667, AUC=0.7708\n",
      "11:10:50 - INFO -   Fold 10: Acc=0.7368, F1=0.8387, AUC=0.7292\n",
      "11:10:50 - INFO - ================================================================================\n",
      "11:10:50 - INFO - ============================================================\n",
      "11:10:50 - INFO - \n",
      "11:10:50 - INFO - 各fold详细结果:\n",
      "11:10:50 - INFO -   Fold 1: Acc=0.5263, F1=0.6897, AUC=0.4583\n",
      "11:10:50 - INFO -   Fold 2: Acc=0.6842, F1=0.8125, AUC=0.5833\n",
      "11:10:50 - INFO -   Fold 3: Acc=0.6842, F1=0.7857, AUC=0.7083\n",
      "11:10:50 - INFO -   Fold 4: Acc=0.6842, F1=0.8125, AUC=0.3958\n",
      "11:10:50 - INFO -   Fold 5: Acc=0.6316, F1=0.7586, AUC=0.6250\n",
      "11:10:50 - INFO -   Fold 6: Acc=0.7895, F1=0.8667, AUC=0.7708\n",
      "11:10:50 - INFO -   Fold 7: Acc=0.6842, F1=0.8125, AUC=0.3125\n",
      "11:10:50 - INFO -   Fold 8: Acc=0.6316, F1=0.7742, AUC=0.7083\n",
      "11:10:50 - INFO -   Fold 9: Acc=0.7895, F1=0.8667, AUC=0.7708\n",
      "11:10:50 - INFO -   Fold 10: Acc=0.7368, F1=0.8387, AUC=0.7292\n",
      "11:10:50 - INFO - ================================================================================\n",
      "11:10:50 - INFO - ============================================================\n",
      "11:10:50 - INFO - 测试集评估结果 (跨所有fold统计):\n",
      "11:10:50 - INFO - 准确率: 0.8147 ± 0.0884\n",
      "11:10:50 - INFO - F1 Score: 0.8842 ± 0.0613\n",
      "11:10:50 - INFO - AUC: 0.8488 ± 0.1409\n",
      "11:10:50 - INFO - 使用fold数: 10\n",
      "11:10:50 - INFO - ============================================================\n",
      "11:10:50 - INFO - \n",
      "各fold详细结果:\n",
      "11:10:50 - INFO - Fold 0: 准确率=0.6471, F1=0.7692, AUC=0.7381\n",
      "11:10:50 - INFO - Fold 1: 准确率=0.9375, F1=0.9655, AUC=1.0000\n",
      "11:10:50 - INFO - Fold 2: 准确率=0.7500, F1=0.8333, AUC=0.8571\n",
      "11:10:50 - INFO - Fold 3: 准确率=0.8750, F1=0.9286, AUC=0.7857\n",
      "11:10:50 - INFO - Fold 4: 准确率=0.7500, F1=0.8333, AUC=0.9286\n",
      "11:10:50 - INFO - Fold 5: 准确率=0.9375, F1=0.9630, AUC=0.9286\n",
      "11:10:50 - INFO - Fold 6: 准确率=0.8125, F1=0.8966, AUC=0.6071\n",
      "11:10:50 - INFO - 测试集评估结果 (跨所有fold统计):\n",
      "11:10:50 - INFO - 准确率: 0.8147 ± 0.0884\n",
      "11:10:50 - INFO - F1 Score: 0.8842 ± 0.0613\n",
      "11:10:50 - INFO - AUC: 0.8488 ± 0.1409\n",
      "11:10:50 - INFO - 使用fold数: 10\n",
      "11:10:50 - INFO - ============================================================\n",
      "11:10:50 - INFO - \n",
      "各fold详细结果:\n",
      "11:10:50 - INFO - Fold 0: 准确率=0.6471, F1=0.7692, AUC=0.7381\n",
      "11:10:50 - INFO - Fold 1: 准确率=0.9375, F1=0.9655, AUC=1.0000\n",
      "11:10:50 - INFO - Fold 2: 准确率=0.7500, F1=0.8333, AUC=0.8571\n",
      "11:10:50 - INFO - Fold 3: 准确率=0.8750, F1=0.9286, AUC=0.7857\n",
      "11:10:50 - INFO - Fold 4: 准确率=0.7500, F1=0.8333, AUC=0.9286\n",
      "11:10:50 - INFO - Fold 5: 准确率=0.9375, F1=0.9630, AUC=0.9286\n",
      "11:10:50 - INFO - Fold 6: 准确率=0.8125, F1=0.8966, AUC=0.6071\n",
      "11:10:50 - INFO - Fold 7: 准确率=0.8750, F1=0.9231, AUC=1.0000\n",
      "11:10:50 - INFO - Fold 8: 准确率=0.8125, F1=0.8966, AUC=0.6429\n",
      "11:10:50 - INFO - Fold 9: 准确率=0.7500, F1=0.8333, AUC=1.0000\n",
      "11:10:50 - INFO - Fold 7: 准确率=0.8750, F1=0.9231, AUC=1.0000\n",
      "11:10:50 - INFO - Fold 8: 准确率=0.8125, F1=0.8966, AUC=0.6429\n",
      "11:10:50 - INFO - Fold 9: 准确率=0.7500, F1=0.8333, AUC=1.0000\n",
      "11:10:50 - INFO - \n",
      "最终测试集评估结果 (样本数: 19)\n",
      "11:10:50 - INFO - 平均AUC: 0.8488 ± 0.1409 (跨10个fold)\n",
      "11:10:50 - INFO - 平均F1: 0.8842 ± 0.0613\n",
      "11:10:50 - INFO - 平均准确率: 0.8147 ± 0.0884\n",
      "11:10:50 - INFO - 训练完成!\n",
      "11:10:50 - INFO - \n",
      "最终测试集评估结果 (样本数: 19)\n",
      "11:10:50 - INFO - 平均AUC: 0.8488 ± 0.1409 (跨10个fold)\n",
      "11:10:50 - INFO - 平均F1: 0.8842 ± 0.0613\n",
      "11:10:50 - INFO - 平均准确率: 0.8147 ± 0.0884\n",
      "11:10:50 - INFO - 训练完成!\n"
     ]
    }
   ],
   "source": [
    "%run main.py \\\n",
    "    --modalities Frag PFE NDR NDR2K \\\n",
    "    --data_file /home/maweicheng/database/cancer_subtype/train.npz \\\n",
    "    --test_file /home/maweicheng/database/cancer_subtype/test.npz \\\n",
    "    --ct_model_path /home/maweicheng/multimodel/CT/cv_checkpoints/res_best_0.88.pth \\\n",
    "    --use_feature_selection \\\n",
    "    --feature_selection_method pca \\\n",
    "    --k_features 100 \\\n",
    "    --epochs 50 \\\n",
    "    --batch_size 6 \\\n",
    "    --lr 5e-5 \\\n",
    "    --k_folds 10 \\\n",
    "    --use_test_set \\\n",
    "    --latent_dim 512 \\\n",
    "    --finetune_ct \\\n",
    "    --output_dir ./results/cancer_subtype/"
   ]
  },
  {
   "cell_type": "markdown",
   "id": "3ba1a6e4",
   "metadata": {},
   "source": [
    "## 良性恶性分类"
   ]
  },
  {
   "cell_type": "markdown",
   "id": "0476352b",
   "metadata": {},
   "source": [
    "#### 基础配置（无特征选择）"
   ]
  },
  {
   "cell_type": "code",
   "execution_count": 25,
   "id": "ee1d4586",
   "metadata": {},
   "outputs": [
    {
     "name": "stderr",
     "output_type": "stream",
     "text": [
      "20:27:07 - INFO - 随机种子设置为: 42\n",
      "20:27:07 - INFO - 使用设备: cuda\n",
      "20:27:07 - INFO - 使用模态: ['Frag', 'PFE', 'NDR', 'NDR2K']\n",
      "20:27:07 - INFO - 使用设备: cuda\n",
      "20:27:07 - INFO - 使用模态: ['Frag', 'PFE', 'NDR', 'NDR2K']\n"
     ]
    },
    {
     "name": "stderr",
     "output_type": "stream",
     "text": [
      "20:27:08 - INFO - 加载训练数据: /home/maweicheng/database/cancer_benign/train.npz, 样本数: 283\n",
      "20:27:08 - INFO - 标签分布: (array([0, 1]), array([ 76, 207]))\n",
      "20:27:08 - INFO - 运行交叉验证\n",
      "20:27:08 - INFO - 开始10折交叉验证\n",
      "20:27:08 - INFO - 结果保存到: ./results/cancer_benign/base/cv_results_20251014_202708\n",
      "20:27:08 - INFO - Frag特征维度: 888\n",
      "20:27:08 - INFO - PFE特征维度: 19415\n",
      "20:27:08 - INFO - NDR特征维度: 19434\n",
      "20:27:08 - INFO - NDR2K特征维度: 19434\n",
      "20:27:08 - INFO - 标签分布: (array([0, 1]), array([ 76, 207]))\n",
      "20:27:08 - INFO - 运行交叉验证\n",
      "20:27:08 - INFO - 开始10折交叉验证\n",
      "20:27:08 - INFO - 结果保存到: ./results/cancer_benign/base/cv_results_20251014_202708\n",
      "20:27:08 - INFO - Frag特征维度: 888\n",
      "20:27:08 - INFO - PFE特征维度: 19415\n",
      "20:27:08 - INFO - NDR特征维度: 19434\n",
      "20:27:08 - INFO - NDR2K特征维度: 19434\n",
      "20:27:08 - INFO - \n",
      "=============== Fold 1/10 ===============\n",
      "20:27:08 - INFO - \n",
      "=============== Fold 1/10 ===============\n"
     ]
    },
    {
     "name": "stdout",
     "output_type": "stream",
     "text": [
      "Class distribution: {1: 186, 0: 68}\n",
      "Auto-calculated class weights: ['1.868', '0.683']\n",
      "Using weighted CrossEntropyLoss with weights: ['1.868', '0.683']\n"
     ]
    },
    {
     "name": "stderr",
     "output_type": "stream",
     "text": [
      "20:28:04 - INFO - Fold 1 完成 - Acc: 0.7586, AUC: 0.7917, F1: 0.8293, Train_Loss: 0.2233, Val_Loss: 0.6131                       \n",
      "20:28:04 - INFO - Fold 1 完成 - Acc: 0.7586, AUC: 0.7917, F1: 0.8293, Train_Loss: 0.2233, Val_Loss: 0.6131                       \n"
     ]
    },
    {
     "name": "stdout",
     "output_type": "stream",
     "text": [
      "📊 ROC曲线已保存: ./results/cancer_benign/base/cv_results_20251014_202708/roc_curve_fold_1.png\n"
     ]
    },
    {
     "name": "stderr",
     "output_type": "stream",
     "text": [
      "20:28:04 - INFO - \n",
      "=============== Fold 2/10 ===============\n"
     ]
    },
    {
     "name": "stdout",
     "output_type": "stream",
     "text": [
      "📊 训练曲线已保存: ./results/cancer_benign/base/cv_results_20251014_202708/results/training_curves_fold_1.png\n",
      "Class distribution: {1: 186, 0: 68}\n",
      "Auto-calculated class weights: ['1.868', '0.683']\n",
      "Using weighted CrossEntropyLoss with weights: ['1.868', '0.683']\n",
      "Class distribution: {1: 186, 0: 68}\n",
      "Auto-calculated class weights: ['1.868', '0.683']\n",
      "Using weighted CrossEntropyLoss with weights: ['1.868', '0.683']\n"
     ]
    },
    {
     "name": "stderr",
     "output_type": "stream",
     "text": [
      "20:29:03 - INFO - Fold 2 完成 - Acc: 0.6897, AUC: 0.7381, F1: 0.7692, Train_Loss: 0.1996, Val_Loss: 0.7070                       \n",
      "20:29:03 - INFO - Fold 2 完成 - Acc: 0.6897, AUC: 0.7381, F1: 0.7692, Train_Loss: 0.1996, Val_Loss: 0.7070                       \n"
     ]
    },
    {
     "name": "stdout",
     "output_type": "stream",
     "text": [
      "📊 ROC曲线已保存: ./results/cancer_benign/base/cv_results_20251014_202708/roc_curve_fold_2.png\n"
     ]
    },
    {
     "name": "stderr",
     "output_type": "stream",
     "text": [
      "20:29:04 - INFO - \n",
      "=============== Fold 3/10 ===============\n"
     ]
    },
    {
     "name": "stdout",
     "output_type": "stream",
     "text": [
      "📊 训练曲线已保存: ./results/cancer_benign/base/cv_results_20251014_202708/results/training_curves_fold_2.png\n",
      "Class distribution: {0: 68, 1: 186}\n",
      "Auto-calculated class weights: ['1.868', '0.683']\n",
      "Using weighted CrossEntropyLoss with weights: ['1.868', '0.683']\n",
      "Class distribution: {0: 68, 1: 186}\n",
      "Auto-calculated class weights: ['1.868', '0.683']\n",
      "Using weighted CrossEntropyLoss with weights: ['1.868', '0.683']\n"
     ]
    },
    {
     "name": "stderr",
     "output_type": "stream",
     "text": [
      "20:30:01 - INFO - Fold 3 完成 - Acc: 0.5862, AUC: 0.5893, F1: 0.7143, Train_Loss: 0.2142, Val_Loss: 0.8483                       \n",
      "20:30:01 - INFO - Fold 3 完成 - Acc: 0.5862, AUC: 0.5893, F1: 0.7143, Train_Loss: 0.2142, Val_Loss: 0.8483                       \n"
     ]
    },
    {
     "name": "stdout",
     "output_type": "stream",
     "text": [
      "📊 ROC曲线已保存: ./results/cancer_benign/base/cv_results_20251014_202708/roc_curve_fold_3.png\n"
     ]
    },
    {
     "name": "stderr",
     "output_type": "stream",
     "text": [
      "20:30:02 - INFO - \n",
      "=============== Fold 4/10 ===============\n"
     ]
    },
    {
     "name": "stdout",
     "output_type": "stream",
     "text": [
      "📊 训练曲线已保存: ./results/cancer_benign/base/cv_results_20251014_202708/results/training_curves_fold_3.png\n",
      "Class distribution: {1: 186, 0: 69}\n",
      "Auto-calculated class weights: ['1.848', '0.685']\n",
      "Using weighted CrossEntropyLoss with weights: ['1.848', '0.685']\n",
      "Class distribution: {1: 186, 0: 69}\n",
      "Auto-calculated class weights: ['1.848', '0.685']\n",
      "Using weighted CrossEntropyLoss with weights: ['1.848', '0.685']\n"
     ]
    },
    {
     "name": "stderr",
     "output_type": "stream",
     "text": [
      "20:31:00 - INFO - Fold 4 完成 - Acc: 0.6786, AUC: 0.5442, F1: 0.7907, Train_Loss: 0.2059, Val_Loss: 0.8596                       \n",
      "20:31:00 - INFO - Fold 4 完成 - Acc: 0.6786, AUC: 0.5442, F1: 0.7907, Train_Loss: 0.2059, Val_Loss: 0.8596                       \n"
     ]
    },
    {
     "name": "stdout",
     "output_type": "stream",
     "text": [
      "📊 ROC曲线已保存: ./results/cancer_benign/base/cv_results_20251014_202708/roc_curve_fold_4.png\n"
     ]
    },
    {
     "name": "stderr",
     "output_type": "stream",
     "text": [
      "20:31:01 - INFO - \n",
      "=============== Fold 5/10 ===============\n"
     ]
    },
    {
     "name": "stdout",
     "output_type": "stream",
     "text": [
      "📊 训练曲线已保存: ./results/cancer_benign/base/cv_results_20251014_202708/results/training_curves_fold_4.png\n",
      "Class distribution: {1: 186, 0: 69}\n",
      "Auto-calculated class weights: ['1.848', '0.685']\n",
      "Using weighted CrossEntropyLoss with weights: ['1.848', '0.685']\n",
      "Class distribution: {1: 186, 0: 69}\n",
      "Auto-calculated class weights: ['1.848', '0.685']\n",
      "Using weighted CrossEntropyLoss with weights: ['1.848', '0.685']\n"
     ]
    },
    {
     "name": "stderr",
     "output_type": "stream",
     "text": [
      "20:32:00 - INFO - Fold 5 完成 - Acc: 0.6071, AUC: 0.7415, F1: 0.6857, Train_Loss: 0.2343, Val_Loss: 0.6163                       \n",
      "20:32:00 - INFO - Fold 5 完成 - Acc: 0.6071, AUC: 0.7415, F1: 0.6857, Train_Loss: 0.2343, Val_Loss: 0.6163                       \n"
     ]
    },
    {
     "name": "stdout",
     "output_type": "stream",
     "text": [
      "📊 ROC曲线已保存: ./results/cancer_benign/base/cv_results_20251014_202708/roc_curve_fold_5.png\n"
     ]
    },
    {
     "name": "stderr",
     "output_type": "stream",
     "text": [
      "20:32:01 - INFO - \n",
      "=============== Fold 6/10 ===============\n"
     ]
    },
    {
     "name": "stdout",
     "output_type": "stream",
     "text": [
      "📊 训练曲线已保存: ./results/cancer_benign/base/cv_results_20251014_202708/results/training_curves_fold_5.png\n",
      "Class distribution: {1: 186, 0: 69}\n",
      "Auto-calculated class weights: ['1.848', '0.685']\n",
      "Using weighted CrossEntropyLoss with weights: ['1.848', '0.685']\n",
      "Class distribution: {1: 186, 0: 69}\n",
      "Auto-calculated class weights: ['1.848', '0.685']\n",
      "Using weighted CrossEntropyLoss with weights: ['1.848', '0.685']\n"
     ]
    },
    {
     "name": "stderr",
     "output_type": "stream",
     "text": [
      "20:32:58 - INFO - Fold 6 完成 - Acc: 0.7500, AUC: 0.7551, F1: 0.8205, Train_Loss: 0.2316, Val_Loss: 0.6296                       \n",
      "20:32:58 - INFO - Fold 6 完成 - Acc: 0.7500, AUC: 0.7551, F1: 0.8205, Train_Loss: 0.2316, Val_Loss: 0.6296                       \n"
     ]
    },
    {
     "name": "stdout",
     "output_type": "stream",
     "text": [
      "📊 ROC曲线已保存: ./results/cancer_benign/base/cv_results_20251014_202708/roc_curve_fold_6.png\n"
     ]
    },
    {
     "name": "stderr",
     "output_type": "stream",
     "text": [
      "20:32:59 - INFO - \n",
      "=============== Fold 7/10 ===============\n"
     ]
    },
    {
     "name": "stdout",
     "output_type": "stream",
     "text": [
      "📊 训练曲线已保存: ./results/cancer_benign/base/cv_results_20251014_202708/results/training_curves_fold_6.png\n",
      "Class distribution: {1: 186, 0: 69}\n",
      "Auto-calculated class weights: ['1.848', '0.685']\n",
      "Using weighted CrossEntropyLoss with weights: ['1.848', '0.685']\n",
      "Class distribution: {1: 186, 0: 69}\n",
      "Auto-calculated class weights: ['1.848', '0.685']\n",
      "Using weighted CrossEntropyLoss with weights: ['1.848', '0.685']\n"
     ]
    },
    {
     "name": "stderr",
     "output_type": "stream",
     "text": [
      "20:33:56 - INFO - Fold 7 完成 - Acc: 0.7857, AUC: 0.8639, F1: 0.8571, Train_Loss: 0.1886, Val_Loss: 0.4780                       \n",
      "20:33:56 - INFO - Fold 7 完成 - Acc: 0.7857, AUC: 0.8639, F1: 0.8571, Train_Loss: 0.1886, Val_Loss: 0.4780                       \n"
     ]
    },
    {
     "name": "stdout",
     "output_type": "stream",
     "text": [
      "📊 ROC曲线已保存: ./results/cancer_benign/base/cv_results_20251014_202708/roc_curve_fold_7.png\n"
     ]
    },
    {
     "name": "stderr",
     "output_type": "stream",
     "text": [
      "20:33:57 - INFO - \n",
      "=============== Fold 8/10 ===============\n"
     ]
    },
    {
     "name": "stdout",
     "output_type": "stream",
     "text": [
      "📊 训练曲线已保存: ./results/cancer_benign/base/cv_results_20251014_202708/results/training_curves_fold_7.png\n",
      "Class distribution: {1: 187, 0: 68}\n",
      "Auto-calculated class weights: ['1.875', '0.682']\n",
      "Using weighted CrossEntropyLoss with weights: ['1.875', '0.682']\n",
      "Class distribution: {1: 187, 0: 68}\n",
      "Auto-calculated class weights: ['1.875', '0.682']\n",
      "Using weighted CrossEntropyLoss with weights: ['1.875', '0.682']\n"
     ]
    },
    {
     "name": "stderr",
     "output_type": "stream",
     "text": [
      "20:34:57 - INFO - Fold 8 完成 - Acc: 0.7500, AUC: 0.7750, F1: 0.8293, Train_Loss: 0.1855, Val_Loss: 0.6212                       \n",
      "20:34:57 - INFO - Fold 8 完成 - Acc: 0.7500, AUC: 0.7750, F1: 0.8293, Train_Loss: 0.1855, Val_Loss: 0.6212                       \n"
     ]
    },
    {
     "name": "stdout",
     "output_type": "stream",
     "text": [
      "📊 ROC曲线已保存: ./results/cancer_benign/base/cv_results_20251014_202708/roc_curve_fold_8.png\n"
     ]
    },
    {
     "name": "stderr",
     "output_type": "stream",
     "text": [
      "20:34:58 - INFO - \n",
      "=============== Fold 9/10 ===============\n"
     ]
    },
    {
     "name": "stdout",
     "output_type": "stream",
     "text": [
      "📊 训练曲线已保存: ./results/cancer_benign/base/cv_results_20251014_202708/results/training_curves_fold_8.png\n",
      "Class distribution: {0: 68, 1: 187}\n",
      "Auto-calculated class weights: ['1.875', '0.682']\n",
      "Using weighted CrossEntropyLoss with weights: ['1.875', '0.682']\n",
      "Class distribution: {0: 68, 1: 187}\n",
      "Auto-calculated class weights: ['1.875', '0.682']\n",
      "Using weighted CrossEntropyLoss with weights: ['1.875', '0.682']\n"
     ]
    },
    {
     "name": "stderr",
     "output_type": "stream",
     "text": [
      "20:35:56 - INFO - Fold 9 完成 - Acc: 0.6786, AUC: 0.8250, F1: 0.7568, Train_Loss: 0.2656, Val_Loss: 0.4880                       \n",
      "20:35:56 - INFO - Fold 9 完成 - Acc: 0.6786, AUC: 0.8250, F1: 0.7568, Train_Loss: 0.2656, Val_Loss: 0.4880                       \n"
     ]
    },
    {
     "name": "stdout",
     "output_type": "stream",
     "text": [
      "📊 ROC曲线已保存: ./results/cancer_benign/base/cv_results_20251014_202708/roc_curve_fold_9.png\n"
     ]
    },
    {
     "name": "stderr",
     "output_type": "stream",
     "text": [
      "20:35:56 - INFO - \n",
      "=============== Fold 10/10 ===============\n"
     ]
    },
    {
     "name": "stdout",
     "output_type": "stream",
     "text": [
      "📊 训练曲线已保存: ./results/cancer_benign/base/cv_results_20251014_202708/results/training_curves_fold_9.png\n",
      "Class distribution: {1: 187, 0: 68}\n",
      "Auto-calculated class weights: ['1.875', '0.682']\n",
      "Using weighted CrossEntropyLoss with weights: ['1.875', '0.682']\n",
      "Class distribution: {1: 187, 0: 68}\n",
      "Auto-calculated class weights: ['1.875', '0.682']\n",
      "Using weighted CrossEntropyLoss with weights: ['1.875', '0.682']\n"
     ]
    },
    {
     "name": "stderr",
     "output_type": "stream",
     "text": [
      "20:36:53 - INFO - Fold 10 完成 - Acc: 0.5714, AUC: 0.7000, F1: 0.6667, Train_Loss: 0.1746, Val_Loss: 0.6478                       \n",
      "20:36:53 - INFO - Fold 10 完成 - Acc: 0.5714, AUC: 0.7000, F1: 0.6667, Train_Loss: 0.1746, Val_Loss: 0.6478                       \n"
     ]
    },
    {
     "name": "stdout",
     "output_type": "stream",
     "text": [
      "📊 ROC曲线已保存: ./results/cancer_benign/base/cv_results_20251014_202708/roc_curve_fold_10.png\n"
     ]
    },
    {
     "name": "stderr",
     "output_type": "stream",
     "text": [
      "20:36:54 - INFO - \n",
      "交叉验证结果:\n",
      "20:36:54 - INFO - 交叉验证完成！结果已保存到: ./results/cancer_benign/base/cv_results_20251014_202708\n",
      "20:36:54 - INFO - 交叉验证完成！结果已保存到: ./results/cancer_benign/base/cv_results_20251014_202708\n"
     ]
    },
    {
     "name": "stdout",
     "output_type": "stream",
     "text": [
      "📊 训练曲线已保存: ./results/cancer_benign/base/cv_results_20251014_202708/results/training_curves_fold_10.png\n",
      "+--------+-----------------+-----------------+-----------------+--------------+\n",
      "| Fold   | Accuracy        | F1 Score        | AUC Score       | Best Epoch   |\n",
      "+========+=================+=================+=================+==============+\n",
      "| 1      | 0.7586          | 0.8293          | 0.7917          | 1            |\n",
      "+--------+-----------------+-----------------+-----------------+--------------+\n",
      "| 2      | 0.6897          | 0.7692          | 0.7381          | 34           |\n",
      "+--------+-----------------+-----------------+-----------------+--------------+\n",
      "| 3      | 0.5862          | 0.7143          | 0.5893          | 32           |\n",
      "+--------+-----------------+-----------------+-----------------+--------------+\n",
      "| 4      | 0.6786          | 0.7907          | 0.5442          | 13           |\n",
      "+--------+-----------------+-----------------+-----------------+--------------+\n",
      "| 5      | 0.6071          | 0.6857          | 0.7415          | 14           |\n",
      "+--------+-----------------+-----------------+-----------------+--------------+\n",
      "| 6      | 0.7500          | 0.8205          | 0.7551          | 2            |\n",
      "+--------+-----------------+-----------------+-----------------+--------------+\n",
      "| 7      | 0.7857          | 0.8571          | 0.8639          | 34           |\n",
      "+--------+-----------------+-----------------+-----------------+--------------+\n",
      "| 8      | 0.7500          | 0.8293          | 0.7750          | 35           |\n",
      "+--------+-----------------+-----------------+-----------------+--------------+\n",
      "| 9      | 0.6786          | 0.7568          | 0.8250          | 34           |\n",
      "+--------+-----------------+-----------------+-----------------+--------------+\n",
      "| 10     | 0.5714          | 0.6667          | 0.7000          | 2            |\n",
      "+--------+-----------------+-----------------+-----------------+--------------+\n",
      "| 平均值 | 0.6856 ± 0.0727 | 0.7720 ± 0.0621 | 0.7324 ± 0.0942 | -            |\n",
      "+--------+-----------------+-----------------+-----------------+--------------+\n"
     ]
    },
    {
     "name": "stderr",
     "output_type": "stream",
     "text": [
      "20:36:55 - INFO - 开始跨fold错误样本分析...\n",
      "20:36:55 - INFO - ============================================================\n",
      "20:36:55 - INFO - 🔍 跨Fold样本错误分析\n",
      "20:36:55 - INFO - ============================================================\n",
      "20:36:55 - INFO - 找到 10 个fold模型: [1, 2, 3, 4, 5, 6, 7, 8, 9, 10]\n",
      "20:36:55 - INFO - ============================================================\n",
      "20:36:55 - INFO - 🔍 跨Fold样本错误分析\n",
      "20:36:55 - INFO - ============================================================\n",
      "20:36:55 - INFO - 找到 10 个fold模型: [1, 2, 3, 4, 5, 6, 7, 8, 9, 10]\n"
     ]
    },
    {
     "name": "stdout",
     "output_type": "stream",
     "text": [
      "📊 交叉验证曲线已保存: ./results/cancer_benign/base/cv_results_20251014_202708/results/cross_validation_curves.png\n"
     ]
    },
    {
     "name": "stderr",
     "output_type": "stream",
     "text": [
      "20:36:55 - INFO - 使用 Fold 1 模型进行预测...\n",
      "20:36:56 - INFO - Fold 1 准确率: 0.654 (185/283)\n",
      "20:36:56 - INFO - 使用 Fold 2 模型进行预测...\n",
      "20:36:56 - INFO - Fold 1 准确率: 0.654 (185/283)\n",
      "20:36:56 - INFO - 使用 Fold 2 模型进行预测...\n",
      "20:36:57 - INFO - Fold 2 准确率: 0.869 (246/283)\n",
      "20:36:57 - INFO - 使用 Fold 3 模型进行预测...\n",
      "20:36:57 - INFO - Fold 2 准确率: 0.869 (246/283)\n",
      "20:36:57 - INFO - 使用 Fold 3 模型进行预测...\n",
      "20:36:58 - INFO - Fold 3 准确率: 0.880 (249/283)\n",
      "20:36:58 - INFO - 使用 Fold 4 模型进行预测...\n",
      "20:36:58 - INFO - Fold 3 准确率: 0.880 (249/283)\n",
      "20:36:58 - INFO - 使用 Fold 4 模型进行预测...\n",
      "20:36:59 - INFO - Fold 4 准确率: 0.788 (223/283)\n",
      "20:36:59 - INFO - 使用 Fold 5 模型进行预测...\n",
      "20:36:59 - INFO - Fold 4 准确率: 0.788 (223/283)\n",
      "20:36:59 - INFO - 使用 Fold 5 模型进行预测...\n",
      "20:37:00 - INFO - Fold 5 准确率: 0.841 (238/283)\n",
      "20:37:00 - INFO - 使用 Fold 6 模型进行预测...\n",
      "20:37:00 - INFO - Fold 5 准确率: 0.841 (238/283)\n",
      "20:37:00 - INFO - 使用 Fold 6 模型进行预测...\n",
      "20:37:01 - INFO - Fold 6 准确率: 0.618 (175/283)\n",
      "20:37:01 - INFO - 使用 Fold 7 模型进行预测...\n",
      "20:37:01 - INFO - Fold 6 准确率: 0.618 (175/283)\n",
      "20:37:01 - INFO - 使用 Fold 7 模型进行预测...\n",
      "20:37:02 - INFO - Fold 7 准确率: 0.883 (250/283)\n",
      "20:37:02 - INFO - 使用 Fold 8 模型进行预测...\n",
      "20:37:02 - INFO - Fold 7 准确率: 0.883 (250/283)\n",
      "20:37:02 - INFO - 使用 Fold 8 模型进行预测...\n",
      "20:37:03 - INFO - Fold 8 准确率: 0.855 (242/283)\n",
      "20:37:03 - INFO - 使用 Fold 9 模型进行预测...\n",
      "20:37:03 - INFO - Fold 8 准确率: 0.855 (242/283)\n",
      "20:37:03 - INFO - 使用 Fold 9 模型进行预测...\n",
      "20:37:04 - INFO - Fold 9 准确率: 0.792 (224/283)\n",
      "20:37:04 - INFO - 使用 Fold 10 模型进行预测...\n",
      "20:37:04 - INFO - Fold 9 准确率: 0.792 (224/283)\n",
      "20:37:04 - INFO - 使用 Fold 10 模型进行预测...\n",
      "20:37:05 - INFO - Fold 10 准确率: 0.696 (197/283)\n",
      "20:37:05 - INFO - \n",
      "分析在≥2个fold中预测错误的样本...\n",
      "20:37:05 - INFO - 🚨 找到 156 个持续错误样本\n",
      "20:37:05 - INFO - 📊 分析结果:\n",
      "20:37:05 - INFO -    🔴 极高错误率(≥80%): 2 个\n",
      "20:37:05 - INFO -    🟠 高错误率(≥60%): 24 个\n",
      "20:37:05 - INFO -    🏷️  可能标签错误: 0 个 (预测一致但与标签不符)\n",
      "20:37:05 - INFO - 📄 详细报告已保存: ./results/cancer_benign/base/cv_results_20251014_202708/cross_fold_error_analysis.txt\n",
      "20:37:05 - INFO - \n",
      "⚠️  建议立即检查以下极高错误率样本:\n",
      "20:37:05 - INFO - Fold 10 准确率: 0.696 (197/283)\n",
      "20:37:05 - INFO - \n",
      "分析在≥2个fold中预测错误的样本...\n",
      "20:37:05 - INFO - 🚨 找到 156 个持续错误样本\n",
      "20:37:05 - INFO - 📊 分析结果:\n",
      "20:37:05 - INFO -    🔴 极高错误率(≥80%): 2 个\n",
      "20:37:05 - INFO -    🟠 高错误率(≥60%): 24 个\n",
      "20:37:05 - INFO -    🏷️  可能标签错误: 0 个 (预测一致但与标签不符)\n",
      "20:37:05 - INFO - 📄 详细报告已保存: ./results/cancer_benign/base/cv_results_20251014_202708/cross_fold_error_analysis.txt\n",
      "20:37:05 - INFO - \n",
      "⚠️  建议立即检查以下极高错误率样本:\n",
      "20:37:05 - INFO -    1. 样本ID Lib-282: 标签1 vs 预测不一致 (错误9/10次)\n",
      "20:37:05 - INFO -    2. 样本ID Lib-466: 标签1 vs 预测不一致 (错误8/10次)\n",
      "20:37:05 - INFO - ✅ 跨fold错误分析完成！\n",
      "20:37:05 - INFO - 开始独立测试集评估...\n",
      "20:37:05 - INFO - 开始独立测试集评估: /home/maweicheng/database/cancer_benign/test.npz\n",
      "20:37:05 - INFO -    1. 样本ID Lib-282: 标签1 vs 预测不一致 (错误9/10次)\n",
      "20:37:05 - INFO -    2. 样本ID Lib-466: 标签1 vs 预测不一致 (错误8/10次)\n",
      "20:37:05 - INFO - ✅ 跨fold错误分析完成！\n",
      "20:37:05 - INFO - 开始独立测试集评估...\n",
      "20:37:05 - INFO - 开始独立测试集评估: /home/maweicheng/database/cancer_benign/test.npz\n",
      "20:37:05 - INFO - 测试集加载成功，样本数: 32\n",
      "20:37:05 - INFO - 在独立测试集上评估所有fold模型...\n",
      "20:37:05 - INFO -   评估 Fold 1...\n",
      "20:37:05 - INFO - 测试集加载成功，样本数: 32\n",
      "20:37:05 - INFO - 在独立测试集上评估所有fold模型...\n",
      "20:37:05 - INFO -   评估 Fold 1...\n",
      "20:37:06 - INFO - 单模型 Fold 1 测试集结果详情:\n",
      "20:37:06 - INFO -   样本数: 32\n",
      "20:37:06 - INFO -   预测分布: {np.int64(0): np.int64(10), np.int64(1): np.int64(22)}\n",
      "20:37:06 - INFO -   标签分布: {np.int64(0): np.int64(9), np.int64(1): np.int64(23)}\n",
      "20:37:06 - INFO -   概率范围: [0.2978, 0.7797]\n",
      "20:37:06 - INFO -   概率均值: 0.5630 ± 0.1376\n",
      "20:37:06 - INFO -   评估 Fold 2...\n",
      "20:37:06 - INFO - 单模型 Fold 1 测试集结果详情:\n",
      "20:37:06 - INFO -   样本数: 32\n",
      "20:37:06 - INFO -   预测分布: {np.int64(0): np.int64(10), np.int64(1): np.int64(22)}\n",
      "20:37:06 - INFO -   标签分布: {np.int64(0): np.int64(9), np.int64(1): np.int64(23)}\n",
      "20:37:06 - INFO -   概率范围: [0.2978, 0.7797]\n",
      "20:37:06 - INFO -   概率均值: 0.5630 ± 0.1376\n",
      "20:37:06 - INFO -   评估 Fold 2...\n",
      "20:37:07 - INFO - 单模型 Fold 2 测试集结果详情:\n",
      "20:37:07 - INFO -   样本数: 32\n",
      "20:37:07 - INFO -   预测分布: {np.int64(0): np.int64(6), np.int64(1): np.int64(26)}\n",
      "20:37:07 - INFO -   标签分布: {np.int64(0): np.int64(9), np.int64(1): np.int64(23)}\n",
      "20:37:07 - INFO -   概率范围: [0.1619, 0.9732]\n",
      "20:37:07 - INFO -   概率均值: 0.7283 ± 0.2344\n",
      "20:37:07 - INFO -   评估 Fold 3...\n",
      "20:37:07 - INFO - 单模型 Fold 2 测试集结果详情:\n",
      "20:37:07 - INFO -   样本数: 32\n",
      "20:37:07 - INFO -   预测分布: {np.int64(0): np.int64(6), np.int64(1): np.int64(26)}\n",
      "20:37:07 - INFO -   标签分布: {np.int64(0): np.int64(9), np.int64(1): np.int64(23)}\n",
      "20:37:07 - INFO -   概率范围: [0.1619, 0.9732]\n",
      "20:37:07 - INFO -   概率均值: 0.7283 ± 0.2344\n",
      "20:37:07 - INFO -   评估 Fold 3...\n",
      "20:37:07 - INFO - 单模型 Fold 3 测试集结果详情:\n",
      "20:37:07 - INFO -   样本数: 32\n",
      "20:37:07 - INFO -   预测分布: {np.int64(0): np.int64(8), np.int64(1): np.int64(24)}\n",
      "20:37:07 - INFO -   标签分布: {np.int64(0): np.int64(9), np.int64(1): np.int64(23)}\n",
      "20:37:07 - INFO -   概率范围: [0.0621, 0.9843]\n",
      "20:37:07 - INFO -   概率均值: 0.6967 ± 0.3075\n",
      "20:37:07 - INFO -   评估 Fold 4...\n",
      "20:37:07 - INFO - 单模型 Fold 3 测试集结果详情:\n",
      "20:37:07 - INFO -   样本数: 32\n",
      "20:37:07 - INFO -   预测分布: {np.int64(0): np.int64(8), np.int64(1): np.int64(24)}\n",
      "20:37:07 - INFO -   标签分布: {np.int64(0): np.int64(9), np.int64(1): np.int64(23)}\n",
      "20:37:07 - INFO -   概率范围: [0.0621, 0.9843]\n",
      "20:37:07 - INFO -   概率均值: 0.6967 ± 0.3075\n",
      "20:37:07 - INFO -   评估 Fold 4...\n",
      "20:37:08 - INFO - 单模型 Fold 4 测试集结果详情:\n",
      "20:37:08 - INFO -   样本数: 32\n",
      "20:37:08 - INFO -   预测分布: {np.int64(0): np.int64(9), np.int64(1): np.int64(23)}\n",
      "20:37:08 - INFO - 单模型 Fold 4 测试集结果详情:\n",
      "20:37:08 - INFO -   样本数: 32\n",
      "20:37:08 - INFO -   预测分布: {np.int64(0): np.int64(9), np.int64(1): np.int64(23)}\n",
      "20:37:08 - INFO -   标签分布: {np.int64(0): np.int64(9), np.int64(1): np.int64(23)}\n",
      "20:37:08 - INFO -   概率范围: [0.0917, 0.9650]\n",
      "20:37:08 - INFO -   概率均值: 0.6599 ± 0.2842\n",
      "20:37:08 - INFO -   评估 Fold 5...\n",
      "20:37:08 - INFO -   标签分布: {np.int64(0): np.int64(9), np.int64(1): np.int64(23)}\n",
      "20:37:08 - INFO -   概率范围: [0.0917, 0.9650]\n",
      "20:37:08 - INFO -   概率均值: 0.6599 ± 0.2842\n",
      "20:37:08 - INFO -   评估 Fold 5...\n",
      "20:37:09 - INFO - 单模型 Fold 5 测试集结果详情:\n",
      "20:37:09 - INFO -   样本数: 32\n",
      "20:37:09 - INFO -   预测分布: {np.int64(0): np.int64(9), np.int64(1): np.int64(23)}\n",
      "20:37:09 - INFO -   标签分布: {np.int64(0): np.int64(9), np.int64(1): np.int64(23)}\n",
      "20:37:09 - INFO -   概率范围: [0.1427, 0.9511]\n",
      "20:37:09 - INFO -   概率均值: 0.6289 ± 0.2510\n",
      "20:37:09 - INFO -   评估 Fold 6...\n",
      "20:37:09 - INFO - 单模型 Fold 5 测试集结果详情:\n",
      "20:37:09 - INFO -   样本数: 32\n",
      "20:37:09 - INFO -   预测分布: {np.int64(0): np.int64(9), np.int64(1): np.int64(23)}\n",
      "20:37:09 - INFO -   标签分布: {np.int64(0): np.int64(9), np.int64(1): np.int64(23)}\n",
      "20:37:09 - INFO -   概率范围: [0.1427, 0.9511]\n",
      "20:37:09 - INFO -   概率均值: 0.6289 ± 0.2510\n",
      "20:37:09 - INFO -   评估 Fold 6...\n",
      "20:37:09 - INFO - 单模型 Fold 6 测试集结果详情:\n",
      "20:37:09 - INFO -   样本数: 32\n",
      "20:37:09 - INFO -   预测分布: {np.int64(0): np.int64(18), np.int64(1): np.int64(14)}\n",
      "20:37:09 - INFO -   标签分布: {np.int64(0): np.int64(9), np.int64(1): np.int64(23)}\n",
      "20:37:09 - INFO -   概率范围: [0.2280, 0.8130]\n",
      "20:37:09 - INFO -   概率均值: 0.4959 ± 0.1461\n",
      "20:37:09 - INFO -   评估 Fold 7...\n",
      "20:37:09 - INFO - 单模型 Fold 6 测试集结果详情:\n",
      "20:37:09 - INFO -   样本数: 32\n",
      "20:37:09 - INFO -   预测分布: {np.int64(0): np.int64(18), np.int64(1): np.int64(14)}\n",
      "20:37:09 - INFO -   标签分布: {np.int64(0): np.int64(9), np.int64(1): np.int64(23)}\n",
      "20:37:09 - INFO -   概率范围: [0.2280, 0.8130]\n",
      "20:37:09 - INFO -   概率均值: 0.4959 ± 0.1461\n",
      "20:37:09 - INFO -   评估 Fold 7...\n",
      "20:37:10 - INFO - 单模型 Fold 7 测试集结果详情:\n",
      "20:37:10 - INFO -   样本数: 32\n",
      "20:37:10 - INFO -   预测分布: {np.int64(0): np.int64(10), np.int64(1): np.int64(22)}\n",
      "20:37:10 - INFO -   标签分布: {np.int64(0): np.int64(9), np.int64(1): np.int64(23)}\n",
      "20:37:10 - INFO -   概率范围: [0.0872, 0.9744]\n",
      "20:37:10 - INFO -   概率均值: 0.6553 ± 0.2971\n",
      "20:37:10 - INFO -   评估 Fold 8...\n",
      "20:37:10 - INFO - 单模型 Fold 7 测试集结果详情:\n",
      "20:37:10 - INFO -   样本数: 32\n",
      "20:37:10 - INFO -   预测分布: {np.int64(0): np.int64(10), np.int64(1): np.int64(22)}\n",
      "20:37:10 - INFO -   标签分布: {np.int64(0): np.int64(9), np.int64(1): np.int64(23)}\n",
      "20:37:10 - INFO -   概率范围: [0.0872, 0.9744]\n",
      "20:37:10 - INFO -   概率均值: 0.6553 ± 0.2971\n",
      "20:37:10 - INFO -   评估 Fold 8...\n",
      "20:37:11 - INFO - 单模型 Fold 8 测试集结果详情:\n",
      "20:37:11 - INFO -   样本数: 32\n",
      "20:37:11 - INFO -   预测分布: {np.int64(0): np.int64(6), np.int64(1): np.int64(26)}\n",
      "20:37:11 - INFO -   标签分布: {np.int64(0): np.int64(9), np.int64(1): np.int64(23)}\n",
      "20:37:11 - INFO -   概率范围: [0.1119, 0.9715]\n",
      "20:37:11 - INFO -   概率均值: 0.7217 ± 0.2576\n",
      "20:37:11 - INFO -   评估 Fold 9...\n",
      "20:37:11 - INFO - 单模型 Fold 8 测试集结果详情:\n",
      "20:37:11 - INFO -   样本数: 32\n",
      "20:37:11 - INFO -   预测分布: {np.int64(0): np.int64(6), np.int64(1): np.int64(26)}\n",
      "20:37:11 - INFO -   标签分布: {np.int64(0): np.int64(9), np.int64(1): np.int64(23)}\n",
      "20:37:11 - INFO -   概率范围: [0.1119, 0.9715]\n",
      "20:37:11 - INFO -   概率均值: 0.7217 ± 0.2576\n",
      "20:37:11 - INFO -   评估 Fold 9...\n",
      "20:37:12 - INFO - 单模型 Fold 9 测试集结果详情:\n",
      "20:37:12 - INFO -   样本数: 32\n",
      "20:37:12 - INFO -   预测分布: {np.int64(0): np.int64(17), np.int64(1): np.int64(15)}\n",
      "20:37:12 - INFO -   标签分布: {np.int64(0): np.int64(9), np.int64(1): np.int64(23)}\n",
      "20:37:12 - INFO -   概率范围: [0.0507, 0.9655]\n",
      "20:37:12 - INFO -   概率均值: 0.5482 ± 0.2969\n",
      "20:37:12 - INFO -   评估 Fold 10...\n",
      "20:37:12 - INFO - 单模型 Fold 9 测试集结果详情:\n",
      "20:37:12 - INFO -   样本数: 32\n",
      "20:37:12 - INFO -   预测分布: {np.int64(0): np.int64(17), np.int64(1): np.int64(15)}\n",
      "20:37:12 - INFO -   标签分布: {np.int64(0): np.int64(9), np.int64(1): np.int64(23)}\n",
      "20:37:12 - INFO -   概率范围: [0.0507, 0.9655]\n",
      "20:37:12 - INFO -   概率均值: 0.5482 ± 0.2969\n",
      "20:37:12 - INFO -   评估 Fold 10...\n",
      "20:37:12 - INFO - 单模型 Fold 10 测试集结果详情:\n",
      "20:37:12 - INFO -   样本数: 32\n",
      "20:37:12 - INFO -   预测分布: {np.int64(0): np.int64(12), np.int64(1): np.int64(20)}\n",
      "20:37:12 - INFO -   标签分布: {np.int64(0): np.int64(9), np.int64(1): np.int64(23)}\n",
      "20:37:12 - INFO -   概率范围: [0.1757, 0.8228]\n",
      "20:37:12 - INFO -   概率均值: 0.5734 ± 0.1645\n",
      "20:37:12 - INFO - ================================================================================\n",
      "20:37:12 - INFO - 独立测试集性能评估 - 跨fold平均结果:\n",
      "20:37:12 - INFO - 准确率: 0.7281 ± 0.0851\n",
      "20:37:12 - INFO - F1分数:  0.7993 ± 0.0787\n",
      "20:37:12 - INFO - AUC:    0.7894 ± 0.0861\n",
      "20:37:12 - INFO - \n",
      "20:37:12 - INFO - 各fold详细结果:\n",
      "20:37:12 - INFO - 单模型 Fold 10 测试集结果详情:\n",
      "20:37:12 - INFO -   样本数: 32\n",
      "20:37:12 - INFO -   预测分布: {np.int64(0): np.int64(12), np.int64(1): np.int64(20)}\n",
      "20:37:12 - INFO -   标签分布: {np.int64(0): np.int64(9), np.int64(1): np.int64(23)}\n",
      "20:37:12 - INFO -   概率范围: [0.1757, 0.8228]\n",
      "20:37:12 - INFO -   概率均值: 0.5734 ± 0.1645\n",
      "20:37:12 - INFO - ================================================================================\n",
      "20:37:12 - INFO - 独立测试集性能评估 - 跨fold平均结果:\n",
      "20:37:12 - INFO - 准确率: 0.7281 ± 0.0851\n",
      "20:37:12 - INFO - F1分数:  0.7993 ± 0.0787\n",
      "20:37:12 - INFO - AUC:    0.7894 ± 0.0861\n",
      "20:37:12 - INFO - \n",
      "20:37:12 - INFO - 各fold详细结果:\n",
      "20:37:12 - INFO -   Fold 1: Acc=0.6562, F1=0.7556, AUC=0.8019\n",
      "20:37:12 - INFO -   Fold 2: Acc=0.7188, F1=0.8163, AUC=0.7585\n",
      "20:37:12 - INFO -   Fold 3: Acc=0.6562, F1=0.7660, AUC=0.6232\n",
      "20:37:12 - INFO -   Fold 4: Acc=0.8125, F1=0.8696, AUC=0.7536\n",
      "20:37:12 - INFO -   Fold 5: Acc=0.8125, F1=0.8696, AUC=0.8213\n",
      "20:37:12 - INFO -   Fold 6: Acc=0.5938, F1=0.6486, AUC=0.7053\n",
      "20:37:12 - INFO -   Fold 7: Acc=0.8438, F1=0.8889, AUC=0.9082\n",
      "20:37:12 - INFO -   Fold 8: Acc=0.7812, F1=0.8571, AUC=0.9372\n",
      "20:37:12 - INFO -   Fold 9: Acc=0.6250, F1=0.6842, AUC=0.7923\n",
      "20:37:12 - INFO -   Fold 10: Acc=0.7812, F1=0.8372, AUC=0.7923\n",
      "20:37:12 - INFO - ================================================================================\n",
      "20:37:12 - INFO -   Fold 1: Acc=0.6562, F1=0.7556, AUC=0.8019\n",
      "20:37:12 - INFO -   Fold 2: Acc=0.7188, F1=0.8163, AUC=0.7585\n",
      "20:37:12 - INFO -   Fold 3: Acc=0.6562, F1=0.7660, AUC=0.6232\n",
      "20:37:12 - INFO -   Fold 4: Acc=0.8125, F1=0.8696, AUC=0.7536\n",
      "20:37:12 - INFO -   Fold 5: Acc=0.8125, F1=0.8696, AUC=0.8213\n",
      "20:37:12 - INFO -   Fold 6: Acc=0.5938, F1=0.6486, AUC=0.7053\n",
      "20:37:12 - INFO -   Fold 7: Acc=0.8438, F1=0.8889, AUC=0.9082\n",
      "20:37:12 - INFO -   Fold 8: Acc=0.7812, F1=0.8571, AUC=0.9372\n",
      "20:37:12 - INFO -   Fold 9: Acc=0.6250, F1=0.6842, AUC=0.7923\n",
      "20:37:12 - INFO -   Fold 10: Acc=0.7812, F1=0.8372, AUC=0.7923\n",
      "20:37:12 - INFO - ================================================================================\n",
      "20:37:12 - INFO - \n",
      "最终测试集评估结果 (样本数: 32)\n",
      "20:37:12 - INFO - 平均AUC: 0.7894 ± 0.0861 (跨10个fold)\n",
      "20:37:12 - INFO - 平均F1: 0.7993 ± 0.0787\n",
      "20:37:12 - INFO - 平均准确率: 0.7281 ± 0.0851\n",
      "20:37:12 - INFO - 训练完成!\n",
      "20:37:12 - INFO - \n",
      "最终测试集评估结果 (样本数: 32)\n",
      "20:37:12 - INFO - 平均AUC: 0.7894 ± 0.0861 (跨10个fold)\n",
      "20:37:12 - INFO - 平均F1: 0.7993 ± 0.0787\n",
      "20:37:12 - INFO - 平均准确率: 0.7281 ± 0.0851\n",
      "20:37:12 - INFO - 训练完成!\n"
     ]
    }
   ],
   "source": [
    "%run main_backup_20251014_155911.py \\\n",
    "    --modalities Frag PFE NDR NDR2K \\\n",
    "    --data_file /home/maweicheng/database/cancer_benign/train.npz \\\n",
    "    --test_file /home/maweicheng/database/cancer_benign/test.npz \\\n",
    "    --ct_model_path /home/maweicheng/multimodel/CT/cv_checkpoints/res_best_0.88.pth \\\n",
    "    --epochs 55 \\\n",
    "    --batch_size 16 \\\n",
    "    --lr 5e-5 \\\n",
    "    --use_test_set \\\n",
    "    --k_folds 10 \\\n",
    "    --latent_dim 512 \\\n",
    "    --output_dir ./results/cancer_benign/base \\\n",
    "    --analyze_errors"
   ]
  },
  {
   "cell_type": "markdown",
   "id": "c03200ea",
   "metadata": {},
   "source": [
    "#### 特征选择配置（PCA）"
   ]
  },
  {
   "cell_type": "code",
   "execution_count": 30,
   "id": "03d70a19",
   "metadata": {},
   "outputs": [
    {
     "name": "stderr",
     "output_type": "stream",
     "text": [
      "22:06:47 - INFO - 随机种子设置为: 42\n",
      "22:06:47 - INFO - 使用设备: cuda\n",
      "22:06:47 - INFO - 使用模态: ['Frag', 'PFE', 'NDR', 'NDR2K']\n",
      "22:06:47 - INFO - 创建cfDNA特征选择器...\n"
     ]
    },
    {
     "name": "stdout",
     "output_type": "stream",
     "text": [
      "🔧 Frag: 888特征\n",
      "🔄 Frag使用PCA降维: 888 -> 100 维\n",
      "✅ Frag: 888 -> 100\n",
      "🔧 PFE: 19415特征\n",
      "🔄 PFE使用PCA降维: 19,415 -> 100 维\n",
      "✅ PFE: 19,415 -> 100\n",
      "🔧 NDR: 19434特征\n",
      "🔄 NDR使用PCA降维: 19,434 -> 100 维\n",
      "✅ NDR: 19,434 -> 100\n",
      "🔧 NDR2K: 19434特征\n",
      "🔄 NDR2K使用PCA降维: 19,434 -> 100 维\n",
      "✅ NDR2K: 19,434 -> 100\n"
     ]
    },
    {
     "name": "stderr",
     "output_type": "stream",
     "text": [
      "22:06:48 - INFO - 特征选择方法: pca, 每个模态保留: 100 个特征\n"
     ]
    },
    {
     "name": "stdout",
     "output_type": "stream",
     "text": [
      "\n",
      "🎯 特征选择总结 (pca):\n",
      "  📊 总特征数: 59,171 -> 400\n",
      "  📉 压缩率: 99.3%\n",
      "  🔢 每模态平均: 100 特征\n",
      "\n"
     ]
    },
    {
     "name": "stderr",
     "output_type": "stream",
     "text": [
      "22:06:49 - INFO - 加载训练数据: /home/maweicheng/database/cancer_benign/train.npz, 样本数: 283\n",
      "22:06:49 - INFO - 标签分布: (array([0, 1]), array([ 76, 207]))\n",
      "22:06:49 - INFO - 运行交叉验证\n",
      "22:06:49 - INFO - 开始10折交叉验证\n",
      "22:06:49 - INFO - 结果保存到: ./results/cancer_benign/cv_results_20251014_220649\n",
      "22:06:49 - INFO - Frag特征维度: 100\n",
      "22:06:49 - INFO - PFE特征维度: 100\n",
      "22:06:49 - INFO - NDR特征维度: 100\n",
      "22:06:49 - INFO - NDR2K特征维度: 100\n",
      "22:06:49 - INFO - \n",
      "=============== Fold 1/10 ===============\n"
     ]
    },
    {
     "name": "stdout",
     "output_type": "stream",
     "text": [
      "Class distribution: {0: 68, 1: 186}\n",
      "Auto-calculated class weights: ['1.868', '0.683']\n",
      "Using weighted CrossEntropyLoss with weights: ['1.868', '0.683']\n"
     ]
    },
    {
     "name": "stderr",
     "output_type": "stream",
     "text": [
      "22:08:02 - INFO - Fold 1 完成 - Acc: 0.6897, AUC: 0.7083, F1: 0.8085, Train_Loss: 0.1792, Val_Loss: 1.0112                       \n",
      "/home/maweicheng/multimodel/training_utils.py:507: RuntimeWarning: More than 20 figures have been opened. Figures created through the pyplot interface (`matplotlib.pyplot.figure`) are retained until explicitly closed and may consume too much memory. (To control this warning, see the rcParam `figure.max_open_warning`). Consider using `matplotlib.pyplot.close()`.\n",
      "  plt.figure(figsize=(8, 6))\n",
      "/home/maweicheng/multimodel/training_utils.py:381: RuntimeWarning: More than 20 figures have been opened. Figures created through the pyplot interface (`matplotlib.pyplot.figure`) are retained until explicitly closed and may consume too much memory. (To control this warning, see the rcParam `figure.max_open_warning`). Consider using `matplotlib.pyplot.close()`.\n",
      "  fig, axes = plt.subplots(2, 2, figsize=(12, 10))\n"
     ]
    },
    {
     "name": "stdout",
     "output_type": "stream",
     "text": [
      "📊 ROC曲线已保存: ./results/cancer_benign/cv_results_20251014_220649/roc_curve_fold_1.png\n"
     ]
    },
    {
     "name": "stderr",
     "output_type": "stream",
     "text": [
      "22:08:03 - INFO - \n",
      "=============== Fold 2/10 ===============\n"
     ]
    },
    {
     "name": "stdout",
     "output_type": "stream",
     "text": [
      "📊 训练曲线已保存: ./results/cancer_benign/cv_results_20251014_220649/results/training_curves_fold_1.png\n",
      "Class distribution: {1: 186, 0: 68}\n",
      "Auto-calculated class weights: ['1.868', '0.683']\n",
      "Using weighted CrossEntropyLoss with weights: ['1.868', '0.683']\n"
     ]
    },
    {
     "name": "stderr",
     "output_type": "stream",
     "text": [
      "22:09:12 - INFO - Fold 2 完成 - Acc: 0.6552, AUC: 0.7738, F1: 0.7500, Train_Loss: 0.1227, Val_Loss: 0.5922                       \n",
      "/home/maweicheng/multimodel/training_utils.py:507: RuntimeWarning: More than 20 figures have been opened. Figures created through the pyplot interface (`matplotlib.pyplot.figure`) are retained until explicitly closed and may consume too much memory. (To control this warning, see the rcParam `figure.max_open_warning`). Consider using `matplotlib.pyplot.close()`.\n",
      "  plt.figure(figsize=(8, 6))\n",
      "/home/maweicheng/multimodel/training_utils.py:381: RuntimeWarning: More than 20 figures have been opened. Figures created through the pyplot interface (`matplotlib.pyplot.figure`) are retained until explicitly closed and may consume too much memory. (To control this warning, see the rcParam `figure.max_open_warning`). Consider using `matplotlib.pyplot.close()`.\n",
      "  fig, axes = plt.subplots(2, 2, figsize=(12, 10))\n"
     ]
    },
    {
     "name": "stdout",
     "output_type": "stream",
     "text": [
      "📊 ROC曲线已保存: ./results/cancer_benign/cv_results_20251014_220649/roc_curve_fold_2.png\n"
     ]
    },
    {
     "name": "stderr",
     "output_type": "stream",
     "text": [
      "22:09:12 - INFO - \n",
      "=============== Fold 3/10 ===============\n"
     ]
    },
    {
     "name": "stdout",
     "output_type": "stream",
     "text": [
      "📊 训练曲线已保存: ./results/cancer_benign/cv_results_20251014_220649/results/training_curves_fold_2.png\n",
      "Class distribution: {1: 186, 0: 68}\n",
      "Auto-calculated class weights: ['1.868', '0.683']\n",
      "Using weighted CrossEntropyLoss with weights: ['1.868', '0.683']\n"
     ]
    },
    {
     "name": "stderr",
     "output_type": "stream",
     "text": [
      "22:10:23 - INFO - Fold 3 完成 - Acc: 0.6552, AUC: 0.6786, F1: 0.7727, Train_Loss: 0.1415, Val_Loss: 0.8753                       \n",
      "/home/maweicheng/multimodel/training_utils.py:507: RuntimeWarning: More than 20 figures have been opened. Figures created through the pyplot interface (`matplotlib.pyplot.figure`) are retained until explicitly closed and may consume too much memory. (To control this warning, see the rcParam `figure.max_open_warning`). Consider using `matplotlib.pyplot.close()`.\n",
      "  plt.figure(figsize=(8, 6))\n",
      "/home/maweicheng/multimodel/training_utils.py:381: RuntimeWarning: More than 20 figures have been opened. Figures created through the pyplot interface (`matplotlib.pyplot.figure`) are retained until explicitly closed and may consume too much memory. (To control this warning, see the rcParam `figure.max_open_warning`). Consider using `matplotlib.pyplot.close()`.\n",
      "  fig, axes = plt.subplots(2, 2, figsize=(12, 10))\n"
     ]
    },
    {
     "name": "stdout",
     "output_type": "stream",
     "text": [
      "📊 ROC曲线已保存: ./results/cancer_benign/cv_results_20251014_220649/roc_curve_fold_3.png\n"
     ]
    },
    {
     "name": "stderr",
     "output_type": "stream",
     "text": [
      "22:10:24 - INFO - \n",
      "=============== Fold 4/10 ===============\n"
     ]
    },
    {
     "name": "stdout",
     "output_type": "stream",
     "text": [
      "📊 训练曲线已保存: ./results/cancer_benign/cv_results_20251014_220649/results/training_curves_fold_3.png\n",
      "Class distribution: {1: 186, 0: 69}\n",
      "Auto-calculated class weights: ['1.848', '0.685']\n",
      "Using weighted CrossEntropyLoss with weights: ['1.848', '0.685']\n"
     ]
    },
    {
     "name": "stderr",
     "output_type": "stream",
     "text": [
      "22:11:32 - INFO - Fold 4 完成 - Acc: 0.6071, AUC: 0.5850, F1: 0.7442, Train_Loss: 0.1096, Val_Loss: 1.0316                       \n",
      "/home/maweicheng/multimodel/training_utils.py:507: RuntimeWarning: More than 20 figures have been opened. Figures created through the pyplot interface (`matplotlib.pyplot.figure`) are retained until explicitly closed and may consume too much memory. (To control this warning, see the rcParam `figure.max_open_warning`). Consider using `matplotlib.pyplot.close()`.\n",
      "  plt.figure(figsize=(8, 6))\n",
      "/home/maweicheng/multimodel/training_utils.py:381: RuntimeWarning: More than 20 figures have been opened. Figures created through the pyplot interface (`matplotlib.pyplot.figure`) are retained until explicitly closed and may consume too much memory. (To control this warning, see the rcParam `figure.max_open_warning`). Consider using `matplotlib.pyplot.close()`.\n",
      "  fig, axes = plt.subplots(2, 2, figsize=(12, 10))\n"
     ]
    },
    {
     "name": "stdout",
     "output_type": "stream",
     "text": [
      "📊 ROC曲线已保存: ./results/cancer_benign/cv_results_20251014_220649/roc_curve_fold_4.png\n"
     ]
    },
    {
     "name": "stderr",
     "output_type": "stream",
     "text": [
      "22:11:33 - INFO - \n",
      "=============== Fold 5/10 ===============\n"
     ]
    },
    {
     "name": "stdout",
     "output_type": "stream",
     "text": [
      "📊 训练曲线已保存: ./results/cancer_benign/cv_results_20251014_220649/results/training_curves_fold_4.png\n",
      "Class distribution: {0: 69, 1: 186}\n",
      "Auto-calculated class weights: ['1.848', '0.685']\n",
      "Using weighted CrossEntropyLoss with weights: ['1.848', '0.685']\n"
     ]
    },
    {
     "name": "stderr",
     "output_type": "stream",
     "text": [
      "22:12:42 - INFO - Fold 5 完成 - Acc: 0.7143, AUC: 0.7415, F1: 0.7895, Train_Loss: 0.1693, Val_Loss: 0.8296                       \n",
      "/home/maweicheng/multimodel/training_utils.py:507: RuntimeWarning: More than 20 figures have been opened. Figures created through the pyplot interface (`matplotlib.pyplot.figure`) are retained until explicitly closed and may consume too much memory. (To control this warning, see the rcParam `figure.max_open_warning`). Consider using `matplotlib.pyplot.close()`.\n",
      "  plt.figure(figsize=(8, 6))\n",
      "/home/maweicheng/multimodel/training_utils.py:381: RuntimeWarning: More than 20 figures have been opened. Figures created through the pyplot interface (`matplotlib.pyplot.figure`) are retained until explicitly closed and may consume too much memory. (To control this warning, see the rcParam `figure.max_open_warning`). Consider using `matplotlib.pyplot.close()`.\n",
      "  fig, axes = plt.subplots(2, 2, figsize=(12, 10))\n"
     ]
    },
    {
     "name": "stdout",
     "output_type": "stream",
     "text": [
      "📊 ROC曲线已保存: ./results/cancer_benign/cv_results_20251014_220649/roc_curve_fold_5.png\n"
     ]
    },
    {
     "name": "stderr",
     "output_type": "stream",
     "text": [
      "22:12:43 - INFO - \n",
      "=============== Fold 6/10 ===============\n"
     ]
    },
    {
     "name": "stdout",
     "output_type": "stream",
     "text": [
      "📊 训练曲线已保存: ./results/cancer_benign/cv_results_20251014_220649/results/training_curves_fold_5.png\n",
      "Class distribution: {0: 69, 1: 186}\n",
      "Auto-calculated class weights: ['1.848', '0.685']\n",
      "Using weighted CrossEntropyLoss with weights: ['1.848', '0.685']\n"
     ]
    },
    {
     "name": "stderr",
     "output_type": "stream",
     "text": [
      "22:13:51 - INFO - Fold 6 完成 - Acc: 0.6429, AUC: 0.6667, F1: 0.7500, Train_Loss: 0.1564, Val_Loss: 0.7329                       \n",
      "/home/maweicheng/multimodel/training_utils.py:507: RuntimeWarning: More than 20 figures have been opened. Figures created through the pyplot interface (`matplotlib.pyplot.figure`) are retained until explicitly closed and may consume too much memory. (To control this warning, see the rcParam `figure.max_open_warning`). Consider using `matplotlib.pyplot.close()`.\n",
      "  plt.figure(figsize=(8, 6))\n",
      "/home/maweicheng/multimodel/training_utils.py:381: RuntimeWarning: More than 20 figures have been opened. Figures created through the pyplot interface (`matplotlib.pyplot.figure`) are retained until explicitly closed and may consume too much memory. (To control this warning, see the rcParam `figure.max_open_warning`). Consider using `matplotlib.pyplot.close()`.\n",
      "  fig, axes = plt.subplots(2, 2, figsize=(12, 10))\n"
     ]
    },
    {
     "name": "stdout",
     "output_type": "stream",
     "text": [
      "📊 ROC曲线已保存: ./results/cancer_benign/cv_results_20251014_220649/roc_curve_fold_6.png\n"
     ]
    },
    {
     "name": "stderr",
     "output_type": "stream",
     "text": [
      "22:13:52 - INFO - \n",
      "=============== Fold 7/10 ===============\n"
     ]
    },
    {
     "name": "stdout",
     "output_type": "stream",
     "text": [
      "📊 训练曲线已保存: ./results/cancer_benign/cv_results_20251014_220649/results/training_curves_fold_6.png\n",
      "Class distribution: {0: 69, 1: 186}\n",
      "Auto-calculated class weights: ['1.848', '0.685']\n",
      "Using weighted CrossEntropyLoss with weights: ['1.848', '0.685']\n"
     ]
    },
    {
     "name": "stderr",
     "output_type": "stream",
     "text": [
      "22:15:01 - INFO - Fold 7 完成 - Acc: 0.6429, AUC: 0.8163, F1: 0.7059, Train_Loss: 0.1759, Val_Loss: 0.6108                       \n",
      "/home/maweicheng/multimodel/training_utils.py:507: RuntimeWarning: More than 20 figures have been opened. Figures created through the pyplot interface (`matplotlib.pyplot.figure`) are retained until explicitly closed and may consume too much memory. (To control this warning, see the rcParam `figure.max_open_warning`). Consider using `matplotlib.pyplot.close()`.\n",
      "  plt.figure(figsize=(8, 6))\n",
      "/home/maweicheng/multimodel/training_utils.py:381: RuntimeWarning: More than 20 figures have been opened. Figures created through the pyplot interface (`matplotlib.pyplot.figure`) are retained until explicitly closed and may consume too much memory. (To control this warning, see the rcParam `figure.max_open_warning`). Consider using `matplotlib.pyplot.close()`.\n",
      "  fig, axes = plt.subplots(2, 2, figsize=(12, 10))\n"
     ]
    },
    {
     "name": "stdout",
     "output_type": "stream",
     "text": [
      "📊 ROC曲线已保存: ./results/cancer_benign/cv_results_20251014_220649/roc_curve_fold_7.png\n"
     ]
    },
    {
     "name": "stderr",
     "output_type": "stream",
     "text": [
      "22:15:01 - INFO - \n",
      "=============== Fold 8/10 ===============\n"
     ]
    },
    {
     "name": "stdout",
     "output_type": "stream",
     "text": [
      "📊 训练曲线已保存: ./results/cancer_benign/cv_results_20251014_220649/results/training_curves_fold_7.png\n",
      "Class distribution: {1: 187, 0: 68}\n",
      "Auto-calculated class weights: ['1.875', '0.682']\n",
      "Using weighted CrossEntropyLoss with weights: ['1.875', '0.682']\n"
     ]
    },
    {
     "name": "stderr",
     "output_type": "stream",
     "text": [
      "22:16:14 - INFO - Fold 8 完成 - Acc: 0.6786, AUC: 0.7250, F1: 0.7805, Train_Loss: 0.1511, Val_Loss: 0.7253                       \n",
      "/home/maweicheng/multimodel/training_utils.py:507: RuntimeWarning: More than 20 figures have been opened. Figures created through the pyplot interface (`matplotlib.pyplot.figure`) are retained until explicitly closed and may consume too much memory. (To control this warning, see the rcParam `figure.max_open_warning`). Consider using `matplotlib.pyplot.close()`.\n",
      "  plt.figure(figsize=(8, 6))\n",
      "/home/maweicheng/multimodel/training_utils.py:381: RuntimeWarning: More than 20 figures have been opened. Figures created through the pyplot interface (`matplotlib.pyplot.figure`) are retained until explicitly closed and may consume too much memory. (To control this warning, see the rcParam `figure.max_open_warning`). Consider using `matplotlib.pyplot.close()`.\n",
      "  fig, axes = plt.subplots(2, 2, figsize=(12, 10))\n"
     ]
    },
    {
     "name": "stdout",
     "output_type": "stream",
     "text": [
      "📊 ROC曲线已保存: ./results/cancer_benign/cv_results_20251014_220649/roc_curve_fold_8.png\n"
     ]
    },
    {
     "name": "stderr",
     "output_type": "stream",
     "text": [
      "22:16:14 - INFO - \n",
      "=============== Fold 9/10 ===============\n"
     ]
    },
    {
     "name": "stdout",
     "output_type": "stream",
     "text": [
      "📊 训练曲线已保存: ./results/cancer_benign/cv_results_20251014_220649/results/training_curves_fold_8.png\n",
      "Class distribution: {1: 187, 0: 68}\n",
      "Auto-calculated class weights: ['1.875', '0.682']\n",
      "Using weighted CrossEntropyLoss with weights: ['1.875', '0.682']\n"
     ]
    },
    {
     "name": "stderr",
     "output_type": "stream",
     "text": [
      "22:17:23 - INFO - Fold 9 完成 - Acc: 0.7857, AUC: 0.7688, F1: 0.8500, Train_Loss: 0.1709, Val_Loss: 0.5813                       \n",
      "/home/maweicheng/multimodel/training_utils.py:507: RuntimeWarning: More than 20 figures have been opened. Figures created through the pyplot interface (`matplotlib.pyplot.figure`) are retained until explicitly closed and may consume too much memory. (To control this warning, see the rcParam `figure.max_open_warning`). Consider using `matplotlib.pyplot.close()`.\n",
      "  plt.figure(figsize=(8, 6))\n",
      "/home/maweicheng/multimodel/training_utils.py:381: RuntimeWarning: More than 20 figures have been opened. Figures created through the pyplot interface (`matplotlib.pyplot.figure`) are retained until explicitly closed and may consume too much memory. (To control this warning, see the rcParam `figure.max_open_warning`). Consider using `matplotlib.pyplot.close()`.\n",
      "  fig, axes = plt.subplots(2, 2, figsize=(12, 10))\n"
     ]
    },
    {
     "name": "stdout",
     "output_type": "stream",
     "text": [
      "📊 ROC曲线已保存: ./results/cancer_benign/cv_results_20251014_220649/roc_curve_fold_9.png\n"
     ]
    },
    {
     "name": "stderr",
     "output_type": "stream",
     "text": [
      "22:17:24 - INFO - \n",
      "=============== Fold 10/10 ===============\n"
     ]
    },
    {
     "name": "stdout",
     "output_type": "stream",
     "text": [
      "📊 训练曲线已保存: ./results/cancer_benign/cv_results_20251014_220649/results/training_curves_fold_9.png\n",
      "Class distribution: {1: 187, 0: 68}\n",
      "Auto-calculated class weights: ['1.875', '0.682']\n",
      "Using weighted CrossEntropyLoss with weights: ['1.875', '0.682']\n"
     ]
    },
    {
     "name": "stderr",
     "output_type": "stream",
     "text": [
      "22:18:32 - INFO - Fold 10 完成 - Acc: 0.6429, AUC: 0.7688, F1: 0.7619, Train_Loss: 0.1555, Val_Loss: 0.7342                       \n",
      "/home/maweicheng/multimodel/training_utils.py:507: RuntimeWarning: More than 20 figures have been opened. Figures created through the pyplot interface (`matplotlib.pyplot.figure`) are retained until explicitly closed and may consume too much memory. (To control this warning, see the rcParam `figure.max_open_warning`). Consider using `matplotlib.pyplot.close()`.\n",
      "  plt.figure(figsize=(8, 6))\n",
      "/home/maweicheng/multimodel/training_utils.py:381: RuntimeWarning: More than 20 figures have been opened. Figures created through the pyplot interface (`matplotlib.pyplot.figure`) are retained until explicitly closed and may consume too much memory. (To control this warning, see the rcParam `figure.max_open_warning`). Consider using `matplotlib.pyplot.close()`.\n",
      "  fig, axes = plt.subplots(2, 2, figsize=(12, 10))\n"
     ]
    },
    {
     "name": "stdout",
     "output_type": "stream",
     "text": [
      "📊 ROC曲线已保存: ./results/cancer_benign/cv_results_20251014_220649/roc_curve_fold_10.png\n"
     ]
    },
    {
     "name": "stderr",
     "output_type": "stream",
     "text": [
      "22:18:33 - INFO - \n",
      "交叉验证结果:\n",
      "22:18:33 - INFO - 交叉验证完成！结果已保存到: ./results/cancer_benign/cv_results_20251014_220649\n"
     ]
    },
    {
     "name": "stdout",
     "output_type": "stream",
     "text": [
      "📊 训练曲线已保存: ./results/cancer_benign/cv_results_20251014_220649/results/training_curves_fold_10.png\n",
      "+--------+-----------------+-----------------+-----------------+--------------+\n",
      "| Fold   | Accuracy        | F1 Score        | AUC Score       | Best Epoch   |\n",
      "+========+=================+=================+=================+==============+\n",
      "| 1      | 0.6897          | 0.8085          | 0.7083          | 47           |\n",
      "+--------+-----------------+-----------------+-----------------+--------------+\n",
      "| 2      | 0.6552          | 0.7500          | 0.7738          | 29           |\n",
      "+--------+-----------------+-----------------+-----------------+--------------+\n",
      "| 3      | 0.6552          | 0.7727          | 0.6786          | 32           |\n",
      "+--------+-----------------+-----------------+-----------------+--------------+\n",
      "| 4      | 0.6071          | 0.7442          | 0.5850          | 31           |\n",
      "+--------+-----------------+-----------------+-----------------+--------------+\n",
      "| 5      | 0.7143          | 0.7895          | 0.7415          | 49           |\n",
      "+--------+-----------------+-----------------+-----------------+--------------+\n",
      "| 6      | 0.6429          | 0.7500          | 0.6667          | 25           |\n",
      "+--------+-----------------+-----------------+-----------------+--------------+\n",
      "| 7      | 0.6429          | 0.7059          | 0.8163          | 3            |\n",
      "+--------+-----------------+-----------------+-----------------+--------------+\n",
      "| 8      | 0.6786          | 0.7805          | 0.7250          | 36           |\n",
      "+--------+-----------------+-----------------+-----------------+--------------+\n",
      "| 9      | 0.7857          | 0.8500          | 0.7688          | 6            |\n",
      "+--------+-----------------+-----------------+-----------------+--------------+\n",
      "| 10     | 0.6429          | 0.7619          | 0.7688          | 43           |\n",
      "+--------+-----------------+-----------------+-----------------+--------------+\n",
      "| 平均值 | 0.6714 ± 0.0473 | 0.7713 ± 0.0374 | 0.7233 ± 0.0634 | -            |\n",
      "+--------+-----------------+-----------------+-----------------+--------------+\n"
     ]
    },
    {
     "name": "stderr",
     "output_type": "stream",
     "text": [
      "/home/maweicheng/multimodel/training_utils.py:450: RuntimeWarning: More than 20 figures have been opened. Figures created through the pyplot interface (`matplotlib.pyplot.figure`) are retained until explicitly closed and may consume too much memory. (To control this warning, see the rcParam `figure.max_open_warning`). Consider using `matplotlib.pyplot.close()`.\n",
      "  fig, axes = plt.subplots(2, 2, figsize=(14, 10))\n",
      "22:18:34 - INFO - 开始独立测试集评估...\n",
      "22:18:34 - INFO - 开始独立测试集评估: /home/maweicheng/database/cancer_benign/test.npz\n",
      "22:18:34 - INFO - 测试集加载成功，样本数: 32\n",
      "22:18:34 - INFO - 在独立测试集上评估所有fold模型...\n",
      "22:18:34 - INFO -   评估 Fold 1...\n"
     ]
    },
    {
     "name": "stdout",
     "output_type": "stream",
     "text": [
      "📊 交叉验证曲线已保存: ./results/cancer_benign/cv_results_20251014_220649/results/cross_validation_curves.png\n"
     ]
    },
    {
     "name": "stderr",
     "output_type": "stream",
     "text": [
      "22:18:35 - INFO - 单模型 Fold 1 测试集结果详情:\n",
      "22:18:35 - INFO -   样本数: 32\n",
      "22:18:35 - INFO -   预测分布: {np.int64(0): np.int64(6), np.int64(1): np.int64(26)}\n",
      "22:18:35 - INFO -   标签分布: {np.int64(0): np.int64(9), np.int64(1): np.int64(23)}\n",
      "22:18:35 - INFO -   概率范围: [0.0309, 0.9901]\n",
      "22:18:35 - INFO -   概率均值: 0.7671 ± 0.2739\n",
      "22:18:35 - INFO -   评估 Fold 2...\n",
      "22:18:35 - INFO - 单模型 Fold 2 测试集结果详情:\n",
      "22:18:35 - INFO -   样本数: 32\n",
      "22:18:35 - INFO -   预测分布: {np.int64(0): np.int64(8), np.int64(1): np.int64(24)}\n",
      "22:18:35 - INFO -   标签分布: {np.int64(0): np.int64(9), np.int64(1): np.int64(23)}\n",
      "22:18:35 - INFO -   概率范围: [0.0671, 0.9794]\n",
      "22:18:35 - INFO -   概率均值: 0.6998 ± 0.3017\n",
      "22:18:35 - INFO -   评估 Fold 3...\n",
      "22:18:35 - INFO - 单模型 Fold 3 测试集结果详情:\n",
      "22:18:35 - INFO -   样本数: 32\n",
      "22:18:35 - INFO -   预测分布: {np.int64(0): np.int64(6), np.int64(1): np.int64(26)}\n",
      "22:18:35 - INFO -   标签分布: {np.int64(0): np.int64(9), np.int64(1): np.int64(23)}\n",
      "22:18:35 - INFO -   概率范围: [0.0878, 0.9830]\n",
      "22:18:35 - INFO -   概率均值: 0.7369 ± 0.2891\n",
      "22:18:35 - INFO -   评估 Fold 4...\n",
      "22:18:36 - INFO - 单模型 Fold 4 测试集结果详情:\n",
      "22:18:36 - INFO -   样本数: 32\n",
      "22:18:36 - INFO -   预测分布: {np.int64(0): np.int64(11), np.int64(1): np.int64(21)}\n",
      "22:18:36 - INFO -   标签分布: {np.int64(0): np.int64(9), np.int64(1): np.int64(23)}\n",
      "22:18:36 - INFO -   概率范围: [0.0501, 0.9851]\n",
      "22:18:36 - INFO -   概率均值: 0.6462 ± 0.3132\n",
      "22:18:36 - INFO -   评估 Fold 5...\n",
      "22:18:36 - INFO - 单模型 Fold 5 测试集结果详情:\n",
      "22:18:36 - INFO -   样本数: 32\n",
      "22:18:36 - INFO -   预测分布: {np.int64(0): np.int64(3), np.int64(1): np.int64(29)}\n",
      "22:18:36 - INFO -   标签分布: {np.int64(0): np.int64(9), np.int64(1): np.int64(23)}\n",
      "22:18:36 - INFO -   概率范围: [0.0273, 0.9916]\n",
      "22:18:36 - INFO -   概率均值: 0.7998 ± 0.2730\n",
      "22:18:36 - INFO -   评估 Fold 6...\n",
      "22:18:37 - INFO - 单模型 Fold 6 测试集结果详情:\n",
      "22:18:37 - INFO -   样本数: 32\n",
      "22:18:37 - INFO -   预测分布: {np.int64(0): np.int64(7), np.int64(1): np.int64(25)}\n",
      "22:18:37 - INFO -   标签分布: {np.int64(0): np.int64(9), np.int64(1): np.int64(23)}\n",
      "22:18:37 - INFO -   概率范围: [0.1242, 0.9702]\n",
      "22:18:37 - INFO -   概率均值: 0.6945 ± 0.2623\n",
      "22:18:37 - INFO -   评估 Fold 7...\n",
      "22:18:37 - INFO - 单模型 Fold 7 测试集结果详情:\n",
      "22:18:37 - INFO -   样本数: 32\n",
      "22:18:37 - INFO -   预测分布: {np.int64(0): np.int64(16), np.int64(1): np.int64(16)}\n",
      "22:18:37 - INFO -   标签分布: {np.int64(0): np.int64(9), np.int64(1): np.int64(23)}\n",
      "22:18:37 - INFO -   概率范围: [0.2079, 0.7823]\n",
      "22:18:37 - INFO -   概率均值: 0.4922 ± 0.1711\n",
      "22:18:37 - INFO -   评估 Fold 8...\n",
      "22:18:38 - INFO - 单模型 Fold 8 测试集结果详情:\n",
      "22:18:38 - INFO -   样本数: 32\n",
      "22:18:38 - INFO -   预测分布: {np.int64(0): np.int64(7), np.int64(1): np.int64(25)}\n",
      "22:18:38 - INFO -   标签分布: {np.int64(0): np.int64(9), np.int64(1): np.int64(23)}\n",
      "22:18:38 - INFO -   概率范围: [0.0524, 0.9813]\n",
      "22:18:38 - INFO -   概率均值: 0.7384 ± 0.2887\n",
      "22:18:38 - INFO -   评估 Fold 9...\n",
      "22:18:38 - INFO - 单模型 Fold 9 测试集结果详情:\n",
      "22:18:38 - INFO -   样本数: 32\n",
      "22:18:38 - INFO -   预测分布: {np.int64(0): np.int64(8), np.int64(1): np.int64(24)}\n",
      "22:18:38 - INFO -   标签分布: {np.int64(0): np.int64(9), np.int64(1): np.int64(23)}\n",
      "22:18:38 - INFO -   概率范围: [0.2030, 0.8815]\n",
      "22:18:38 - INFO -   概率均值: 0.6040 ± 0.1942\n",
      "22:18:38 - INFO -   评估 Fold 10...\n",
      "22:18:39 - INFO - 单模型 Fold 10 测试集结果详情:\n",
      "22:18:39 - INFO -   样本数: 32\n",
      "22:18:39 - INFO -   预测分布: {np.int64(0): np.int64(7), np.int64(1): np.int64(25)}\n",
      "22:18:39 - INFO -   标签分布: {np.int64(0): np.int64(9), np.int64(1): np.int64(23)}\n",
      "22:18:39 - INFO -   概率范围: [0.0622, 0.9829]\n",
      "22:18:39 - INFO -   概率均值: 0.7305 ± 0.2926\n",
      "22:18:39 - INFO - ================================================================================\n",
      "22:18:39 - INFO - 独立测试集性能评估 - 跨fold平均结果:\n",
      "22:18:39 - INFO - 准确率: 0.7281 ± 0.0443\n",
      "22:18:39 - INFO - F1分数:  0.8127 ± 0.0429\n",
      "22:18:39 - INFO - AUC:    0.7763 ± 0.0350\n",
      "22:18:39 - INFO - \n",
      "22:18:39 - INFO - 各fold详细结果:\n",
      "22:18:39 - INFO -   Fold 1: Acc=0.7812, F1=0.8571, AUC=0.7923\n",
      "22:18:39 - INFO -   Fold 2: Acc=0.7812, F1=0.8511, AUC=0.8357\n",
      "22:18:39 - INFO -   Fold 3: Acc=0.7812, F1=0.8571, AUC=0.7440\n",
      "22:18:39 - INFO -   Fold 4: Acc=0.6875, F1=0.7727, AUC=0.7488\n",
      "22:18:39 - INFO -   Fold 5: Acc=0.7500, F1=0.8462, AUC=0.8454\n",
      "22:18:39 - INFO -   Fold 6: Acc=0.6875, F1=0.7917, AUC=0.7536\n",
      "22:18:39 - INFO -   Fold 7: Acc=0.6562, F1=0.7179, AUC=0.7440\n",
      "22:18:39 - INFO -   Fold 8: Acc=0.6875, F1=0.7917, AUC=0.7633\n",
      "22:18:39 - INFO -   Fold 9: Acc=0.7188, F1=0.8085, AUC=0.7729\n",
      "22:18:39 - INFO -   Fold 10: Acc=0.7500, F1=0.8333, AUC=0.7633\n",
      "22:18:39 - INFO - ================================================================================\n",
      "22:18:39 - INFO - \n",
      "最终测试集评估结果 (样本数: 32)\n",
      "22:18:39 - INFO - 平均AUC: 0.7763 ± 0.0350 (跨10个fold)\n",
      "22:18:39 - INFO - 平均F1: 0.8127 ± 0.0429\n",
      "22:18:39 - INFO - 平均准确率: 0.7281 ± 0.0443\n",
      "22:18:39 - INFO - 训练完成!\n"
     ]
    }
   ],
   "source": [
    "%run main.py \\\n",
    "    --modalities Frag PFE NDR NDR2K \\\n",
    "    --data_file /home/maweicheng/database/cancer_benign/train.npz \\\n",
    "    --test_file /home/maweicheng/database/cancer_benign/test.npz \\\n",
    "    --ct_model_path /home/maweicheng/multimodel/CT/cv_checkpoints/res_best_0.88.pth \\\n",
    "    --use_feature_selection \\\n",
    "    --feature_selection_method pca \\\n",
    "    --k_features 100 \\\n",
    "    --epochs 50 \\\n",
    "    --batch_size 16 \\\n",
    "    --lr 5e-5 \\\n",
    "    --use_test_set \\\n",
    "    --k_folds 10 \\\n",
    "    --latent_dim 512 \\\n",
    "    --finetune_ct \\\n",
    "    --output_dir ./results/cancer_benign/"
   ]
  },
  {
   "cell_type": "markdown",
   "id": "d2a61662",
   "metadata": {},
   "source": [
    "## 癌症正常分类"
   ]
  },
  {
   "cell_type": "code",
   "execution_count": null,
   "id": "0e5862a1",
   "metadata": {},
   "outputs": [
    {
     "name": "stderr",
     "output_type": "stream",
     "text": [
      "08:56:58 - INFO - 随机种子设置为: 42\n",
      "08:56:58 - INFO - 使用设备: cuda\n",
      "08:56:58 - INFO - 使用模态: ['Frag', 'PFE', 'NDR', 'NDR2K']\n",
      "08:56:58 - INFO - 使用设备: cuda\n",
      "08:56:58 - INFO - 使用模态: ['Frag', 'PFE', 'NDR', 'NDR2K']\n"
     ]
    },
    {
     "name": "stderr",
     "output_type": "stream",
     "text": [
      "08:56:59 - INFO - 加载训练数据: /home/maweicheng/database/cancer_normal/train.npz, 样本数: 610\n",
      "08:56:59 - INFO - 标签分布: (array([0, 1]), array([306, 304]))\n",
      "08:56:59 - INFO - 运行交叉验证\n",
      "08:56:59 - INFO - 开始10折交叉验证\n",
      "08:56:59 - INFO - 结果保存到: ./results/cancer_normal/cv_results_20251014_085659\n",
      "08:56:59 - INFO - Frag特征维度: 888\n",
      "08:56:59 - INFO - PFE特征维度: 19415\n",
      "08:56:59 - INFO - NDR特征维度: 19434\n",
      "08:56:59 - INFO - NDR2K特征维度: 19434\n",
      "08:56:59 - INFO - \n",
      "=============== Fold 1/10 ===============\n",
      "08:56:59 - INFO - 标签分布: (array([0, 1]), array([306, 304]))\n",
      "08:56:59 - INFO - 运行交叉验证\n",
      "08:56:59 - INFO - 开始10折交叉验证\n",
      "08:56:59 - INFO - 结果保存到: ./results/cancer_normal/cv_results_20251014_085659\n",
      "08:56:59 - INFO - Frag特征维度: 888\n",
      "08:56:59 - INFO - PFE特征维度: 19415\n",
      "08:56:59 - INFO - NDR特征维度: 19434\n",
      "08:56:59 - INFO - NDR2K特征维度: 19434\n",
      "08:56:59 - INFO - \n",
      "=============== Fold 1/10 ===============\n",
      "/home/maweicheng/multimodel/training_utils.py:545: FutureWarning: You are using `torch.load` with `weights_only=False` (the current default value), which uses the default pickle module implicitly. It is possible to construct malicious pickle data which will execute arbitrary code during unpickling (See https://github.com/pytorch/pytorch/blob/main/SECURITY.md#untrusted-models for more details). In a future release, the default value for `weights_only` will be flipped to `True`. This limits the functions that could be executed during unpickling. Arbitrary objects will no longer be allowed to be loaded via this mode unless they are explicitly allowlisted by the user via `torch.serialization.add_safe_globals`. We recommend you start setting `weights_only=True` for any use case where you don't have full control of the loaded file. Please open an issue on GitHub for any issues related to this experimental feature.\n",
      "  checkpoint = torch.load(ct_model_path, map_location=device)\n",
      "/home/maweicheng/multimodel/training_utils.py:545: FutureWarning: You are using `torch.load` with `weights_only=False` (the current default value), which uses the default pickle module implicitly. It is possible to construct malicious pickle data which will execute arbitrary code during unpickling (See https://github.com/pytorch/pytorch/blob/main/SECURITY.md#untrusted-models for more details). In a future release, the default value for `weights_only` will be flipped to `True`. This limits the functions that could be executed during unpickling. Arbitrary objects will no longer be allowed to be loaded via this mode unless they are explicitly allowlisted by the user via `torch.serialization.add_safe_globals`. We recommend you start setting `weights_only=True` for any use case where you don't have full control of the loaded file. Please open an issue on GitHub for any issues related to this experimental feature.\n",
      "  checkpoint = torch.load(ct_model_path, map_location=device)\n"
     ]
    },
    {
     "name": "stdout",
     "output_type": "stream",
     "text": [
      "Class distribution: {1: 273, 0: 276}\n",
      "Auto-calculated class weights: ['0.995', '1.005']\n",
      "Using weighted CrossEntropyLoss with weights: ['0.995', '1.005']\n"
     ]
    },
    {
     "name": "stderr",
     "output_type": "stream",
     "text": [
      "08:58:15 - INFO - Fold 1 完成 - Acc: 0.8852, AUC: 0.9871, F1: 0.8852, Train_Loss: 0.4835, Val_Loss: 0.2580                       \n",
      "08:58:15 - INFO - Fold 1 完成 - Acc: 0.8852, AUC: 0.9871, F1: 0.8852, Train_Loss: 0.4835, Val_Loss: 0.2580\n"
     ]
    },
    {
     "name": "stdout",
     "output_type": "stream",
     "text": [
      "📊 ROC曲线已保存: ./results/cancer_normal/cv_results_20251014_085659/roc_curve_fold_1.png\n"
     ]
    },
    {
     "name": "stderr",
     "output_type": "stream",
     "text": [
      "08:58:16 - INFO - \n",
      "=============== Fold 2/10 ===============\n"
     ]
    },
    {
     "name": "stdout",
     "output_type": "stream",
     "text": [
      "📊 训练曲线已保存: ./results/cancer_normal/cv_results_20251014_085659/results/training_curves_fold_1.png\n"
     ]
    },
    {
     "name": "stderr",
     "output_type": "stream",
     "text": [
      "/home/maweicheng/multimodel/training_utils.py:545: FutureWarning: You are using `torch.load` with `weights_only=False` (the current default value), which uses the default pickle module implicitly. It is possible to construct malicious pickle data which will execute arbitrary code during unpickling (See https://github.com/pytorch/pytorch/blob/main/SECURITY.md#untrusted-models for more details). In a future release, the default value for `weights_only` will be flipped to `True`. This limits the functions that could be executed during unpickling. Arbitrary objects will no longer be allowed to be loaded via this mode unless they are explicitly allowlisted by the user via `torch.serialization.add_safe_globals`. We recommend you start setting `weights_only=True` for any use case where you don't have full control of the loaded file. Please open an issue on GitHub for any issues related to this experimental feature.\n",
      "  checkpoint = torch.load(ct_model_path, map_location=device)\n"
     ]
    },
    {
     "name": "stdout",
     "output_type": "stream",
     "text": [
      "Class distribution: {0: 276, 1: 273}\n",
      "Auto-calculated class weights: ['0.995', '1.005']\n",
      "Using weighted CrossEntropyLoss with weights: ['0.995', '1.005']\n"
     ]
    },
    {
     "name": "stderr",
     "output_type": "stream",
     "text": [
      "08:59:33 - INFO - Fold 2 完成 - Acc: 0.9180, AUC: 0.9688, F1: 0.9206, Train_Loss: 0.4329, Val_Loss: 0.3036                       \n",
      "08:59:33 - INFO - Fold 2 完成 - Acc: 0.9180, AUC: 0.9688, F1: 0.9206, Train_Loss: 0.4329, Val_Loss: 0.3036                       \n"
     ]
    },
    {
     "name": "stdout",
     "output_type": "stream",
     "text": [
      "📊 ROC曲线已保存: ./results/cancer_normal/cv_results_20251014_085659/roc_curve_fold_2.png\n"
     ]
    },
    {
     "name": "stderr",
     "output_type": "stream",
     "text": [
      "08:59:34 - INFO - \n",
      "=============== Fold 3/10 ===============\n"
     ]
    },
    {
     "name": "stdout",
     "output_type": "stream",
     "text": [
      "📊 训练曲线已保存: ./results/cancer_normal/cv_results_20251014_085659/results/training_curves_fold_2.png\n"
     ]
    },
    {
     "name": "stderr",
     "output_type": "stream",
     "text": [
      "/home/maweicheng/multimodel/training_utils.py:545: FutureWarning: You are using `torch.load` with `weights_only=False` (the current default value), which uses the default pickle module implicitly. It is possible to construct malicious pickle data which will execute arbitrary code during unpickling (See https://github.com/pytorch/pytorch/blob/main/SECURITY.md#untrusted-models for more details). In a future release, the default value for `weights_only` will be flipped to `True`. This limits the functions that could be executed during unpickling. Arbitrary objects will no longer be allowed to be loaded via this mode unless they are explicitly allowlisted by the user via `torch.serialization.add_safe_globals`. We recommend you start setting `weights_only=True` for any use case where you don't have full control of the loaded file. Please open an issue on GitHub for any issues related to this experimental feature.\n",
      "  checkpoint = torch.load(ct_model_path, map_location=device)\n"
     ]
    },
    {
     "name": "stdout",
     "output_type": "stream",
     "text": [
      "Class distribution: {1: 273, 0: 276}\n",
      "Auto-calculated class weights: ['0.995', '1.005']\n",
      "Using weighted CrossEntropyLoss with weights: ['0.995', '1.005']\n"
     ]
    },
    {
     "name": "stderr",
     "output_type": "stream",
     "text": [
      "09:00:51 - INFO - Fold 3 完成 - Acc: 0.9508, AUC: 0.9978, F1: 0.9508, Train_Loss: 0.5167, Val_Loss: 0.2052                       \n",
      "09:00:51 - INFO - Fold 3 完成 - Acc: 0.9508, AUC: 0.9978, F1: 0.9508, Train_Loss: 0.5167, Val_Loss: 0.2052\n"
     ]
    },
    {
     "name": "stdout",
     "output_type": "stream",
     "text": [
      "📊 ROC曲线已保存: ./results/cancer_normal/cv_results_20251014_085659/roc_curve_fold_3.png\n"
     ]
    },
    {
     "name": "stderr",
     "output_type": "stream",
     "text": [
      "09:00:52 - INFO - \n",
      "=============== Fold 4/10 ===============\n"
     ]
    },
    {
     "name": "stdout",
     "output_type": "stream",
     "text": [
      "📊 训练曲线已保存: ./results/cancer_normal/cv_results_20251014_085659/results/training_curves_fold_3.png\n"
     ]
    },
    {
     "name": "stderr",
     "output_type": "stream",
     "text": [
      "/home/maweicheng/multimodel/training_utils.py:545: FutureWarning: You are using `torch.load` with `weights_only=False` (the current default value), which uses the default pickle module implicitly. It is possible to construct malicious pickle data which will execute arbitrary code during unpickling (See https://github.com/pytorch/pytorch/blob/main/SECURITY.md#untrusted-models for more details). In a future release, the default value for `weights_only` will be flipped to `True`. This limits the functions that could be executed during unpickling. Arbitrary objects will no longer be allowed to be loaded via this mode unless they are explicitly allowlisted by the user via `torch.serialization.add_safe_globals`. We recommend you start setting `weights_only=True` for any use case where you don't have full control of the loaded file. Please open an issue on GitHub for any issues related to this experimental feature.\n",
      "  checkpoint = torch.load(ct_model_path, map_location=device)\n"
     ]
    },
    {
     "name": "stdout",
     "output_type": "stream",
     "text": [
      "Class distribution: {0: 276, 1: 273}\n",
      "Auto-calculated class weights: ['0.995', '1.005']\n",
      "Using weighted CrossEntropyLoss with weights: ['0.995', '1.005']\n"
     ]
    },
    {
     "name": "stderr",
     "output_type": "stream",
     "text": [
      "09:02:07 - INFO - Fold 4 完成 - Acc: 0.8525, AUC: 0.9699, F1: 0.8364, Train_Loss: 0.4719, Val_Loss: 0.3535                       \n",
      "09:02:07 - INFO - Fold 4 完成 - Acc: 0.8525, AUC: 0.9699, F1: 0.8364, Train_Loss: 0.4719, Val_Loss: 0.3535                       \n"
     ]
    },
    {
     "name": "stdout",
     "output_type": "stream",
     "text": [
      "📊 ROC曲线已保存: ./results/cancer_normal/cv_results_20251014_085659/roc_curve_fold_4.png\n"
     ]
    },
    {
     "name": "stderr",
     "output_type": "stream",
     "text": [
      "09:02:08 - INFO - \n",
      "=============== Fold 5/10 ===============\n"
     ]
    },
    {
     "name": "stdout",
     "output_type": "stream",
     "text": [
      "📊 训练曲线已保存: ./results/cancer_normal/cv_results_20251014_085659/results/training_curves_fold_4.png\n"
     ]
    },
    {
     "name": "stderr",
     "output_type": "stream",
     "text": [
      "/home/maweicheng/multimodel/training_utils.py:545: FutureWarning: You are using `torch.load` with `weights_only=False` (the current default value), which uses the default pickle module implicitly. It is possible to construct malicious pickle data which will execute arbitrary code during unpickling (See https://github.com/pytorch/pytorch/blob/main/SECURITY.md#untrusted-models for more details). In a future release, the default value for `weights_only` will be flipped to `True`. This limits the functions that could be executed during unpickling. Arbitrary objects will no longer be allowed to be loaded via this mode unless they are explicitly allowlisted by the user via `torch.serialization.add_safe_globals`. We recommend you start setting `weights_only=True` for any use case where you don't have full control of the loaded file. Please open an issue on GitHub for any issues related to this experimental feature.\n",
      "  checkpoint = torch.load(ct_model_path, map_location=device)\n"
     ]
    },
    {
     "name": "stdout",
     "output_type": "stream",
     "text": [
      "Class distribution: {0: 275, 1: 274}\n",
      "Auto-calculated class weights: ['0.998', '1.002']\n",
      "Using weighted CrossEntropyLoss with weights: ['0.998', '1.002']\n"
     ]
    },
    {
     "name": "stderr",
     "output_type": "stream",
     "text": [
      "09:03:26 - INFO - Fold 5 完成 - Acc: 0.9344, AUC: 0.9871, F1: 0.9310, Train_Loss: 0.4552, Val_Loss: 0.2127                       \n",
      "09:03:26 - INFO - Fold 5 完成 - Acc: 0.9344, AUC: 0.9871, F1: 0.9310, Train_Loss: 0.4552, Val_Loss: 0.2127                       \n"
     ]
    },
    {
     "name": "stdout",
     "output_type": "stream",
     "text": [
      "📊 ROC曲线已保存: ./results/cancer_normal/cv_results_20251014_085659/roc_curve_fold_5.png\n"
     ]
    },
    {
     "name": "stderr",
     "output_type": "stream",
     "text": [
      "09:03:28 - INFO - \n",
      "=============== Fold 6/10 ===============\n"
     ]
    },
    {
     "name": "stdout",
     "output_type": "stream",
     "text": [
      "📊 训练曲线已保存: ./results/cancer_normal/cv_results_20251014_085659/results/training_curves_fold_5.png\n"
     ]
    },
    {
     "name": "stderr",
     "output_type": "stream",
     "text": [
      "/home/maweicheng/multimodel/training_utils.py:545: FutureWarning: You are using `torch.load` with `weights_only=False` (the current default value), which uses the default pickle module implicitly. It is possible to construct malicious pickle data which will execute arbitrary code during unpickling (See https://github.com/pytorch/pytorch/blob/main/SECURITY.md#untrusted-models for more details). In a future release, the default value for `weights_only` will be flipped to `True`. This limits the functions that could be executed during unpickling. Arbitrary objects will no longer be allowed to be loaded via this mode unless they are explicitly allowlisted by the user via `torch.serialization.add_safe_globals`. We recommend you start setting `weights_only=True` for any use case where you don't have full control of the loaded file. Please open an issue on GitHub for any issues related to this experimental feature.\n",
      "  checkpoint = torch.load(ct_model_path, map_location=device)\n"
     ]
    },
    {
     "name": "stdout",
     "output_type": "stream",
     "text": [
      "Class distribution: {1: 274, 0: 275}\n",
      "Auto-calculated class weights: ['0.998', '1.002']\n",
      "Using weighted CrossEntropyLoss with weights: ['0.998', '1.002']\n"
     ]
    },
    {
     "name": "stderr",
     "output_type": "stream",
     "text": [
      "09:04:45 - INFO - Fold 6 完成 - Acc: 0.9344, AUC: 0.9774, F1: 0.9286, Train_Loss: 0.4717, Val_Loss: 0.2368                       \n",
      "09:04:45 - INFO - Fold 6 完成 - Acc: 0.9344, AUC: 0.9774, F1: 0.9286, Train_Loss: 0.4717, Val_Loss: 0.2368\n"
     ]
    },
    {
     "name": "stdout",
     "output_type": "stream",
     "text": [
      "📊 ROC曲线已保存: ./results/cancer_normal/cv_results_20251014_085659/roc_curve_fold_6.png\n"
     ]
    },
    {
     "name": "stderr",
     "output_type": "stream",
     "text": [
      "09:04:46 - INFO - \n",
      "=============== Fold 7/10 ===============\n"
     ]
    },
    {
     "name": "stdout",
     "output_type": "stream",
     "text": [
      "📊 训练曲线已保存: ./results/cancer_normal/cv_results_20251014_085659/results/training_curves_fold_6.png\n"
     ]
    },
    {
     "name": "stderr",
     "output_type": "stream",
     "text": [
      "/home/maweicheng/multimodel/training_utils.py:545: FutureWarning: You are using `torch.load` with `weights_only=False` (the current default value), which uses the default pickle module implicitly. It is possible to construct malicious pickle data which will execute arbitrary code during unpickling (See https://github.com/pytorch/pytorch/blob/main/SECURITY.md#untrusted-models for more details). In a future release, the default value for `weights_only` will be flipped to `True`. This limits the functions that could be executed during unpickling. Arbitrary objects will no longer be allowed to be loaded via this mode unless they are explicitly allowlisted by the user via `torch.serialization.add_safe_globals`. We recommend you start setting `weights_only=True` for any use case where you don't have full control of the loaded file. Please open an issue on GitHub for any issues related to this experimental feature.\n",
      "  checkpoint = torch.load(ct_model_path, map_location=device)\n"
     ]
    },
    {
     "name": "stdout",
     "output_type": "stream",
     "text": [
      "Class distribution: {0: 275, 1: 274}\n",
      "Auto-calculated class weights: ['0.998', '1.002']\n",
      "Using weighted CrossEntropyLoss with weights: ['0.998', '1.002']\n"
     ]
    },
    {
     "name": "stderr",
     "output_type": "stream",
     "text": [
      "09:06:03 - INFO - Fold 7 完成 - Acc: 0.8361, AUC: 0.9570, F1: 0.8214, Train_Loss: 0.4759, Val_Loss: 0.3194                       \n",
      "09:06:03 - INFO - Fold 7 完成 - Acc: 0.8361, AUC: 0.9570, F1: 0.8214, Train_Loss: 0.4759, Val_Loss: 0.3194                       \n"
     ]
    },
    {
     "name": "stdout",
     "output_type": "stream",
     "text": [
      "📊 ROC曲线已保存: ./results/cancer_normal/cv_results_20251014_085659/roc_curve_fold_7.png\n"
     ]
    },
    {
     "name": "stderr",
     "output_type": "stream",
     "text": [
      "09:06:04 - INFO - \n",
      "=============== Fold 8/10 ===============\n"
     ]
    },
    {
     "name": "stdout",
     "output_type": "stream",
     "text": [
      "📊 训练曲线已保存: ./results/cancer_normal/cv_results_20251014_085659/results/training_curves_fold_7.png\n"
     ]
    },
    {
     "name": "stderr",
     "output_type": "stream",
     "text": [
      "/home/maweicheng/multimodel/training_utils.py:545: FutureWarning: You are using `torch.load` with `weights_only=False` (the current default value), which uses the default pickle module implicitly. It is possible to construct malicious pickle data which will execute arbitrary code during unpickling (See https://github.com/pytorch/pytorch/blob/main/SECURITY.md#untrusted-models for more details). In a future release, the default value for `weights_only` will be flipped to `True`. This limits the functions that could be executed during unpickling. Arbitrary objects will no longer be allowed to be loaded via this mode unless they are explicitly allowlisted by the user via `torch.serialization.add_safe_globals`. We recommend you start setting `weights_only=True` for any use case where you don't have full control of the loaded file. Please open an issue on GitHub for any issues related to this experimental feature.\n",
      "  checkpoint = torch.load(ct_model_path, map_location=device)\n"
     ]
    },
    {
     "name": "stdout",
     "output_type": "stream",
     "text": [
      "Class distribution: {1: 274, 0: 275}\n",
      "Auto-calculated class weights: ['0.998', '1.002']\n",
      "Using weighted CrossEntropyLoss with weights: ['0.998', '1.002']\n"
     ]
    },
    {
     "name": "stderr",
     "output_type": "stream",
     "text": [
      "09:07:21 - INFO - Fold 8 完成 - Acc: 0.9344, AUC: 0.9817, F1: 0.9310, Train_Loss: 0.5134, Val_Loss: 0.2610                       \n",
      "09:07:21 - INFO - Fold 8 完成 - Acc: 0.9344, AUC: 0.9817, F1: 0.9310, Train_Loss: 0.5134, Val_Loss: 0.2610                       \n"
     ]
    },
    {
     "name": "stdout",
     "output_type": "stream",
     "text": [
      "📊 ROC曲线已保存: ./results/cancer_normal/cv_results_20251014_085659/roc_curve_fold_8.png\n"
     ]
    },
    {
     "name": "stderr",
     "output_type": "stream",
     "text": [
      "09:07:22 - INFO - \n",
      "=============== Fold 9/10 ===============\n"
     ]
    },
    {
     "name": "stdout",
     "output_type": "stream",
     "text": [
      "📊 训练曲线已保存: ./results/cancer_normal/cv_results_20251014_085659/results/training_curves_fold_8.png\n"
     ]
    },
    {
     "name": "stderr",
     "output_type": "stream",
     "text": [
      "/home/maweicheng/multimodel/training_utils.py:545: FutureWarning: You are using `torch.load` with `weights_only=False` (the current default value), which uses the default pickle module implicitly. It is possible to construct malicious pickle data which will execute arbitrary code during unpickling (See https://github.com/pytorch/pytorch/blob/main/SECURITY.md#untrusted-models for more details). In a future release, the default value for `weights_only` will be flipped to `True`. This limits the functions that could be executed during unpickling. Arbitrary objects will no longer be allowed to be loaded via this mode unless they are explicitly allowlisted by the user via `torch.serialization.add_safe_globals`. We recommend you start setting `weights_only=True` for any use case where you don't have full control of the loaded file. Please open an issue on GitHub for any issues related to this experimental feature.\n",
      "  checkpoint = torch.load(ct_model_path, map_location=device)\n"
     ]
    },
    {
     "name": "stdout",
     "output_type": "stream",
     "text": [
      "Class distribution: {0: 275, 1: 274}\n",
      "Auto-calculated class weights: ['0.998', '1.002']\n",
      "Using weighted CrossEntropyLoss with weights: ['0.998', '1.002']\n"
     ]
    },
    {
     "name": "stderr",
     "output_type": "stream",
     "text": [
      "09:08:38 - INFO - Fold 9 完成 - Acc: 0.9016, AUC: 0.9667, F1: 0.8929, Train_Loss: 0.4382, Val_Loss: 0.2881                       \n",
      "09:08:38 - INFO - Fold 9 完成 - Acc: 0.9016, AUC: 0.9667, F1: 0.8929, Train_Loss: 0.4382, Val_Loss: 0.2881                       \n"
     ]
    },
    {
     "name": "stdout",
     "output_type": "stream",
     "text": [
      "📊 ROC曲线已保存: ./results/cancer_normal/cv_results_20251014_085659/roc_curve_fold_9.png\n"
     ]
    },
    {
     "name": "stderr",
     "output_type": "stream",
     "text": [
      "09:08:39 - INFO - \n",
      "=============== Fold 10/10 ===============\n"
     ]
    },
    {
     "name": "stdout",
     "output_type": "stream",
     "text": [
      "📊 训练曲线已保存: ./results/cancer_normal/cv_results_20251014_085659/results/training_curves_fold_9.png\n"
     ]
    },
    {
     "name": "stderr",
     "output_type": "stream",
     "text": [
      "/home/maweicheng/multimodel/training_utils.py:545: FutureWarning: You are using `torch.load` with `weights_only=False` (the current default value), which uses the default pickle module implicitly. It is possible to construct malicious pickle data which will execute arbitrary code during unpickling (See https://github.com/pytorch/pytorch/blob/main/SECURITY.md#untrusted-models for more details). In a future release, the default value for `weights_only` will be flipped to `True`. This limits the functions that could be executed during unpickling. Arbitrary objects will no longer be allowed to be loaded via this mode unless they are explicitly allowlisted by the user via `torch.serialization.add_safe_globals`. We recommend you start setting `weights_only=True` for any use case where you don't have full control of the loaded file. Please open an issue on GitHub for any issues related to this experimental feature.\n",
      "  checkpoint = torch.load(ct_model_path, map_location=device)\n"
     ]
    },
    {
     "name": "stdout",
     "output_type": "stream",
     "text": [
      "Class distribution: {0: 275, 1: 274}\n",
      "Auto-calculated class weights: ['0.998', '1.002']\n",
      "Using weighted CrossEntropyLoss with weights: ['0.998', '1.002']\n"
     ]
    },
    {
     "name": "stderr",
     "output_type": "stream",
     "text": [
      "09:09:57 - INFO - Fold 10 完成 - Acc: 0.9508, AUC: 0.9882, F1: 0.9492, Train_Loss: 0.4413, Val_Loss: 0.2401                       \n",
      "09:09:57 - INFO - Fold 10 完成 - Acc: 0.9508, AUC: 0.9882, F1: 0.9492, Train_Loss: 0.4413, Val_Loss: 0.2401\n"
     ]
    },
    {
     "name": "stdout",
     "output_type": "stream",
     "text": [
      "📊 ROC曲线已保存: ./results/cancer_normal/cv_results_20251014_085659/roc_curve_fold_10.png\n"
     ]
    },
    {
     "name": "stderr",
     "output_type": "stream",
     "text": [
      "09:09:58 - INFO - \n",
      "交叉验证结果:\n",
      "09:09:58 - INFO - 交叉验证完成！结果已保存到: ./results/cancer_normal/cv_results_20251014_085659\n",
      "09:09:58 - INFO - 交叉验证完成！结果已保存到: ./results/cancer_normal/cv_results_20251014_085659\n"
     ]
    },
    {
     "name": "stdout",
     "output_type": "stream",
     "text": [
      "📊 训练曲线已保存: ./results/cancer_normal/cv_results_20251014_085659/results/training_curves_fold_10.png\n",
      "+--------+-----------------+-----------------+-----------------+--------------+\n",
      "| Fold   | Accuracy        | F1 Score        | AUC Score       | Best Epoch   |\n",
      "+========+=================+=================+=================+==============+\n",
      "| 1      | 0.8852          | 0.8852          | 0.9871          | 14           |\n",
      "+--------+-----------------+-----------------+-----------------+--------------+\n",
      "| 2      | 0.9180          | 0.9206          | 0.9688          | 14           |\n",
      "+--------+-----------------+-----------------+-----------------+--------------+\n",
      "| 3      | 0.9508          | 0.9508          | 0.9978          | 18           |\n",
      "+--------+-----------------+-----------------+-----------------+--------------+\n",
      "| 4      | 0.8525          | 0.8364          | 0.9699          | 6            |\n",
      "+--------+-----------------+-----------------+-----------------+--------------+\n",
      "| 5      | 0.9344          | 0.9310          | 0.9871          | 18           |\n",
      "+--------+-----------------+-----------------+-----------------+--------------+\n",
      "| 6      | 0.9344          | 0.9286          | 0.9774          | 20           |\n",
      "+--------+-----------------+-----------------+-----------------+--------------+\n",
      "| 7      | 0.8361          | 0.8214          | 0.9570          | 20           |\n",
      "+--------+-----------------+-----------------+-----------------+--------------+\n",
      "| 8      | 0.9344          | 0.9310          | 0.9817          | 12           |\n",
      "+--------+-----------------+-----------------+-----------------+--------------+\n",
      "| 9      | 0.9016          | 0.8929          | 0.9667          | 18           |\n",
      "+--------+-----------------+-----------------+-----------------+--------------+\n",
      "| 10     | 0.9508          | 0.9492          | 0.9882          | 19           |\n",
      "+--------+-----------------+-----------------+-----------------+--------------+\n",
      "| 平均值 | 0.9098 ± 0.0383 | 0.9047 ± 0.0429 | 0.9782 ± 0.0118 | -            |\n",
      "+--------+-----------------+-----------------+-----------------+--------------+\n"
     ]
    },
    {
     "name": "stderr",
     "output_type": "stream",
     "text": [
      "09:09:59 - INFO - 开始独立测试集评估...\n",
      "09:09:59 - INFO - 开始独立测试集评估: /home/maweicheng/database/cancer_normal/test.npz\n",
      "09:09:59 - INFO - 开始独立测试集评估: /home/maweicheng/database/cancer_normal/test.npz\n",
      "09:09:59 - INFO - 测试集加载成功，样本数: 68\n",
      "09:09:59 - INFO - 在独立测试集上评估所有fold模型...\n",
      "09:09:59 - INFO -   评估 Fold 1...\n",
      "09:09:59 - INFO - 测试集加载成功，样本数: 68\n",
      "09:09:59 - INFO - 在独立测试集上评估所有fold模型...\n",
      "09:09:59 - INFO -   评估 Fold 1...\n"
     ]
    },
    {
     "name": "stdout",
     "output_type": "stream",
     "text": [
      "📊 交叉验证曲线已保存: ./results/cancer_normal/cv_results_20251014_085659/results/cross_validation_curves.png\n"
     ]
    },
    {
     "name": "stderr",
     "output_type": "stream",
     "text": [
      "/home/maweicheng/multimodel/training_utils.py:545: FutureWarning: You are using `torch.load` with `weights_only=False` (the current default value), which uses the default pickle module implicitly. It is possible to construct malicious pickle data which will execute arbitrary code during unpickling (See https://github.com/pytorch/pytorch/blob/main/SECURITY.md#untrusted-models for more details). In a future release, the default value for `weights_only` will be flipped to `True`. This limits the functions that could be executed during unpickling. Arbitrary objects will no longer be allowed to be loaded via this mode unless they are explicitly allowlisted by the user via `torch.serialization.add_safe_globals`. We recommend you start setting `weights_only=True` for any use case where you don't have full control of the loaded file. Please open an issue on GitHub for any issues related to this experimental feature.\n",
      "  checkpoint = torch.load(ct_model_path, map_location=device)\n",
      "/home/maweicheng/multimodel/evaluation.py:65: FutureWarning: You are using `torch.load` with `weights_only=False` (the current default value), which uses the default pickle module implicitly. It is possible to construct malicious pickle data which will execute arbitrary code during unpickling (See https://github.com/pytorch/pytorch/blob/main/SECURITY.md#untrusted-models for more details). In a future release, the default value for `weights_only` will be flipped to `True`. This limits the functions that could be executed during unpickling. Arbitrary objects will no longer be allowed to be loaded via this mode unless they are explicitly allowlisted by the user via `torch.serialization.add_safe_globals`. We recommend you start setting `weights_only=True` for any use case where you don't have full control of the loaded file. Please open an issue on GitHub for any issues related to this experimental feature.\n",
      "  model.load_state_dict(torch.load(model_path, map_location=self.args.device))\n",
      "09:09:59 - INFO - 单模型 Fold 1 测试集结果详情:\n",
      "09:09:59 - INFO -   样本数: 68\n",
      "09:09:59 - INFO -   预测分布: {np.int64(0): np.int64(34), np.int64(1): np.int64(34)}\n",
      "09:09:59 - INFO -   标签分布: {np.int64(0): np.int64(34), np.int64(1): np.int64(34)}\n",
      "09:09:59 - INFO -   概率范围: [0.0589, 0.9286]\n",
      "09:09:59 - INFO -   概率均值: 0.4778 ± 0.3122\n",
      "09:09:59 - INFO -   评估 Fold 2...\n",
      "/home/maweicheng/multimodel/evaluation.py:65: FutureWarning: You are using `torch.load` with `weights_only=False` (the current default value), which uses the default pickle module implicitly. It is possible to construct malicious pickle data which will execute arbitrary code during unpickling (See https://github.com/pytorch/pytorch/blob/main/SECURITY.md#untrusted-models for more details). In a future release, the default value for `weights_only` will be flipped to `True`. This limits the functions that could be executed during unpickling. Arbitrary objects will no longer be allowed to be loaded via this mode unless they are explicitly allowlisted by the user via `torch.serialization.add_safe_globals`. We recommend you start setting `weights_only=True` for any use case where you don't have full control of the loaded file. Please open an issue on GitHub for any issues related to this experimental feature.\n",
      "  model.load_state_dict(torch.load(model_path, map_location=self.args.device))\n",
      "09:09:59 - INFO - 单模型 Fold 1 测试集结果详情:\n",
      "09:09:59 - INFO -   样本数: 68\n",
      "09:09:59 - INFO -   预测分布: {np.int64(0): np.int64(34), np.int64(1): np.int64(34)}\n",
      "09:09:59 - INFO -   标签分布: {np.int64(0): np.int64(34), np.int64(1): np.int64(34)}\n",
      "09:09:59 - INFO -   概率范围: [0.0589, 0.9286]\n",
      "09:09:59 - INFO -   概率均值: 0.4778 ± 0.3122\n",
      "09:09:59 - INFO -   评估 Fold 2...\n",
      "/home/maweicheng/multimodel/training_utils.py:545: FutureWarning: You are using `torch.load` with `weights_only=False` (the current default value), which uses the default pickle module implicitly. It is possible to construct malicious pickle data which will execute arbitrary code during unpickling (See https://github.com/pytorch/pytorch/blob/main/SECURITY.md#untrusted-models for more details). In a future release, the default value for `weights_only` will be flipped to `True`. This limits the functions that could be executed during unpickling. Arbitrary objects will no longer be allowed to be loaded via this mode unless they are explicitly allowlisted by the user via `torch.serialization.add_safe_globals`. We recommend you start setting `weights_only=True` for any use case where you don't have full control of the loaded file. Please open an issue on GitHub for any issues related to this experimental feature.\n",
      "  checkpoint = torch.load(ct_model_path, map_location=device)\n",
      "/home/maweicheng/multimodel/training_utils.py:545: FutureWarning: You are using `torch.load` with `weights_only=False` (the current default value), which uses the default pickle module implicitly. It is possible to construct malicious pickle data which will execute arbitrary code during unpickling (See https://github.com/pytorch/pytorch/blob/main/SECURITY.md#untrusted-models for more details). In a future release, the default value for `weights_only` will be flipped to `True`. This limits the functions that could be executed during unpickling. Arbitrary objects will no longer be allowed to be loaded via this mode unless they are explicitly allowlisted by the user via `torch.serialization.add_safe_globals`. We recommend you start setting `weights_only=True` for any use case where you don't have full control of the loaded file. Please open an issue on GitHub for any issues related to this experimental feature.\n",
      "  checkpoint = torch.load(ct_model_path, map_location=device)\n",
      "/home/maweicheng/multimodel/evaluation.py:65: FutureWarning: You are using `torch.load` with `weights_only=False` (the current default value), which uses the default pickle module implicitly. It is possible to construct malicious pickle data which will execute arbitrary code during unpickling (See https://github.com/pytorch/pytorch/blob/main/SECURITY.md#untrusted-models for more details). In a future release, the default value for `weights_only` will be flipped to `True`. This limits the functions that could be executed during unpickling. Arbitrary objects will no longer be allowed to be loaded via this mode unless they are explicitly allowlisted by the user via `torch.serialization.add_safe_globals`. We recommend you start setting `weights_only=True` for any use case where you don't have full control of the loaded file. Please open an issue on GitHub for any issues related to this experimental feature.\n",
      "  model.load_state_dict(torch.load(model_path, map_location=self.args.device))\n",
      "09:10:00 - INFO - 单模型 Fold 2 测试集结果详情:\n",
      "09:10:00 - INFO -   样本数: 68\n",
      "09:10:00 - INFO -   预测分布: {np.int64(0): np.int64(34), np.int64(1): np.int64(34)}\n",
      "09:10:00 - INFO -   标签分布: {np.int64(0): np.int64(34), np.int64(1): np.int64(34)}\n",
      "09:10:00 - INFO -   概率范围: [0.0451, 0.9325]\n",
      "09:10:00 - INFO -   概率均值: 0.4963 ± 0.3324\n",
      "09:10:00 - INFO -   评估 Fold 3...\n",
      "/home/maweicheng/multimodel/evaluation.py:65: FutureWarning: You are using `torch.load` with `weights_only=False` (the current default value), which uses the default pickle module implicitly. It is possible to construct malicious pickle data which will execute arbitrary code during unpickling (See https://github.com/pytorch/pytorch/blob/main/SECURITY.md#untrusted-models for more details). In a future release, the default value for `weights_only` will be flipped to `True`. This limits the functions that could be executed during unpickling. Arbitrary objects will no longer be allowed to be loaded via this mode unless they are explicitly allowlisted by the user via `torch.serialization.add_safe_globals`. We recommend you start setting `weights_only=True` for any use case where you don't have full control of the loaded file. Please open an issue on GitHub for any issues related to this experimental feature.\n",
      "  model.load_state_dict(torch.load(model_path, map_location=self.args.device))\n",
      "09:10:00 - INFO - 单模型 Fold 2 测试集结果详情:\n",
      "09:10:00 - INFO -   样本数: 68\n",
      "09:10:00 - INFO -   预测分布: {np.int64(0): np.int64(34), np.int64(1): np.int64(34)}\n",
      "09:10:00 - INFO -   标签分布: {np.int64(0): np.int64(34), np.int64(1): np.int64(34)}\n",
      "09:10:00 - INFO -   概率范围: [0.0451, 0.9325]\n",
      "09:10:00 - INFO -   概率均值: 0.4963 ± 0.3324\n",
      "09:10:00 - INFO -   评估 Fold 3...\n",
      "/home/maweicheng/multimodel/training_utils.py:545: FutureWarning: You are using `torch.load` with `weights_only=False` (the current default value), which uses the default pickle module implicitly. It is possible to construct malicious pickle data which will execute arbitrary code during unpickling (See https://github.com/pytorch/pytorch/blob/main/SECURITY.md#untrusted-models for more details). In a future release, the default value for `weights_only` will be flipped to `True`. This limits the functions that could be executed during unpickling. Arbitrary objects will no longer be allowed to be loaded via this mode unless they are explicitly allowlisted by the user via `torch.serialization.add_safe_globals`. We recommend you start setting `weights_only=True` for any use case where you don't have full control of the loaded file. Please open an issue on GitHub for any issues related to this experimental feature.\n",
      "  checkpoint = torch.load(ct_model_path, map_location=device)\n",
      "/home/maweicheng/multimodel/training_utils.py:545: FutureWarning: You are using `torch.load` with `weights_only=False` (the current default value), which uses the default pickle module implicitly. It is possible to construct malicious pickle data which will execute arbitrary code during unpickling (See https://github.com/pytorch/pytorch/blob/main/SECURITY.md#untrusted-models for more details). In a future release, the default value for `weights_only` will be flipped to `True`. This limits the functions that could be executed during unpickling. Arbitrary objects will no longer be allowed to be loaded via this mode unless they are explicitly allowlisted by the user via `torch.serialization.add_safe_globals`. We recommend you start setting `weights_only=True` for any use case where you don't have full control of the loaded file. Please open an issue on GitHub for any issues related to this experimental feature.\n",
      "  checkpoint = torch.load(ct_model_path, map_location=device)\n",
      "/home/maweicheng/multimodel/evaluation.py:65: FutureWarning: You are using `torch.load` with `weights_only=False` (the current default value), which uses the default pickle module implicitly. It is possible to construct malicious pickle data which will execute arbitrary code during unpickling (See https://github.com/pytorch/pytorch/blob/main/SECURITY.md#untrusted-models for more details). In a future release, the default value for `weights_only` will be flipped to `True`. This limits the functions that could be executed during unpickling. Arbitrary objects will no longer be allowed to be loaded via this mode unless they are explicitly allowlisted by the user via `torch.serialization.add_safe_globals`. We recommend you start setting `weights_only=True` for any use case where you don't have full control of the loaded file. Please open an issue on GitHub for any issues related to this experimental feature.\n",
      "  model.load_state_dict(torch.load(model_path, map_location=self.args.device))\n",
      "09:10:01 - INFO - 单模型 Fold 3 测试集结果详情:\n",
      "09:10:01 - INFO -   样本数: 68\n",
      "09:10:01 - INFO -   预测分布: {np.int64(0): np.int64(36), np.int64(1): np.int64(32)}\n",
      "09:10:01 - INFO -   标签分布: {np.int64(0): np.int64(34), np.int64(1): np.int64(34)}\n",
      "09:10:01 - INFO -   概率范围: [0.0603, 0.9409]\n",
      "09:10:01 - INFO -   概率均值: 0.4661 ± 0.3465\n",
      "09:10:01 - INFO -   评估 Fold 4...\n",
      "/home/maweicheng/multimodel/evaluation.py:65: FutureWarning: You are using `torch.load` with `weights_only=False` (the current default value), which uses the default pickle module implicitly. It is possible to construct malicious pickle data which will execute arbitrary code during unpickling (See https://github.com/pytorch/pytorch/blob/main/SECURITY.md#untrusted-models for more details). In a future release, the default value for `weights_only` will be flipped to `True`. This limits the functions that could be executed during unpickling. Arbitrary objects will no longer be allowed to be loaded via this mode unless they are explicitly allowlisted by the user via `torch.serialization.add_safe_globals`. We recommend you start setting `weights_only=True` for any use case where you don't have full control of the loaded file. Please open an issue on GitHub for any issues related to this experimental feature.\n",
      "  model.load_state_dict(torch.load(model_path, map_location=self.args.device))\n",
      "09:10:01 - INFO - 单模型 Fold 3 测试集结果详情:\n",
      "09:10:01 - INFO -   样本数: 68\n",
      "09:10:01 - INFO -   预测分布: {np.int64(0): np.int64(36), np.int64(1): np.int64(32)}\n",
      "09:10:01 - INFO -   标签分布: {np.int64(0): np.int64(34), np.int64(1): np.int64(34)}\n",
      "09:10:01 - INFO -   概率范围: [0.0603, 0.9409]\n",
      "09:10:01 - INFO -   概率均值: 0.4661 ± 0.3465\n",
      "09:10:01 - INFO -   评估 Fold 4...\n",
      "/home/maweicheng/multimodel/training_utils.py:545: FutureWarning: You are using `torch.load` with `weights_only=False` (the current default value), which uses the default pickle module implicitly. It is possible to construct malicious pickle data which will execute arbitrary code during unpickling (See https://github.com/pytorch/pytorch/blob/main/SECURITY.md#untrusted-models for more details). In a future release, the default value for `weights_only` will be flipped to `True`. This limits the functions that could be executed during unpickling. Arbitrary objects will no longer be allowed to be loaded via this mode unless they are explicitly allowlisted by the user via `torch.serialization.add_safe_globals`. We recommend you start setting `weights_only=True` for any use case where you don't have full control of the loaded file. Please open an issue on GitHub for any issues related to this experimental feature.\n",
      "  checkpoint = torch.load(ct_model_path, map_location=device)\n",
      "/home/maweicheng/multimodel/training_utils.py:545: FutureWarning: You are using `torch.load` with `weights_only=False` (the current default value), which uses the default pickle module implicitly. It is possible to construct malicious pickle data which will execute arbitrary code during unpickling (See https://github.com/pytorch/pytorch/blob/main/SECURITY.md#untrusted-models for more details). In a future release, the default value for `weights_only` will be flipped to `True`. This limits the functions that could be executed during unpickling. Arbitrary objects will no longer be allowed to be loaded via this mode unless they are explicitly allowlisted by the user via `torch.serialization.add_safe_globals`. We recommend you start setting `weights_only=True` for any use case where you don't have full control of the loaded file. Please open an issue on GitHub for any issues related to this experimental feature.\n",
      "  checkpoint = torch.load(ct_model_path, map_location=device)\n",
      "/home/maweicheng/multimodel/evaluation.py:65: FutureWarning: You are using `torch.load` with `weights_only=False` (the current default value), which uses the default pickle module implicitly. It is possible to construct malicious pickle data which will execute arbitrary code during unpickling (See https://github.com/pytorch/pytorch/blob/main/SECURITY.md#untrusted-models for more details). In a future release, the default value for `weights_only` will be flipped to `True`. This limits the functions that could be executed during unpickling. Arbitrary objects will no longer be allowed to be loaded via this mode unless they are explicitly allowlisted by the user via `torch.serialization.add_safe_globals`. We recommend you start setting `weights_only=True` for any use case where you don't have full control of the loaded file. Please open an issue on GitHub for any issues related to this experimental feature.\n",
      "  model.load_state_dict(torch.load(model_path, map_location=self.args.device))\n",
      "09:10:01 - INFO - 单模型 Fold 4 测试集结果详情:\n",
      "09:10:01 - INFO -   样本数: 68\n",
      "09:10:01 - INFO -   预测分布: {np.int64(0): np.int64(39), np.int64(1): np.int64(29)}\n",
      "09:10:01 - INFO -   标签分布: {np.int64(0): np.int64(34), np.int64(1): np.int64(34)}\n",
      "09:10:01 - INFO -   概率范围: [0.0763, 0.9052]\n",
      "09:10:01 - INFO -   概率均值: 0.4747 ± 0.2933\n",
      "09:10:01 - INFO -   评估 Fold 5...\n",
      "/home/maweicheng/multimodel/evaluation.py:65: FutureWarning: You are using `torch.load` with `weights_only=False` (the current default value), which uses the default pickle module implicitly. It is possible to construct malicious pickle data which will execute arbitrary code during unpickling (See https://github.com/pytorch/pytorch/blob/main/SECURITY.md#untrusted-models for more details). In a future release, the default value for `weights_only` will be flipped to `True`. This limits the functions that could be executed during unpickling. Arbitrary objects will no longer be allowed to be loaded via this mode unless they are explicitly allowlisted by the user via `torch.serialization.add_safe_globals`. We recommend you start setting `weights_only=True` for any use case where you don't have full control of the loaded file. Please open an issue on GitHub for any issues related to this experimental feature.\n",
      "  model.load_state_dict(torch.load(model_path, map_location=self.args.device))\n",
      "09:10:01 - INFO - 单模型 Fold 4 测试集结果详情:\n",
      "09:10:01 - INFO -   样本数: 68\n",
      "09:10:01 - INFO -   预测分布: {np.int64(0): np.int64(39), np.int64(1): np.int64(29)}\n",
      "09:10:01 - INFO -   标签分布: {np.int64(0): np.int64(34), np.int64(1): np.int64(34)}\n",
      "09:10:01 - INFO -   概率范围: [0.0763, 0.9052]\n",
      "09:10:01 - INFO -   概率均值: 0.4747 ± 0.2933\n",
      "09:10:01 - INFO -   评估 Fold 5...\n",
      "/home/maweicheng/multimodel/training_utils.py:545: FutureWarning: You are using `torch.load` with `weights_only=False` (the current default value), which uses the default pickle module implicitly. It is possible to construct malicious pickle data which will execute arbitrary code during unpickling (See https://github.com/pytorch/pytorch/blob/main/SECURITY.md#untrusted-models for more details). In a future release, the default value for `weights_only` will be flipped to `True`. This limits the functions that could be executed during unpickling. Arbitrary objects will no longer be allowed to be loaded via this mode unless they are explicitly allowlisted by the user via `torch.serialization.add_safe_globals`. We recommend you start setting `weights_only=True` for any use case where you don't have full control of the loaded file. Please open an issue on GitHub for any issues related to this experimental feature.\n",
      "  checkpoint = torch.load(ct_model_path, map_location=device)\n",
      "/home/maweicheng/multimodel/training_utils.py:545: FutureWarning: You are using `torch.load` with `weights_only=False` (the current default value), which uses the default pickle module implicitly. It is possible to construct malicious pickle data which will execute arbitrary code during unpickling (See https://github.com/pytorch/pytorch/blob/main/SECURITY.md#untrusted-models for more details). In a future release, the default value for `weights_only` will be flipped to `True`. This limits the functions that could be executed during unpickling. Arbitrary objects will no longer be allowed to be loaded via this mode unless they are explicitly allowlisted by the user via `torch.serialization.add_safe_globals`. We recommend you start setting `weights_only=True` for any use case where you don't have full control of the loaded file. Please open an issue on GitHub for any issues related to this experimental feature.\n",
      "  checkpoint = torch.load(ct_model_path, map_location=device)\n",
      "/home/maweicheng/multimodel/evaluation.py:65: FutureWarning: You are using `torch.load` with `weights_only=False` (the current default value), which uses the default pickle module implicitly. It is possible to construct malicious pickle data which will execute arbitrary code during unpickling (See https://github.com/pytorch/pytorch/blob/main/SECURITY.md#untrusted-models for more details). In a future release, the default value for `weights_only` will be flipped to `True`. This limits the functions that could be executed during unpickling. Arbitrary objects will no longer be allowed to be loaded via this mode unless they are explicitly allowlisted by the user via `torch.serialization.add_safe_globals`. We recommend you start setting `weights_only=True` for any use case where you don't have full control of the loaded file. Please open an issue on GitHub for any issues related to this experimental feature.\n",
      "  model.load_state_dict(torch.load(model_path, map_location=self.args.device))\n",
      "09:10:02 - INFO - 单模型 Fold 5 测试集结果详情:\n",
      "09:10:02 - INFO -   样本数: 68\n",
      "09:10:02 - INFO -   预测分布: {np.int64(0): np.int64(36), np.int64(1): np.int64(32)}\n",
      "09:10:02 - INFO -   标签分布: {np.int64(0): np.int64(34), np.int64(1): np.int64(34)}\n",
      "09:10:02 - INFO -   概率范围: [0.0331, 0.9359]\n",
      "09:10:02 - INFO -   概率均值: 0.4492 ± 0.3480\n",
      "09:10:02 - INFO -   评估 Fold 6...\n",
      "/home/maweicheng/multimodel/evaluation.py:65: FutureWarning: You are using `torch.load` with `weights_only=False` (the current default value), which uses the default pickle module implicitly. It is possible to construct malicious pickle data which will execute arbitrary code during unpickling (See https://github.com/pytorch/pytorch/blob/main/SECURITY.md#untrusted-models for more details). In a future release, the default value for `weights_only` will be flipped to `True`. This limits the functions that could be executed during unpickling. Arbitrary objects will no longer be allowed to be loaded via this mode unless they are explicitly allowlisted by the user via `torch.serialization.add_safe_globals`. We recommend you start setting `weights_only=True` for any use case where you don't have full control of the loaded file. Please open an issue on GitHub for any issues related to this experimental feature.\n",
      "  model.load_state_dict(torch.load(model_path, map_location=self.args.device))\n",
      "09:10:02 - INFO - 单模型 Fold 5 测试集结果详情:\n",
      "09:10:02 - INFO -   样本数: 68\n",
      "09:10:02 - INFO -   预测分布: {np.int64(0): np.int64(36), np.int64(1): np.int64(32)}\n",
      "09:10:02 - INFO -   标签分布: {np.int64(0): np.int64(34), np.int64(1): np.int64(34)}\n",
      "09:10:02 - INFO -   概率范围: [0.0331, 0.9359]\n",
      "09:10:02 - INFO -   概率均值: 0.4492 ± 0.3480\n",
      "09:10:02 - INFO -   评估 Fold 6...\n",
      "/home/maweicheng/multimodel/training_utils.py:545: FutureWarning: You are using `torch.load` with `weights_only=False` (the current default value), which uses the default pickle module implicitly. It is possible to construct malicious pickle data which will execute arbitrary code during unpickling (See https://github.com/pytorch/pytorch/blob/main/SECURITY.md#untrusted-models for more details). In a future release, the default value for `weights_only` will be flipped to `True`. This limits the functions that could be executed during unpickling. Arbitrary objects will no longer be allowed to be loaded via this mode unless they are explicitly allowlisted by the user via `torch.serialization.add_safe_globals`. We recommend you start setting `weights_only=True` for any use case where you don't have full control of the loaded file. Please open an issue on GitHub for any issues related to this experimental feature.\n",
      "  checkpoint = torch.load(ct_model_path, map_location=device)\n",
      "/home/maweicheng/multimodel/training_utils.py:545: FutureWarning: You are using `torch.load` with `weights_only=False` (the current default value), which uses the default pickle module implicitly. It is possible to construct malicious pickle data which will execute arbitrary code during unpickling (See https://github.com/pytorch/pytorch/blob/main/SECURITY.md#untrusted-models for more details). In a future release, the default value for `weights_only` will be flipped to `True`. This limits the functions that could be executed during unpickling. Arbitrary objects will no longer be allowed to be loaded via this mode unless they are explicitly allowlisted by the user via `torch.serialization.add_safe_globals`. We recommend you start setting `weights_only=True` for any use case where you don't have full control of the loaded file. Please open an issue on GitHub for any issues related to this experimental feature.\n",
      "  checkpoint = torch.load(ct_model_path, map_location=device)\n",
      "/home/maweicheng/multimodel/evaluation.py:65: FutureWarning: You are using `torch.load` with `weights_only=False` (the current default value), which uses the default pickle module implicitly. It is possible to construct malicious pickle data which will execute arbitrary code during unpickling (See https://github.com/pytorch/pytorch/blob/main/SECURITY.md#untrusted-models for more details). In a future release, the default value for `weights_only` will be flipped to `True`. This limits the functions that could be executed during unpickling. Arbitrary objects will no longer be allowed to be loaded via this mode unless they are explicitly allowlisted by the user via `torch.serialization.add_safe_globals`. We recommend you start setting `weights_only=True` for any use case where you don't have full control of the loaded file. Please open an issue on GitHub for any issues related to this experimental feature.\n",
      "  model.load_state_dict(torch.load(model_path, map_location=self.args.device))\n",
      "09:10:03 - INFO - 单模型 Fold 6 测试集结果详情:\n",
      "09:10:03 - INFO -   样本数: 68\n",
      "09:10:03 - INFO -   预测分布: {np.int64(0): np.int64(36), np.int64(1): np.int64(32)}\n",
      "09:10:03 - INFO -   标签分布: {np.int64(0): np.int64(34), np.int64(1): np.int64(34)}\n",
      "09:10:03 - INFO -   概率范围: [0.0501, 0.9321]\n",
      "09:10:03 - INFO -   概率均值: 0.4797 ± 0.3464\n",
      "09:10:03 - INFO -   评估 Fold 7...\n",
      "/home/maweicheng/multimodel/evaluation.py:65: FutureWarning: You are using `torch.load` with `weights_only=False` (the current default value), which uses the default pickle module implicitly. It is possible to construct malicious pickle data which will execute arbitrary code during unpickling (See https://github.com/pytorch/pytorch/blob/main/SECURITY.md#untrusted-models for more details). In a future release, the default value for `weights_only` will be flipped to `True`. This limits the functions that could be executed during unpickling. Arbitrary objects will no longer be allowed to be loaded via this mode unless they are explicitly allowlisted by the user via `torch.serialization.add_safe_globals`. We recommend you start setting `weights_only=True` for any use case where you don't have full control of the loaded file. Please open an issue on GitHub for any issues related to this experimental feature.\n",
      "  model.load_state_dict(torch.load(model_path, map_location=self.args.device))\n",
      "09:10:03 - INFO - 单模型 Fold 6 测试集结果详情:\n",
      "09:10:03 - INFO -   样本数: 68\n",
      "09:10:03 - INFO -   预测分布: {np.int64(0): np.int64(36), np.int64(1): np.int64(32)}\n",
      "09:10:03 - INFO -   标签分布: {np.int64(0): np.int64(34), np.int64(1): np.int64(34)}\n",
      "09:10:03 - INFO -   概率范围: [0.0501, 0.9321]\n",
      "09:10:03 - INFO -   概率均值: 0.4797 ± 0.3464\n",
      "09:10:03 - INFO -   评估 Fold 7...\n",
      "/home/maweicheng/multimodel/training_utils.py:545: FutureWarning: You are using `torch.load` with `weights_only=False` (the current default value), which uses the default pickle module implicitly. It is possible to construct malicious pickle data which will execute arbitrary code during unpickling (See https://github.com/pytorch/pytorch/blob/main/SECURITY.md#untrusted-models for more details). In a future release, the default value for `weights_only` will be flipped to `True`. This limits the functions that could be executed during unpickling. Arbitrary objects will no longer be allowed to be loaded via this mode unless they are explicitly allowlisted by the user via `torch.serialization.add_safe_globals`. We recommend you start setting `weights_only=True` for any use case where you don't have full control of the loaded file. Please open an issue on GitHub for any issues related to this experimental feature.\n",
      "  checkpoint = torch.load(ct_model_path, map_location=device)\n",
      "/home/maweicheng/multimodel/training_utils.py:545: FutureWarning: You are using `torch.load` with `weights_only=False` (the current default value), which uses the default pickle module implicitly. It is possible to construct malicious pickle data which will execute arbitrary code during unpickling (See https://github.com/pytorch/pytorch/blob/main/SECURITY.md#untrusted-models for more details). In a future release, the default value for `weights_only` will be flipped to `True`. This limits the functions that could be executed during unpickling. Arbitrary objects will no longer be allowed to be loaded via this mode unless they are explicitly allowlisted by the user via `torch.serialization.add_safe_globals`. We recommend you start setting `weights_only=True` for any use case where you don't have full control of the loaded file. Please open an issue on GitHub for any issues related to this experimental feature.\n",
      "  checkpoint = torch.load(ct_model_path, map_location=device)\n",
      "/home/maweicheng/multimodel/evaluation.py:65: FutureWarning: You are using `torch.load` with `weights_only=False` (the current default value), which uses the default pickle module implicitly. It is possible to construct malicious pickle data which will execute arbitrary code during unpickling (See https://github.com/pytorch/pytorch/blob/main/SECURITY.md#untrusted-models for more details). In a future release, the default value for `weights_only` will be flipped to `True`. This limits the functions that could be executed during unpickling. Arbitrary objects will no longer be allowed to be loaded via this mode unless they are explicitly allowlisted by the user via `torch.serialization.add_safe_globals`. We recommend you start setting `weights_only=True` for any use case where you don't have full control of the loaded file. Please open an issue on GitHub for any issues related to this experimental feature.\n",
      "  model.load_state_dict(torch.load(model_path, map_location=self.args.device))\n",
      "09:10:03 - INFO - 单模型 Fold 7 测试集结果详情:\n",
      "09:10:03 - INFO -   样本数: 68\n",
      "09:10:04 - INFO -   预测分布: {np.int64(0): np.int64(34), np.int64(1): np.int64(34)}\n",
      "09:10:04 - INFO -   标签分布: {np.int64(0): np.int64(34), np.int64(1): np.int64(34)}\n",
      "09:10:04 - INFO -   概率范围: [0.0393, 0.9364]\n",
      "09:10:04 - INFO -   概率均值: 0.4943 ± 0.3605\n",
      "09:10:04 - INFO -   评估 Fold 8...\n",
      "/home/maweicheng/multimodel/evaluation.py:65: FutureWarning: You are using `torch.load` with `weights_only=False` (the current default value), which uses the default pickle module implicitly. It is possible to construct malicious pickle data which will execute arbitrary code during unpickling (See https://github.com/pytorch/pytorch/blob/main/SECURITY.md#untrusted-models for more details). In a future release, the default value for `weights_only` will be flipped to `True`. This limits the functions that could be executed during unpickling. Arbitrary objects will no longer be allowed to be loaded via this mode unless they are explicitly allowlisted by the user via `torch.serialization.add_safe_globals`. We recommend you start setting `weights_only=True` for any use case where you don't have full control of the loaded file. Please open an issue on GitHub for any issues related to this experimental feature.\n",
      "  model.load_state_dict(torch.load(model_path, map_location=self.args.device))\n",
      "09:10:03 - INFO - 单模型 Fold 7 测试集结果详情:\n",
      "09:10:03 - INFO -   样本数: 68\n",
      "09:10:04 - INFO -   预测分布: {np.int64(0): np.int64(34), np.int64(1): np.int64(34)}\n",
      "09:10:04 - INFO -   标签分布: {np.int64(0): np.int64(34), np.int64(1): np.int64(34)}\n",
      "09:10:04 - INFO -   概率范围: [0.0393, 0.9364]\n",
      "09:10:04 - INFO -   概率均值: 0.4943 ± 0.3605\n",
      "09:10:04 - INFO -   评估 Fold 8...\n",
      "/home/maweicheng/multimodel/training_utils.py:545: FutureWarning: You are using `torch.load` with `weights_only=False` (the current default value), which uses the default pickle module implicitly. It is possible to construct malicious pickle data which will execute arbitrary code during unpickling (See https://github.com/pytorch/pytorch/blob/main/SECURITY.md#untrusted-models for more details). In a future release, the default value for `weights_only` will be flipped to `True`. This limits the functions that could be executed during unpickling. Arbitrary objects will no longer be allowed to be loaded via this mode unless they are explicitly allowlisted by the user via `torch.serialization.add_safe_globals`. We recommend you start setting `weights_only=True` for any use case where you don't have full control of the loaded file. Please open an issue on GitHub for any issues related to this experimental feature.\n",
      "  checkpoint = torch.load(ct_model_path, map_location=device)\n",
      "/home/maweicheng/multimodel/training_utils.py:545: FutureWarning: You are using `torch.load` with `weights_only=False` (the current default value), which uses the default pickle module implicitly. It is possible to construct malicious pickle data which will execute arbitrary code during unpickling (See https://github.com/pytorch/pytorch/blob/main/SECURITY.md#untrusted-models for more details). In a future release, the default value for `weights_only` will be flipped to `True`. This limits the functions that could be executed during unpickling. Arbitrary objects will no longer be allowed to be loaded via this mode unless they are explicitly allowlisted by the user via `torch.serialization.add_safe_globals`. We recommend you start setting `weights_only=True` for any use case where you don't have full control of the loaded file. Please open an issue on GitHub for any issues related to this experimental feature.\n",
      "  checkpoint = torch.load(ct_model_path, map_location=device)\n",
      "/home/maweicheng/multimodel/evaluation.py:65: FutureWarning: You are using `torch.load` with `weights_only=False` (the current default value), which uses the default pickle module implicitly. It is possible to construct malicious pickle data which will execute arbitrary code during unpickling (See https://github.com/pytorch/pytorch/blob/main/SECURITY.md#untrusted-models for more details). In a future release, the default value for `weights_only` will be flipped to `True`. This limits the functions that could be executed during unpickling. Arbitrary objects will no longer be allowed to be loaded via this mode unless they are explicitly allowlisted by the user via `torch.serialization.add_safe_globals`. We recommend you start setting `weights_only=True` for any use case where you don't have full control of the loaded file. Please open an issue on GitHub for any issues related to this experimental feature.\n",
      "  model.load_state_dict(torch.load(model_path, map_location=self.args.device))\n",
      "09:10:04 - INFO - 单模型 Fold 8 测试集结果详情:\n",
      "09:10:04 - INFO -   样本数: 68\n",
      "09:10:04 - INFO -   预测分布: {np.int64(0): np.int64(41), np.int64(1): np.int64(27)}\n",
      "09:10:04 - INFO -   标签分布: {np.int64(0): np.int64(34), np.int64(1): np.int64(34)}\n",
      "09:10:04 - INFO -   概率范围: [0.0419, 0.9102]\n",
      "09:10:04 - INFO -   概率均值: 0.3978 ± 0.3039\n",
      "09:10:04 - INFO -   评估 Fold 9...\n",
      "/home/maweicheng/multimodel/evaluation.py:65: FutureWarning: You are using `torch.load` with `weights_only=False` (the current default value), which uses the default pickle module implicitly. It is possible to construct malicious pickle data which will execute arbitrary code during unpickling (See https://github.com/pytorch/pytorch/blob/main/SECURITY.md#untrusted-models for more details). In a future release, the default value for `weights_only` will be flipped to `True`. This limits the functions that could be executed during unpickling. Arbitrary objects will no longer be allowed to be loaded via this mode unless they are explicitly allowlisted by the user via `torch.serialization.add_safe_globals`. We recommend you start setting `weights_only=True` for any use case where you don't have full control of the loaded file. Please open an issue on GitHub for any issues related to this experimental feature.\n",
      "  model.load_state_dict(torch.load(model_path, map_location=self.args.device))\n",
      "09:10:04 - INFO - 单模型 Fold 8 测试集结果详情:\n",
      "09:10:04 - INFO -   样本数: 68\n",
      "09:10:04 - INFO -   预测分布: {np.int64(0): np.int64(41), np.int64(1): np.int64(27)}\n",
      "09:10:04 - INFO -   标签分布: {np.int64(0): np.int64(34), np.int64(1): np.int64(34)}\n",
      "09:10:04 - INFO -   概率范围: [0.0419, 0.9102]\n",
      "09:10:04 - INFO -   概率均值: 0.3978 ± 0.3039\n",
      "09:10:04 - INFO -   评估 Fold 9...\n",
      "/home/maweicheng/multimodel/training_utils.py:545: FutureWarning: You are using `torch.load` with `weights_only=False` (the current default value), which uses the default pickle module implicitly. It is possible to construct malicious pickle data which will execute arbitrary code during unpickling (See https://github.com/pytorch/pytorch/blob/main/SECURITY.md#untrusted-models for more details). In a future release, the default value for `weights_only` will be flipped to `True`. This limits the functions that could be executed during unpickling. Arbitrary objects will no longer be allowed to be loaded via this mode unless they are explicitly allowlisted by the user via `torch.serialization.add_safe_globals`. We recommend you start setting `weights_only=True` for any use case where you don't have full control of the loaded file. Please open an issue on GitHub for any issues related to this experimental feature.\n",
      "  checkpoint = torch.load(ct_model_path, map_location=device)\n",
      "/home/maweicheng/multimodel/training_utils.py:545: FutureWarning: You are using `torch.load` with `weights_only=False` (the current default value), which uses the default pickle module implicitly. It is possible to construct malicious pickle data which will execute arbitrary code during unpickling (See https://github.com/pytorch/pytorch/blob/main/SECURITY.md#untrusted-models for more details). In a future release, the default value for `weights_only` will be flipped to `True`. This limits the functions that could be executed during unpickling. Arbitrary objects will no longer be allowed to be loaded via this mode unless they are explicitly allowlisted by the user via `torch.serialization.add_safe_globals`. We recommend you start setting `weights_only=True` for any use case where you don't have full control of the loaded file. Please open an issue on GitHub for any issues related to this experimental feature.\n",
      "  checkpoint = torch.load(ct_model_path, map_location=device)\n",
      "/home/maweicheng/multimodel/evaluation.py:65: FutureWarning: You are using `torch.load` with `weights_only=False` (the current default value), which uses the default pickle module implicitly. It is possible to construct malicious pickle data which will execute arbitrary code during unpickling (See https://github.com/pytorch/pytorch/blob/main/SECURITY.md#untrusted-models for more details). In a future release, the default value for `weights_only` will be flipped to `True`. This limits the functions that could be executed during unpickling. Arbitrary objects will no longer be allowed to be loaded via this mode unless they are explicitly allowlisted by the user via `torch.serialization.add_safe_globals`. We recommend you start setting `weights_only=True` for any use case where you don't have full control of the loaded file. Please open an issue on GitHub for any issues related to this experimental feature.\n",
      "  model.load_state_dict(torch.load(model_path, map_location=self.args.device))\n",
      "09:10:05 - INFO - 单模型 Fold 9 测试集结果详情:\n",
      "09:10:05 - INFO -   样本数: 68\n",
      "09:10:05 - INFO -   预测分布: {np.int64(0): np.int64(37), np.int64(1): np.int64(31)}\n",
      "09:10:05 - INFO -   标签分布: {np.int64(0): np.int64(34), np.int64(1): np.int64(34)}\n",
      "09:10:05 - INFO -   概率范围: [0.0425, 0.9412]\n",
      "09:10:05 - INFO -   概率均值: 0.4594 ± 0.3362\n",
      "09:10:05 - INFO -   评估 Fold 10...\n",
      "/home/maweicheng/multimodel/evaluation.py:65: FutureWarning: You are using `torch.load` with `weights_only=False` (the current default value), which uses the default pickle module implicitly. It is possible to construct malicious pickle data which will execute arbitrary code during unpickling (See https://github.com/pytorch/pytorch/blob/main/SECURITY.md#untrusted-models for more details). In a future release, the default value for `weights_only` will be flipped to `True`. This limits the functions that could be executed during unpickling. Arbitrary objects will no longer be allowed to be loaded via this mode unless they are explicitly allowlisted by the user via `torch.serialization.add_safe_globals`. We recommend you start setting `weights_only=True` for any use case where you don't have full control of the loaded file. Please open an issue on GitHub for any issues related to this experimental feature.\n",
      "  model.load_state_dict(torch.load(model_path, map_location=self.args.device))\n",
      "09:10:05 - INFO - 单模型 Fold 9 测试集结果详情:\n",
      "09:10:05 - INFO -   样本数: 68\n",
      "09:10:05 - INFO -   预测分布: {np.int64(0): np.int64(37), np.int64(1): np.int64(31)}\n",
      "09:10:05 - INFO -   标签分布: {np.int64(0): np.int64(34), np.int64(1): np.int64(34)}\n",
      "09:10:05 - INFO -   概率范围: [0.0425, 0.9412]\n",
      "09:10:05 - INFO -   概率均值: 0.4594 ± 0.3362\n",
      "09:10:05 - INFO -   评估 Fold 10...\n",
      "/home/maweicheng/multimodel/training_utils.py:545: FutureWarning: You are using `torch.load` with `weights_only=False` (the current default value), which uses the default pickle module implicitly. It is possible to construct malicious pickle data which will execute arbitrary code during unpickling (See https://github.com/pytorch/pytorch/blob/main/SECURITY.md#untrusted-models for more details). In a future release, the default value for `weights_only` will be flipped to `True`. This limits the functions that could be executed during unpickling. Arbitrary objects will no longer be allowed to be loaded via this mode unless they are explicitly allowlisted by the user via `torch.serialization.add_safe_globals`. We recommend you start setting `weights_only=True` for any use case where you don't have full control of the loaded file. Please open an issue on GitHub for any issues related to this experimental feature.\n",
      "  checkpoint = torch.load(ct_model_path, map_location=device)\n",
      "/home/maweicheng/multimodel/training_utils.py:545: FutureWarning: You are using `torch.load` with `weights_only=False` (the current default value), which uses the default pickle module implicitly. It is possible to construct malicious pickle data which will execute arbitrary code during unpickling (See https://github.com/pytorch/pytorch/blob/main/SECURITY.md#untrusted-models for more details). In a future release, the default value for `weights_only` will be flipped to `True`. This limits the functions that could be executed during unpickling. Arbitrary objects will no longer be allowed to be loaded via this mode unless they are explicitly allowlisted by the user via `torch.serialization.add_safe_globals`. We recommend you start setting `weights_only=True` for any use case where you don't have full control of the loaded file. Please open an issue on GitHub for any issues related to this experimental feature.\n",
      "  checkpoint = torch.load(ct_model_path, map_location=device)\n",
      "/home/maweicheng/multimodel/evaluation.py:65: FutureWarning: You are using `torch.load` with `weights_only=False` (the current default value), which uses the default pickle module implicitly. It is possible to construct malicious pickle data which will execute arbitrary code during unpickling (See https://github.com/pytorch/pytorch/blob/main/SECURITY.md#untrusted-models for more details). In a future release, the default value for `weights_only` will be flipped to `True`. This limits the functions that could be executed during unpickling. Arbitrary objects will no longer be allowed to be loaded via this mode unless they are explicitly allowlisted by the user via `torch.serialization.add_safe_globals`. We recommend you start setting `weights_only=True` for any use case where you don't have full control of the loaded file. Please open an issue on GitHub for any issues related to this experimental feature.\n",
      "  model.load_state_dict(torch.load(model_path, map_location=self.args.device))\n",
      "09:10:06 - INFO - 单模型 Fold 10 测试集结果详情:\n",
      "09:10:06 - INFO -   样本数: 68\n",
      "09:10:06 - INFO -   预测分布: {np.int64(0): np.int64(37), np.int64(1): np.int64(31)}\n",
      "09:10:06 - INFO -   标签分布: {np.int64(0): np.int64(34), np.int64(1): np.int64(34)}\n",
      "09:10:06 - INFO -   概率范围: [0.0351, 0.9323]\n",
      "09:10:06 - INFO -   概率均值: 0.4499 ± 0.3509\n",
      "09:10:06 - INFO - ================================================================================\n",
      "09:10:06 - INFO - 独立测试集性能评估 - 跨fold平均结果:\n",
      "09:10:06 - INFO - 准确率: 0.9265 ± 0.0271\n",
      "09:10:06 - INFO - F1分数:  0.9229 ± 0.0311\n",
      "09:10:06 - INFO - AUC:    0.9722 ± 0.0083\n",
      "09:10:06 - INFO - \n",
      "/home/maweicheng/multimodel/evaluation.py:65: FutureWarning: You are using `torch.load` with `weights_only=False` (the current default value), which uses the default pickle module implicitly. It is possible to construct malicious pickle data which will execute arbitrary code during unpickling (See https://github.com/pytorch/pytorch/blob/main/SECURITY.md#untrusted-models for more details). In a future release, the default value for `weights_only` will be flipped to `True`. This limits the functions that could be executed during unpickling. Arbitrary objects will no longer be allowed to be loaded via this mode unless they are explicitly allowlisted by the user via `torch.serialization.add_safe_globals`. We recommend you start setting `weights_only=True` for any use case where you don't have full control of the loaded file. Please open an issue on GitHub for any issues related to this experimental feature.\n",
      "  model.load_state_dict(torch.load(model_path, map_location=self.args.device))\n",
      "09:10:06 - INFO - 单模型 Fold 10 测试集结果详情:\n",
      "09:10:06 - INFO -   样本数: 68\n",
      "09:10:06 - INFO -   预测分布: {np.int64(0): np.int64(37), np.int64(1): np.int64(31)}\n",
      "09:10:06 - INFO -   标签分布: {np.int64(0): np.int64(34), np.int64(1): np.int64(34)}\n",
      "09:10:06 - INFO -   概率范围: [0.0351, 0.9323]\n",
      "09:10:06 - INFO -   概率均值: 0.4499 ± 0.3509\n",
      "09:10:06 - INFO - ================================================================================\n",
      "09:10:06 - INFO - 独立测试集性能评估 - 跨fold平均结果:\n",
      "09:10:06 - INFO - 准确率: 0.9265 ± 0.0271\n",
      "09:10:06 - INFO - F1分数:  0.9229 ± 0.0311\n",
      "09:10:06 - INFO - AUC:    0.9722 ± 0.0083\n",
      "09:10:06 - INFO - \n",
      "09:10:06 - INFO - 各fold详细结果:\n",
      "09:10:06 - INFO -   Fold 1: Acc=0.9706, F1=0.9706, AUC=0.9801\n",
      "09:10:06 - INFO -   Fold 2: Acc=0.9118, F1=0.9118, AUC=0.9628\n",
      "09:10:06 - INFO -   Fold 3: Acc=0.9412, F1=0.9394, AUC=0.9697\n",
      "09:10:06 - INFO -   Fold 4: Acc=0.8971, F1=0.8889, AUC=0.9645\n",
      "09:10:06 - INFO -   Fold 5: Acc=0.9412, F1=0.9394, AUC=0.9818\n",
      "09:10:06 - INFO -   Fold 6: Acc=0.9412, F1=0.9394, AUC=0.9715\n",
      "09:10:06 - INFO -   Fold 7: Acc=0.9412, F1=0.9412, AUC=0.9689\n",
      "09:10:06 - INFO -   Fold 8: Acc=0.8676, F1=0.8525, AUC=0.9602\n",
      "09:10:06 - INFO -   Fold 9: Acc=0.9265, F1=0.9231, AUC=0.9758\n",
      "09:10:06 - INFO -   Fold 10: Acc=0.9265, F1=0.9231, AUC=0.9870\n",
      "09:10:06 - INFO - ================================================================================\n",
      "09:10:06 - INFO - ============================================================\n",
      "09:10:06 - INFO - 测试集评估结果 (跨所有fold统计):\n",
      "09:10:06 - INFO - 准确率: 0.9098 ± 0.0383\n",
      "09:10:06 - INFO - 各fold详细结果:\n",
      "09:10:06 - INFO -   Fold 1: Acc=0.9706, F1=0.9706, AUC=0.9801\n",
      "09:10:06 - INFO -   Fold 2: Acc=0.9118, F1=0.9118, AUC=0.9628\n",
      "09:10:06 - INFO -   Fold 3: Acc=0.9412, F1=0.9394, AUC=0.9697\n",
      "09:10:06 - INFO -   Fold 4: Acc=0.8971, F1=0.8889, AUC=0.9645\n",
      "09:10:06 - INFO -   Fold 5: Acc=0.9412, F1=0.9394, AUC=0.9818\n",
      "09:10:06 - INFO -   Fold 6: Acc=0.9412, F1=0.9394, AUC=0.9715\n",
      "09:10:06 - INFO -   Fold 7: Acc=0.9412, F1=0.9412, AUC=0.9689\n",
      "09:10:06 - INFO -   Fold 8: Acc=0.8676, F1=0.8525, AUC=0.9602\n",
      "09:10:06 - INFO -   Fold 9: Acc=0.9265, F1=0.9231, AUC=0.9758\n",
      "09:10:06 - INFO -   Fold 10: Acc=0.9265, F1=0.9231, AUC=0.9870\n",
      "09:10:06 - INFO - ================================================================================\n",
      "09:10:06 - INFO - ============================================================\n",
      "09:10:06 - INFO - 测试集评估结果 (跨所有fold统计):\n",
      "09:10:06 - INFO - 准确率: 0.9098 ± 0.0383\n",
      "09:10:06 - INFO - F1 Score: 0.9047 ± 0.0429\n",
      "09:10:06 - INFO - AUC: 0.9782 ± 0.0118\n",
      "09:10:06 - INFO - 使用fold数: 10\n",
      "09:10:06 - INFO - ============================================================\n",
      "09:10:06 - INFO - \n",
      "各fold详细结果:\n",
      "09:10:06 - INFO - Fold 0: 准确率=0.8852, F1=0.8852, AUC=0.9871\n",
      "09:10:06 - INFO - Fold 1: 准确率=0.9180, F1=0.9206, AUC=0.9688\n",
      "09:10:06 - INFO - Fold 2: 准确率=0.9508, F1=0.9508, AUC=0.9978\n",
      "09:10:06 - INFO - Fold 3: 准确率=0.8525, F1=0.8364, AUC=0.9699\n",
      "09:10:06 - INFO - Fold 4: 准确率=0.9344, F1=0.9310, AUC=0.9871\n",
      "09:10:06 - INFO - Fold 5: 准确率=0.9344, F1=0.9286, AUC=0.9774\n",
      "09:10:06 - INFO - Fold 6: 准确率=0.8361, F1=0.8214, AUC=0.9570\n",
      "09:10:06 - INFO - Fold 7: 准确率=0.9344, F1=0.9310, AUC=0.9817\n",
      "09:10:06 - INFO - Fold 8: 准确率=0.9016, F1=0.8929, AUC=0.9667\n",
      "09:10:06 - INFO - Fold 9: 准确率=0.9508, F1=0.9492, AUC=0.9882\n",
      "09:10:06 - INFO - F1 Score: 0.9047 ± 0.0429\n",
      "09:10:06 - INFO - AUC: 0.9782 ± 0.0118\n",
      "09:10:06 - INFO - 使用fold数: 10\n",
      "09:10:06 - INFO - ============================================================\n",
      "09:10:06 - INFO - \n",
      "各fold详细结果:\n",
      "09:10:06 - INFO - Fold 0: 准确率=0.8852, F1=0.8852, AUC=0.9871\n",
      "09:10:06 - INFO - Fold 1: 准确率=0.9180, F1=0.9206, AUC=0.9688\n",
      "09:10:06 - INFO - Fold 2: 准确率=0.9508, F1=0.9508, AUC=0.9978\n",
      "09:10:06 - INFO - Fold 3: 准确率=0.8525, F1=0.8364, AUC=0.9699\n",
      "09:10:06 - INFO - Fold 4: 准确率=0.9344, F1=0.9310, AUC=0.9871\n",
      "09:10:06 - INFO - Fold 5: 准确率=0.9344, F1=0.9286, AUC=0.9774\n",
      "09:10:06 - INFO - Fold 6: 准确率=0.8361, F1=0.8214, AUC=0.9570\n",
      "09:10:06 - INFO - Fold 7: 准确率=0.9344, F1=0.9310, AUC=0.9817\n",
      "09:10:06 - INFO - Fold 8: 准确率=0.9016, F1=0.8929, AUC=0.9667\n",
      "09:10:06 - INFO - Fold 9: 准确率=0.9508, F1=0.9492, AUC=0.9882\n",
      "09:10:06 - INFO - \n",
      "最终测试集评估结果 (样本数: 68)\n",
      "09:10:06 - INFO - 平均AUC: 0.9782 ± 0.0118 (跨10个fold)\n",
      "09:10:06 - INFO - 平均F1: 0.9047 ± 0.0429\n",
      "09:10:06 - INFO - 平均准确率: 0.9098 ± 0.0383\n",
      "09:10:06 - INFO - 训练完成!\n",
      "09:10:06 - INFO - \n",
      "最终测试集评估结果 (样本数: 68)\n",
      "09:10:06 - INFO - 平均AUC: 0.9782 ± 0.0118 (跨10个fold)\n",
      "09:10:06 - INFO - 平均F1: 0.9047 ± 0.0429\n",
      "09:10:06 - INFO - 平均准确率: 0.9098 ± 0.0383\n",
      "09:10:06 - INFO - 训练完成!\n"
     ]
    }
   ],
   "source": [
    "%run main.py \\\n",
    "    --modalities Frag PFE NDR NDR2K \\\n",
    "    --data_file /home/maweicheng/database/cancer_normal/train.npz \\\n",
    "    --test_file /home/maweicheng/database/cancer_normal/test.npz \\\n",
    "    --ct_model_path /home/maweicheng/multimodel/CT/cv_checkpoints/res_best_0.88.pth \\\n",
    "    --epochs 20 \\\n",
    "    --batch_size 16 \\\n",
    "    --lr 5e-5 \\\n",
    "    --k_folds 10 \\\n",
    "    --use_test_set \\\n",
    "    --latent_dim 512 \\\n",
    "    --strong_augment \\\n",
    "    --output_dir ./results/cancer_normal/"
   ]
  },
  {
   "cell_type": "markdown",
   "id": "830e6c6e",
   "metadata": {},
   "source": [
    "#### 基础配置（PCA降维）"
   ]
  },
  {
   "cell_type": "code",
   "execution_count": null,
   "id": "f221c6ee",
   "metadata": {},
   "outputs": [
    {
     "name": "stderr",
     "output_type": "stream",
     "text": [
      "21:29:28 - INFO - 随机种子设置为: 42\n",
      "21:29:28 - INFO - 使用设备: cuda\n",
      "21:29:28 - INFO - 使用模态: ['Frag', 'PFE', 'NDR', 'NDR2K']\n",
      "21:29:28 - INFO - 创建cfDNA特征选择器...\n",
      "21:29:28 - INFO - 使用设备: cuda\n",
      "21:29:28 - INFO - 使用模态: ['Frag', 'PFE', 'NDR', 'NDR2K']\n",
      "21:29:28 - INFO - 创建cfDNA特征选择器...\n"
     ]
    },
    {
     "name": "stdout",
     "output_type": "stream",
     "text": [
      "🔧 Frag: 888特征\n",
      "🔄 Frag使用PCA降维: 888 -> 100 维\n",
      "✅ Frag: 888 -> 100\n",
      "🔧 PFE: 19415特征\n",
      "🔄 PFE使用PCA降维: 19,415 -> 100 维\n",
      "✅ PFE: 19,415 -> 100\n",
      "🔧 PFE: 19415特征\n",
      "🔄 PFE使用PCA降维: 19,415 -> 100 维\n",
      "✅ PFE: 19,415 -> 100\n",
      "🔧 NDR: 19434特征\n",
      "🔄 NDR使用PCA降维: 19,434 -> 100 维\n",
      "✅ NDR: 19,434 -> 100\n",
      "🔧 NDR: 19434特征\n",
      "🔄 NDR使用PCA降维: 19,434 -> 100 维\n",
      "✅ NDR: 19,434 -> 100\n",
      "🔧 NDR2K: 19434特征\n",
      "🔄 NDR2K使用PCA降维: 19,434 -> 100 维\n",
      "✅ NDR2K: 19,434 -> 100\n",
      "🔧 NDR2K: 19434特征\n",
      "🔄 NDR2K使用PCA降维: 19,434 -> 100 维\n",
      "✅ NDR2K: 19,434 -> 100\n"
     ]
    },
    {
     "name": "stderr",
     "output_type": "stream",
     "text": [
      "21:29:31 - INFO - 特征选择方法: pca, 每个模态保留: 100 个特征\n"
     ]
    },
    {
     "name": "stdout",
     "output_type": "stream",
     "text": [
      "\n",
      "🎯 特征选择总结 (pca):\n",
      "  📊 总特征数: 59,171 -> 400\n",
      "  📉 压缩率: 99.3%\n",
      "  🔢 每模态平均: 100 特征\n",
      "\n"
     ]
    },
    {
     "name": "stderr",
     "output_type": "stream",
     "text": [
      "21:29:33 - INFO - 加载训练数据: /home/maweicheng/database/cancer_normal/train.npz, 样本数: 610\n",
      "21:29:33 - INFO - 标签分布: (array([0, 1]), array([306, 304]))\n",
      "21:29:33 - INFO - 运行交叉验证\n",
      "21:29:33 - INFO - 开始10折交叉验证\n",
      "21:29:33 - INFO - 结果保存到: ./results/cancer_normal/cv_results_20251013_212933\n",
      "21:29:33 - INFO - Frag特征维度: 100\n",
      "21:29:33 - INFO - PFE特征维度: 100\n",
      "21:29:33 - INFO - NDR特征维度: 100\n",
      "21:29:33 - INFO - NDR2K特征维度: 100\n",
      "21:29:33 - INFO - \n",
      "=============== Fold 1/10 ===============\n",
      "21:29:33 - INFO - 标签分布: (array([0, 1]), array([306, 304]))\n",
      "21:29:33 - INFO - 运行交叉验证\n",
      "21:29:33 - INFO - 开始10折交叉验证\n",
      "21:29:33 - INFO - 结果保存到: ./results/cancer_normal/cv_results_20251013_212933\n",
      "21:29:33 - INFO - Frag特征维度: 100\n",
      "21:29:33 - INFO - PFE特征维度: 100\n",
      "21:29:33 - INFO - NDR特征维度: 100\n",
      "21:29:33 - INFO - NDR2K特征维度: 100\n",
      "21:29:33 - INFO - \n",
      "=============== Fold 1/10 ===============\n",
      "/home/maweicheng/multimodel/training_utils.py:498: FutureWarning: You are using `torch.load` with `weights_only=False` (the current default value), which uses the default pickle module implicitly. It is possible to construct malicious pickle data which will execute arbitrary code during unpickling (See https://github.com/pytorch/pytorch/blob/main/SECURITY.md#untrusted-models for more details). In a future release, the default value for `weights_only` will be flipped to `True`. This limits the functions that could be executed during unpickling. Arbitrary objects will no longer be allowed to be loaded via this mode unless they are explicitly allowlisted by the user via `torch.serialization.add_safe_globals`. We recommend you start setting `weights_only=True` for any use case where you don't have full control of the loaded file. Please open an issue on GitHub for any issues related to this experimental feature.\n",
      "  x = self.ct_model.gap(x)  # 输出 [batch, 256*8*8]\n",
      "/home/maweicheng/multimodel/training_utils.py:498: FutureWarning: You are using `torch.load` with `weights_only=False` (the current default value), which uses the default pickle module implicitly. It is possible to construct malicious pickle data which will execute arbitrary code during unpickling (See https://github.com/pytorch/pytorch/blob/main/SECURITY.md#untrusted-models for more details). In a future release, the default value for `weights_only` will be flipped to `True`. This limits the functions that could be executed during unpickling. Arbitrary objects will no longer be allowed to be loaded via this mode unless they are explicitly allowlisted by the user via `torch.serialization.add_safe_globals`. We recommend you start setting `weights_only=True` for any use case where you don't have full control of the loaded file. Please open an issue on GitHub for any issues related to this experimental feature.\n",
      "  x = self.ct_model.gap(x)  # 输出 [batch, 256*8*8]\n",
      "21:30:39 - INFO - Fold 1 完成 - Acc: 0.9344, AUC: 0.9796, F1: 0.9375, Train_Loss: 0.4431, Val_Loss: 0.0000 \n",
      "21:30:39 - INFO - Fold 1 完成 - Acc: 0.9344, AUC: 0.9796, F1: 0.9375, Train_Loss: 0.4431, Val_Loss: 0.0000 \n"
     ]
    },
    {
     "name": "stdout",
     "output_type": "stream",
     "text": [
      "📊 ROC曲线已保存: ./results/cancer_normal/cv_results_20251013_212933/roc_curve_fold_1.png\n"
     ]
    },
    {
     "name": "stderr",
     "output_type": "stream",
     "text": [
      "21:30:39 - INFO - \n",
      "=============== Fold 2/10 ===============\n"
     ]
    },
    {
     "name": "stdout",
     "output_type": "stream",
     "text": [
      "📊 训练曲线已保存: ./results/cancer_normal/cv_results_20251013_212933/results/training_curves_fold_1.png\n"
     ]
    },
    {
     "name": "stderr",
     "output_type": "stream",
     "text": [
      "/home/maweicheng/multimodel/training_utils.py:498: FutureWarning: You are using `torch.load` with `weights_only=False` (the current default value), which uses the default pickle module implicitly. It is possible to construct malicious pickle data which will execute arbitrary code during unpickling (See https://github.com/pytorch/pytorch/blob/main/SECURITY.md#untrusted-models for more details). In a future release, the default value for `weights_only` will be flipped to `True`. This limits the functions that could be executed during unpickling. Arbitrary objects will no longer be allowed to be loaded via this mode unless they are explicitly allowlisted by the user via `torch.serialization.add_safe_globals`. We recommend you start setting `weights_only=True` for any use case where you don't have full control of the loaded file. Please open an issue on GitHub for any issues related to this experimental feature.\n",
      "  x = self.ct_model.gap(x)  # 输出 [batch, 256*8*8]\n",
      "21:31:46 - INFO - Fold 2 完成 - Acc: 0.8689, AUC: 0.9602, F1: 0.8667, Train_Loss: 0.3270, Val_Loss: 0.0000 \n",
      "21:31:46 - INFO - Fold 2 完成 - Acc: 0.8689, AUC: 0.9602, F1: 0.8667, Train_Loss: 0.3270, Val_Loss: 0.0000\n"
     ]
    },
    {
     "name": "stdout",
     "output_type": "stream",
     "text": [
      "📊 ROC曲线已保存: ./results/cancer_normal/cv_results_20251013_212933/roc_curve_fold_2.png\n"
     ]
    },
    {
     "name": "stderr",
     "output_type": "stream",
     "text": [
      "21:31:47 - INFO - \n",
      "=============== Fold 3/10 ===============\n"
     ]
    },
    {
     "name": "stdout",
     "output_type": "stream",
     "text": [
      "📊 训练曲线已保存: ./results/cancer_normal/cv_results_20251013_212933/results/training_curves_fold_2.png\n"
     ]
    },
    {
     "name": "stderr",
     "output_type": "stream",
     "text": [
      "/home/maweicheng/multimodel/training_utils.py:498: FutureWarning: You are using `torch.load` with `weights_only=False` (the current default value), which uses the default pickle module implicitly. It is possible to construct malicious pickle data which will execute arbitrary code during unpickling (See https://github.com/pytorch/pytorch/blob/main/SECURITY.md#untrusted-models for more details). In a future release, the default value for `weights_only` will be flipped to `True`. This limits the functions that could be executed during unpickling. Arbitrary objects will no longer be allowed to be loaded via this mode unless they are explicitly allowlisted by the user via `torch.serialization.add_safe_globals`. We recommend you start setting `weights_only=True` for any use case where you don't have full control of the loaded file. Please open an issue on GitHub for any issues related to this experimental feature.\n",
      "  x = self.ct_model.gap(x)  # 输出 [batch, 256*8*8]\n",
      "21:32:54 - INFO - Fold 3 完成 - Acc: 0.9672, AUC: 0.9892, F1: 0.9677, Train_Loss: 0.5379, Val_Loss: 0.0000 \n",
      "21:32:54 - INFO - Fold 3 完成 - Acc: 0.9672, AUC: 0.9892, F1: 0.9677, Train_Loss: 0.5379, Val_Loss: 0.0000 \n"
     ]
    },
    {
     "name": "stdout",
     "output_type": "stream",
     "text": [
      "📊 ROC曲线已保存: ./results/cancer_normal/cv_results_20251013_212933/roc_curve_fold_3.png\n"
     ]
    },
    {
     "name": "stderr",
     "output_type": "stream",
     "text": [
      "21:32:55 - INFO - \n",
      "=============== Fold 4/10 ===============\n"
     ]
    },
    {
     "name": "stdout",
     "output_type": "stream",
     "text": [
      "📊 训练曲线已保存: ./results/cancer_normal/cv_results_20251013_212933/results/training_curves_fold_3.png\n"
     ]
    },
    {
     "name": "stderr",
     "output_type": "stream",
     "text": [
      "/home/maweicheng/multimodel/training_utils.py:498: FutureWarning: You are using `torch.load` with `weights_only=False` (the current default value), which uses the default pickle module implicitly. It is possible to construct malicious pickle data which will execute arbitrary code during unpickling (See https://github.com/pytorch/pytorch/blob/main/SECURITY.md#untrusted-models for more details). In a future release, the default value for `weights_only` will be flipped to `True`. This limits the functions that could be executed during unpickling. Arbitrary objects will no longer be allowed to be loaded via this mode unless they are explicitly allowlisted by the user via `torch.serialization.add_safe_globals`. We recommend you start setting `weights_only=True` for any use case where you don't have full control of the loaded file. Please open an issue on GitHub for any issues related to this experimental feature.\n",
      "  x = self.ct_model.gap(x)  # 输出 [batch, 256*8*8]\n",
      "21:34:04 - INFO - Fold 4 完成 - Acc: 0.9016, AUC: 0.9710, F1: 0.8966, Train_Loss: 0.3830, Val_Loss: 0.0000 \n",
      "21:34:04 - INFO - Fold 4 完成 - Acc: 0.9016, AUC: 0.9710, F1: 0.8966, Train_Loss: 0.3830, Val_Loss: 0.0000 \n"
     ]
    },
    {
     "name": "stdout",
     "output_type": "stream",
     "text": [
      "📊 ROC曲线已保存: ./results/cancer_normal/cv_results_20251013_212933/roc_curve_fold_4.png\n"
     ]
    },
    {
     "name": "stderr",
     "output_type": "stream",
     "text": [
      "21:34:05 - INFO - \n",
      "=============== Fold 5/10 ===============\n"
     ]
    },
    {
     "name": "stdout",
     "output_type": "stream",
     "text": [
      "📊 训练曲线已保存: ./results/cancer_normal/cv_results_20251013_212933/results/training_curves_fold_4.png\n"
     ]
    },
    {
     "name": "stderr",
     "output_type": "stream",
     "text": [
      "/home/maweicheng/multimodel/training_utils.py:498: FutureWarning: You are using `torch.load` with `weights_only=False` (the current default value), which uses the default pickle module implicitly. It is possible to construct malicious pickle data which will execute arbitrary code during unpickling (See https://github.com/pytorch/pytorch/blob/main/SECURITY.md#untrusted-models for more details). In a future release, the default value for `weights_only` will be flipped to `True`. This limits the functions that could be executed during unpickling. Arbitrary objects will no longer be allowed to be loaded via this mode unless they are explicitly allowlisted by the user via `torch.serialization.add_safe_globals`. We recommend you start setting `weights_only=True` for any use case where you don't have full control of the loaded file. Please open an issue on GitHub for any issues related to this experimental feature.\n",
      "  x = self.ct_model.gap(x)  # 输出 [batch, 256*8*8]\n",
      "21:35:13 - INFO - Fold 5 完成 - Acc: 0.9508, AUC: 0.9946, F1: 0.9492, Train_Loss: 0.3891, Val_Loss: 0.0000 \n",
      "21:35:13 - INFO - Fold 5 完成 - Acc: 0.9508, AUC: 0.9946, F1: 0.9492, Train_Loss: 0.3891, Val_Loss: 0.0000 \n"
     ]
    },
    {
     "name": "stdout",
     "output_type": "stream",
     "text": [
      "📊 ROC曲线已保存: ./results/cancer_normal/cv_results_20251013_212933/roc_curve_fold_5.png\n"
     ]
    },
    {
     "name": "stderr",
     "output_type": "stream",
     "text": [
      "21:35:14 - INFO - \n",
      "=============== Fold 6/10 ===============\n"
     ]
    },
    {
     "name": "stdout",
     "output_type": "stream",
     "text": [
      "📊 训练曲线已保存: ./results/cancer_normal/cv_results_20251013_212933/results/training_curves_fold_5.png\n"
     ]
    },
    {
     "name": "stderr",
     "output_type": "stream",
     "text": [
      "/home/maweicheng/multimodel/training_utils.py:498: FutureWarning: You are using `torch.load` with `weights_only=False` (the current default value), which uses the default pickle module implicitly. It is possible to construct malicious pickle data which will execute arbitrary code during unpickling (See https://github.com/pytorch/pytorch/blob/main/SECURITY.md#untrusted-models for more details). In a future release, the default value for `weights_only` will be flipped to `True`. This limits the functions that could be executed during unpickling. Arbitrary objects will no longer be allowed to be loaded via this mode unless they are explicitly allowlisted by the user via `torch.serialization.add_safe_globals`. We recommend you start setting `weights_only=True` for any use case where you don't have full control of the loaded file. Please open an issue on GitHub for any issues related to this experimental feature.\n",
      "  x = self.ct_model.gap(x)  # 输出 [batch, 256*8*8]\n",
      "21:36:22 - INFO - Fold 6 完成 - Acc: 0.9344, AUC: 0.9892, F1: 0.9310, Train_Loss: 0.4940, Val_Loss: 0.0000 \n",
      "21:36:22 - INFO - Fold 6 完成 - Acc: 0.9344, AUC: 0.9892, F1: 0.9310, Train_Loss: 0.4940, Val_Loss: 0.0000\n"
     ]
    },
    {
     "name": "stdout",
     "output_type": "stream",
     "text": [
      "📊 ROC曲线已保存: ./results/cancer_normal/cv_results_20251013_212933/roc_curve_fold_6.png\n"
     ]
    },
    {
     "name": "stderr",
     "output_type": "stream",
     "text": [
      "21:36:23 - INFO - \n",
      "=============== Fold 7/10 ===============\n"
     ]
    },
    {
     "name": "stdout",
     "output_type": "stream",
     "text": [
      "📊 训练曲线已保存: ./results/cancer_normal/cv_results_20251013_212933/results/training_curves_fold_6.png\n"
     ]
    },
    {
     "name": "stderr",
     "output_type": "stream",
     "text": [
      "/home/maweicheng/multimodel/training_utils.py:498: FutureWarning: You are using `torch.load` with `weights_only=False` (the current default value), which uses the default pickle module implicitly. It is possible to construct malicious pickle data which will execute arbitrary code during unpickling (See https://github.com/pytorch/pytorch/blob/main/SECURITY.md#untrusted-models for more details). In a future release, the default value for `weights_only` will be flipped to `True`. This limits the functions that could be executed during unpickling. Arbitrary objects will no longer be allowed to be loaded via this mode unless they are explicitly allowlisted by the user via `torch.serialization.add_safe_globals`. We recommend you start setting `weights_only=True` for any use case where you don't have full control of the loaded file. Please open an issue on GitHub for any issues related to this experimental feature.\n",
      "  x = self.ct_model.gap(x)  # 输出 [batch, 256*8*8]\n",
      "21:37:32 - INFO - Fold 7 完成 - Acc: 0.8852, AUC: 0.9559, F1: 0.8772, Train_Loss: 0.4894, Val_Loss: 0.0000 \n",
      "21:37:32 - INFO - Fold 7 完成 - Acc: 0.8852, AUC: 0.9559, F1: 0.8772, Train_Loss: 0.4894, Val_Loss: 0.0000 \n"
     ]
    },
    {
     "name": "stdout",
     "output_type": "stream",
     "text": [
      "📊 ROC曲线已保存: ./results/cancer_normal/cv_results_20251013_212933/roc_curve_fold_7.png\n"
     ]
    },
    {
     "name": "stderr",
     "output_type": "stream",
     "text": [
      "21:37:33 - INFO - \n",
      "=============== Fold 8/10 ===============\n"
     ]
    },
    {
     "name": "stdout",
     "output_type": "stream",
     "text": [
      "📊 训练曲线已保存: ./results/cancer_normal/cv_results_20251013_212933/results/training_curves_fold_7.png\n"
     ]
    },
    {
     "name": "stderr",
     "output_type": "stream",
     "text": [
      "/home/maweicheng/multimodel/training_utils.py:498: FutureWarning: You are using `torch.load` with `weights_only=False` (the current default value), which uses the default pickle module implicitly. It is possible to construct malicious pickle data which will execute arbitrary code during unpickling (See https://github.com/pytorch/pytorch/blob/main/SECURITY.md#untrusted-models for more details). In a future release, the default value for `weights_only` will be flipped to `True`. This limits the functions that could be executed during unpickling. Arbitrary objects will no longer be allowed to be loaded via this mode unless they are explicitly allowlisted by the user via `torch.serialization.add_safe_globals`. We recommend you start setting `weights_only=True` for any use case where you don't have full control of the loaded file. Please open an issue on GitHub for any issues related to this experimental feature.\n",
      "  x = self.ct_model.gap(x)  # 输出 [batch, 256*8*8]\n",
      "21:38:41 - INFO - Fold 8 完成 - Acc: 0.9016, AUC: 0.9624, F1: 0.8966, Train_Loss: 0.4264, Val_Loss: 0.0000 \n",
      "21:38:41 - INFO - Fold 8 完成 - Acc: 0.9016, AUC: 0.9624, F1: 0.8966, Train_Loss: 0.4264, Val_Loss: 0.0000 \n"
     ]
    },
    {
     "name": "stdout",
     "output_type": "stream",
     "text": [
      "📊 ROC曲线已保存: ./results/cancer_normal/cv_results_20251013_212933/roc_curve_fold_8.png\n"
     ]
    },
    {
     "name": "stderr",
     "output_type": "stream",
     "text": [
      "21:38:42 - INFO - \n",
      "=============== Fold 9/10 ===============\n"
     ]
    },
    {
     "name": "stdout",
     "output_type": "stream",
     "text": [
      "📊 训练曲线已保存: ./results/cancer_normal/cv_results_20251013_212933/results/training_curves_fold_8.png\n"
     ]
    },
    {
     "name": "stderr",
     "output_type": "stream",
     "text": [
      "/home/maweicheng/multimodel/training_utils.py:498: FutureWarning: You are using `torch.load` with `weights_only=False` (the current default value), which uses the default pickle module implicitly. It is possible to construct malicious pickle data which will execute arbitrary code during unpickling (See https://github.com/pytorch/pytorch/blob/main/SECURITY.md#untrusted-models for more details). In a future release, the default value for `weights_only` will be flipped to `True`. This limits the functions that could be executed during unpickling. Arbitrary objects will no longer be allowed to be loaded via this mode unless they are explicitly allowlisted by the user via `torch.serialization.add_safe_globals`. We recommend you start setting `weights_only=True` for any use case where you don't have full control of the loaded file. Please open an issue on GitHub for any issues related to this experimental feature.\n",
      "  x = self.ct_model.gap(x)  # 输出 [batch, 256*8*8]\n",
      "21:39:50 - INFO - Fold 9 完成 - Acc: 0.9508, AUC: 0.9656, F1: 0.9474, Train_Loss: 0.5005, Val_Loss: 0.0000 \n",
      "21:39:50 - INFO - Fold 9 完成 - Acc: 0.9508, AUC: 0.9656, F1: 0.9474, Train_Loss: 0.5005, Val_Loss: 0.0000 \n"
     ]
    },
    {
     "name": "stdout",
     "output_type": "stream",
     "text": [
      "📊 ROC曲线已保存: ./results/cancer_normal/cv_results_20251013_212933/roc_curve_fold_9.png\n"
     ]
    },
    {
     "name": "stderr",
     "output_type": "stream",
     "text": [
      "21:39:51 - INFO - \n",
      "=============== Fold 10/10 ===============\n"
     ]
    },
    {
     "name": "stdout",
     "output_type": "stream",
     "text": [
      "📊 训练曲线已保存: ./results/cancer_normal/cv_results_20251013_212933/results/training_curves_fold_9.png\n"
     ]
    },
    {
     "name": "stderr",
     "output_type": "stream",
     "text": [
      "/home/maweicheng/multimodel/training_utils.py:498: FutureWarning: You are using `torch.load` with `weights_only=False` (the current default value), which uses the default pickle module implicitly. It is possible to construct malicious pickle data which will execute arbitrary code during unpickling (See https://github.com/pytorch/pytorch/blob/main/SECURITY.md#untrusted-models for more details). In a future release, the default value for `weights_only` will be flipped to `True`. This limits the functions that could be executed during unpickling. Arbitrary objects will no longer be allowed to be loaded via this mode unless they are explicitly allowlisted by the user via `torch.serialization.add_safe_globals`. We recommend you start setting `weights_only=True` for any use case where you don't have full control of the loaded file. Please open an issue on GitHub for any issues related to this experimental feature.\n",
      "  x = self.ct_model.gap(x)  # 输出 [batch, 256*8*8]\n",
      "21:40:59 - INFO - Fold 10 完成 - Acc: 0.9508, AUC: 0.9914, F1: 0.9508, Train_Loss: 0.4036, Val_Loss: 0.0000 \n",
      "21:40:59 - INFO - Fold 10 完成 - Acc: 0.9508, AUC: 0.9914, F1: 0.9508, Train_Loss: 0.4036, Val_Loss: 0.0000 \n"
     ]
    },
    {
     "name": "stdout",
     "output_type": "stream",
     "text": [
      "📊 ROC曲线已保存: ./results/cancer_normal/cv_results_20251013_212933/roc_curve_fold_10.png\n"
     ]
    },
    {
     "name": "stderr",
     "output_type": "stream",
     "text": [
      "21:41:00 - INFO - \n",
      "交叉验证结果:\n",
      "21:41:00 - INFO - 交叉验证完成！结果已保存到: ./results/cancer_normal/cv_results_20251013_212933\n",
      "21:41:00 - INFO - 交叉验证完成！结果已保存到: ./results/cancer_normal/cv_results_20251013_212933\n"
     ]
    },
    {
     "name": "stdout",
     "output_type": "stream",
     "text": [
      "📊 训练曲线已保存: ./results/cancer_normal/cv_results_20251013_212933/results/training_curves_fold_10.png\n",
      "+--------+-----------------+-----------------+-----------------+--------------+\n",
      "| Fold   | Accuracy        | F1 Score        | AUC Score       | Best Epoch   |\n",
      "+========+=================+=================+=================+==============+\n",
      "| 1      | 0.9344          | 0.9375          | 0.9796          | 15           |\n",
      "+--------+-----------------+-----------------+-----------------+--------------+\n",
      "| 2      | 0.8689          | 0.8667          | 0.9602          | 15           |\n",
      "+--------+-----------------+-----------------+-----------------+--------------+\n",
      "| 3      | 0.9672          | 0.9677          | 0.9892          | 10           |\n",
      "+--------+-----------------+-----------------+-----------------+--------------+\n",
      "| 4      | 0.9016          | 0.8966          | 0.9710          | 20           |\n",
      "+--------+-----------------+-----------------+-----------------+--------------+\n",
      "| 5      | 0.9508          | 0.9492          | 0.9946          | 20           |\n",
      "+--------+-----------------+-----------------+-----------------+--------------+\n",
      "| 6      | 0.9344          | 0.9310          | 0.9892          | 18           |\n",
      "+--------+-----------------+-----------------+-----------------+--------------+\n",
      "| 7      | 0.8852          | 0.8772          | 0.9559          | 20           |\n",
      "+--------+-----------------+-----------------+-----------------+--------------+\n",
      "| 8      | 0.9016          | 0.8966          | 0.9624          | 18           |\n",
      "+--------+-----------------+-----------------+-----------------+--------------+\n",
      "| 9      | 0.9508          | 0.9474          | 0.9656          | 20           |\n",
      "+--------+-----------------+-----------------+-----------------+--------------+\n",
      "| 10     | 0.9508          | 0.9508          | 0.9914          | 20           |\n",
      "+--------+-----------------+-----------------+-----------------+--------------+\n",
      "| 平均值 | 0.9246 ± 0.0313 | 0.9221 ± 0.0332 | 0.9759 ± 0.0139 | -            |\n",
      "+--------+-----------------+-----------------+-----------------+--------------+\n"
     ]
    },
    {
     "name": "stderr",
     "output_type": "stream",
     "text": [
      "21:41:01 - INFO - 开始独立测试集评估...\n",
      "21:41:01 - INFO - 开始独立测试集评估: /home/maweicheng/database/cancer_normal/test.npz\n",
      "21:41:01 - INFO - 开始独立测试集评估: /home/maweicheng/database/cancer_normal/test.npz\n",
      "21:41:02 - INFO - 测试集加载成功，样本数: 68\n",
      "21:41:02 - INFO - 在独立测试集上评估所有fold模型...\n",
      "21:41:02 - INFO -   评估 Fold 1...\n",
      "21:41:02 - INFO - 测试集加载成功，样本数: 68\n",
      "21:41:02 - INFO - 在独立测试集上评估所有fold模型...\n",
      "21:41:02 - INFO -   评估 Fold 1...\n"
     ]
    },
    {
     "name": "stdout",
     "output_type": "stream",
     "text": [
      "📊 交叉验证曲线已保存: ./results/cancer_normal/cv_results_20251013_212933/results/cross_validation_curves.png\n"
     ]
    },
    {
     "name": "stderr",
     "output_type": "stream",
     "text": [
      "/home/maweicheng/multimodel/training_utils.py:498: FutureWarning: You are using `torch.load` with `weights_only=False` (the current default value), which uses the default pickle module implicitly. It is possible to construct malicious pickle data which will execute arbitrary code during unpickling (See https://github.com/pytorch/pytorch/blob/main/SECURITY.md#untrusted-models for more details). In a future release, the default value for `weights_only` will be flipped to `True`. This limits the functions that could be executed during unpickling. Arbitrary objects will no longer be allowed to be loaded via this mode unless they are explicitly allowlisted by the user via `torch.serialization.add_safe_globals`. We recommend you start setting `weights_only=True` for any use case where you don't have full control of the loaded file. Please open an issue on GitHub for any issues related to this experimental feature.\n",
      "  x = self.ct_model.gap(x)  # 输出 [batch, 256*8*8]\n",
      "/home/maweicheng/multimodel/evaluation.py:65: FutureWarning: You are using `torch.load` with `weights_only=False` (the current default value), which uses the default pickle module implicitly. It is possible to construct malicious pickle data which will execute arbitrary code during unpickling (See https://github.com/pytorch/pytorch/blob/main/SECURITY.md#untrusted-models for more details). In a future release, the default value for `weights_only` will be flipped to `True`. This limits the functions that could be executed during unpickling. Arbitrary objects will no longer be allowed to be loaded via this mode unless they are explicitly allowlisted by the user via `torch.serialization.add_safe_globals`. We recommend you start setting `weights_only=True` for any use case where you don't have full control of the loaded file. Please open an issue on GitHub for any issues related to this experimental feature.\n",
      "  model.load_state_dict(torch.load(model_path, map_location=self.args.device))\n",
      "21:41:02 - INFO - 单模型 Fold 1 测试集结果详情:\n",
      "21:41:02 - INFO -   样本数: 68\n",
      "21:41:02 - INFO -   预测分布: {np.int64(0): np.int64(31), np.int64(1): np.int64(37)}\n",
      "21:41:02 - INFO -   标签分布: {np.int64(0): np.int64(34), np.int64(1): np.int64(34)}\n",
      "21:41:02 - INFO -   概率范围: [0.0519, 0.9357]\n",
      "21:41:02 - INFO -   概率均值: 0.5174 ± 0.3190\n",
      "21:41:02 - INFO -   评估 Fold 2...\n",
      "/home/maweicheng/multimodel/evaluation.py:65: FutureWarning: You are using `torch.load` with `weights_only=False` (the current default value), which uses the default pickle module implicitly. It is possible to construct malicious pickle data which will execute arbitrary code during unpickling (See https://github.com/pytorch/pytorch/blob/main/SECURITY.md#untrusted-models for more details). In a future release, the default value for `weights_only` will be flipped to `True`. This limits the functions that could be executed during unpickling. Arbitrary objects will no longer be allowed to be loaded via this mode unless they are explicitly allowlisted by the user via `torch.serialization.add_safe_globals`. We recommend you start setting `weights_only=True` for any use case where you don't have full control of the loaded file. Please open an issue on GitHub for any issues related to this experimental feature.\n",
      "  model.load_state_dict(torch.load(model_path, map_location=self.args.device))\n",
      "21:41:02 - INFO - 单模型 Fold 1 测试集结果详情:\n",
      "21:41:02 - INFO -   样本数: 68\n",
      "21:41:02 - INFO -   预测分布: {np.int64(0): np.int64(31), np.int64(1): np.int64(37)}\n",
      "21:41:02 - INFO -   标签分布: {np.int64(0): np.int64(34), np.int64(1): np.int64(34)}\n",
      "21:41:02 - INFO -   概率范围: [0.0519, 0.9357]\n",
      "21:41:02 - INFO -   概率均值: 0.5174 ± 0.3190\n",
      "21:41:02 - INFO -   评估 Fold 2...\n",
      "/home/maweicheng/multimodel/training_utils.py:498: FutureWarning: You are using `torch.load` with `weights_only=False` (the current default value), which uses the default pickle module implicitly. It is possible to construct malicious pickle data which will execute arbitrary code during unpickling (See https://github.com/pytorch/pytorch/blob/main/SECURITY.md#untrusted-models for more details). In a future release, the default value for `weights_only` will be flipped to `True`. This limits the functions that could be executed during unpickling. Arbitrary objects will no longer be allowed to be loaded via this mode unless they are explicitly allowlisted by the user via `torch.serialization.add_safe_globals`. We recommend you start setting `weights_only=True` for any use case where you don't have full control of the loaded file. Please open an issue on GitHub for any issues related to this experimental feature.\n",
      "  x = self.ct_model.gap(x)  # 输出 [batch, 256*8*8]\n",
      "/home/maweicheng/multimodel/training_utils.py:498: FutureWarning: You are using `torch.load` with `weights_only=False` (the current default value), which uses the default pickle module implicitly. It is possible to construct malicious pickle data which will execute arbitrary code during unpickling (See https://github.com/pytorch/pytorch/blob/main/SECURITY.md#untrusted-models for more details). In a future release, the default value for `weights_only` will be flipped to `True`. This limits the functions that could be executed during unpickling. Arbitrary objects will no longer be allowed to be loaded via this mode unless they are explicitly allowlisted by the user via `torch.serialization.add_safe_globals`. We recommend you start setting `weights_only=True` for any use case where you don't have full control of the loaded file. Please open an issue on GitHub for any issues related to this experimental feature.\n",
      "  x = self.ct_model.gap(x)  # 输出 [batch, 256*8*8]\n",
      "/home/maweicheng/multimodel/evaluation.py:65: FutureWarning: You are using `torch.load` with `weights_only=False` (the current default value), which uses the default pickle module implicitly. It is possible to construct malicious pickle data which will execute arbitrary code during unpickling (See https://github.com/pytorch/pytorch/blob/main/SECURITY.md#untrusted-models for more details). In a future release, the default value for `weights_only` will be flipped to `True`. This limits the functions that could be executed during unpickling. Arbitrary objects will no longer be allowed to be loaded via this mode unless they are explicitly allowlisted by the user via `torch.serialization.add_safe_globals`. We recommend you start setting `weights_only=True` for any use case where you don't have full control of the loaded file. Please open an issue on GitHub for any issues related to this experimental feature.\n",
      "  model.load_state_dict(torch.load(model_path, map_location=self.args.device))\n",
      "21:41:02 - INFO - 单模型 Fold 2 测试集结果详情:\n",
      "21:41:02 - INFO -   样本数: 68\n",
      "21:41:02 - INFO -   预测分布: {np.int64(0): np.int64(34), np.int64(1): np.int64(34)}\n",
      "21:41:02 - INFO -   标签分布: {np.int64(0): np.int64(34), np.int64(1): np.int64(34)}\n",
      "21:41:02 - INFO -   概率范围: [0.0484, 0.9398]\n",
      "21:41:02 - INFO -   概率均值: 0.4989 ± 0.3189\n",
      "21:41:02 - INFO -   评估 Fold 3...\n",
      "/home/maweicheng/multimodel/evaluation.py:65: FutureWarning: You are using `torch.load` with `weights_only=False` (the current default value), which uses the default pickle module implicitly. It is possible to construct malicious pickle data which will execute arbitrary code during unpickling (See https://github.com/pytorch/pytorch/blob/main/SECURITY.md#untrusted-models for more details). In a future release, the default value for `weights_only` will be flipped to `True`. This limits the functions that could be executed during unpickling. Arbitrary objects will no longer be allowed to be loaded via this mode unless they are explicitly allowlisted by the user via `torch.serialization.add_safe_globals`. We recommend you start setting `weights_only=True` for any use case where you don't have full control of the loaded file. Please open an issue on GitHub for any issues related to this experimental feature.\n",
      "  model.load_state_dict(torch.load(model_path, map_location=self.args.device))\n",
      "21:41:02 - INFO - 单模型 Fold 2 测试集结果详情:\n",
      "21:41:02 - INFO -   样本数: 68\n",
      "21:41:02 - INFO -   预测分布: {np.int64(0): np.int64(34), np.int64(1): np.int64(34)}\n",
      "21:41:02 - INFO -   标签分布: {np.int64(0): np.int64(34), np.int64(1): np.int64(34)}\n",
      "21:41:02 - INFO -   概率范围: [0.0484, 0.9398]\n",
      "21:41:02 - INFO -   概率均值: 0.4989 ± 0.3189\n",
      "21:41:02 - INFO -   评估 Fold 3...\n",
      "/home/maweicheng/multimodel/training_utils.py:498: FutureWarning: You are using `torch.load` with `weights_only=False` (the current default value), which uses the default pickle module implicitly. It is possible to construct malicious pickle data which will execute arbitrary code during unpickling (See https://github.com/pytorch/pytorch/blob/main/SECURITY.md#untrusted-models for more details). In a future release, the default value for `weights_only` will be flipped to `True`. This limits the functions that could be executed during unpickling. Arbitrary objects will no longer be allowed to be loaded via this mode unless they are explicitly allowlisted by the user via `torch.serialization.add_safe_globals`. We recommend you start setting `weights_only=True` for any use case where you don't have full control of the loaded file. Please open an issue on GitHub for any issues related to this experimental feature.\n",
      "  x = self.ct_model.gap(x)  # 输出 [batch, 256*8*8]\n",
      "/home/maweicheng/multimodel/training_utils.py:498: FutureWarning: You are using `torch.load` with `weights_only=False` (the current default value), which uses the default pickle module implicitly. It is possible to construct malicious pickle data which will execute arbitrary code during unpickling (See https://github.com/pytorch/pytorch/blob/main/SECURITY.md#untrusted-models for more details). In a future release, the default value for `weights_only` will be flipped to `True`. This limits the functions that could be executed during unpickling. Arbitrary objects will no longer be allowed to be loaded via this mode unless they are explicitly allowlisted by the user via `torch.serialization.add_safe_globals`. We recommend you start setting `weights_only=True` for any use case where you don't have full control of the loaded file. Please open an issue on GitHub for any issues related to this experimental feature.\n",
      "  x = self.ct_model.gap(x)  # 输出 [batch, 256*8*8]\n",
      "/home/maweicheng/multimodel/evaluation.py:65: FutureWarning: You are using `torch.load` with `weights_only=False` (the current default value), which uses the default pickle module implicitly. It is possible to construct malicious pickle data which will execute arbitrary code during unpickling (See https://github.com/pytorch/pytorch/blob/main/SECURITY.md#untrusted-models for more details). In a future release, the default value for `weights_only` will be flipped to `True`. This limits the functions that could be executed during unpickling. Arbitrary objects will no longer be allowed to be loaded via this mode unless they are explicitly allowlisted by the user via `torch.serialization.add_safe_globals`. We recommend you start setting `weights_only=True` for any use case where you don't have full control of the loaded file. Please open an issue on GitHub for any issues related to this experimental feature.\n",
      "  model.load_state_dict(torch.load(model_path, map_location=self.args.device))\n",
      "21:41:03 - INFO - 单模型 Fold 3 测试集结果详情:\n",
      "21:41:03 - INFO -   样本数: 68\n",
      "21:41:03 - INFO -   预测分布: {np.int64(0): np.int64(34), np.int64(1): np.int64(34)}\n",
      "21:41:03 - INFO -   标签分布: {np.int64(0): np.int64(34), np.int64(1): np.int64(34)}\n",
      "21:41:03 - INFO -   概率范围: [0.0670, 0.9212]\n",
      "21:41:03 - INFO -   概率均值: 0.4742 ± 0.2968\n",
      "21:41:03 - INFO -   评估 Fold 4...\n",
      "/home/maweicheng/multimodel/evaluation.py:65: FutureWarning: You are using `torch.load` with `weights_only=False` (the current default value), which uses the default pickle module implicitly. It is possible to construct malicious pickle data which will execute arbitrary code during unpickling (See https://github.com/pytorch/pytorch/blob/main/SECURITY.md#untrusted-models for more details). In a future release, the default value for `weights_only` will be flipped to `True`. This limits the functions that could be executed during unpickling. Arbitrary objects will no longer be allowed to be loaded via this mode unless they are explicitly allowlisted by the user via `torch.serialization.add_safe_globals`. We recommend you start setting `weights_only=True` for any use case where you don't have full control of the loaded file. Please open an issue on GitHub for any issues related to this experimental feature.\n",
      "  model.load_state_dict(torch.load(model_path, map_location=self.args.device))\n",
      "21:41:03 - INFO - 单模型 Fold 3 测试集结果详情:\n",
      "21:41:03 - INFO -   样本数: 68\n",
      "21:41:03 - INFO -   预测分布: {np.int64(0): np.int64(34), np.int64(1): np.int64(34)}\n",
      "21:41:03 - INFO -   标签分布: {np.int64(0): np.int64(34), np.int64(1): np.int64(34)}\n",
      "21:41:03 - INFO -   概率范围: [0.0670, 0.9212]\n",
      "21:41:03 - INFO -   概率均值: 0.4742 ± 0.2968\n",
      "21:41:03 - INFO -   评估 Fold 4...\n",
      "/home/maweicheng/multimodel/training_utils.py:498: FutureWarning: You are using `torch.load` with `weights_only=False` (the current default value), which uses the default pickle module implicitly. It is possible to construct malicious pickle data which will execute arbitrary code during unpickling (See https://github.com/pytorch/pytorch/blob/main/SECURITY.md#untrusted-models for more details). In a future release, the default value for `weights_only` will be flipped to `True`. This limits the functions that could be executed during unpickling. Arbitrary objects will no longer be allowed to be loaded via this mode unless they are explicitly allowlisted by the user via `torch.serialization.add_safe_globals`. We recommend you start setting `weights_only=True` for any use case where you don't have full control of the loaded file. Please open an issue on GitHub for any issues related to this experimental feature.\n",
      "  x = self.ct_model.gap(x)  # 输出 [batch, 256*8*8]\n",
      "/home/maweicheng/multimodel/training_utils.py:498: FutureWarning: You are using `torch.load` with `weights_only=False` (the current default value), which uses the default pickle module implicitly. It is possible to construct malicious pickle data which will execute arbitrary code during unpickling (See https://github.com/pytorch/pytorch/blob/main/SECURITY.md#untrusted-models for more details). In a future release, the default value for `weights_only` will be flipped to `True`. This limits the functions that could be executed during unpickling. Arbitrary objects will no longer be allowed to be loaded via this mode unless they are explicitly allowlisted by the user via `torch.serialization.add_safe_globals`. We recommend you start setting `weights_only=True` for any use case where you don't have full control of the loaded file. Please open an issue on GitHub for any issues related to this experimental feature.\n",
      "  x = self.ct_model.gap(x)  # 输出 [batch, 256*8*8]\n",
      "/home/maweicheng/multimodel/evaluation.py:65: FutureWarning: You are using `torch.load` with `weights_only=False` (the current default value), which uses the default pickle module implicitly. It is possible to construct malicious pickle data which will execute arbitrary code during unpickling (See https://github.com/pytorch/pytorch/blob/main/SECURITY.md#untrusted-models for more details). In a future release, the default value for `weights_only` will be flipped to `True`. This limits the functions that could be executed during unpickling. Arbitrary objects will no longer be allowed to be loaded via this mode unless they are explicitly allowlisted by the user via `torch.serialization.add_safe_globals`. We recommend you start setting `weights_only=True` for any use case where you don't have full control of the loaded file. Please open an issue on GitHub for any issues related to this experimental feature.\n",
      "  model.load_state_dict(torch.load(model_path, map_location=self.args.device))\n",
      "21:41:03 - INFO - 单模型 Fold 4 测试集结果详情:\n",
      "21:41:03 - INFO -   样本数: 68\n",
      "21:41:03 - INFO -   预测分布: {np.int64(0): np.int64(34), np.int64(1): np.int64(34)}\n",
      "21:41:03 - INFO -   标签分布: {np.int64(0): np.int64(34), np.int64(1): np.int64(34)}\n",
      "21:41:03 - INFO -   概率范围: [0.0433, 0.9315]\n",
      "21:41:03 - INFO -   概率均值: 0.4744 ± 0.3337\n",
      "21:41:03 - INFO -   评估 Fold 5...\n",
      "/home/maweicheng/multimodel/evaluation.py:65: FutureWarning: You are using `torch.load` with `weights_only=False` (the current default value), which uses the default pickle module implicitly. It is possible to construct malicious pickle data which will execute arbitrary code during unpickling (See https://github.com/pytorch/pytorch/blob/main/SECURITY.md#untrusted-models for more details). In a future release, the default value for `weights_only` will be flipped to `True`. This limits the functions that could be executed during unpickling. Arbitrary objects will no longer be allowed to be loaded via this mode unless they are explicitly allowlisted by the user via `torch.serialization.add_safe_globals`. We recommend you start setting `weights_only=True` for any use case where you don't have full control of the loaded file. Please open an issue on GitHub for any issues related to this experimental feature.\n",
      "  model.load_state_dict(torch.load(model_path, map_location=self.args.device))\n",
      "21:41:03 - INFO - 单模型 Fold 4 测试集结果详情:\n",
      "21:41:03 - INFO -   样本数: 68\n",
      "21:41:03 - INFO -   预测分布: {np.int64(0): np.int64(34), np.int64(1): np.int64(34)}\n",
      "21:41:03 - INFO -   标签分布: {np.int64(0): np.int64(34), np.int64(1): np.int64(34)}\n",
      "21:41:03 - INFO -   概率范围: [0.0433, 0.9315]\n",
      "21:41:03 - INFO -   概率均值: 0.4744 ± 0.3337\n",
      "21:41:03 - INFO -   评估 Fold 5...\n",
      "/home/maweicheng/multimodel/training_utils.py:498: FutureWarning: You are using `torch.load` with `weights_only=False` (the current default value), which uses the default pickle module implicitly. It is possible to construct malicious pickle data which will execute arbitrary code during unpickling (See https://github.com/pytorch/pytorch/blob/main/SECURITY.md#untrusted-models for more details). In a future release, the default value for `weights_only` will be flipped to `True`. This limits the functions that could be executed during unpickling. Arbitrary objects will no longer be allowed to be loaded via this mode unless they are explicitly allowlisted by the user via `torch.serialization.add_safe_globals`. We recommend you start setting `weights_only=True` for any use case where you don't have full control of the loaded file. Please open an issue on GitHub for any issues related to this experimental feature.\n",
      "  x = self.ct_model.gap(x)  # 输出 [batch, 256*8*8]\n",
      "/home/maweicheng/multimodel/training_utils.py:498: FutureWarning: You are using `torch.load` with `weights_only=False` (the current default value), which uses the default pickle module implicitly. It is possible to construct malicious pickle data which will execute arbitrary code during unpickling (See https://github.com/pytorch/pytorch/blob/main/SECURITY.md#untrusted-models for more details). In a future release, the default value for `weights_only` will be flipped to `True`. This limits the functions that could be executed during unpickling. Arbitrary objects will no longer be allowed to be loaded via this mode unless they are explicitly allowlisted by the user via `torch.serialization.add_safe_globals`. We recommend you start setting `weights_only=True` for any use case where you don't have full control of the loaded file. Please open an issue on GitHub for any issues related to this experimental feature.\n",
      "  x = self.ct_model.gap(x)  # 输出 [batch, 256*8*8]\n",
      "/home/maweicheng/multimodel/evaluation.py:65: FutureWarning: You are using `torch.load` with `weights_only=False` (the current default value), which uses the default pickle module implicitly. It is possible to construct malicious pickle data which will execute arbitrary code during unpickling (See https://github.com/pytorch/pytorch/blob/main/SECURITY.md#untrusted-models for more details). In a future release, the default value for `weights_only` will be flipped to `True`. This limits the functions that could be executed during unpickling. Arbitrary objects will no longer be allowed to be loaded via this mode unless they are explicitly allowlisted by the user via `torch.serialization.add_safe_globals`. We recommend you start setting `weights_only=True` for any use case where you don't have full control of the loaded file. Please open an issue on GitHub for any issues related to this experimental feature.\n",
      "  model.load_state_dict(torch.load(model_path, map_location=self.args.device))\n",
      "21:41:04 - INFO - 单模型 Fold 5 测试集结果详情:\n",
      "21:41:04 - INFO -   样本数: 68\n",
      "21:41:04 - INFO -   预测分布: {np.int64(0): np.int64(34), np.int64(1): np.int64(34)}\n",
      "21:41:04 - INFO -   标签分布: {np.int64(0): np.int64(34), np.int64(1): np.int64(34)}\n",
      "21:41:04 - INFO -   概率范围: [0.0367, 0.9407]\n",
      "21:41:04 - INFO -   概率均值: 0.4858 ± 0.3586\n",
      "21:41:04 - INFO -   评估 Fold 6...\n",
      "/home/maweicheng/multimodel/evaluation.py:65: FutureWarning: You are using `torch.load` with `weights_only=False` (the current default value), which uses the default pickle module implicitly. It is possible to construct malicious pickle data which will execute arbitrary code during unpickling (See https://github.com/pytorch/pytorch/blob/main/SECURITY.md#untrusted-models for more details). In a future release, the default value for `weights_only` will be flipped to `True`. This limits the functions that could be executed during unpickling. Arbitrary objects will no longer be allowed to be loaded via this mode unless they are explicitly allowlisted by the user via `torch.serialization.add_safe_globals`. We recommend you start setting `weights_only=True` for any use case where you don't have full control of the loaded file. Please open an issue on GitHub for any issues related to this experimental feature.\n",
      "  model.load_state_dict(torch.load(model_path, map_location=self.args.device))\n",
      "21:41:04 - INFO - 单模型 Fold 5 测试集结果详情:\n",
      "21:41:04 - INFO -   样本数: 68\n",
      "21:41:04 - INFO -   预测分布: {np.int64(0): np.int64(34), np.int64(1): np.int64(34)}\n",
      "21:41:04 - INFO -   标签分布: {np.int64(0): np.int64(34), np.int64(1): np.int64(34)}\n",
      "21:41:04 - INFO -   概率范围: [0.0367, 0.9407]\n",
      "21:41:04 - INFO -   概率均值: 0.4858 ± 0.3586\n",
      "21:41:04 - INFO -   评估 Fold 6...\n",
      "/home/maweicheng/multimodel/training_utils.py:498: FutureWarning: You are using `torch.load` with `weights_only=False` (the current default value), which uses the default pickle module implicitly. It is possible to construct malicious pickle data which will execute arbitrary code during unpickling (See https://github.com/pytorch/pytorch/blob/main/SECURITY.md#untrusted-models for more details). In a future release, the default value for `weights_only` will be flipped to `True`. This limits the functions that could be executed during unpickling. Arbitrary objects will no longer be allowed to be loaded via this mode unless they are explicitly allowlisted by the user via `torch.serialization.add_safe_globals`. We recommend you start setting `weights_only=True` for any use case where you don't have full control of the loaded file. Please open an issue on GitHub for any issues related to this experimental feature.\n",
      "  x = self.ct_model.gap(x)  # 输出 [batch, 256*8*8]\n",
      "/home/maweicheng/multimodel/training_utils.py:498: FutureWarning: You are using `torch.load` with `weights_only=False` (the current default value), which uses the default pickle module implicitly. It is possible to construct malicious pickle data which will execute arbitrary code during unpickling (See https://github.com/pytorch/pytorch/blob/main/SECURITY.md#untrusted-models for more details). In a future release, the default value for `weights_only` will be flipped to `True`. This limits the functions that could be executed during unpickling. Arbitrary objects will no longer be allowed to be loaded via this mode unless they are explicitly allowlisted by the user via `torch.serialization.add_safe_globals`. We recommend you start setting `weights_only=True` for any use case where you don't have full control of the loaded file. Please open an issue on GitHub for any issues related to this experimental feature.\n",
      "  x = self.ct_model.gap(x)  # 输出 [batch, 256*8*8]\n",
      "/home/maweicheng/multimodel/evaluation.py:65: FutureWarning: You are using `torch.load` with `weights_only=False` (the current default value), which uses the default pickle module implicitly. It is possible to construct malicious pickle data which will execute arbitrary code during unpickling (See https://github.com/pytorch/pytorch/blob/main/SECURITY.md#untrusted-models for more details). In a future release, the default value for `weights_only` will be flipped to `True`. This limits the functions that could be executed during unpickling. Arbitrary objects will no longer be allowed to be loaded via this mode unless they are explicitly allowlisted by the user via `torch.serialization.add_safe_globals`. We recommend you start setting `weights_only=True` for any use case where you don't have full control of the loaded file. Please open an issue on GitHub for any issues related to this experimental feature.\n",
      "  model.load_state_dict(torch.load(model_path, map_location=self.args.device))\n",
      "21:41:04 - INFO - 单模型 Fold 6 测试集结果详情:\n",
      "21:41:04 - INFO -   样本数: 68\n",
      "21:41:04 - INFO -   预测分布: {np.int64(0): np.int64(39), np.int64(1): np.int64(29)}\n",
      "21:41:04 - INFO -   标签分布: {np.int64(0): np.int64(34), np.int64(1): np.int64(34)}\n",
      "21:41:04 - INFO -   概率范围: [0.0522, 0.9402]\n",
      "21:41:04 - INFO -   概率均值: 0.4549 ± 0.3346\n",
      "21:41:04 - INFO -   评估 Fold 7...\n",
      "/home/maweicheng/multimodel/evaluation.py:65: FutureWarning: You are using `torch.load` with `weights_only=False` (the current default value), which uses the default pickle module implicitly. It is possible to construct malicious pickle data which will execute arbitrary code during unpickling (See https://github.com/pytorch/pytorch/blob/main/SECURITY.md#untrusted-models for more details). In a future release, the default value for `weights_only` will be flipped to `True`. This limits the functions that could be executed during unpickling. Arbitrary objects will no longer be allowed to be loaded via this mode unless they are explicitly allowlisted by the user via `torch.serialization.add_safe_globals`. We recommend you start setting `weights_only=True` for any use case where you don't have full control of the loaded file. Please open an issue on GitHub for any issues related to this experimental feature.\n",
      "  model.load_state_dict(torch.load(model_path, map_location=self.args.device))\n",
      "21:41:04 - INFO - 单模型 Fold 6 测试集结果详情:\n",
      "21:41:04 - INFO -   样本数: 68\n",
      "21:41:04 - INFO -   预测分布: {np.int64(0): np.int64(39), np.int64(1): np.int64(29)}\n",
      "21:41:04 - INFO -   标签分布: {np.int64(0): np.int64(34), np.int64(1): np.int64(34)}\n",
      "21:41:04 - INFO -   概率范围: [0.0522, 0.9402]\n",
      "21:41:04 - INFO -   概率均值: 0.4549 ± 0.3346\n",
      "21:41:04 - INFO -   评估 Fold 7...\n",
      "/home/maweicheng/multimodel/training_utils.py:498: FutureWarning: You are using `torch.load` with `weights_only=False` (the current default value), which uses the default pickle module implicitly. It is possible to construct malicious pickle data which will execute arbitrary code during unpickling (See https://github.com/pytorch/pytorch/blob/main/SECURITY.md#untrusted-models for more details). In a future release, the default value for `weights_only` will be flipped to `True`. This limits the functions that could be executed during unpickling. Arbitrary objects will no longer be allowed to be loaded via this mode unless they are explicitly allowlisted by the user via `torch.serialization.add_safe_globals`. We recommend you start setting `weights_only=True` for any use case where you don't have full control of the loaded file. Please open an issue on GitHub for any issues related to this experimental feature.\n",
      "  x = self.ct_model.gap(x)  # 输出 [batch, 256*8*8]\n",
      "/home/maweicheng/multimodel/training_utils.py:498: FutureWarning: You are using `torch.load` with `weights_only=False` (the current default value), which uses the default pickle module implicitly. It is possible to construct malicious pickle data which will execute arbitrary code during unpickling (See https://github.com/pytorch/pytorch/blob/main/SECURITY.md#untrusted-models for more details). In a future release, the default value for `weights_only` will be flipped to `True`. This limits the functions that could be executed during unpickling. Arbitrary objects will no longer be allowed to be loaded via this mode unless they are explicitly allowlisted by the user via `torch.serialization.add_safe_globals`. We recommend you start setting `weights_only=True` for any use case where you don't have full control of the loaded file. Please open an issue on GitHub for any issues related to this experimental feature.\n",
      "  x = self.ct_model.gap(x)  # 输出 [batch, 256*8*8]\n",
      "/home/maweicheng/multimodel/evaluation.py:65: FutureWarning: You are using `torch.load` with `weights_only=False` (the current default value), which uses the default pickle module implicitly. It is possible to construct malicious pickle data which will execute arbitrary code during unpickling (See https://github.com/pytorch/pytorch/blob/main/SECURITY.md#untrusted-models for more details). In a future release, the default value for `weights_only` will be flipped to `True`. This limits the functions that could be executed during unpickling. Arbitrary objects will no longer be allowed to be loaded via this mode unless they are explicitly allowlisted by the user via `torch.serialization.add_safe_globals`. We recommend you start setting `weights_only=True` for any use case where you don't have full control of the loaded file. Please open an issue on GitHub for any issues related to this experimental feature.\n",
      "  model.load_state_dict(torch.load(model_path, map_location=self.args.device))\n",
      "21:41:05 - INFO - 单模型 Fold 7 测试集结果详情:\n",
      "21:41:05 - INFO -   样本数: 68\n",
      "21:41:05 - INFO -   预测分布: {np.int64(0): np.int64(34), np.int64(1): np.int64(34)}\n",
      "21:41:05 - INFO -   标签分布: {np.int64(0): np.int64(34), np.int64(1): np.int64(34)}\n",
      "21:41:05 - INFO -   概率范围: [0.0470, 0.9295]\n",
      "21:41:05 - INFO -   概率均值: 0.4854 ± 0.3503\n",
      "21:41:05 - INFO -   评估 Fold 8...\n",
      "/home/maweicheng/multimodel/evaluation.py:65: FutureWarning: You are using `torch.load` with `weights_only=False` (the current default value), which uses the default pickle module implicitly. It is possible to construct malicious pickle data which will execute arbitrary code during unpickling (See https://github.com/pytorch/pytorch/blob/main/SECURITY.md#untrusted-models for more details). In a future release, the default value for `weights_only` will be flipped to `True`. This limits the functions that could be executed during unpickling. Arbitrary objects will no longer be allowed to be loaded via this mode unless they are explicitly allowlisted by the user via `torch.serialization.add_safe_globals`. We recommend you start setting `weights_only=True` for any use case where you don't have full control of the loaded file. Please open an issue on GitHub for any issues related to this experimental feature.\n",
      "  model.load_state_dict(torch.load(model_path, map_location=self.args.device))\n",
      "21:41:05 - INFO - 单模型 Fold 7 测试集结果详情:\n",
      "21:41:05 - INFO -   样本数: 68\n",
      "21:41:05 - INFO -   预测分布: {np.int64(0): np.int64(34), np.int64(1): np.int64(34)}\n",
      "21:41:05 - INFO -   标签分布: {np.int64(0): np.int64(34), np.int64(1): np.int64(34)}\n",
      "21:41:05 - INFO -   概率范围: [0.0470, 0.9295]\n",
      "21:41:05 - INFO -   概率均值: 0.4854 ± 0.3503\n",
      "21:41:05 - INFO -   评估 Fold 8...\n",
      "/home/maweicheng/multimodel/training_utils.py:498: FutureWarning: You are using `torch.load` with `weights_only=False` (the current default value), which uses the default pickle module implicitly. It is possible to construct malicious pickle data which will execute arbitrary code during unpickling (See https://github.com/pytorch/pytorch/blob/main/SECURITY.md#untrusted-models for more details). In a future release, the default value for `weights_only` will be flipped to `True`. This limits the functions that could be executed during unpickling. Arbitrary objects will no longer be allowed to be loaded via this mode unless they are explicitly allowlisted by the user via `torch.serialization.add_safe_globals`. We recommend you start setting `weights_only=True` for any use case where you don't have full control of the loaded file. Please open an issue on GitHub for any issues related to this experimental feature.\n",
      "  x = self.ct_model.gap(x)  # 输出 [batch, 256*8*8]\n",
      "/home/maweicheng/multimodel/training_utils.py:498: FutureWarning: You are using `torch.load` with `weights_only=False` (the current default value), which uses the default pickle module implicitly. It is possible to construct malicious pickle data which will execute arbitrary code during unpickling (See https://github.com/pytorch/pytorch/blob/main/SECURITY.md#untrusted-models for more details). In a future release, the default value for `weights_only` will be flipped to `True`. This limits the functions that could be executed during unpickling. Arbitrary objects will no longer be allowed to be loaded via this mode unless they are explicitly allowlisted by the user via `torch.serialization.add_safe_globals`. We recommend you start setting `weights_only=True` for any use case where you don't have full control of the loaded file. Please open an issue on GitHub for any issues related to this experimental feature.\n",
      "  x = self.ct_model.gap(x)  # 输出 [batch, 256*8*8]\n",
      "/home/maweicheng/multimodel/evaluation.py:65: FutureWarning: You are using `torch.load` with `weights_only=False` (the current default value), which uses the default pickle module implicitly. It is possible to construct malicious pickle data which will execute arbitrary code during unpickling (See https://github.com/pytorch/pytorch/blob/main/SECURITY.md#untrusted-models for more details). In a future release, the default value for `weights_only` will be flipped to `True`. This limits the functions that could be executed during unpickling. Arbitrary objects will no longer be allowed to be loaded via this mode unless they are explicitly allowlisted by the user via `torch.serialization.add_safe_globals`. We recommend you start setting `weights_only=True` for any use case where you don't have full control of the loaded file. Please open an issue on GitHub for any issues related to this experimental feature.\n",
      "  model.load_state_dict(torch.load(model_path, map_location=self.args.device))\n",
      "21:41:05 - INFO - 单模型 Fold 8 测试集结果详情:\n",
      "21:41:05 - INFO -   样本数: 68\n",
      "21:41:05 - INFO -   预测分布: {np.int64(0): np.int64(37), np.int64(1): np.int64(31)}\n",
      "21:41:05 - INFO -   标签分布: {np.int64(0): np.int64(34), np.int64(1): np.int64(34)}\n",
      "21:41:05 - INFO -   概率范围: [0.0380, 0.9411]\n",
      "21:41:05 - INFO -   概率均值: 0.4521 ± 0.3498\n",
      "21:41:05 - INFO -   评估 Fold 9...\n",
      "/home/maweicheng/multimodel/evaluation.py:65: FutureWarning: You are using `torch.load` with `weights_only=False` (the current default value), which uses the default pickle module implicitly. It is possible to construct malicious pickle data which will execute arbitrary code during unpickling (See https://github.com/pytorch/pytorch/blob/main/SECURITY.md#untrusted-models for more details). In a future release, the default value for `weights_only` will be flipped to `True`. This limits the functions that could be executed during unpickling. Arbitrary objects will no longer be allowed to be loaded via this mode unless they are explicitly allowlisted by the user via `torch.serialization.add_safe_globals`. We recommend you start setting `weights_only=True` for any use case where you don't have full control of the loaded file. Please open an issue on GitHub for any issues related to this experimental feature.\n",
      "  model.load_state_dict(torch.load(model_path, map_location=self.args.device))\n",
      "21:41:05 - INFO - 单模型 Fold 8 测试集结果详情:\n",
      "21:41:05 - INFO -   样本数: 68\n",
      "21:41:05 - INFO -   预测分布: {np.int64(0): np.int64(37), np.int64(1): np.int64(31)}\n",
      "21:41:05 - INFO -   标签分布: {np.int64(0): np.int64(34), np.int64(1): np.int64(34)}\n",
      "21:41:05 - INFO -   概率范围: [0.0380, 0.9411]\n",
      "21:41:05 - INFO -   概率均值: 0.4521 ± 0.3498\n",
      "21:41:05 - INFO -   评估 Fold 9...\n",
      "/home/maweicheng/multimodel/training_utils.py:498: FutureWarning: You are using `torch.load` with `weights_only=False` (the current default value), which uses the default pickle module implicitly. It is possible to construct malicious pickle data which will execute arbitrary code during unpickling (See https://github.com/pytorch/pytorch/blob/main/SECURITY.md#untrusted-models for more details). In a future release, the default value for `weights_only` will be flipped to `True`. This limits the functions that could be executed during unpickling. Arbitrary objects will no longer be allowed to be loaded via this mode unless they are explicitly allowlisted by the user via `torch.serialization.add_safe_globals`. We recommend you start setting `weights_only=True` for any use case where you don't have full control of the loaded file. Please open an issue on GitHub for any issues related to this experimental feature.\n",
      "  x = self.ct_model.gap(x)  # 输出 [batch, 256*8*8]\n",
      "/home/maweicheng/multimodel/training_utils.py:498: FutureWarning: You are using `torch.load` with `weights_only=False` (the current default value), which uses the default pickle module implicitly. It is possible to construct malicious pickle data which will execute arbitrary code during unpickling (See https://github.com/pytorch/pytorch/blob/main/SECURITY.md#untrusted-models for more details). In a future release, the default value for `weights_only` will be flipped to `True`. This limits the functions that could be executed during unpickling. Arbitrary objects will no longer be allowed to be loaded via this mode unless they are explicitly allowlisted by the user via `torch.serialization.add_safe_globals`. We recommend you start setting `weights_only=True` for any use case where you don't have full control of the loaded file. Please open an issue on GitHub for any issues related to this experimental feature.\n",
      "  x = self.ct_model.gap(x)  # 输出 [batch, 256*8*8]\n",
      "/home/maweicheng/multimodel/evaluation.py:65: FutureWarning: You are using `torch.load` with `weights_only=False` (the current default value), which uses the default pickle module implicitly. It is possible to construct malicious pickle data which will execute arbitrary code during unpickling (See https://github.com/pytorch/pytorch/blob/main/SECURITY.md#untrusted-models for more details). In a future release, the default value for `weights_only` will be flipped to `True`. This limits the functions that could be executed during unpickling. Arbitrary objects will no longer be allowed to be loaded via this mode unless they are explicitly allowlisted by the user via `torch.serialization.add_safe_globals`. We recommend you start setting `weights_only=True` for any use case where you don't have full control of the loaded file. Please open an issue on GitHub for any issues related to this experimental feature.\n",
      "  model.load_state_dict(torch.load(model_path, map_location=self.args.device))\n",
      "21:41:06 - INFO - 单模型 Fold 9 测试集结果详情:\n",
      "21:41:06 - INFO -   样本数: 68\n",
      "21:41:06 - INFO -   预测分布: {np.int64(0): np.int64(34), np.int64(1): np.int64(34)}\n",
      "21:41:06 - INFO -   标签分布: {np.int64(0): np.int64(34), np.int64(1): np.int64(34)}\n",
      "21:41:06 - INFO -   概率范围: [0.0470, 0.9075]\n",
      "21:41:06 - INFO -   概率均值: 0.4788 ± 0.3340\n",
      "21:41:06 - INFO -   评估 Fold 10...\n",
      "/home/maweicheng/multimodel/evaluation.py:65: FutureWarning: You are using `torch.load` with `weights_only=False` (the current default value), which uses the default pickle module implicitly. It is possible to construct malicious pickle data which will execute arbitrary code during unpickling (See https://github.com/pytorch/pytorch/blob/main/SECURITY.md#untrusted-models for more details). In a future release, the default value for `weights_only` will be flipped to `True`. This limits the functions that could be executed during unpickling. Arbitrary objects will no longer be allowed to be loaded via this mode unless they are explicitly allowlisted by the user via `torch.serialization.add_safe_globals`. We recommend you start setting `weights_only=True` for any use case where you don't have full control of the loaded file. Please open an issue on GitHub for any issues related to this experimental feature.\n",
      "  model.load_state_dict(torch.load(model_path, map_location=self.args.device))\n",
      "21:41:06 - INFO - 单模型 Fold 9 测试集结果详情:\n",
      "21:41:06 - INFO -   样本数: 68\n",
      "21:41:06 - INFO -   预测分布: {np.int64(0): np.int64(34), np.int64(1): np.int64(34)}\n",
      "21:41:06 - INFO -   标签分布: {np.int64(0): np.int64(34), np.int64(1): np.int64(34)}\n",
      "21:41:06 - INFO -   概率范围: [0.0470, 0.9075]\n",
      "21:41:06 - INFO -   概率均值: 0.4788 ± 0.3340\n",
      "21:41:06 - INFO -   评估 Fold 10...\n",
      "/home/maweicheng/multimodel/training_utils.py:498: FutureWarning: You are using `torch.load` with `weights_only=False` (the current default value), which uses the default pickle module implicitly. It is possible to construct malicious pickle data which will execute arbitrary code during unpickling (See https://github.com/pytorch/pytorch/blob/main/SECURITY.md#untrusted-models for more details). In a future release, the default value for `weights_only` will be flipped to `True`. This limits the functions that could be executed during unpickling. Arbitrary objects will no longer be allowed to be loaded via this mode unless they are explicitly allowlisted by the user via `torch.serialization.add_safe_globals`. We recommend you start setting `weights_only=True` for any use case where you don't have full control of the loaded file. Please open an issue on GitHub for any issues related to this experimental feature.\n",
      "  x = self.ct_model.gap(x)  # 输出 [batch, 256*8*8]\n",
      "/home/maweicheng/multimodel/training_utils.py:498: FutureWarning: You are using `torch.load` with `weights_only=False` (the current default value), which uses the default pickle module implicitly. It is possible to construct malicious pickle data which will execute arbitrary code during unpickling (See https://github.com/pytorch/pytorch/blob/main/SECURITY.md#untrusted-models for more details). In a future release, the default value for `weights_only` will be flipped to `True`. This limits the functions that could be executed during unpickling. Arbitrary objects will no longer be allowed to be loaded via this mode unless they are explicitly allowlisted by the user via `torch.serialization.add_safe_globals`. We recommend you start setting `weights_only=True` for any use case where you don't have full control of the loaded file. Please open an issue on GitHub for any issues related to this experimental feature.\n",
      "  x = self.ct_model.gap(x)  # 输出 [batch, 256*8*8]\n",
      "/home/maweicheng/multimodel/evaluation.py:65: FutureWarning: You are using `torch.load` with `weights_only=False` (the current default value), which uses the default pickle module implicitly. It is possible to construct malicious pickle data which will execute arbitrary code during unpickling (See https://github.com/pytorch/pytorch/blob/main/SECURITY.md#untrusted-models for more details). In a future release, the default value for `weights_only` will be flipped to `True`. This limits the functions that could be executed during unpickling. Arbitrary objects will no longer be allowed to be loaded via this mode unless they are explicitly allowlisted by the user via `torch.serialization.add_safe_globals`. We recommend you start setting `weights_only=True` for any use case where you don't have full control of the loaded file. Please open an issue on GitHub for any issues related to this experimental feature.\n",
      "  model.load_state_dict(torch.load(model_path, map_location=self.args.device))\n",
      "21:41:06 - INFO - 单模型 Fold 10 测试集结果详情:\n",
      "21:41:06 - INFO -   样本数: 68\n",
      "21:41:06 - INFO -   预测分布: {np.int64(0): np.int64(33), np.int64(1): np.int64(35)}\n",
      "21:41:06 - INFO -   标签分布: {np.int64(0): np.int64(34), np.int64(1): np.int64(34)}\n",
      "21:41:06 - INFO -   概率范围: [0.0381, 0.9439]\n",
      "21:41:06 - INFO -   概率均值: 0.4768 ± 0.3473\n",
      "21:41:06 - INFO - ================================================================================\n",
      "21:41:06 - INFO - 独立测试集性能评估 - 跨fold平均结果:\n",
      "21:41:06 - INFO - 准确率: 0.9265 ± 0.0287\n",
      "21:41:06 - INFO - F1分数:  0.9253 ± 0.0315\n",
      "21:41:06 - INFO - AUC:    0.9719 ± 0.0079\n",
      "21:41:06 - INFO - \n",
      "21:41:06 - INFO - 各fold详细结果:\n",
      "21:41:06 - INFO -   Fold 1: Acc=0.9265, F1=0.9296, AUC=0.9749\n",
      "21:41:06 - INFO -   Fold 2: Acc=0.9118, F1=0.9118, AUC=0.9671\n",
      "21:41:06 - INFO -   Fold 3: Acc=0.9412, F1=0.9412, AUC=0.9671\n",
      "21:41:06 - INFO -   Fold 4: Acc=0.9412, F1=0.9412, AUC=0.9810\n",
      "21:41:06 - INFO -   Fold 5: Acc=0.9706, F1=0.9706, AUC=0.9766\n",
      "21:41:06 - INFO -   Fold 6: Acc=0.8676, F1=0.8571, AUC=0.9645\n",
      "21:41:06 - INFO -   Fold 7: Acc=0.9412, F1=0.9412, AUC=0.9766\n",
      "21:41:06 - INFO -   Fold 8: Acc=0.8971, F1=0.8923, AUC=0.9602\n",
      "21:41:06 - INFO -   Fold 9: Acc=0.9118, F1=0.9118, AUC=0.9645\n",
      "21:41:06 - INFO -   Fold 10: Acc=0.9559, F1=0.9565, AUC=0.9862\n",
      "21:41:06 - INFO - ================================================================================\n",
      "21:41:06 - INFO - ============================================================\n",
      "21:41:06 - INFO - 测试集评估结果 (跨所有fold统计):\n",
      "21:41:06 - INFO - 准确率: 0.9246 ± 0.0313\n",
      "21:41:06 - INFO - F1 Score: 0.9221 ± 0.0332\n",
      "21:41:06 - INFO - AUC: 0.9759 ± 0.0139\n",
      "21:41:06 - INFO - 使用fold数: 10\n",
      "21:41:06 - INFO - ============================================================\n",
      "21:41:06 - INFO - \n",
      "各fold详细结果:\n",
      "/home/maweicheng/multimodel/evaluation.py:65: FutureWarning: You are using `torch.load` with `weights_only=False` (the current default value), which uses the default pickle module implicitly. It is possible to construct malicious pickle data which will execute arbitrary code during unpickling (See https://github.com/pytorch/pytorch/blob/main/SECURITY.md#untrusted-models for more details). In a future release, the default value for `weights_only` will be flipped to `True`. This limits the functions that could be executed during unpickling. Arbitrary objects will no longer be allowed to be loaded via this mode unless they are explicitly allowlisted by the user via `torch.serialization.add_safe_globals`. We recommend you start setting `weights_only=True` for any use case where you don't have full control of the loaded file. Please open an issue on GitHub for any issues related to this experimental feature.\n",
      "  model.load_state_dict(torch.load(model_path, map_location=self.args.device))\n",
      "21:41:06 - INFO - 单模型 Fold 10 测试集结果详情:\n",
      "21:41:06 - INFO -   样本数: 68\n",
      "21:41:06 - INFO -   预测分布: {np.int64(0): np.int64(33), np.int64(1): np.int64(35)}\n",
      "21:41:06 - INFO -   标签分布: {np.int64(0): np.int64(34), np.int64(1): np.int64(34)}\n",
      "21:41:06 - INFO -   概率范围: [0.0381, 0.9439]\n",
      "21:41:06 - INFO -   概率均值: 0.4768 ± 0.3473\n",
      "21:41:06 - INFO - ================================================================================\n",
      "21:41:06 - INFO - 独立测试集性能评估 - 跨fold平均结果:\n",
      "21:41:06 - INFO - 准确率: 0.9265 ± 0.0287\n",
      "21:41:06 - INFO - F1分数:  0.9253 ± 0.0315\n",
      "21:41:06 - INFO - AUC:    0.9719 ± 0.0079\n",
      "21:41:06 - INFO - \n",
      "21:41:06 - INFO - 各fold详细结果:\n",
      "21:41:06 - INFO -   Fold 1: Acc=0.9265, F1=0.9296, AUC=0.9749\n",
      "21:41:06 - INFO -   Fold 2: Acc=0.9118, F1=0.9118, AUC=0.9671\n",
      "21:41:06 - INFO -   Fold 3: Acc=0.9412, F1=0.9412, AUC=0.9671\n",
      "21:41:06 - INFO -   Fold 4: Acc=0.9412, F1=0.9412, AUC=0.9810\n",
      "21:41:06 - INFO -   Fold 5: Acc=0.9706, F1=0.9706, AUC=0.9766\n",
      "21:41:06 - INFO -   Fold 6: Acc=0.8676, F1=0.8571, AUC=0.9645\n",
      "21:41:06 - INFO -   Fold 7: Acc=0.9412, F1=0.9412, AUC=0.9766\n",
      "21:41:06 - INFO -   Fold 8: Acc=0.8971, F1=0.8923, AUC=0.9602\n",
      "21:41:06 - INFO -   Fold 9: Acc=0.9118, F1=0.9118, AUC=0.9645\n",
      "21:41:06 - INFO -   Fold 10: Acc=0.9559, F1=0.9565, AUC=0.9862\n",
      "21:41:06 - INFO - ================================================================================\n",
      "21:41:06 - INFO - ============================================================\n",
      "21:41:06 - INFO - 测试集评估结果 (跨所有fold统计):\n",
      "21:41:06 - INFO - 准确率: 0.9246 ± 0.0313\n",
      "21:41:06 - INFO - F1 Score: 0.9221 ± 0.0332\n",
      "21:41:06 - INFO - AUC: 0.9759 ± 0.0139\n",
      "21:41:06 - INFO - 使用fold数: 10\n",
      "21:41:06 - INFO - ============================================================\n",
      "21:41:06 - INFO - \n",
      "各fold详细结果:\n",
      "21:41:06 - INFO - Fold 0: 准确率=0.9344, F1=0.9375, AUC=0.9796\n",
      "21:41:06 - INFO - Fold 1: 准确率=0.8689, F1=0.8667, AUC=0.9602\n",
      "21:41:06 - INFO - Fold 2: 准确率=0.9672, F1=0.9677, AUC=0.9892\n",
      "21:41:06 - INFO - Fold 3: 准确率=0.9016, F1=0.8966, AUC=0.9710\n",
      "21:41:06 - INFO - Fold 4: 准确率=0.9508, F1=0.9492, AUC=0.9946\n",
      "21:41:06 - INFO - Fold 0: 准确率=0.9344, F1=0.9375, AUC=0.9796\n",
      "21:41:06 - INFO - Fold 1: 准确率=0.8689, F1=0.8667, AUC=0.9602\n",
      "21:41:06 - INFO - Fold 2: 准确率=0.9672, F1=0.9677, AUC=0.9892\n",
      "21:41:06 - INFO - Fold 3: 准确率=0.9016, F1=0.8966, AUC=0.9710\n",
      "21:41:06 - INFO - Fold 4: 准确率=0.9508, F1=0.9492, AUC=0.9946\n",
      "21:41:06 - INFO - Fold 5: 准确率=0.9344, F1=0.9310, AUC=0.9892\n",
      "21:41:06 - INFO - Fold 6: 准确率=0.8852, F1=0.8772, AUC=0.9559\n",
      "21:41:06 - INFO - Fold 7: 准确率=0.9016, F1=0.8966, AUC=0.9624\n",
      "21:41:06 - INFO - Fold 8: 准确率=0.9508, F1=0.9474, AUC=0.9656\n",
      "21:41:06 - INFO - Fold 9: 准确率=0.9508, F1=0.9508, AUC=0.9914\n",
      "21:41:06 - INFO - \n",
      "最终测试集评估结果 (样本数: 68)\n",
      "21:41:06 - INFO - 平均AUC: 0.9759 ± 0.0139 (跨10个fold)\n",
      "21:41:06 - INFO - 平均F1: 0.9221 ± 0.0332\n",
      "21:41:06 - INFO - 平均准确率: 0.9246 ± 0.0313\n",
      "21:41:06 - INFO - 训练完成!\n",
      "21:41:06 - INFO - Fold 5: 准确率=0.9344, F1=0.9310, AUC=0.9892\n",
      "21:41:06 - INFO - Fold 6: 准确率=0.8852, F1=0.8772, AUC=0.9559\n",
      "21:41:06 - INFO - Fold 7: 准确率=0.9016, F1=0.8966, AUC=0.9624\n",
      "21:41:06 - INFO - Fold 8: 准确率=0.9508, F1=0.9474, AUC=0.9656\n",
      "21:41:06 - INFO - Fold 9: 准确率=0.9508, F1=0.9508, AUC=0.9914\n",
      "21:41:06 - INFO - \n",
      "最终测试集评估结果 (样本数: 68)\n",
      "21:41:06 - INFO - 平均AUC: 0.9759 ± 0.0139 (跨10个fold)\n",
      "21:41:06 - INFO - 平均F1: 0.9221 ± 0.0332\n",
      "21:41:06 - INFO - 平均准确率: 0.9246 ± 0.0313\n",
      "21:41:06 - INFO - 训练完成!\n"
     ]
    }
   ],
   "source": [
    "%run main.py \\\n",
    "    --modalities Frag PFE NDR NDR2K \\\n",
    "    --data_file /home/maweicheng/database/cancer_normal/train.npz \\\n",
    "    --test_file /home/maweicheng/database/cancer_normal/test.npz \\\n",
    "    --ct_model_path /home/maweicheng/multimodel/CT/cv_checkpoints/res_best_0.88.pth \\\n",
    "    --use_feature_selection \\\n",
    "    --feature_selection_method pca \\\n",
    "    --k_features 100 \\\n",
    "    --epochs 20 \\\n",
    "    --batch_size 16 \\\n",
    "    --lr 5e-5 \\\n",
    "    --k_folds 10 \\\n",
    "    --use_test_set \\\n",
    "    --latent_dim 512 \\\n",
    "    --strong_augment \\\n",
    "    --output_dir ./results/cancer_normal/"
   ]
  },
  {
   "cell_type": "markdown",
   "id": "44bcf4c3",
   "metadata": {},
   "source": [
    "#### 仅cfDNA（无CT）"
   ]
  },
  {
   "cell_type": "code",
   "execution_count": 11,
   "id": "9524e267",
   "metadata": {},
   "outputs": [
    {
     "name": "stderr",
     "output_type": "stream",
     "text": [
      "16:57:19 - INFO - 随机种子设置为: 42\n",
      "16:57:19 - INFO - 使用设备: cuda\n",
      "16:57:19 - INFO - 使用模态: ['Frag', 'PFE', 'NDR', 'NDR2K']\n",
      "16:57:19 - INFO - 使用设备: cuda\n",
      "16:57:19 - INFO - 使用模态: ['Frag', 'PFE', 'NDR', 'NDR2K']\n"
     ]
    },
    {
     "name": "stderr",
     "output_type": "stream",
     "text": [
      "16:57:20 - INFO - 加载训练数据: /home/maweicheng/database/cancer_normal/train.npz, 样本数: 610\n",
      "16:57:20 - INFO - 标签分布: (array([0, 1]), array([306, 304]))\n",
      "16:57:20 - INFO - 运行交叉验证\n",
      "16:57:20 - INFO - 开始10折交叉验证\n",
      "16:57:20 - INFO - 结果保存到: ./results/cancer_normal/cfDNA/cv_results_20251014_165720\n",
      "16:57:20 - INFO - Frag特征维度: 888\n",
      "16:57:20 - INFO - PFE特征维度: 19415\n",
      "16:57:20 - INFO - NDR特征维度: 19434\n",
      "16:57:20 - INFO - NDR2K特征维度: 19434\n",
      "16:57:20 - INFO - \n",
      "=============== Fold 1/10 ===============\n",
      "16:57:20 - INFO - 标签分布: (array([0, 1]), array([306, 304]))\n",
      "16:57:20 - INFO - 运行交叉验证\n",
      "16:57:20 - INFO - 开始10折交叉验证\n",
      "16:57:20 - INFO - 结果保存到: ./results/cancer_normal/cfDNA/cv_results_20251014_165720\n",
      "16:57:20 - INFO - Frag特征维度: 888\n",
      "16:57:20 - INFO - PFE特征维度: 19415\n",
      "16:57:20 - INFO - NDR特征维度: 19434\n",
      "16:57:20 - INFO - NDR2K特征维度: 19434\n",
      "16:57:20 - INFO - \n",
      "=============== Fold 1/10 ===============\n"
     ]
    },
    {
     "name": "stdout",
     "output_type": "stream",
     "text": [
      "Class distribution: {0: 276, 1: 273}\n",
      "Auto-calculated class weights: ['0.995', '1.005']\n",
      "Using weighted CrossEntropyLoss with weights: ['0.995', '1.005']\n"
     ]
    },
    {
     "name": "stderr",
     "output_type": "stream",
     "text": [
      "16:57:36 - INFO - Fold 1 完成 - Acc: 0.7377, AUC: 0.8376, F1: 0.7576, Train_Loss: 0.5858, Val_Loss: 0.5195                       \n",
      "16:57:36 - INFO - Fold 1 完成 - Acc: 0.7377, AUC: 0.8376, F1: 0.7576, Train_Loss: 0.5858, Val_Loss: 0.5195                       \n"
     ]
    },
    {
     "name": "stdout",
     "output_type": "stream",
     "text": [
      "📊 ROC曲线已保存: ./results/cancer_normal/cfDNA/cv_results_20251014_165720/roc_curve_fold_1.png\n"
     ]
    },
    {
     "name": "stderr",
     "output_type": "stream",
     "text": [
      "16:57:37 - INFO - \n",
      "=============== Fold 2/10 ===============\n"
     ]
    },
    {
     "name": "stdout",
     "output_type": "stream",
     "text": [
      "📊 训练曲线已保存: ./results/cancer_normal/cfDNA/cv_results_20251014_165720/results/training_curves_fold_1.png\n",
      "Class distribution: {1: 273, 0: 276}\n",
      "Auto-calculated class weights: ['0.995', '1.005']\n",
      "Using weighted CrossEntropyLoss with weights: ['0.995', '1.005']\n",
      "Class distribution: {1: 273, 0: 276}\n",
      "Auto-calculated class weights: ['0.995', '1.005']\n",
      "Using weighted CrossEntropyLoss with weights: ['0.995', '1.005']\n"
     ]
    },
    {
     "name": "stderr",
     "output_type": "stream",
     "text": [
      "16:57:54 - INFO - Fold 2 完成 - Acc: 0.7049, AUC: 0.8366, F1: 0.6087, Train_Loss: 0.5882, Val_Loss: 0.5779                       \n",
      "16:57:54 - INFO - Fold 2 完成 - Acc: 0.7049, AUC: 0.8366, F1: 0.6087, Train_Loss: 0.5882, Val_Loss: 0.5779                       \n"
     ]
    },
    {
     "name": "stdout",
     "output_type": "stream",
     "text": [
      "📊 ROC曲线已保存: ./results/cancer_normal/cfDNA/cv_results_20251014_165720/roc_curve_fold_2.png\n"
     ]
    },
    {
     "name": "stderr",
     "output_type": "stream",
     "text": [
      "16:57:55 - INFO - \n",
      "=============== Fold 3/10 ===============\n"
     ]
    },
    {
     "name": "stdout",
     "output_type": "stream",
     "text": [
      "📊 训练曲线已保存: ./results/cancer_normal/cfDNA/cv_results_20251014_165720/results/training_curves_fold_2.png\n",
      "Class distribution: {0: 276, 1: 273}\n",
      "Auto-calculated class weights: ['0.995', '1.005']\n",
      "Using weighted CrossEntropyLoss with weights: ['0.995', '1.005']\n",
      "Class distribution: {0: 276, 1: 273}\n",
      "Auto-calculated class weights: ['0.995', '1.005']\n",
      "Using weighted CrossEntropyLoss with weights: ['0.995', '1.005']\n"
     ]
    },
    {
     "name": "stderr",
     "output_type": "stream",
     "text": [
      "16:58:11 - INFO - Fold 3 完成 - Acc: 0.7541, AUC: 0.7978, F1: 0.7541, Train_Loss: 0.5926, Val_Loss: 0.6270                       \n",
      "16:58:11 - INFO - Fold 3 完成 - Acc: 0.7541, AUC: 0.7978, F1: 0.7541, Train_Loss: 0.5926, Val_Loss: 0.6270                       \n"
     ]
    },
    {
     "name": "stdout",
     "output_type": "stream",
     "text": [
      "📊 ROC曲线已保存: ./results/cancer_normal/cfDNA/cv_results_20251014_165720/roc_curve_fold_3.png\n"
     ]
    },
    {
     "name": "stderr",
     "output_type": "stream",
     "text": [
      "16:58:12 - INFO - \n",
      "=============== Fold 4/10 ===============\n"
     ]
    },
    {
     "name": "stdout",
     "output_type": "stream",
     "text": [
      "📊 训练曲线已保存: ./results/cancer_normal/cfDNA/cv_results_20251014_165720/results/training_curves_fold_3.png\n",
      "Class distribution: {0: 276, 1: 273}\n",
      "Auto-calculated class weights: ['0.995', '1.005']\n",
      "Using weighted CrossEntropyLoss with weights: ['0.995', '1.005']\n",
      "Class distribution: {0: 276, 1: 273}\n",
      "Auto-calculated class weights: ['0.995', '1.005']\n",
      "Using weighted CrossEntropyLoss with weights: ['0.995', '1.005']\n"
     ]
    },
    {
     "name": "stderr",
     "output_type": "stream",
     "text": [
      "16:58:29 - INFO - Fold 4 完成 - Acc: 0.7869, AUC: 0.8258, F1: 0.7937, Train_Loss: 0.6447, Val_Loss: 0.6503                       \n",
      "16:58:29 - INFO - Fold 4 完成 - Acc: 0.7869, AUC: 0.8258, F1: 0.7937, Train_Loss: 0.6447, Val_Loss: 0.6503                       \n"
     ]
    },
    {
     "name": "stdout",
     "output_type": "stream",
     "text": [
      "📊 ROC曲线已保存: ./results/cancer_normal/cfDNA/cv_results_20251014_165720/roc_curve_fold_4.png\n"
     ]
    },
    {
     "name": "stderr",
     "output_type": "stream",
     "text": [
      "16:58:30 - INFO - \n",
      "=============== Fold 5/10 ===============\n"
     ]
    },
    {
     "name": "stdout",
     "output_type": "stream",
     "text": [
      "📊 训练曲线已保存: ./results/cancer_normal/cfDNA/cv_results_20251014_165720/results/training_curves_fold_4.png\n",
      "Class distribution: {1: 274, 0: 275}\n",
      "Auto-calculated class weights: ['0.998', '1.002']\n",
      "Using weighted CrossEntropyLoss with weights: ['0.998', '1.002']\n",
      "Class distribution: {1: 274, 0: 275}\n",
      "Auto-calculated class weights: ['0.998', '1.002']\n",
      "Using weighted CrossEntropyLoss with weights: ['0.998', '1.002']\n"
     ]
    },
    {
     "name": "stderr",
     "output_type": "stream",
     "text": [
      "16:58:47 - INFO - Fold 5 完成 - Acc: 0.7541, AUC: 0.8774, F1: 0.7619, Train_Loss: 0.6075, Val_Loss: 0.5019                       \n",
      "16:58:47 - INFO - Fold 5 完成 - Acc: 0.7541, AUC: 0.8774, F1: 0.7619, Train_Loss: 0.6075, Val_Loss: 0.5019                       \n"
     ]
    },
    {
     "name": "stdout",
     "output_type": "stream",
     "text": [
      "📊 ROC曲线已保存: ./results/cancer_normal/cfDNA/cv_results_20251014_165720/roc_curve_fold_5.png\n"
     ]
    },
    {
     "name": "stderr",
     "output_type": "stream",
     "text": [
      "16:58:48 - INFO - \n",
      "=============== Fold 6/10 ===============\n"
     ]
    },
    {
     "name": "stdout",
     "output_type": "stream",
     "text": [
      "📊 训练曲线已保存: ./results/cancer_normal/cfDNA/cv_results_20251014_165720/results/training_curves_fold_5.png\n",
      "Class distribution: {1: 274, 0: 275}\n",
      "Auto-calculated class weights: ['0.998', '1.002']\n",
      "Using weighted CrossEntropyLoss with weights: ['0.998', '1.002']\n",
      "Class distribution: {1: 274, 0: 275}\n",
      "Auto-calculated class weights: ['0.998', '1.002']\n",
      "Using weighted CrossEntropyLoss with weights: ['0.998', '1.002']\n"
     ]
    },
    {
     "name": "stderr",
     "output_type": "stream",
     "text": [
      "16:59:04 - INFO - Fold 6 完成 - Acc: 0.8033, AUC: 0.8946, F1: 0.8125, Train_Loss: 0.6016, Val_Loss: 0.4574                       \n",
      "16:59:04 - INFO - Fold 6 完成 - Acc: 0.8033, AUC: 0.8946, F1: 0.8125, Train_Loss: 0.6016, Val_Loss: 0.4574                       \n"
     ]
    },
    {
     "name": "stdout",
     "output_type": "stream",
     "text": [
      "📊 ROC曲线已保存: ./results/cancer_normal/cfDNA/cv_results_20251014_165720/roc_curve_fold_6.png\n"
     ]
    },
    {
     "name": "stderr",
     "output_type": "stream",
     "text": [
      "16:59:05 - INFO - \n",
      "=============== Fold 7/10 ===============\n"
     ]
    },
    {
     "name": "stdout",
     "output_type": "stream",
     "text": [
      "📊 训练曲线已保存: ./results/cancer_normal/cfDNA/cv_results_20251014_165720/results/training_curves_fold_6.png\n",
      "Class distribution: {0: 275, 1: 274}\n",
      "Auto-calculated class weights: ['0.998', '1.002']\n",
      "Using weighted CrossEntropyLoss with weights: ['0.998', '1.002']\n",
      "Class distribution: {0: 275, 1: 274}\n",
      "Auto-calculated class weights: ['0.998', '1.002']\n",
      "Using weighted CrossEntropyLoss with weights: ['0.998', '1.002']\n"
     ]
    },
    {
     "name": "stderr",
     "output_type": "stream",
     "text": [
      "16:59:22 - INFO - Fold 7 完成 - Acc: 0.7213, AUC: 0.8355, F1: 0.7606, Train_Loss: 0.6044, Val_Loss: 0.5582                       \n",
      "16:59:22 - INFO - Fold 7 完成 - Acc: 0.7213, AUC: 0.8355, F1: 0.7606, Train_Loss: 0.6044, Val_Loss: 0.5582                       \n"
     ]
    },
    {
     "name": "stdout",
     "output_type": "stream",
     "text": [
      "📊 ROC曲线已保存: ./results/cancer_normal/cfDNA/cv_results_20251014_165720/roc_curve_fold_7.png\n"
     ]
    },
    {
     "name": "stderr",
     "output_type": "stream",
     "text": [
      "16:59:23 - INFO - \n",
      "=============== Fold 8/10 ===============\n"
     ]
    },
    {
     "name": "stdout",
     "output_type": "stream",
     "text": [
      "📊 训练曲线已保存: ./results/cancer_normal/cfDNA/cv_results_20251014_165720/results/training_curves_fold_7.png\n",
      "Class distribution: {1: 274, 0: 275}\n",
      "Auto-calculated class weights: ['0.998', '1.002']\n",
      "Using weighted CrossEntropyLoss with weights: ['0.998', '1.002']\n",
      "Class distribution: {1: 274, 0: 275}\n",
      "Auto-calculated class weights: ['0.998', '1.002']\n",
      "Using weighted CrossEntropyLoss with weights: ['0.998', '1.002']\n"
     ]
    },
    {
     "name": "stderr",
     "output_type": "stream",
     "text": [
      "16:59:40 - INFO - Fold 8 完成 - Acc: 0.8033, AUC: 0.8237, F1: 0.8125, Train_Loss: 0.6105, Val_Loss: 0.6427                       \n",
      "16:59:40 - INFO - Fold 8 完成 - Acc: 0.8033, AUC: 0.8237, F1: 0.8125, Train_Loss: 0.6105, Val_Loss: 0.6427                       \n"
     ]
    },
    {
     "name": "stdout",
     "output_type": "stream",
     "text": [
      "📊 ROC曲线已保存: ./results/cancer_normal/cfDNA/cv_results_20251014_165720/roc_curve_fold_8.png\n"
     ]
    },
    {
     "name": "stderr",
     "output_type": "stream",
     "text": [
      "16:59:40 - INFO - \n",
      "=============== Fold 9/10 ===============\n"
     ]
    },
    {
     "name": "stdout",
     "output_type": "stream",
     "text": [
      "📊 训练曲线已保存: ./results/cancer_normal/cfDNA/cv_results_20251014_165720/results/training_curves_fold_8.png\n",
      "Class distribution: {1: 274, 0: 275}\n",
      "Auto-calculated class weights: ['0.998', '1.002']\n",
      "Using weighted CrossEntropyLoss with weights: ['0.998', '1.002']\n",
      "Class distribution: {1: 274, 0: 275}\n",
      "Auto-calculated class weights: ['0.998', '1.002']\n",
      "Using weighted CrossEntropyLoss with weights: ['0.998', '1.002']\n"
     ]
    },
    {
     "name": "stderr",
     "output_type": "stream",
     "text": [
      "16:59:57 - INFO - Fold 9 完成 - Acc: 0.6557, AUC: 0.8409, F1: 0.7273, Train_Loss: 0.5980, Val_Loss: 0.6003                       \n",
      "16:59:57 - INFO - Fold 9 完成 - Acc: 0.6557, AUC: 0.8409, F1: 0.7273, Train_Loss: 0.5980, Val_Loss: 0.6003                       \n"
     ]
    },
    {
     "name": "stdout",
     "output_type": "stream",
     "text": [
      "📊 ROC曲线已保存: ./results/cancer_normal/cfDNA/cv_results_20251014_165720/roc_curve_fold_9.png\n"
     ]
    },
    {
     "name": "stderr",
     "output_type": "stream",
     "text": [
      "16:59:58 - INFO - \n",
      "=============== Fold 10/10 ===============\n"
     ]
    },
    {
     "name": "stdout",
     "output_type": "stream",
     "text": [
      "📊 训练曲线已保存: ./results/cancer_normal/cfDNA/cv_results_20251014_165720/results/training_curves_fold_9.png\n",
      "Class distribution: {0: 275, 1: 274}\n",
      "Auto-calculated class weights: ['0.998', '1.002']\n",
      "Using weighted CrossEntropyLoss with weights: ['0.998', '1.002']\n",
      "Class distribution: {0: 275, 1: 274}\n",
      "Auto-calculated class weights: ['0.998', '1.002']\n",
      "Using weighted CrossEntropyLoss with weights: ['0.998', '1.002']\n"
     ]
    },
    {
     "name": "stderr",
     "output_type": "stream",
     "text": [
      "17:00:14 - INFO - Fold 10 完成 - Acc: 0.7213, AUC: 0.8097, F1: 0.7018, Train_Loss: 0.6212, Val_Loss: 0.5429                       \n",
      "17:00:14 - INFO - Fold 10 完成 - Acc: 0.7213, AUC: 0.8097, F1: 0.7018, Train_Loss: 0.6212, Val_Loss: 0.5429                       \n"
     ]
    },
    {
     "name": "stdout",
     "output_type": "stream",
     "text": [
      "📊 ROC曲线已保存: ./results/cancer_normal/cfDNA/cv_results_20251014_165720/roc_curve_fold_10.png\n"
     ]
    },
    {
     "name": "stderr",
     "output_type": "stream",
     "text": [
      "17:00:15 - INFO - \n",
      "交叉验证结果:\n",
      "17:00:15 - INFO - 交叉验证完成！结果已保存到: ./results/cancer_normal/cfDNA/cv_results_20251014_165720\n",
      "17:00:15 - INFO - 交叉验证完成！结果已保存到: ./results/cancer_normal/cfDNA/cv_results_20251014_165720\n"
     ]
    },
    {
     "name": "stdout",
     "output_type": "stream",
     "text": [
      "📊 训练曲线已保存: ./results/cancer_normal/cfDNA/cv_results_20251014_165720/results/training_curves_fold_10.png\n",
      "+--------+-----------------+-----------------+-----------------+--------------+\n",
      "| Fold   | Accuracy        | F1 Score        | AUC Score       | Best Epoch   |\n",
      "+========+=================+=================+=================+==============+\n",
      "| 1      | 0.7377          | 0.7576          | 0.8376          | 47           |\n",
      "+--------+-----------------+-----------------+-----------------+--------------+\n",
      "| 2      | 0.7049          | 0.6087          | 0.8366          | 33           |\n",
      "+--------+-----------------+-----------------+-----------------+--------------+\n",
      "| 3      | 0.7541          | 0.7541          | 0.7978          | 21           |\n",
      "+--------+-----------------+-----------------+-----------------+--------------+\n",
      "| 4      | 0.7869          | 0.7937          | 0.8258          | 12           |\n",
      "+--------+-----------------+-----------------+-----------------+--------------+\n",
      "| 5      | 0.7541          | 0.7619          | 0.8774          | 45           |\n",
      "+--------+-----------------+-----------------+-----------------+--------------+\n",
      "| 6      | 0.8033          | 0.8125          | 0.8946          | 49           |\n",
      "+--------+-----------------+-----------------+-----------------+--------------+\n",
      "| 7      | 0.7213          | 0.7606          | 0.8355          | 41           |\n",
      "+--------+-----------------+-----------------+-----------------+--------------+\n",
      "| 8      | 0.8033          | 0.8125          | 0.8237          | 22           |\n",
      "+--------+-----------------+-----------------+-----------------+--------------+\n",
      "| 9      | 0.6557          | 0.7273          | 0.8409          | 30           |\n",
      "+--------+-----------------+-----------------+-----------------+--------------+\n",
      "| 10     | 0.7213          | 0.7018          | 0.8097          | 49           |\n",
      "+--------+-----------------+-----------------+-----------------+--------------+\n",
      "| 平均值 | 0.7443 ± 0.0441 | 0.7491 ± 0.0573 | 0.8380 ± 0.0275 | -            |\n",
      "+--------+-----------------+-----------------+-----------------+--------------+\n"
     ]
    },
    {
     "name": "stderr",
     "output_type": "stream",
     "text": [
      "17:00:16 - INFO - 开始独立测试集评估...\n",
      "17:00:16 - INFO - 开始独立测试集评估: /home/maweicheng/database/cancer_normal/test.npz\n",
      "17:00:16 - INFO - 开始独立测试集评估: /home/maweicheng/database/cancer_normal/test.npz\n",
      "17:00:17 - INFO - 测试集加载成功，样本数: 68\n",
      "17:00:17 - INFO - 在独立测试集上评估所有fold模型...\n",
      "17:00:17 - INFO -   评估 Fold 1...\n",
      "17:00:17 - INFO - 测试集加载成功，样本数: 68\n",
      "17:00:17 - INFO - 在独立测试集上评估所有fold模型...\n",
      "17:00:17 - INFO -   评估 Fold 1...\n"
     ]
    },
    {
     "name": "stdout",
     "output_type": "stream",
     "text": [
      "📊 交叉验证曲线已保存: ./results/cancer_normal/cfDNA/cv_results_20251014_165720/results/cross_validation_curves.png\n"
     ]
    },
    {
     "name": "stderr",
     "output_type": "stream",
     "text": [
      "17:00:17 - INFO - 单模型 Fold 1 测试集结果详情:\n",
      "17:00:17 - INFO -   样本数: 68\n",
      "17:00:17 - INFO -   预测分布: {np.int64(0): np.int64(4), np.int64(1): np.int64(64)}\n",
      "17:00:17 - INFO -   标签分布: {np.int64(0): np.int64(34), np.int64(1): np.int64(34)}\n",
      "17:00:17 - INFO -   概率范围: [0.2799, 0.9306]\n",
      "17:00:17 - INFO -   概率均值: 0.7872 ± 0.1396\n",
      "17:00:17 - INFO -   评估 Fold 2...\n",
      "17:00:17 - INFO -   样本数: 68\n",
      "17:00:17 - INFO -   预测分布: {np.int64(0): np.int64(4), np.int64(1): np.int64(64)}\n",
      "17:00:17 - INFO -   标签分布: {np.int64(0): np.int64(34), np.int64(1): np.int64(34)}\n",
      "17:00:17 - INFO -   概率范围: [0.2799, 0.9306]\n",
      "17:00:17 - INFO -   概率均值: 0.7872 ± 0.1396\n",
      "17:00:17 - INFO -   评估 Fold 2...\n",
      "17:00:17 - INFO - 单模型 Fold 2 测试集结果详情:\n",
      "17:00:17 - INFO -   样本数: 68\n",
      "17:00:17 - INFO -   预测分布: {np.int64(0): np.int64(45), np.int64(1): np.int64(23)}\n",
      "17:00:17 - INFO -   标签分布: {np.int64(0): np.int64(34), np.int64(1): np.int64(34)}\n",
      "17:00:17 - INFO -   概率范围: [0.1682, 0.6830]\n",
      "17:00:17 - INFO -   概率均值: 0.4466 ± 0.1307\n",
      "17:00:17 - INFO -   评估 Fold 3...\n",
      "17:00:17 - INFO - 单模型 Fold 2 测试集结果详情:\n",
      "17:00:17 - INFO -   样本数: 68\n",
      "17:00:17 - INFO -   预测分布: {np.int64(0): np.int64(45), np.int64(1): np.int64(23)}\n",
      "17:00:17 - INFO -   标签分布: {np.int64(0): np.int64(34), np.int64(1): np.int64(34)}\n",
      "17:00:17 - INFO -   概率范围: [0.1682, 0.6830]\n",
      "17:00:17 - INFO -   概率均值: 0.4466 ± 0.1307\n",
      "17:00:17 - INFO -   评估 Fold 3...\n",
      "17:00:17 - INFO - 单模型 Fold 3 测试集结果详情:\n",
      "17:00:17 - INFO -   样本数: 68\n",
      "17:00:17 - INFO -   预测分布: {np.int64(0): np.int64(22), np.int64(1): np.int64(46)}\n",
      "17:00:17 - INFO -   标签分布: {np.int64(0): np.int64(34), np.int64(1): np.int64(34)}\n",
      "17:00:17 - INFO -   概率范围: [0.3989, 0.6810]\n",
      "17:00:17 - INFO -   概率均值: 0.5346 ± 0.0623\n",
      "17:00:17 - INFO -   评估 Fold 4...\n",
      "17:00:17 - INFO - 单模型 Fold 3 测试集结果详情:\n",
      "17:00:17 - INFO -   样本数: 68\n",
      "17:00:17 - INFO -   预测分布: {np.int64(0): np.int64(22), np.int64(1): np.int64(46)}\n",
      "17:00:17 - INFO -   标签分布: {np.int64(0): np.int64(34), np.int64(1): np.int64(34)}\n",
      "17:00:17 - INFO -   概率范围: [0.3989, 0.6810]\n",
      "17:00:17 - INFO -   概率均值: 0.5346 ± 0.0623\n",
      "17:00:17 - INFO -   评估 Fold 4...\n",
      "17:00:17 - INFO - 单模型 Fold 4 测试集结果详情:\n",
      "17:00:17 - INFO -   样本数: 68\n",
      "17:00:17 - INFO -   预测分布: {np.int64(0): np.int64(25), np.int64(1): np.int64(43)}\n",
      "17:00:17 - INFO -   标签分布: {np.int64(0): np.int64(34), np.int64(1): np.int64(34)}\n",
      "17:00:17 - INFO -   概率范围: [0.4023, 0.5997]\n",
      "17:00:17 - INFO -   概率均值: 0.5125 ± 0.0422\n",
      "17:00:17 - INFO -   评估 Fold 5...\n",
      "17:00:17 - INFO - 单模型 Fold 4 测试集结果详情:\n",
      "17:00:17 - INFO -   样本数: 68\n",
      "17:00:17 - INFO -   预测分布: {np.int64(0): np.int64(25), np.int64(1): np.int64(43)}\n",
      "17:00:17 - INFO -   标签分布: {np.int64(0): np.int64(34), np.int64(1): np.int64(34)}\n",
      "17:00:17 - INFO -   概率范围: [0.4023, 0.5997]\n",
      "17:00:17 - INFO -   概率均值: 0.5125 ± 0.0422\n",
      "17:00:17 - INFO -   评估 Fold 5...\n",
      "17:00:18 - INFO - 单模型 Fold 5 测试集结果详情:\n",
      "17:00:18 - INFO -   样本数: 68\n",
      "17:00:18 - INFO -   预测分布: {np.int64(0): np.int64(21), np.int64(1): np.int64(47)}\n",
      "17:00:18 - INFO -   标签分布: {np.int64(0): np.int64(34), np.int64(1): np.int64(34)}\n",
      "17:00:18 - INFO -   概率范围: [0.2579, 0.8831]\n",
      "17:00:18 - INFO -   概率均值: 0.5976 ± 0.1531\n",
      "17:00:18 - INFO -   评估 Fold 6...\n",
      "17:00:18 - INFO - 单模型 Fold 5 测试集结果详情:\n",
      "17:00:18 - INFO -   样本数: 68\n",
      "17:00:18 - INFO -   预测分布: {np.int64(0): np.int64(21), np.int64(1): np.int64(47)}\n",
      "17:00:18 - INFO -   标签分布: {np.int64(0): np.int64(34), np.int64(1): np.int64(34)}\n",
      "17:00:18 - INFO -   概率范围: [0.2579, 0.8831]\n",
      "17:00:18 - INFO -   概率均值: 0.5976 ± 0.1531\n",
      "17:00:18 - INFO -   评估 Fold 6...\n",
      "17:00:18 - INFO - 单模型 Fold 6 测试集结果详情:\n",
      "17:00:18 - INFO -   样本数: 68\n",
      "17:00:18 - INFO -   预测分布: {np.int64(0): np.int64(12), np.int64(1): np.int64(56)}\n",
      "17:00:18 - INFO -   标签分布: {np.int64(0): np.int64(34), np.int64(1): np.int64(34)}\n",
      "17:00:18 - INFO -   概率范围: [0.1039, 0.9025]\n",
      "17:00:18 - INFO -   概率均值: 0.6704 ± 0.1940\n",
      "17:00:18 - INFO - 单模型 Fold 6 测试集结果详情:\n",
      "17:00:18 - INFO -   样本数: 68\n",
      "17:00:18 - INFO -   预测分布: {np.int64(0): np.int64(12), np.int64(1): np.int64(56)}\n",
      "17:00:18 - INFO -   标签分布: {np.int64(0): np.int64(34), np.int64(1): np.int64(34)}\n",
      "17:00:18 - INFO -   概率范围: [0.1039, 0.9025]\n",
      "17:00:18 - INFO -   概率均值: 0.6704 ± 0.1940\n",
      "17:00:18 - INFO -   评估 Fold 7...\n",
      "17:00:18 - INFO -   评估 Fold 7...\n",
      "17:00:18 - INFO - 单模型 Fold 7 测试集结果详情:\n",
      "17:00:18 - INFO -   样本数: 68\n",
      "17:00:18 - INFO -   预测分布: {np.int64(0): np.int64(7), np.int64(1): np.int64(61)}\n",
      "17:00:18 - INFO -   标签分布: {np.int64(0): np.int64(34), np.int64(1): np.int64(34)}\n",
      "17:00:18 - INFO -   概率范围: [0.3814, 0.8878]\n",
      "17:00:18 - INFO -   概率均值: 0.7055 ± 0.1373\n",
      "17:00:18 - INFO -   评估 Fold 8...\n",
      "17:00:18 - INFO - 单模型 Fold 7 测试集结果详情:\n",
      "17:00:18 - INFO -   样本数: 68\n",
      "17:00:18 - INFO -   预测分布: {np.int64(0): np.int64(7), np.int64(1): np.int64(61)}\n",
      "17:00:18 - INFO -   标签分布: {np.int64(0): np.int64(34), np.int64(1): np.int64(34)}\n",
      "17:00:18 - INFO -   概率范围: [0.3814, 0.8878]\n",
      "17:00:18 - INFO -   概率均值: 0.7055 ± 0.1373\n",
      "17:00:18 - INFO -   评估 Fold 8...\n",
      "17:00:18 - INFO - 单模型 Fold 8 测试集结果详情:\n",
      "17:00:18 - INFO -   样本数: 68\n",
      "17:00:18 - INFO -   预测分布: {np.int64(0): np.int64(17), np.int64(1): np.int64(51)}\n",
      "17:00:18 - INFO -   标签分布: {np.int64(0): np.int64(34), np.int64(1): np.int64(34)}\n",
      "17:00:18 - INFO -   概率范围: [0.4278, 0.6645]\n",
      "17:00:18 - INFO -   概率均值: 0.5357 ± 0.0480\n",
      "17:00:18 - INFO -   评估 Fold 9...\n",
      "17:00:18 - INFO - 单模型 Fold 8 测试集结果详情:\n",
      "17:00:18 - INFO -   样本数: 68\n",
      "17:00:18 - INFO -   预测分布: {np.int64(0): np.int64(17), np.int64(1): np.int64(51)}\n",
      "17:00:18 - INFO -   标签分布: {np.int64(0): np.int64(34), np.int64(1): np.int64(34)}\n",
      "17:00:18 - INFO -   概率范围: [0.4278, 0.6645]\n",
      "17:00:18 - INFO -   概率均值: 0.5357 ± 0.0480\n",
      "17:00:18 - INFO -   评估 Fold 9...\n",
      "17:00:19 - INFO - 单模型 Fold 9 测试集结果详情:\n",
      "17:00:19 - INFO -   样本数: 68\n",
      "17:00:19 - INFO -   预测分布: {np.int64(0): np.int64(4), np.int64(1): np.int64(64)}\n",
      "17:00:19 - INFO -   标签分布: {np.int64(0): np.int64(34), np.int64(1): np.int64(34)}\n",
      "17:00:19 - INFO -   概率范围: [0.4150, 0.8383]\n",
      "17:00:19 - INFO -   概率均值: 0.6708 ± 0.0904\n",
      "17:00:19 - INFO -   评估 Fold 10...\n",
      "17:00:19 - INFO - 单模型 Fold 9 测试集结果详情:\n",
      "17:00:19 - INFO -   样本数: 68\n",
      "17:00:19 - INFO -   预测分布: {np.int64(0): np.int64(4), np.int64(1): np.int64(64)}\n",
      "17:00:19 - INFO -   标签分布: {np.int64(0): np.int64(34), np.int64(1): np.int64(34)}\n",
      "17:00:19 - INFO -   概率范围: [0.4150, 0.8383]\n",
      "17:00:19 - INFO -   概率均值: 0.6708 ± 0.0904\n",
      "17:00:19 - INFO -   评估 Fold 10...\n",
      "17:00:19 - INFO - 单模型 Fold 10 测试集结果详情:\n",
      "17:00:19 - INFO -   样本数: 68\n",
      "17:00:19 - INFO -   预测分布: {np.int64(0): np.int64(8), np.int64(1): np.int64(60)}\n",
      "17:00:19 - INFO -   标签分布: {np.int64(0): np.int64(34), np.int64(1): np.int64(34)}\n",
      "17:00:19 - INFO -   概率范围: [0.2353, 0.8856]\n",
      "17:00:19 - INFO -   概率均值: 0.6622 ± 0.1303\n",
      "17:00:19 - INFO - ================================================================================\n",
      "17:00:19 - INFO - 独立测试集性能评估 - 跨fold平均结果:\n",
      "17:00:19 - INFO - 准确率: 0.5015 ± 0.0476\n",
      "17:00:19 - INFO - F1分数:  0.5911 ± 0.0964\n",
      "17:00:19 - INFO - AUC:    0.5165 ± 0.0893\n",
      "17:00:19 - INFO - \n",
      "17:00:19 - INFO - 各fold详细结果:\n",
      "17:00:19 - INFO - 单模型 Fold 10 测试集结果详情:\n",
      "17:00:19 - INFO -   样本数: 68\n",
      "17:00:19 - INFO -   预测分布: {np.int64(0): np.int64(8), np.int64(1): np.int64(60)}\n",
      "17:00:19 - INFO -   标签分布: {np.int64(0): np.int64(34), np.int64(1): np.int64(34)}\n",
      "17:00:19 - INFO -   概率范围: [0.2353, 0.8856]\n",
      "17:00:19 - INFO -   概率均值: 0.6622 ± 0.1303\n",
      "17:00:19 - INFO - ================================================================================\n",
      "17:00:19 - INFO - 独立测试集性能评估 - 跨fold平均结果:\n",
      "17:00:19 - INFO - 准确率: 0.5015 ± 0.0476\n",
      "17:00:19 - INFO - F1分数:  0.5911 ± 0.0964\n",
      "17:00:19 - INFO - AUC:    0.5165 ± 0.0893\n",
      "17:00:19 - INFO - \n",
      "17:00:19 - INFO - 各fold详细结果:\n",
      "17:00:19 - INFO -   Fold 1: Acc=0.5294, F1=0.6735, AUC=0.6462\n",
      "17:00:19 - INFO -   Fold 2: Acc=0.4559, F1=0.3509, AUC=0.4922\n",
      "17:00:19 - INFO -   Fold 3: Acc=0.5000, F1=0.5750, AUC=0.4187\n",
      "17:00:19 - INFO -   Fold 4: Acc=0.4559, F1=0.5195, AUC=0.4490\n",
      "17:00:19 - INFO -   Fold 5: Acc=0.4853, F1=0.5679, AUC=0.4948\n",
      "17:00:19 - INFO -   Fold 6: Acc=0.5882, F1=0.6889, AUC=0.6298\n",
      "17:00:19 - INFO -   Fold 7: Acc=0.5735, F1=0.6947, AUC=0.6107\n",
      "17:00:19 - INFO -   Fold 8: Acc=0.5147, F1=0.6118, AUC=0.5917\n",
      "17:00:19 - INFO -   Fold 9: Acc=0.4706, F1=0.6327, AUC=0.4083\n",
      "17:00:19 - INFO -   Fold 10: Acc=0.4412, F1=0.5957, AUC=0.4239\n",
      "17:00:19 - INFO - ================================================================================\n",
      "17:00:19 - INFO -   Fold 1: Acc=0.5294, F1=0.6735, AUC=0.6462\n",
      "17:00:19 - INFO -   Fold 2: Acc=0.4559, F1=0.3509, AUC=0.4922\n",
      "17:00:19 - INFO -   Fold 3: Acc=0.5000, F1=0.5750, AUC=0.4187\n",
      "17:00:19 - INFO -   Fold 4: Acc=0.4559, F1=0.5195, AUC=0.4490\n",
      "17:00:19 - INFO -   Fold 5: Acc=0.4853, F1=0.5679, AUC=0.4948\n",
      "17:00:19 - INFO -   Fold 6: Acc=0.5882, F1=0.6889, AUC=0.6298\n",
      "17:00:19 - INFO -   Fold 7: Acc=0.5735, F1=0.6947, AUC=0.6107\n",
      "17:00:19 - INFO -   Fold 8: Acc=0.5147, F1=0.6118, AUC=0.5917\n",
      "17:00:19 - INFO -   Fold 9: Acc=0.4706, F1=0.6327, AUC=0.4083\n",
      "17:00:19 - INFO -   Fold 10: Acc=0.4412, F1=0.5957, AUC=0.4239\n",
      "17:00:19 - INFO - ================================================================================\n",
      "17:00:19 - INFO - \n",
      "最终测试集评估结果 (样本数: 68)\n",
      "17:00:19 - INFO - 平均AUC: 0.5165 ± 0.0893 (跨10个fold)\n",
      "17:00:19 - INFO - 平均F1: 0.5911 ± 0.0964\n",
      "17:00:19 - INFO - 平均准确率: 0.5015 ± 0.0476\n",
      "17:00:19 - INFO - 训练完成!\n",
      "17:00:19 - INFO - \n",
      "最终测试集评估结果 (样本数: 68)\n",
      "17:00:19 - INFO - 平均AUC: 0.5165 ± 0.0893 (跨10个fold)\n",
      "17:00:19 - INFO - 平均F1: 0.5911 ± 0.0964\n",
      "17:00:19 - INFO - 平均准确率: 0.5015 ± 0.0476\n",
      "17:00:19 - INFO - 训练完成!\n"
     ]
    }
   ],
   "source": [
    "%run main.py \\\n",
    "    --modalities Frag PFE NDR NDR2K \\\n",
    "    --data_file /home/maweicheng/database/cancer_normal/train.npz \\\n",
    "    --test_file /home/maweicheng/database/cancer_normal/test.npz \\\n",
    "    --epochs 50 \\\n",
    "    --batch_size 16 \\\n",
    "    --lr 5e-5 \\\n",
    "    --k_folds 10 \\\n",
    "    --use_test_set \\\n",
    "    --no_ct \\\n",
    "    --latent_dim 512 \\\n",
    "    --output_dir ./results/cancer_normal/cfDNA"
   ]
  }
 ],
 "metadata": {
  "kernelspec": {
   "display_name": "dl",
   "language": "python",
   "name": "python3"
  },
  "language_info": {
   "codemirror_mode": {
    "name": "ipython",
    "version": 3
   },
   "file_extension": ".py",
   "mimetype": "text/x-python",
   "name": "python",
   "nbconvert_exporter": "python",
   "pygments_lexer": "ipython3",
   "version": "3.10.16"
  }
 },
 "nbformat": 4,
 "nbformat_minor": 5
}
