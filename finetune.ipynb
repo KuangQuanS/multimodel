{
 "cells": [
  {
   "cell_type": "markdown",
   "id": "2a9e4c70",
   "metadata": {},
   "source": [
    "### 亚型"
   ]
  },
  {
   "cell_type": "code",
   "execution_count": null,
   "id": "0e00cc9e",
   "metadata": {},
   "outputs": [
    {
     "name": "stdout",
     "output_type": "stream",
     "text": [
      "Loaded training data: /home/maweicheng/database/cfDNA/subtype/train.npz, samples: 23\n",
      "Label distribution: (array([0, 1]), array([ 6, 17]))\n",
      "\n",
      "Running 10-fold cross-validation...\n"
     ]
    },
    {
     "name": "stderr",
     "output_type": "stream",
     "text": [
      "/softwares/miniconda3/envs/dl/lib/python3.10/site-packages/sklearn/model_selection/_split.py:805: UserWarning: The least populated class in y has only 6 members, which is less than n_splits=10.\n",
      "  warnings.warn(\n"
     ]
    },
    {
     "name": "stdout",
     "output_type": "stream",
     "text": [
      "\n",
      "==================== Fold 1/10 ====================\n",
      "Epoch 10 Fold 1: Train Acc=100.0%, Val F1=0.000, Val AUC=0.000\n",
      "Epoch 20 Fold 1: Train Acc=100.0%, Val F1=0.800, Val AUC=0.000\n",
      "Epoch 30 Fold 1: Train Acc=100.0%, Val F1=0.800, Val AUC=0.000\n",
      "Epoch 40 Fold 1: Train Acc=100.0%, Val F1=0.800, Val AUC=0.000\n",
      "Epoch 50 Fold 1: Train Acc=100.0%, Val F1=0.800, Val AUC=0.000\n",
      "[Fold 1] skipped due to invalid results.\n",
      "\n",
      "==================== Fold 2/10 ====================\n",
      "Epoch 10 Fold 2: Train Acc=100.0%, Val F1=1.000, Val AUC=1.000\n",
      "Epoch 20 Fold 2: Train Acc=100.0%, Val F1=1.000, Val AUC=1.000\n",
      "Epoch 30 Fold 2: Train Acc=100.0%, Val F1=1.000, Val AUC=1.000\n",
      "Epoch 40 Fold 2: Train Acc=100.0%, Val F1=1.000, Val AUC=1.000\n",
      "Epoch 50 Fold 2: Train Acc=100.0%, Val F1=1.000, Val AUC=1.000\n",
      "\n",
      "==================== Fold 3/10 ====================\n",
      "Epoch 10 Fold 3: Train Acc=100.0%, Val F1=0.667, Val AUC=1.000\n",
      "Epoch 20 Fold 3: Train Acc=100.0%, Val F1=0.667, Val AUC=1.000\n",
      "Epoch 30 Fold 3: Train Acc=100.0%, Val F1=0.667, Val AUC=1.000\n",
      "Epoch 40 Fold 3: Train Acc=100.0%, Val F1=0.667, Val AUC=1.000\n",
      "Epoch 50 Fold 3: Train Acc=100.0%, Val F1=0.667, Val AUC=1.000\n",
      "\n",
      "==================== Fold 4/10 ====================\n"
     ]
    },
    {
     "name": "stderr",
     "output_type": "stream",
     "text": [
      "/softwares/miniconda3/envs/dl/lib/python3.10/site-packages/sklearn/metrics/_ranking.py:379: UndefinedMetricWarning: Only one class is present in y_true. ROC AUC score is not defined in that case.\n",
      "  warnings.warn(\n"
     ]
    },
    {
     "name": "stdout",
     "output_type": "stream",
     "text": [
      "Epoch 10 Fold 4: Train Acc=100.0%, Val F1=0.667, Val AUC=nan\n"
     ]
    },
    {
     "name": "stderr",
     "output_type": "stream",
     "text": [
      "/softwares/miniconda3/envs/dl/lib/python3.10/site-packages/sklearn/metrics/_ranking.py:379: UndefinedMetricWarning: Only one class is present in y_true. ROC AUC score is not defined in that case.\n",
      "  warnings.warn(\n"
     ]
    },
    {
     "name": "stdout",
     "output_type": "stream",
     "text": [
      "Epoch 20 Fold 4: Train Acc=100.0%, Val F1=1.000, Val AUC=nan\n"
     ]
    },
    {
     "name": "stderr",
     "output_type": "stream",
     "text": [
      "/softwares/miniconda3/envs/dl/lib/python3.10/site-packages/sklearn/metrics/_ranking.py:379: UndefinedMetricWarning: Only one class is present in y_true. ROC AUC score is not defined in that case.\n",
      "  warnings.warn(\n"
     ]
    },
    {
     "name": "stdout",
     "output_type": "stream",
     "text": [
      "Epoch 30 Fold 4: Train Acc=100.0%, Val F1=1.000, Val AUC=nan\n"
     ]
    },
    {
     "name": "stderr",
     "output_type": "stream",
     "text": [
      "/softwares/miniconda3/envs/dl/lib/python3.10/site-packages/sklearn/metrics/_ranking.py:379: UndefinedMetricWarning: Only one class is present in y_true. ROC AUC score is not defined in that case.\n",
      "  warnings.warn(\n"
     ]
    },
    {
     "name": "stdout",
     "output_type": "stream",
     "text": [
      "Epoch 40 Fold 4: Train Acc=100.0%, Val F1=1.000, Val AUC=nan\n"
     ]
    },
    {
     "name": "stderr",
     "output_type": "stream",
     "text": [
      "/softwares/miniconda3/envs/dl/lib/python3.10/site-packages/sklearn/metrics/_ranking.py:379: UndefinedMetricWarning: Only one class is present in y_true. ROC AUC score is not defined in that case.\n",
      "  warnings.warn(\n"
     ]
    },
    {
     "name": "stdout",
     "output_type": "stream",
     "text": [
      "Epoch 50 Fold 4: Train Acc=100.0%, Val F1=1.000, Val AUC=nan\n",
      "[Fold 4] skipped due to invalid results.\n",
      "\n",
      "==================== Fold 5/10 ====================\n"
     ]
    },
    {
     "name": "stderr",
     "output_type": "stream",
     "text": [
      "/softwares/miniconda3/envs/dl/lib/python3.10/site-packages/sklearn/metrics/_ranking.py:379: UndefinedMetricWarning: Only one class is present in y_true. ROC AUC score is not defined in that case.\n",
      "  warnings.warn(\n"
     ]
    },
    {
     "name": "stdout",
     "output_type": "stream",
     "text": [
      "Epoch 10 Fold 5: Train Acc=100.0%, Val F1=0.667, Val AUC=nan\n"
     ]
    },
    {
     "name": "stderr",
     "output_type": "stream",
     "text": [
      "/softwares/miniconda3/envs/dl/lib/python3.10/site-packages/sklearn/metrics/_ranking.py:379: UndefinedMetricWarning: Only one class is present in y_true. ROC AUC score is not defined in that case.\n",
      "  warnings.warn(\n"
     ]
    },
    {
     "name": "stdout",
     "output_type": "stream",
     "text": [
      "Epoch 20 Fold 5: Train Acc=100.0%, Val F1=1.000, Val AUC=nan\n"
     ]
    },
    {
     "name": "stderr",
     "output_type": "stream",
     "text": [
      "/softwares/miniconda3/envs/dl/lib/python3.10/site-packages/sklearn/metrics/_ranking.py:379: UndefinedMetricWarning: Only one class is present in y_true. ROC AUC score is not defined in that case.\n",
      "  warnings.warn(\n"
     ]
    },
    {
     "name": "stdout",
     "output_type": "stream",
     "text": [
      "Epoch 30 Fold 5: Train Acc=100.0%, Val F1=1.000, Val AUC=nan\n"
     ]
    },
    {
     "name": "stderr",
     "output_type": "stream",
     "text": [
      "/softwares/miniconda3/envs/dl/lib/python3.10/site-packages/sklearn/metrics/_ranking.py:379: UndefinedMetricWarning: Only one class is present in y_true. ROC AUC score is not defined in that case.\n",
      "  warnings.warn(\n"
     ]
    },
    {
     "name": "stdout",
     "output_type": "stream",
     "text": [
      "Epoch 40 Fold 5: Train Acc=100.0%, Val F1=1.000, Val AUC=nan\n"
     ]
    },
    {
     "name": "stderr",
     "output_type": "stream",
     "text": [
      "/softwares/miniconda3/envs/dl/lib/python3.10/site-packages/sklearn/metrics/_ranking.py:379: UndefinedMetricWarning: Only one class is present in y_true. ROC AUC score is not defined in that case.\n",
      "  warnings.warn(\n"
     ]
    },
    {
     "name": "stdout",
     "output_type": "stream",
     "text": [
      "Epoch 50 Fold 5: Train Acc=100.0%, Val F1=1.000, Val AUC=nan\n",
      "[Fold 5] skipped due to invalid results.\n",
      "\n",
      "==================== Fold 6/10 ====================\n"
     ]
    },
    {
     "name": "stderr",
     "output_type": "stream",
     "text": [
      "/softwares/miniconda3/envs/dl/lib/python3.10/site-packages/sklearn/metrics/_ranking.py:379: UndefinedMetricWarning: Only one class is present in y_true. ROC AUC score is not defined in that case.\n",
      "  warnings.warn(\n"
     ]
    },
    {
     "name": "stdout",
     "output_type": "stream",
     "text": [
      "Epoch 10 Fold 6: Train Acc=100.0%, Val F1=0.667, Val AUC=nan\n"
     ]
    },
    {
     "name": "stderr",
     "output_type": "stream",
     "text": [
      "/softwares/miniconda3/envs/dl/lib/python3.10/site-packages/sklearn/metrics/_ranking.py:379: UndefinedMetricWarning: Only one class is present in y_true. ROC AUC score is not defined in that case.\n",
      "  warnings.warn(\n"
     ]
    },
    {
     "name": "stdout",
     "output_type": "stream",
     "text": [
      "Epoch 20 Fold 6: Train Acc=100.0%, Val F1=1.000, Val AUC=nan\n"
     ]
    },
    {
     "name": "stderr",
     "output_type": "stream",
     "text": [
      "/softwares/miniconda3/envs/dl/lib/python3.10/site-packages/sklearn/metrics/_ranking.py:379: UndefinedMetricWarning: Only one class is present in y_true. ROC AUC score is not defined in that case.\n",
      "  warnings.warn(\n"
     ]
    },
    {
     "name": "stdout",
     "output_type": "stream",
     "text": [
      "Epoch 30 Fold 6: Train Acc=100.0%, Val F1=1.000, Val AUC=nan\n"
     ]
    },
    {
     "name": "stderr",
     "output_type": "stream",
     "text": [
      "/softwares/miniconda3/envs/dl/lib/python3.10/site-packages/sklearn/metrics/_ranking.py:379: UndefinedMetricWarning: Only one class is present in y_true. ROC AUC score is not defined in that case.\n",
      "  warnings.warn(\n"
     ]
    },
    {
     "name": "stdout",
     "output_type": "stream",
     "text": [
      "Epoch 40 Fold 6: Train Acc=100.0%, Val F1=1.000, Val AUC=nan\n"
     ]
    },
    {
     "name": "stderr",
     "output_type": "stream",
     "text": [
      "/softwares/miniconda3/envs/dl/lib/python3.10/site-packages/sklearn/metrics/_ranking.py:379: UndefinedMetricWarning: Only one class is present in y_true. ROC AUC score is not defined in that case.\n",
      "  warnings.warn(\n"
     ]
    },
    {
     "name": "stdout",
     "output_type": "stream",
     "text": [
      "Epoch 50 Fold 6: Train Acc=100.0%, Val F1=1.000, Val AUC=nan\n",
      "[Fold 6] skipped due to invalid results.\n",
      "\n",
      "==================== Fold 7/10 ====================\n"
     ]
    },
    {
     "name": "stderr",
     "output_type": "stream",
     "text": [
      "/softwares/miniconda3/envs/dl/lib/python3.10/site-packages/sklearn/metrics/_ranking.py:379: UndefinedMetricWarning: Only one class is present in y_true. ROC AUC score is not defined in that case.\n",
      "  warnings.warn(\n"
     ]
    },
    {
     "name": "stdout",
     "output_type": "stream",
     "text": [
      "Epoch 10 Fold 7: Train Acc=100.0%, Val F1=1.000, Val AUC=nan\n"
     ]
    },
    {
     "name": "stderr",
     "output_type": "stream",
     "text": [
      "/softwares/miniconda3/envs/dl/lib/python3.10/site-packages/sklearn/metrics/_ranking.py:379: UndefinedMetricWarning: Only one class is present in y_true. ROC AUC score is not defined in that case.\n",
      "  warnings.warn(\n"
     ]
    },
    {
     "name": "stdout",
     "output_type": "stream",
     "text": [
      "Epoch 20 Fold 7: Train Acc=100.0%, Val F1=1.000, Val AUC=nan\n"
     ]
    },
    {
     "name": "stderr",
     "output_type": "stream",
     "text": [
      "/softwares/miniconda3/envs/dl/lib/python3.10/site-packages/sklearn/metrics/_ranking.py:379: UndefinedMetricWarning: Only one class is present in y_true. ROC AUC score is not defined in that case.\n",
      "  warnings.warn(\n"
     ]
    },
    {
     "name": "stdout",
     "output_type": "stream",
     "text": [
      "Epoch 30 Fold 7: Train Acc=100.0%, Val F1=1.000, Val AUC=nan\n"
     ]
    },
    {
     "name": "stderr",
     "output_type": "stream",
     "text": [
      "/softwares/miniconda3/envs/dl/lib/python3.10/site-packages/sklearn/metrics/_ranking.py:379: UndefinedMetricWarning: Only one class is present in y_true. ROC AUC score is not defined in that case.\n",
      "  warnings.warn(\n"
     ]
    },
    {
     "name": "stdout",
     "output_type": "stream",
     "text": [
      "Epoch 40 Fold 7: Train Acc=100.0%, Val F1=1.000, Val AUC=nan\n"
     ]
    },
    {
     "name": "stderr",
     "output_type": "stream",
     "text": [
      "/softwares/miniconda3/envs/dl/lib/python3.10/site-packages/sklearn/metrics/_ranking.py:379: UndefinedMetricWarning: Only one class is present in y_true. ROC AUC score is not defined in that case.\n",
      "  warnings.warn(\n"
     ]
    },
    {
     "name": "stdout",
     "output_type": "stream",
     "text": [
      "Epoch 50 Fold 7: Train Acc=100.0%, Val F1=1.000, Val AUC=nan\n",
      "[Fold 7] skipped due to invalid results.\n",
      "\n",
      "==================== Fold 8/10 ====================\n",
      "Epoch 10 Fold 8: Train Acc=100.0%, Val F1=1.000, Val AUC=1.000\n",
      "Epoch 20 Fold 8: Train Acc=100.0%, Val F1=1.000, Val AUC=1.000\n",
      "Epoch 30 Fold 8: Train Acc=100.0%, Val F1=1.000, Val AUC=1.000\n",
      "Epoch 40 Fold 8: Train Acc=100.0%, Val F1=1.000, Val AUC=1.000\n",
      "Epoch 50 Fold 8: Train Acc=100.0%, Val F1=1.000, Val AUC=1.000\n",
      "\n",
      "==================== Fold 9/10 ====================\n",
      "Epoch 10 Fold 9: Train Acc=100.0%, Val F1=1.000, Val AUC=1.000\n",
      "Epoch 20 Fold 9: Train Acc=100.0%, Val F1=1.000, Val AUC=1.000\n",
      "Epoch 30 Fold 9: Train Acc=100.0%, Val F1=1.000, Val AUC=1.000\n",
      "Epoch 40 Fold 9: Train Acc=100.0%, Val F1=1.000, Val AUC=1.000\n",
      "Epoch 50 Fold 9: Train Acc=100.0%, Val F1=1.000, Val AUC=1.000\n",
      "\n",
      "==================== Fold 10/10 ====================\n",
      "Epoch 10 Fold 10: Train Acc=100.0%, Val F1=1.000, Val AUC=1.000\n",
      "Epoch 20 Fold 10: Train Acc=100.0%, Val F1=1.000, Val AUC=1.000\n",
      "Epoch 30 Fold 10: Train Acc=100.0%, Val F1=1.000, Val AUC=1.000\n",
      "Epoch 40 Fold 10: Train Acc=100.0%, Val F1=1.000, Val AUC=1.000\n",
      "Epoch 50 Fold 10: Train Acc=100.0%, Val F1=1.000, Val AUC=1.000\n",
      "\n",
      "交叉验证结果:\n",
      "+------------+---------------+---------------+--------------+\n",
      "| Fold       | F1 Score      | AUC Score     | Best Epoch   |\n",
      "+============+===============+===============+==============+\n",
      "| 2          | 1.000         | 1.000         | 10           |\n",
      "+------------+---------------+---------------+--------------+\n",
      "| 3          | 0.667         | 1.000         | 10           |\n",
      "+------------+---------------+---------------+--------------+\n",
      "| 8          | 1.000         | 1.000         | 10           |\n",
      "+------------+---------------+---------------+--------------+\n",
      "| 9          | 1.000         | 1.000         | 10           |\n",
      "+------------+---------------+---------------+--------------+\n",
      "| 10         | 1.000         | 1.000         | 10           |\n",
      "+------------+---------------+---------------+--------------+\n",
      "| Mean ± Std | 0.933 ± 0.133 | 1.000 ± 0.000 | -            |\n",
      "+------------+---------------+---------------+--------------+\n"
     ]
    }
   ],
   "source": [
    "%run finetune.py \\\n",
    "    --modalities Frag CNV PFE NDR NDR2K \\\n",
    "    --data_file /home/maweicheng/database/cfDNA/subtype/train.npz \\\n",
    "    --test_file /home/maweicheng/database/cfDNA/subtype/test.npz \\\n",
    "    --checkpoint_dir ./cfDNA/subtype_pretrained \\\n",
    "    --ct_model_path /home/maweicheng/multimodel/CT/cv_checkpoints/res_best_0.88.pth \\\n",
    "    --epochs 50 \\\n",
    "    --batch_size 8 \\\n",
    "    --cross_val \\\n",
    "    --output_dir ./results/subtype_results"
   ]
  },
  {
   "cell_type": "code",
   "execution_count": null,
   "id": "b72d3854",
   "metadata": {},
   "outputs": [
    {
     "name": "stdout",
     "output_type": "stream",
     "text": [
      "Loaded training data: /home/maweicheng/database/cfDNA/subtype/train.npz, samples: 23\n",
      "Label distribution: (array([0, 1]), array([ 6, 17]))\n",
      "Loaded test set: /home/maweicheng/database/cfDNA/subtype/test.npz, samples: 15\n",
      "Label distribution: (array([0, 1]), array([ 4, 11]))\n"
     ]
    },
    {
     "name": "stderr",
     "output_type": "stream",
     "text": [
      "/home/maweicheng/multimodel/finetune.py:618: FutureWarning: You are using `torch.load` with `weights_only=False` (the current default value), which uses the default pickle module implicitly. It is possible to construct malicious pickle data which will execute arbitrary code during unpickling (See https://github.com/pytorch/pytorch/blob/main/SECURITY.md#untrusted-models for more details). In a future release, the default value for `weights_only` will be flipped to `True`. This limits the functions that could be executed during unpickling. Arbitrary objects will no longer be allowed to be loaded via this mode unless they are explicitly allowlisted by the user via `torch.serialization.add_safe_globals`. We recommend you start setting `weights_only=True` for any use case where you don't have full control of the loaded file. Please open an issue on GitHub for any issues related to this experimental feature.\n",
      "  model.load_state_dict(torch.load(args.model_path, map_location=args.device))\n"
     ]
    },
    {
     "name": "stdout",
     "output_type": "stream",
     "text": [
      "\n",
      "Test Results:\n",
      "+-----------+---------+\n",
      "| Metric    |   Value |\n",
      "+===========+=========+\n",
      "| F1 Score  |   0.778 |\n",
      "+-----------+---------+\n",
      "| AUC Score |   0.909 |\n",
      "+-----------+---------+\n"
     ]
    }
   ],
   "source": [
    "%run finetune.py \\\n",
    "    --modalities Frag CNV PFE NDR NDR2K \\\n",
    "    --data_file /home/maweicheng/database/cfDNA/subtype/train.npz \\\n",
    "    --test_file /home/maweicheng/database/cfDNA/subtype/test.npz \\\n",
    "    --checkpoint_dir ./cfDNA/subtype_pretrained \\\n",
    "    --ct_model_path /home/maweicheng/multimodel/CT/cv_checkpoints/res_best_0.88.pth \\\n",
    "    --model_path /home/maweicheng/multimodel/subtype_results/cv_results_20250708_202525/best_model_fold_3.pth \\\n",
    "    --eval_only \\\n",
    "    --output_dir ./results/subtype_results"
   ]
  },
  {
   "cell_type": "markdown",
   "id": "d4342b98",
   "metadata": {},
   "source": [
    "### 良性和恶性"
   ]
  },
  {
   "cell_type": "code",
   "execution_count": 28,
   "id": "68086223",
   "metadata": {},
   "outputs": [
    {
     "name": "stdout",
     "output_type": "stream",
     "text": [
      "Loaded training data: /home/maweicheng/database/cfDNA/cancer_and_benign/train.npz, samples: 74\n",
      "Label distribution: (array([0, 1]), array([29, 45]))\n",
      "\n",
      "Running 10-fold cross-validation...\n"
     ]
    },
    {
     "name": "stderr",
     "output_type": "stream",
     "text": [
      "/home/maweicheng/multimodel/finetune.py:487: FutureWarning: You are using `torch.load` with `weights_only=False` (the current default value), which uses the default pickle module implicitly. It is possible to construct malicious pickle data which will execute arbitrary code during unpickling (See https://github.com/pytorch/pytorch/blob/main/SECURITY.md#untrusted-models for more details). In a future release, the default value for `weights_only` will be flipped to `True`. This limits the functions that could be executed during unpickling. Arbitrary objects will no longer be allowed to be loaded via this mode unless they are explicitly allowlisted by the user via `torch.serialization.add_safe_globals`. We recommend you start setting `weights_only=True` for any use case where you don't have full control of the loaded file. Please open an issue on GitHub for any issues related to this experimental feature.\n",
      "  ct_model.load_state_dict(torch.load(args.ct_model_path, map_location=args.device))\n"
     ]
    },
    {
     "name": "stdout",
     "output_type": "stream",
     "text": [
      "\n",
      "==================== Fold 1/10 ====================\n",
      "Epoch 10 Fold 1: Train Acc=98.5%, Val F1=1.000, Val AUC=1.000\n",
      "\n",
      "==================== Fold 2/10 ====================\n",
      "Epoch 10 Fold 2: Train Acc=100.0%, Val F1=0.889, Val AUC=0.800\n",
      "\n",
      "==================== Fold 3/10 ====================\n",
      "Epoch 10 Fold 3: Train Acc=98.5%, Val F1=1.000, Val AUC=1.000\n",
      "\n",
      "==================== Fold 4/10 ====================\n",
      "Epoch 10 Fold 4: Train Acc=100.0%, Val F1=1.000, Val AUC=1.000\n",
      "\n",
      "==================== Fold 5/10 ====================\n",
      "Epoch 10 Fold 5: Train Acc=98.5%, Val F1=0.889, Val AUC=0.800\n",
      "\n",
      "==================== Fold 6/10 ====================\n",
      "Epoch 10 Fold 6: Train Acc=100.0%, Val F1=0.889, Val AUC=1.000\n",
      "\n",
      "==================== Fold 7/10 ====================\n",
      "Epoch 10 Fold 7: Train Acc=98.5%, Val F1=1.000, Val AUC=1.000\n",
      "\n",
      "==================== Fold 8/10 ====================\n",
      "Epoch 10 Fold 8: Train Acc=98.5%, Val F1=1.000, Val AUC=1.000\n",
      "\n",
      "==================== Fold 9/10 ====================\n",
      "Epoch 10 Fold 9: Train Acc=98.5%, Val F1=0.750, Val AUC=0.750\n",
      "\n",
      "==================== Fold 10/10 ====================\n",
      "Epoch 10 Fold 10: Train Acc=98.5%, Val F1=1.000, Val AUC=1.000\n",
      "\n",
      "交叉验证结果:\n",
      "+------------+---------------+---------------+--------------+\n",
      "| Fold       | F1 Score      | AUC Score     | Best Epoch   |\n",
      "+============+===============+===============+==============+\n",
      "| 1          | 1.000         | 1.000         | 10           |\n",
      "+------------+---------------+---------------+--------------+\n",
      "| 2          | 0.889         | 0.800         | 10           |\n",
      "+------------+---------------+---------------+--------------+\n",
      "| 3          | 1.000         | 1.000         | 10           |\n",
      "+------------+---------------+---------------+--------------+\n",
      "| 4          | 1.000         | 1.000         | 10           |\n",
      "+------------+---------------+---------------+--------------+\n",
      "| 5          | 0.889         | 0.800         | 10           |\n",
      "+------------+---------------+---------------+--------------+\n",
      "| 6          | 0.889         | 1.000         | 10           |\n",
      "+------------+---------------+---------------+--------------+\n",
      "| 7          | 1.000         | 1.000         | 10           |\n",
      "+------------+---------------+---------------+--------------+\n",
      "| 8          | 1.000         | 1.000         | 10           |\n",
      "+------------+---------------+---------------+--------------+\n",
      "| 9          | 0.750         | 0.750         | 10           |\n",
      "+------------+---------------+---------------+--------------+\n",
      "| 10         | 1.000         | 1.000         | 10           |\n",
      "+------------+---------------+---------------+--------------+\n",
      "| Mean ± Std | 0.942 ± 0.081 | 0.935 ± 0.100 | -            |\n",
      "+------------+---------------+---------------+--------------+\n"
     ]
    }
   ],
   "source": [
    "%run finetune.py \\\n",
    "    --modalities Frag CNV PFE NDR NDR2K \\\n",
    "    --data_file /home/maweicheng/database/cfDNA/cancer_and_benign/train.npz \\\n",
    "    --test_file /home/maweicheng/database/cfDNA/cancer_and_benign/test.npz \\\n",
    "    --checkpoint_dir ./cfDNA/cancer_and_benign_pretrained \\\n",
    "    --ct_model_path /home/maweicheng/multimodel/CT/cv_checkpoints/res_best_0.88.pth \\\n",
    "    --epochs 10 \\\n",
    "    --batch_size 4 \\\n",
    "    --cross_val \\\n",
    "    --output_dir ./results/cancer_benign_results"
   ]
  },
  {
   "cell_type": "code",
   "execution_count": 41,
   "id": "ed3e251c",
   "metadata": {},
   "outputs": [
    {
     "name": "stdout",
     "output_type": "stream",
     "text": [
      "Loaded training data: /home/maweicheng/database/cfDNA/cancer_and_benign/train.npz, samples: 74\n",
      "Label distribution: (array([0, 1]), array([29, 45]))\n",
      "Loaded test set: /home/maweicheng/database/cfDNA/cancer_and_benign/test.npz, samples: 7\n",
      "Label distribution: (array([0, 1]), array([3, 4]))\n"
     ]
    },
    {
     "name": "stderr",
     "output_type": "stream",
     "text": [
      "/home/maweicheng/multimodel/finetune.py:635: FutureWarning: You are using `torch.load` with `weights_only=False` (the current default value), which uses the default pickle module implicitly. It is possible to construct malicious pickle data which will execute arbitrary code during unpickling (See https://github.com/pytorch/pytorch/blob/main/SECURITY.md#untrusted-models for more details). In a future release, the default value for `weights_only` will be flipped to `True`. This limits the functions that could be executed during unpickling. Arbitrary objects will no longer be allowed to be loaded via this mode unless they are explicitly allowlisted by the user via `torch.serialization.add_safe_globals`. We recommend you start setting `weights_only=True` for any use case where you don't have full control of the loaded file. Please open an issue on GitHub for any issues related to this experimental feature.\n",
      "  ct_model.load_state_dict(torch.load(args.ct_model_path, map_location=args.device))\n",
      "/home/maweicheng/multimodel/finetune.py:656: FutureWarning: You are using `torch.load` with `weights_only=False` (the current default value), which uses the default pickle module implicitly. It is possible to construct malicious pickle data which will execute arbitrary code during unpickling (See https://github.com/pytorch/pytorch/blob/main/SECURITY.md#untrusted-models for more details). In a future release, the default value for `weights_only` will be flipped to `True`. This limits the functions that could be executed during unpickling. Arbitrary objects will no longer be allowed to be loaded via this mode unless they are explicitly allowlisted by the user via `torch.serialization.add_safe_globals`. We recommend you start setting `weights_only=True` for any use case where you don't have full control of the loaded file. Please open an issue on GitHub for any issues related to this experimental feature.\n",
      "  model.load_state_dict(torch.load(args.model_path, map_location=args.device))\n"
     ]
    },
    {
     "name": "stdout",
     "output_type": "stream",
     "text": [
      "\n",
      "Test Results:\n",
      "+-----------+---------+\n",
      "| Metric    |   Value |\n",
      "+===========+=========+\n",
      "| F1 Score  |   0.667 |\n",
      "+-----------+---------+\n",
      "| AUC Score |   0.667 |\n",
      "+-----------+---------+\n"
     ]
    }
   ],
   "source": [
    "%run finetune.py \\\n",
    "    --modalities Frag CNV PFE NDR NDR2K \\\n",
    "    --data_file /home/maweicheng/database/cfDNA/cancer_and_benign/train.npz \\\n",
    "    --test_file /home/maweicheng/database/cfDNA/cancer_and_benign/test.npz \\\n",
    "    --checkpoint_dir ./cfDNA/cancer_and_benign_pretrained \\\n",
    "    --ct_model_path /home/maweicheng/multimodel/CT/cv_checkpoints/res_best_0.88.pth \\\n",
    "    --model_path results/cancer_benign_results/cv_results_20250714_200518/best_model_fold_10.pth \\\n",
    "    --eval_only \\\n",
    "    --output_dir ./results/cancer_benign_results"
   ]
  },
  {
   "cell_type": "markdown",
   "id": "3ba1a6e4",
   "metadata": {},
   "source": [
    "### 癌症和普通"
   ]
  },
  {
   "cell_type": "code",
   "execution_count": 1,
   "id": "1b259d92",
   "metadata": {},
   "outputs": [
    {
     "name": "stdout",
     "output_type": "stream",
     "text": [
      "Loaded training data: /home/maweicheng/database/cfDNA/cancer_and_normal/train.npz, samples: 188\n",
      "Label distribution: (array([0, 1]), array([99, 89]))\n",
      "\n",
      "Running 10-fold cross-validation...\n"
     ]
    },
    {
     "name": "stderr",
     "output_type": "stream",
     "text": [
      "/home/maweicheng/multimodel/finetune.py:487: FutureWarning: You are using `torch.load` with `weights_only=False` (the current default value), which uses the default pickle module implicitly. It is possible to construct malicious pickle data which will execute arbitrary code during unpickling (See https://github.com/pytorch/pytorch/blob/main/SECURITY.md#untrusted-models for more details). In a future release, the default value for `weights_only` will be flipped to `True`. This limits the functions that could be executed during unpickling. Arbitrary objects will no longer be allowed to be loaded via this mode unless they are explicitly allowlisted by the user via `torch.serialization.add_safe_globals`. We recommend you start setting `weights_only=True` for any use case where you don't have full control of the loaded file. Please open an issue on GitHub for any issues related to this experimental feature.\n",
      "  ct_model.load_state_dict(torch.load(args.ct_model_path, map_location=args.device))\n"
     ]
    },
    {
     "name": "stdout",
     "output_type": "stream",
     "text": [
      "\n",
      "==================== Fold 1/10 ====================\n",
      "Epoch 10 Fold 1: Train Acc=100.0%, Val F1=1.000, Val AUC=1.000\n",
      "\n",
      "==================== Fold 2/10 ====================\n",
      "Epoch 10 Fold 2: Train Acc=100.0%, Val F1=1.000, Val AUC=1.000\n",
      "\n",
      "==================== Fold 3/10 ====================\n",
      "Epoch 10 Fold 3: Train Acc=100.0%, Val F1=1.000, Val AUC=1.000\n",
      "\n",
      "==================== Fold 4/10 ====================\n",
      "Epoch 10 Fold 4: Train Acc=100.0%, Val F1=1.000, Val AUC=1.000\n",
      "\n",
      "==================== Fold 5/10 ====================\n",
      "Epoch 10 Fold 5: Train Acc=100.0%, Val F1=1.000, Val AUC=1.000\n",
      "\n",
      "==================== Fold 6/10 ====================\n",
      "Epoch 10 Fold 6: Train Acc=100.0%, Val F1=1.000, Val AUC=1.000\n",
      "\n",
      "==================== Fold 7/10 ====================\n",
      "Epoch 10 Fold 7: Train Acc=100.0%, Val F1=0.947, Val AUC=1.000\n",
      "\n",
      "==================== Fold 8/10 ====================\n",
      "Epoch 10 Fold 8: Train Acc=100.0%, Val F1=1.000, Val AUC=1.000\n",
      "\n",
      "==================== Fold 9/10 ====================\n",
      "Epoch 10 Fold 9: Train Acc=100.0%, Val F1=1.000, Val AUC=1.000\n",
      "\n",
      "==================== Fold 10/10 ====================\n",
      "Epoch 10 Fold 10: Train Acc=100.0%, Val F1=1.000, Val AUC=1.000\n",
      "\n",
      "交叉验证结果:\n",
      "+------------+---------------+---------------+--------------+\n",
      "| Fold       | F1 Score      | AUC Score     | Best Epoch   |\n",
      "+============+===============+===============+==============+\n",
      "| 1          | 1.000         | 1.000         | 10           |\n",
      "+------------+---------------+---------------+--------------+\n",
      "| 2          | 1.000         | 1.000         | 10           |\n",
      "+------------+---------------+---------------+--------------+\n",
      "| 3          | 1.000         | 1.000         | 10           |\n",
      "+------------+---------------+---------------+--------------+\n",
      "| 4          | 1.000         | 1.000         | 10           |\n",
      "+------------+---------------+---------------+--------------+\n",
      "| 5          | 1.000         | 1.000         | 10           |\n",
      "+------------+---------------+---------------+--------------+\n",
      "| 6          | 1.000         | 1.000         | 10           |\n",
      "+------------+---------------+---------------+--------------+\n",
      "| 7          | 0.947         | 1.000         | 10           |\n",
      "+------------+---------------+---------------+--------------+\n",
      "| 8          | 1.000         | 1.000         | 10           |\n",
      "+------------+---------------+---------------+--------------+\n",
      "| 9          | 1.000         | 1.000         | 10           |\n",
      "+------------+---------------+---------------+--------------+\n",
      "| 10         | 1.000         | 1.000         | 10           |\n",
      "+------------+---------------+---------------+--------------+\n",
      "| Mean ± Std | 0.995 ± 0.016 | 1.000 ± 0.000 | -            |\n",
      "+------------+---------------+---------------+--------------+\n"
     ]
    }
   ],
   "source": [
    "%run finetune.py \\\n",
    "    --modalities Frag PFE NDR NDR2K \\\n",
    "    --data_file /home/maweicheng/database/cfDNA/cancer_and_normal/train.npz \\\n",
    "    --test_file /home/maweicheng/database/cfDNA/cancer_and_normal/test.npz \\\n",
    "    --checkpoint_dir ./cfDNA/cancer_and_normal_pretrained \\\n",
    "    --ct_model_path /home/maweicheng/multimodel/CT/cv_checkpoints/res_best_0.88.pth \\\n",
    "    --epochs 10 \\\n",
    "    --batch_size 64 \\\n",
    "    --lr 3e-4 \\\n",
    "    --cross_val \\\n",
    "    --output_dir ./results/cancer_normal_results/"
   ]
  },
  {
   "cell_type": "code",
   "execution_count": 3,
   "id": "afa59c93",
   "metadata": {},
   "outputs": [
    {
     "name": "stdout",
     "output_type": "stream",
     "text": [
      "Loaded training data: /home/maweicheng/database/cfDNA/cancer_and_normal/train.npz, samples: 188\n",
      "Label distribution: (array([0, 1]), array([99, 89]))\n",
      "Loaded test set: /home/maweicheng/database/cfDNA/cancer_and_normal/test.npz, samples: 20\n",
      "Label distribution: (array([0, 1]), array([11,  9]))\n"
     ]
    },
    {
     "name": "stderr",
     "output_type": "stream",
     "text": [
      "/home/maweicheng/multimodel/finetune.py:635: FutureWarning: You are using `torch.load` with `weights_only=False` (the current default value), which uses the default pickle module implicitly. It is possible to construct malicious pickle data which will execute arbitrary code during unpickling (See https://github.com/pytorch/pytorch/blob/main/SECURITY.md#untrusted-models for more details). In a future release, the default value for `weights_only` will be flipped to `True`. This limits the functions that could be executed during unpickling. Arbitrary objects will no longer be allowed to be loaded via this mode unless they are explicitly allowlisted by the user via `torch.serialization.add_safe_globals`. We recommend you start setting `weights_only=True` for any use case where you don't have full control of the loaded file. Please open an issue on GitHub for any issues related to this experimental feature.\n",
      "  ct_model.load_state_dict(torch.load(args.ct_model_path, map_location=args.device))\n",
      "/home/maweicheng/multimodel/finetune.py:656: FutureWarning: You are using `torch.load` with `weights_only=False` (the current default value), which uses the default pickle module implicitly. It is possible to construct malicious pickle data which will execute arbitrary code during unpickling (See https://github.com/pytorch/pytorch/blob/main/SECURITY.md#untrusted-models for more details). In a future release, the default value for `weights_only` will be flipped to `True`. This limits the functions that could be executed during unpickling. Arbitrary objects will no longer be allowed to be loaded via this mode unless they are explicitly allowlisted by the user via `torch.serialization.add_safe_globals`. We recommend you start setting `weights_only=True` for any use case where you don't have full control of the loaded file. Please open an issue on GitHub for any issues related to this experimental feature.\n",
      "  model.load_state_dict(torch.load(args.model_path, map_location=args.device))\n"
     ]
    },
    {
     "name": "stdout",
     "output_type": "stream",
     "text": [
      "\n",
      "Test Results:\n",
      "+-----------+---------+\n",
      "| Metric    |   Value |\n",
      "+===========+=========+\n",
      "| F1 Score  |       1 |\n",
      "+-----------+---------+\n",
      "| AUC Score |       1 |\n",
      "+-----------+---------+\n"
     ]
    }
   ],
   "source": [
    "%run finetune.py \\\n",
    "    --modalities Frag PFE NDR NDR2K \\\n",
    "    --data_file /home/maweicheng/database/cfDNA/cancer_and_normal/train.npz \\\n",
    "    --test_file /home/maweicheng/database/cfDNA/cancer_and_normal/test.npz \\\n",
    "    --checkpoint_dir ./cfDNA/cancer_and_normal_pretrained \\\n",
    "    --ct_model_path /home/maweicheng/multimodel/CT/cv_checkpoints/res_best_0.88.pth \\\n",
    "    --model_path results/cancer_normal_results/cv_results_20250714_201333/best_model_fold_3.pth \\\n",
    "    --eval_only \\\n",
    "    --output_dir ./results/cancer_normal_results/"
   ]
  }
 ],
 "metadata": {
  "kernelspec": {
   "display_name": "dl",
   "language": "python",
   "name": "python3"
  },
  "language_info": {
   "codemirror_mode": {
    "name": "ipython",
    "version": 3
   },
   "file_extension": ".py",
   "mimetype": "text/x-python",
   "name": "python",
   "nbconvert_exporter": "python",
   "pygments_lexer": "ipython3",
   "version": "3.10.16"
  }
 },
 "nbformat": 4,
 "nbformat_minor": 5
}
