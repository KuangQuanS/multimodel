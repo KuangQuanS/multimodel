{
 "cells": [
  {
   "cell_type": "code",
   "execution_count": null,
   "id": "68086223",
   "metadata": {},
   "outputs": [],
   "source": [
    "python finetune.py \\\n",
    "    --modalities Frag CNV PFE NDR NDR2K \\\n",
    "    --data_file /home/maweicheng/database/cfDNA/train.npz \\\n",
    "    --test_file /home/maweicheng/database/cfDNA/test.npz \\\n",
    "    --use_ct \\\n",
    "    --ct_model_path ./ct_model.pth \\\n",
    "    --output_dir ./results"
   ]
  }
 ],
 "metadata": {
  "kernelspec": {
   "display_name": "dl",
   "language": "python",
   "name": "python3"
  },
  "language_info": {
   "name": "python",
   "version": "3.10.16"
  }
 },
 "nbformat": 4,
 "nbformat_minor": 5
}
