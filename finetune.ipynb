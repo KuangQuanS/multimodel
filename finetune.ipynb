{
 "cells": [
  {
   "cell_type": "code",
   "execution_count": 10,
   "id": "68086223",
   "metadata": {},
   "outputs": [
    {
     "name": "stdout",
     "output_type": "stream",
     "text": [
      "Epoch 10: Train Acc=100.0%\n",
      "Epoch 20: Train Acc=100.0%\n",
      "Epoch 30: Train Acc=100.0%\n",
      "Epoch 40: Train Acc=100.0%\n",
      "Epoch 50: Train Acc=100.0%\n",
      "Epoch 60: Train Acc=100.0%\n",
      "Epoch 70: Train Acc=100.0%\n",
      "Epoch 80: Train Acc=100.0%\n",
      "Epoch 90: Train Acc=100.0%\n",
      "Epoch 100: Train Acc=100.0%\n"
     ]
    }
   ],
   "source": [
    "%run finetune.py \\\n",
    "    --modalities Frag CNV PFE NDR NDR2K \\\n",
    "    --data_file /home/maweicheng/database/cfDNA/train.npz \\\n",
    "    --output_dir ./results"
   ]
  }
 ],
 "metadata": {
  "kernelspec": {
   "display_name": "dl",
   "language": "python",
   "name": "python3"
  },
  "language_info": {
   "codemirror_mode": {
    "name": "ipython",
    "version": 3
   },
   "file_extension": ".py",
   "mimetype": "text/x-python",
   "name": "python",
   "nbconvert_exporter": "python",
   "pygments_lexer": "ipython3",
   "version": "3.10.16"
  }
 },
 "nbformat": 4,
 "nbformat_minor": 5
}
