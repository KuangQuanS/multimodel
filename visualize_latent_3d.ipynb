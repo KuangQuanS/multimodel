{
 "cells": [
  {
   "cell_type": "code",
   "execution_count": 8,
   "id": "f7f4edd4",
   "metadata": {},
   "outputs": [
    {
     "name": "stdout",
     "output_type": "stream",
     "text": [
      "加载数据: /home/maweicheng/database/cfDNA/train.npz\n",
      "模态: ['Frag', 'CNV', 'PFE', 'NDR', 'NDR2K']\n",
      "包含CT模态: True\n",
      "样本数: 342\n"
     ]
    },
    {
     "name": "stderr",
     "output_type": "stream",
     "text": [
      "/home/maweicheng/multimodel/visualize_latent_3d.py:403: FutureWarning:\n",
      "\n",
      "You are using `torch.load` with `weights_only=False` (the current default value), which uses the default pickle module implicitly. It is possible to construct malicious pickle data which will execute arbitrary code during unpickling (See https://github.com/pytorch/pytorch/blob/main/SECURITY.md#untrusted-models for more details). In a future release, the default value for `weights_only` will be flipped to `True`. This limits the functions that could be executed during unpickling. Arbitrary objects will no longer be allowed to be loaded via this mode unless they are explicitly allowlisted by the user via `torch.serialization.add_safe_globals`. We recommend you start setting `weights_only=True` for any use case where you don't have full control of the loaded file. Please open an issue on GitHub for any issues related to this experimental feature.\n",
      "\n"
     ]
    },
    {
     "name": "stdout",
     "output_type": "stream",
     "text": [
      "模型加载完成，参数数量: 33677313\n",
      "正在从raw_modalities层提取特征...\n",
      "提取的特征形状: (342, 1280)\n",
      "正在使用tsne进行3D降维...\n"
     ]
    },
    {
     "name": "stderr",
     "output_type": "stream",
     "text": [
      "/softwares/miniconda3/envs/dl/lib/python3.10/site-packages/sklearn/manifold/_t_sne.py:1164: FutureWarning:\n",
      "\n",
      "'n_iter' was renamed to 'max_iter' in version 1.5 and will be removed in 1.7.\n",
      "\n"
     ]
    },
    {
     "name": "stdout",
     "output_type": "stream",
     "text": [
      "交互式3D可视化已保存到: ./visualization_results_fusion_raw/tsne_3d.html\n",
      "静态图片已保存到: ./visualization_results_fusion_raw/tsne_3d.png\n",
      "可视化完成!\n"
     ]
    }
   ],
   "source": [
    "%run visualize_latent_3d.py \\\n",
    "    --model_path /home/maweicheng/multimodel/results/cv_results_20250603_152954/best_model_fold_1.pth \\\n",
    "    --data_file /home/maweicheng/database/cfDNA/train.npz \\\n",
    "    --modalities Frag CNV PFE NDR NDR2K \\\n",
    "    --include_ct \\\n",
    "    --output_dir ./visualization_results_fusion_raw \\\n",
    "    --extract_layer raw_modalities"
   ]
  }
 ],
 "metadata": {
  "kernelspec": {
   "display_name": "dl",
   "language": "python",
   "name": "python3"
  },
  "language_info": {
   "codemirror_mode": {
    "name": "ipython",
    "version": 3
   },
   "file_extension": ".py",
   "mimetype": "text/x-python",
   "name": "python",
   "nbconvert_exporter": "python",
   "pygments_lexer": "ipython3",
   "version": "3.10.16"
  }
 },
 "nbformat": 4,
 "nbformat_minor": 5
}
